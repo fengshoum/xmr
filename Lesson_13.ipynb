{
  "nbformat": 4,
  "nbformat_minor": 0,
  "metadata": {
    "colab": {
      "name": "Lesson_12.ipynb",
      "provenance": [],
      "collapsed_sections": []
    },
    "kernelspec": {
      "name": "python3",
      "display_name": "Python 3"
    },
    "widgets": {
      "application/vnd.jupyter.widget-state+json": {
        "3b5170ac55024223934ba8207e1d1507": {
          "model_module": "jupyter-leaflet",
          "model_name": "LeafletMapModel",
          "model_module_version": "^0.14.0",
          "state": {
            "_view_name": "LeafletMapView",
            "keyboard_pan_offset": 80,
            "right": 0,
            "tap": true,
            "_view_module": "jupyter-leaflet",
            "max_zoom": 24,
            "_model_module_version": "^0.14.0",
            "_view_count": null,
            "zoom_snap": 1,
            "min_zoom": 1,
            "bounce_at_zoom_limits": true,
            "keyboard": true,
            "north": 0,
            "scroll_wheel_zoom": true,
            "dragging": true,
            "_model_module": "jupyter-leaflet",
            "zoom_delta": 1,
            "close_popup_on_click": true,
            "fullscreen": false,
            "style": "IPY_MODEL_edff762d578543c59a091975d72dbd7b",
            "layout": "IPY_MODEL_602b56e1755048558663eb513e461c38",
            "bottom": 0,
            "inertia_max_speed": 1500,
            "top": 9007199254740991,
            "box_zoom": true,
            "controls": [
              "IPY_MODEL_bd939b452aee47d19e3d05e4f4612f15",
              "IPY_MODEL_7b77db64ed3541fcab26849f013a2af2",
              "IPY_MODEL_197fdf08f7ef4f5e947803e5dc8c3d39",
              "IPY_MODEL_eda2254982c747eb8a5fd8c5b14fb82b",
              "IPY_MODEL_36f14dad50bc403eb1cf1e4a5b6c9d70",
              "IPY_MODEL_4d219e9ca3754e598829a24e981770ce",
              "IPY_MODEL_00dc98ea54b44c24b87d2ce7204b900a",
              "IPY_MODEL_c3da526b233141fa993ff3d274838af1"
            ],
            "default_style": "IPY_MODEL_edb40b4de7f14081b345a3ec054cd143",
            "east": 0,
            "double_click_zoom": true,
            "interpolation": "bilinear",
            "layers": [
              "IPY_MODEL_1ba7136182ae423f8ce3460bf26d1a6e",
              "IPY_MODEL_0511d4401e324e77b617d8774c4acebd",
              "IPY_MODEL_0581bd71d57e4893a42e42bc1f3fc657"
            ],
            "dragging_style": "IPY_MODEL_c888e4ee31a24237bd7e1b5d60b6656f",
            "_dom_classes": [],
            "zoom_animation_threshold": 4,
            "_model_name": "LeafletMapModel",
            "zoom_start": 12,
            "modisdate": "yesterday",
            "keyboard_zoom_offset": 1,
            "inertia_deceleration": 3000,
            "inertia": true,
            "crs": {
              "name": "EPSG3857",
              "custom": false
            },
            "center": [
              40,
              -100
            ],
            "zoom": 4,
            "world_copy_jump": false,
            "_view_module_version": "^0.14.0",
            "window_url": "",
            "tap_tolerance": 15,
            "west": 0,
            "touch_zoom": true,
            "options": [
              "bounce_at_zoom_limits",
              "box_zoom",
              "center",
              "close_popup_on_click",
              "double_click_zoom",
              "dragging",
              "fullscreen",
              "inertia",
              "inertia_deceleration",
              "inertia_max_speed",
              "interpolation",
              "keyboard",
              "keyboard_pan_offset",
              "keyboard_zoom_offset",
              "max_zoom",
              "min_zoom",
              "scroll_wheel_zoom",
              "tap",
              "tap_tolerance",
              "touch_zoom",
              "world_copy_jump",
              "zoom",
              "zoom_animation_threshold",
              "zoom_delta",
              "zoom_snap",
              "zoom_start"
            ],
            "south": 0,
            "left": 9007199254740991
          }
        },
        "1f1322236d094a9bb50606fb08e83584": {
          "model_module": "jupyter-leaflet",
          "model_name": "LeafletMapModel",
          "model_module_version": "^0.14.0",
          "state": {
            "_view_name": "LeafletMapView",
            "keyboard_pan_offset": 80,
            "right": 0,
            "tap": true,
            "_view_module": "jupyter-leaflet",
            "max_zoom": 24,
            "_model_module_version": "^0.14.0",
            "_view_count": null,
            "zoom_snap": 1,
            "min_zoom": 1,
            "bounce_at_zoom_limits": true,
            "keyboard": true,
            "north": 0,
            "scroll_wheel_zoom": true,
            "dragging": true,
            "_model_module": "jupyter-leaflet",
            "zoom_delta": 1,
            "close_popup_on_click": true,
            "fullscreen": false,
            "style": "IPY_MODEL_a1c9651c10674dab9c25db577f2768f9",
            "layout": "IPY_MODEL_898f734b9b0d4e48aadf446eba0b856f",
            "bottom": 0,
            "inertia_max_speed": 1500,
            "top": 9007199254740991,
            "box_zoom": true,
            "controls": [
              "IPY_MODEL_8ad3f558ce22422c940fefeee00ffb38",
              "IPY_MODEL_3116051eee444c17b730606cc8897a30",
              "IPY_MODEL_3f45b326f33c4218a5e06cfb693a2e0e",
              "IPY_MODEL_db05e53c97654248b9730dfc4de6d6df",
              "IPY_MODEL_29332d373e8d468481b3710aa9331812",
              "IPY_MODEL_eb35baccceb5452e8f26bb373537cc59",
              "IPY_MODEL_d0126a5449ea4bfab5b325c0a954e5a2",
              "IPY_MODEL_d9ef8031fe834682a4cc340d0ea92ba9"
            ],
            "default_style": "IPY_MODEL_0c6620ad95444135a356c4e03830b5e6",
            "east": 0,
            "double_click_zoom": true,
            "interpolation": "bilinear",
            "layers": [
              "IPY_MODEL_97d332b4ce16442f83da9a103984c31d",
              "IPY_MODEL_0511d4401e324e77b617d8774c4acebd",
              "IPY_MODEL_0581bd71d57e4893a42e42bc1f3fc657",
              "IPY_MODEL_3cba95326a5842feb6361be1989ceb01"
            ],
            "dragging_style": "IPY_MODEL_3b16d336595f483fbf54d15c9f18c695",
            "_dom_classes": [],
            "zoom_animation_threshold": 4,
            "_model_name": "LeafletMapModel",
            "zoom_start": 12,
            "modisdate": "yesterday",
            "keyboard_zoom_offset": 1,
            "inertia_deceleration": 3000,
            "inertia": true,
            "crs": {
              "name": "EPSG3857",
              "custom": false
            },
            "center": [
              34.1273487583888,
              118.17102980772033
            ],
            "zoom": 9,
            "world_copy_jump": false,
            "_view_module_version": "^0.14.0",
            "window_url": "",
            "tap_tolerance": 15,
            "west": 0,
            "touch_zoom": true,
            "options": [
              "bounce_at_zoom_limits",
              "box_zoom",
              "center",
              "close_popup_on_click",
              "double_click_zoom",
              "dragging",
              "fullscreen",
              "inertia",
              "inertia_deceleration",
              "inertia_max_speed",
              "interpolation",
              "keyboard",
              "keyboard_pan_offset",
              "keyboard_zoom_offset",
              "max_zoom",
              "min_zoom",
              "scroll_wheel_zoom",
              "tap",
              "tap_tolerance",
              "touch_zoom",
              "world_copy_jump",
              "zoom",
              "zoom_animation_threshold",
              "zoom_delta",
              "zoom_snap",
              "zoom_start"
            ],
            "south": 0,
            "left": 9007199254740991
          }
        },
        "4145fb93e39c40d4a6232c694c64cc6c": {
          "model_module": "jupyter-leaflet",
          "model_name": "LeafletMapModel",
          "model_module_version": "^0.14.0",
          "state": {
            "_view_name": "LeafletMapView",
            "keyboard_pan_offset": 80,
            "right": 28517,
            "tap": true,
            "_view_module": "jupyter-leaflet",
            "max_zoom": 24,
            "_model_module_version": "^0.14.0",
            "_view_count": null,
            "zoom_snap": 1,
            "min_zoom": 1,
            "bounce_at_zoom_limits": true,
            "keyboard": true,
            "north": 38.57393751557594,
            "scroll_wheel_zoom": true,
            "dragging": true,
            "_model_module": "jupyter-leaflet",
            "zoom_delta": 1,
            "close_popup_on_click": true,
            "fullscreen": false,
            "style": "IPY_MODEL_0234069aaf974f58882e5ea4d4f13d4f",
            "layout": "IPY_MODEL_3219b38ece534950bd06a5152a64c081",
            "bottom": 13174,
            "inertia_max_speed": 1500,
            "top": 12573,
            "box_zoom": true,
            "controls": [
              "IPY_MODEL_22dc26b07b984c8e8fd0fb1f368715a8",
              "IPY_MODEL_d41b9832861d49f39419a549befe6af2",
              "IPY_MODEL_98120221b3b348f9bba0e3a6e81319b2",
              "IPY_MODEL_6906ad59ed094dd7879b3c4bc19adf4d",
              "IPY_MODEL_ea3b1f97d1034a9b91dc182d120a9f7b",
              "IPY_MODEL_f7cce1ed432340599706b10ce6af827c",
              "IPY_MODEL_7960ff28b9b348c4bbc6801990727e57",
              "IPY_MODEL_fe4b3dcec1224392b01ec453f2d482e8"
            ],
            "default_style": "IPY_MODEL_0234069aaf974f58882e5ea4d4f13d4f",
            "east": 133.29711914062503,
            "double_click_zoom": true,
            "interpolation": "bilinear",
            "layers": [
              "IPY_MODEL_2e10ebfc2ae94bcaab45aa72331c8c18",
              "IPY_MODEL_0511d4401e324e77b617d8774c4acebd",
              "IPY_MODEL_0581bd71d57e4893a42e42bc1f3fc657",
              "IPY_MODEL_bde4f77f782c40d6831440e567ad755c",
              "IPY_MODEL_e4fc7f80b9b441a1b482540ad52c045d"
            ],
            "dragging_style": "IPY_MODEL_abf34d408e9f4d89a666717058aa02ce",
            "_dom_classes": [],
            "zoom_animation_threshold": 4,
            "_model_name": "LeafletMapModel",
            "zoom_start": 12,
            "modisdate": "yesterday",
            "keyboard_zoom_offset": 1,
            "inertia_deceleration": 3000,
            "inertia": true,
            "crs": {
              "name": "EPSG3857",
              "custom": false
            },
            "center": [
              35.94431432971954,
              122.74417083824768
            ],
            "zoom": 7,
            "world_copy_jump": false,
            "_view_module_version": "^0.14.0",
            "window_url": "https://qyvfof41x9b-496ff2e9c6d22116-0-colab.googleusercontent.com/outputframe.html?vrz=colab-20211221-060057-RC00_417582297",
            "tap_tolerance": 15,
            "west": 112.18139648437501,
            "touch_zoom": true,
            "options": [
              "bounce_at_zoom_limits",
              "box_zoom",
              "center",
              "close_popup_on_click",
              "double_click_zoom",
              "dragging",
              "fullscreen",
              "inertia",
              "inertia_deceleration",
              "inertia_max_speed",
              "interpolation",
              "keyboard",
              "keyboard_pan_offset",
              "keyboard_zoom_offset",
              "max_zoom",
              "min_zoom",
              "scroll_wheel_zoom",
              "tap",
              "tap_tolerance",
              "touch_zoom",
              "world_copy_jump",
              "zoom",
              "zoom_animation_threshold",
              "zoom_delta",
              "zoom_snap",
              "zoom_start"
            ],
            "south": 33.22949814144951,
            "left": 26595,
            "_dragging": false
          }
        },
        "c96b2220224045f98630df6283c9bec7": {
          "model_module": "jupyter-leaflet",
          "model_name": "LeafletMapStyleModel",
          "model_module_version": "^0.14.0",
          "state": {
            "_view_name": "StyleView",
            "_model_name": "LeafletMapStyleModel",
            "_view_module": "@jupyter-widgets/base",
            "_model_module_version": "^0.14.0",
            "_view_count": null,
            "cursor": "grab",
            "_view_module_version": "1.2.0",
            "_model_module": "jupyter-leaflet"
          }
        },
        "3219b38ece534950bd06a5152a64c081": {
          "model_module": "@jupyter-widgets/base",
          "model_name": "LayoutModel",
          "model_module_version": "1.2.0",
          "state": {
            "_view_name": "LayoutView",
            "grid_template_rows": null,
            "right": null,
            "justify_content": null,
            "_view_module": "@jupyter-widgets/base",
            "overflow": null,
            "_model_module_version": "1.2.0",
            "_view_count": null,
            "flex_flow": null,
            "width": null,
            "min_width": null,
            "border": null,
            "align_items": null,
            "bottom": null,
            "_model_module": "@jupyter-widgets/base",
            "top": null,
            "grid_column": null,
            "overflow_y": null,
            "overflow_x": null,
            "grid_auto_flow": null,
            "grid_area": null,
            "grid_template_columns": null,
            "flex": null,
            "_model_name": "LayoutModel",
            "justify_items": null,
            "grid_row": null,
            "max_height": null,
            "align_content": null,
            "visibility": null,
            "align_self": null,
            "height": "600px",
            "min_height": null,
            "padding": null,
            "grid_auto_rows": null,
            "grid_gap": null,
            "max_width": null,
            "order": null,
            "_view_module_version": "1.2.0",
            "grid_template_areas": null,
            "object_position": null,
            "object_fit": null,
            "grid_auto_columns": null,
            "margin": null,
            "display": null,
            "left": null
          }
        },
        "22dc26b07b984c8e8fd0fb1f368715a8": {
          "model_module": "jupyter-leaflet",
          "model_name": "LeafletWidgetControlModel",
          "model_module_version": "^0.14.0",
          "state": {
            "_view_name": "LeafletWidgetControlView",
            "widget": "IPY_MODEL_49d016ee754b470191c158c4993ea74c",
            "_model_name": "LeafletWidgetControlModel",
            "_view_module": "jupyter-leaflet",
            "_model_module_version": "^0.14.0",
            "max_height": null,
            "_view_count": null,
            "min_height": null,
            "_view_module_version": "^0.14.0",
            "max_width": null,
            "transparent_bg": false,
            "min_width": null,
            "position": "topleft",
            "_model_module": "jupyter-leaflet",
            "options": [
              "position",
              "transparent_bg"
            ]
          }
        },
        "d41b9832861d49f39419a549befe6af2": {
          "model_module": "jupyter-leaflet",
          "model_name": "LeafletZoomControlModel",
          "model_module_version": "^0.14.0",
          "state": {
            "_view_name": "LeafletZoomControlView",
            "zoom_in_title": "Zoom in",
            "_model_name": "LeafletZoomControlModel",
            "_view_module": "jupyter-leaflet",
            "_model_module_version": "^0.14.0",
            "_view_count": null,
            "_view_module_version": "^0.14.0",
            "zoom_out_title": "Zoom out",
            "position": "topleft",
            "zoom_in_text": "+",
            "_model_module": "jupyter-leaflet",
            "options": [
              "position",
              "zoom_in_text",
              "zoom_in_title",
              "zoom_out_text",
              "zoom_out_title"
            ],
            "zoom_out_text": "-"
          }
        },
        "98120221b3b348f9bba0e3a6e81319b2": {
          "model_module": "jupyter-leaflet",
          "model_name": "LeafletScaleControlModel",
          "model_module_version": "^0.14.0",
          "state": {
            "_view_name": "LeafletScaleControlView",
            "_model_name": "LeafletScaleControlModel",
            "metric": true,
            "_view_module": "jupyter-leaflet",
            "_model_module_version": "^0.14.0",
            "max_width": 100,
            "_view_count": null,
            "_view_module_version": "^0.14.0",
            "update_when_idle": false,
            "position": "bottomleft",
            "imperial": true,
            "_model_module": "jupyter-leaflet",
            "options": [
              "imperial",
              "max_width",
              "metric",
              "position",
              "update_when_idle"
            ]
          }
        },
        "6906ad59ed094dd7879b3c4bc19adf4d": {
          "model_module": "jupyter-leaflet",
          "model_name": "LeafletFullScreenControlModel",
          "model_module_version": "^0.14.0",
          "state": {
            "_view_name": "LeafletFullScreenControlView",
            "_model_name": "LeafletFullScreenControlModel",
            "_view_module": "jupyter-leaflet",
            "_model_module_version": "^0.14.0",
            "_view_count": null,
            "_view_module_version": "^0.14.0",
            "position": "topleft",
            "_model_module": "jupyter-leaflet",
            "options": [
              "position"
            ]
          }
        },
        "ea3b1f97d1034a9b91dc182d120a9f7b": {
          "model_module": "jupyter-leaflet",
          "model_name": "LeafletMeasureControlModel",
          "model_module_version": "^0.14.0",
          "state": {
            "_view_name": "LeafletMeasureControlView",
            "primary_area_unit": "acres",
            "capture_z_index": 10000,
            "secondary_area_unit": null,
            "primary_length_unit": "kilometers",
            "active_color": "orange",
            "_model_name": "LeafletMeasureControlModel",
            "popup_options": {
              "className": "leaflet-measure-resultpopup",
              "autoPanPadding": [
                10,
                10
              ]
            },
            "_view_module": "jupyter-leaflet",
            "_model_module_version": "^0.14.0",
            "_view_count": null,
            "_view_module_version": "^0.14.0",
            "secondary_length_unit": null,
            "completed_color": "#C8F2BE",
            "position": "bottomleft",
            "_model_module": "jupyter-leaflet",
            "options": [
              "active_color",
              "capture_z_index",
              "completed_color",
              "popup_options",
              "position",
              "primary_area_unit",
              "primary_length_unit",
              "secondary_area_unit",
              "secondary_length_unit"
            ],
            "_custom_units": {}
          }
        },
        "f7cce1ed432340599706b10ce6af827c": {
          "model_module": "jupyter-leaflet",
          "model_name": "LeafletAttributionControlModel",
          "model_module_version": "^0.14.0",
          "state": {
            "_view_name": "LeafletAttributionControlView",
            "prefix": "ipyleaflet",
            "_model_name": "LeafletAttributionControlModel",
            "_view_module": "jupyter-leaflet",
            "_model_module_version": "^0.14.0",
            "_view_count": null,
            "_view_module_version": "^0.14.0",
            "position": "bottomright",
            "_model_module": "jupyter-leaflet",
            "options": [
              "position",
              "prefix"
            ]
          }
        },
        "7960ff28b9b348c4bbc6801990727e57": {
          "model_module": "jupyter-leaflet",
          "model_name": "LeafletDrawControlModel",
          "model_module_version": "^0.14.0",
          "state": {
            "_view_name": "LeafletDrawControlView",
            "polygon": {
              "shapeOptions": {}
            },
            "circlemarker": {},
            "_model_name": "LeafletDrawControlModel",
            "edit": true,
            "data": [],
            "_view_module": "jupyter-leaflet",
            "_model_module_version": "^0.14.0",
            "remove": true,
            "_view_count": null,
            "_view_module_version": "^0.14.0",
            "polyline": {
              "shapeOptions": {}
            },
            "marker": {
              "shapeOptions": {
                "color": "#3388ff"
              }
            },
            "position": "topleft",
            "circle": {
              "shapeOptions": {
                "color": "#3388ff"
              }
            },
            "_model_module": "jupyter-leaflet",
            "options": [
              "position"
            ],
            "rectangle": {
              "shapeOptions": {
                "color": "#3388ff"
              }
            }
          }
        },
        "fe4b3dcec1224392b01ec453f2d482e8": {
          "model_module": "jupyter-leaflet",
          "model_name": "LeafletWidgetControlModel",
          "model_module_version": "^0.14.0",
          "state": {
            "_view_name": "LeafletWidgetControlView",
            "widget": "IPY_MODEL_a1762416ad6e4ae59d6a6100d7783206",
            "_model_name": "LeafletWidgetControlModel",
            "_view_module": "jupyter-leaflet",
            "_model_module_version": "^0.14.0",
            "max_height": null,
            "_view_count": null,
            "min_height": null,
            "_view_module_version": "^0.14.0",
            "max_width": null,
            "transparent_bg": false,
            "min_width": null,
            "position": "topright",
            "_model_module": "jupyter-leaflet",
            "options": [
              "position",
              "transparent_bg"
            ]
          }
        },
        "0234069aaf974f58882e5ea4d4f13d4f": {
          "model_module": "jupyter-leaflet",
          "model_name": "LeafletMapStyleModel",
          "model_module_version": "^0.14.0",
          "state": {
            "_view_name": "StyleView",
            "_model_name": "LeafletMapStyleModel",
            "_view_module": "@jupyter-widgets/base",
            "_model_module_version": "^0.14.0",
            "_view_count": null,
            "cursor": "grab",
            "_view_module_version": "1.2.0",
            "_model_module": "jupyter-leaflet"
          }
        },
        "2e10ebfc2ae94bcaab45aa72331c8c18": {
          "model_module": "jupyter-leaflet",
          "model_name": "LeafletTileLayerModel",
          "model_module_version": "^0.14.0",
          "state": {
            "_view_name": "LeafletTileLayerView",
            "_view_module": "jupyter-leaflet",
            "max_zoom": 19,
            "_model_module_version": "^0.14.0",
            "_view_count": null,
            "visible": true,
            "min_zoom": 1,
            "tms": false,
            "_model_module": "jupyter-leaflet",
            "loading": false,
            "bottom": true,
            "no_wrap": false,
            "tile_size": 256,
            "popup_min_width": 50,
            "opacity": 1,
            "popup": null,
            "attribution": "Map data (c) <a href=\"https://openstreetmap.org\">OpenStreetMap</a> contributors",
            "_model_name": "LeafletTileLayerModel",
            "max_native_zoom": 18,
            "base": true,
            "min_native_zoom": 0,
            "show_loading": false,
            "name": "",
            "url": "https://{s}.tile.openstreetmap.org/{z}/{x}/{y}.png",
            "popup_max_height": null,
            "popup_max_width": 300,
            "detect_retina": false,
            "_view_module_version": "^0.14.0",
            "options": [
              "attribution",
              "detect_retina",
              "max_native_zoom",
              "max_zoom",
              "min_native_zoom",
              "min_zoom",
              "no_wrap",
              "tile_size",
              "tms"
            ]
          }
        },
        "0511d4401e324e77b617d8774c4acebd": {
          "model_module": "jupyter-leaflet",
          "model_name": "LeafletTileLayerModel",
          "model_module_version": "^0.14.0",
          "state": {
            "_view_name": "LeafletTileLayerView",
            "_view_module": "jupyter-leaflet",
            "max_zoom": 24,
            "_model_module_version": "^0.14.0",
            "_view_count": null,
            "visible": true,
            "min_zoom": 0,
            "tms": false,
            "_model_module": "jupyter-leaflet",
            "loading": false,
            "bottom": true,
            "no_wrap": false,
            "tile_size": 256,
            "popup_min_width": 50,
            "opacity": 1,
            "popup": null,
            "attribution": "Google",
            "_model_name": "LeafletTileLayerModel",
            "max_native_zoom": 18,
            "base": false,
            "min_native_zoom": 0,
            "show_loading": false,
            "name": "Google Maps",
            "url": "https://mt1.google.com/vt/lyrs=m&x={x}&y={y}&z={z}",
            "popup_max_height": null,
            "popup_max_width": 300,
            "detect_retina": false,
            "_view_module_version": "^0.14.0",
            "options": [
              "attribution",
              "detect_retina",
              "max_native_zoom",
              "max_zoom",
              "min_native_zoom",
              "min_zoom",
              "no_wrap",
              "tile_size",
              "tms"
            ]
          }
        },
        "0581bd71d57e4893a42e42bc1f3fc657": {
          "model_module": "jupyter-leaflet",
          "model_name": "LeafletTileLayerModel",
          "model_module_version": "^0.14.0",
          "state": {
            "_view_name": "LeafletTileLayerView",
            "_view_module": "jupyter-leaflet",
            "max_zoom": 24,
            "_model_module_version": "^0.14.0",
            "_view_count": null,
            "visible": true,
            "min_zoom": 0,
            "tms": false,
            "_model_module": "jupyter-leaflet",
            "loading": false,
            "bottom": true,
            "no_wrap": false,
            "tile_size": 256,
            "popup_min_width": 50,
            "opacity": 1,
            "popup": null,
            "attribution": "Google",
            "_model_name": "LeafletTileLayerModel",
            "max_native_zoom": 18,
            "base": false,
            "min_native_zoom": 0,
            "show_loading": false,
            "name": "Google Satellite",
            "url": "https://mt1.google.com/vt/lyrs=y&x={x}&y={y}&z={z}",
            "popup_max_height": null,
            "popup_max_width": 300,
            "detect_retina": false,
            "_view_module_version": "^0.14.0",
            "options": [
              "attribution",
              "detect_retina",
              "max_native_zoom",
              "max_zoom",
              "min_native_zoom",
              "min_zoom",
              "no_wrap",
              "tile_size",
              "tms"
            ]
          }
        },
        "bde4f77f782c40d6831440e567ad755c": {
          "model_module": "jupyter-leaflet",
          "model_name": "LeafletTileLayerModel",
          "model_module_version": "^0.14.0",
          "state": {
            "_view_name": "LeafletTileLayerView",
            "_view_module": "jupyter-leaflet",
            "max_zoom": 24,
            "_model_module_version": "^0.14.0",
            "_view_count": null,
            "visible": true,
            "min_zoom": 0,
            "tms": false,
            "_model_module": "jupyter-leaflet",
            "loading": false,
            "bottom": true,
            "no_wrap": false,
            "tile_size": 256,
            "popup_min_width": 50,
            "opacity": 1,
            "popup": null,
            "attribution": "Google Earth Engine",
            "_model_name": "LeafletTileLayerModel",
            "max_native_zoom": 18,
            "base": false,
            "min_native_zoom": 0,
            "show_loading": false,
            "name": "first image",
            "url": "https://earthengine.googleapis.com/v1alpha/projects/earthengine-legacy/maps/c69d1ff8fc4fa7a202f553ba69833505-d664725560a06b2b067765ac69c4bd3b/tiles/{z}/{x}/{y}",
            "popup_max_height": null,
            "popup_max_width": 300,
            "detect_retina": false,
            "_view_module_version": "^0.14.0",
            "options": [
              "attribution",
              "detect_retina",
              "max_native_zoom",
              "max_zoom",
              "min_native_zoom",
              "min_zoom",
              "no_wrap",
              "tile_size",
              "tms"
            ]
          }
        },
        "e4fc7f80b9b441a1b482540ad52c045d": {
          "model_module": "jupyter-leaflet",
          "model_name": "LeafletTileLayerModel",
          "model_module_version": "^0.14.0",
          "state": {
            "_view_name": "LeafletTileLayerView",
            "_view_module": "jupyter-leaflet",
            "max_zoom": 24,
            "_model_module_version": "^0.14.0",
            "_view_count": null,
            "visible": true,
            "min_zoom": 0,
            "tms": false,
            "_model_module": "jupyter-leaflet",
            "loading": false,
            "bottom": true,
            "no_wrap": false,
            "tile_size": 256,
            "popup_min_width": 50,
            "opacity": 1,
            "popup": null,
            "attribution": "Google Earth Engine",
            "_model_name": "LeafletTileLayerModel",
            "max_native_zoom": 18,
            "base": false,
            "min_native_zoom": 0,
            "show_loading": false,
            "name": "roi",
            "url": "https://earthengine.googleapis.com/v1alpha/projects/earthengine-legacy/maps/ef8f41cf3632bfe437b4eb67a3704dab-c5c5c9d034488f3c569af2741fad80c7/tiles/{z}/{x}/{y}",
            "popup_max_height": null,
            "popup_max_width": 300,
            "detect_retina": false,
            "_view_module_version": "^0.14.0",
            "options": [
              "attribution",
              "detect_retina",
              "max_native_zoom",
              "max_zoom",
              "min_native_zoom",
              "min_zoom",
              "no_wrap",
              "tile_size",
              "tms"
            ]
          }
        },
        "abf34d408e9f4d89a666717058aa02ce": {
          "model_module": "jupyter-leaflet",
          "model_name": "LeafletMapStyleModel",
          "model_module_version": "^0.14.0",
          "state": {
            "_view_name": "StyleView",
            "_model_name": "LeafletMapStyleModel",
            "_view_module": "@jupyter-widgets/base",
            "_model_module_version": "^0.14.0",
            "_view_count": null,
            "cursor": "move",
            "_view_module_version": "1.2.0",
            "_model_module": "jupyter-leaflet"
          }
        },
        "49d016ee754b470191c158c4993ea74c": {
          "model_module": "@jupyter-widgets/controls",
          "model_name": "HBoxModel",
          "model_module_version": "1.5.0",
          "state": {
            "_view_name": "HBoxView",
            "_dom_classes": [],
            "_model_name": "HBoxModel",
            "_view_module": "@jupyter-widgets/controls",
            "_model_module_version": "1.5.0",
            "_view_count": null,
            "_view_module_version": "1.5.0",
            "box_style": "",
            "layout": "IPY_MODEL_d47b954bc78947eeb64ab4e7eea3d35e",
            "_model_module": "@jupyter-widgets/controls",
            "children": [
              "IPY_MODEL_7ebdddf63bd045cdbb6619fff8188c5d"
            ]
          }
        },
        "a1762416ad6e4ae59d6a6100d7783206": {
          "model_module": "@jupyter-widgets/controls",
          "model_name": "VBoxModel",
          "model_module_version": "1.5.0",
          "state": {
            "_view_name": "VBoxView",
            "_dom_classes": [],
            "_model_name": "VBoxModel",
            "_view_module": "@jupyter-widgets/controls",
            "_model_module_version": "1.5.0",
            "_view_count": null,
            "_view_module_version": "1.5.0",
            "box_style": "",
            "layout": "IPY_MODEL_e59b809a81d341f895736f57219c6948",
            "_model_module": "@jupyter-widgets/controls",
            "children": [
              "IPY_MODEL_2ac592d3eab74fdfa1a319d99a7f0f6d"
            ]
          }
        },
        "d47b954bc78947eeb64ab4e7eea3d35e": {
          "model_module": "@jupyter-widgets/base",
          "model_name": "LayoutModel",
          "model_module_version": "1.2.0",
          "state": {
            "_view_name": "LayoutView",
            "grid_template_rows": null,
            "right": null,
            "justify_content": null,
            "_view_module": "@jupyter-widgets/base",
            "overflow": null,
            "_model_module_version": "1.2.0",
            "_view_count": null,
            "flex_flow": null,
            "width": null,
            "min_width": null,
            "border": null,
            "align_items": null,
            "bottom": null,
            "_model_module": "@jupyter-widgets/base",
            "top": null,
            "grid_column": null,
            "overflow_y": null,
            "overflow_x": null,
            "grid_auto_flow": null,
            "grid_area": null,
            "grid_template_columns": null,
            "flex": null,
            "_model_name": "LayoutModel",
            "justify_items": null,
            "grid_row": null,
            "max_height": null,
            "align_content": null,
            "visibility": null,
            "align_self": null,
            "height": null,
            "min_height": null,
            "padding": null,
            "grid_auto_rows": null,
            "grid_gap": null,
            "max_width": null,
            "order": null,
            "_view_module_version": "1.2.0",
            "grid_template_areas": null,
            "object_position": null,
            "object_fit": null,
            "grid_auto_columns": null,
            "margin": null,
            "display": null,
            "left": null
          }
        },
        "7ebdddf63bd045cdbb6619fff8188c5d": {
          "model_module": "@jupyter-widgets/controls",
          "model_name": "ToggleButtonModel",
          "model_module_version": "1.5.0",
          "state": {
            "_view_name": "ToggleButtonView",
            "style": "IPY_MODEL_51d7cff7215b450c8cafc1034295d812",
            "_dom_classes": [],
            "description": "",
            "_model_name": "ToggleButtonModel",
            "button_style": "",
            "_view_module": "@jupyter-widgets/controls",
            "_model_module_version": "1.5.0",
            "tooltip": "Search location/data",
            "_view_count": null,
            "disabled": false,
            "_view_module_version": "1.5.0",
            "value": false,
            "description_tooltip": null,
            "_model_module": "@jupyter-widgets/controls",
            "layout": "IPY_MODEL_da01e4cb01894d57a4af446e04bed2e7",
            "icon": "globe"
          }
        },
        "e59b809a81d341f895736f57219c6948": {
          "model_module": "@jupyter-widgets/base",
          "model_name": "LayoutModel",
          "model_module_version": "1.2.0",
          "state": {
            "_view_name": "LayoutView",
            "grid_template_rows": null,
            "right": null,
            "justify_content": null,
            "_view_module": "@jupyter-widgets/base",
            "overflow": null,
            "_model_module_version": "1.2.0",
            "_view_count": null,
            "flex_flow": null,
            "width": null,
            "min_width": null,
            "border": null,
            "align_items": null,
            "bottom": null,
            "_model_module": "@jupyter-widgets/base",
            "top": null,
            "grid_column": null,
            "overflow_y": null,
            "overflow_x": null,
            "grid_auto_flow": null,
            "grid_area": null,
            "grid_template_columns": null,
            "flex": null,
            "_model_name": "LayoutModel",
            "justify_items": null,
            "grid_row": null,
            "max_height": null,
            "align_content": null,
            "visibility": null,
            "align_self": null,
            "height": null,
            "min_height": null,
            "padding": null,
            "grid_auto_rows": null,
            "grid_gap": null,
            "max_width": null,
            "order": null,
            "_view_module_version": "1.2.0",
            "grid_template_areas": null,
            "object_position": null,
            "object_fit": null,
            "grid_auto_columns": null,
            "margin": null,
            "display": null,
            "left": null
          }
        },
        "2ac592d3eab74fdfa1a319d99a7f0f6d": {
          "model_module": "@jupyter-widgets/controls",
          "model_name": "ToggleButtonModel",
          "model_module_version": "1.5.0",
          "state": {
            "_view_name": "ToggleButtonView",
            "style": "IPY_MODEL_4906d88936d14c9d8dcf86d7c6327e51",
            "_dom_classes": [],
            "description": "",
            "_model_name": "ToggleButtonModel",
            "button_style": "",
            "_view_module": "@jupyter-widgets/controls",
            "_model_module_version": "1.5.0",
            "tooltip": "Toolbar",
            "_view_count": null,
            "disabled": false,
            "_view_module_version": "1.5.0",
            "value": false,
            "description_tooltip": null,
            "_model_module": "@jupyter-widgets/controls",
            "layout": "IPY_MODEL_b7016d78625f411d8557d90849b8d24a",
            "icon": "wrench"
          }
        },
        "51d7cff7215b450c8cafc1034295d812": {
          "model_module": "@jupyter-widgets/controls",
          "model_name": "DescriptionStyleModel",
          "model_module_version": "1.5.0",
          "state": {
            "_view_name": "StyleView",
            "_model_name": "DescriptionStyleModel",
            "description_width": "",
            "_view_module": "@jupyter-widgets/base",
            "_model_module_version": "1.5.0",
            "_view_count": null,
            "_view_module_version": "1.2.0",
            "_model_module": "@jupyter-widgets/controls"
          }
        },
        "da01e4cb01894d57a4af446e04bed2e7": {
          "model_module": "@jupyter-widgets/base",
          "model_name": "LayoutModel",
          "model_module_version": "1.2.0",
          "state": {
            "_view_name": "LayoutView",
            "grid_template_rows": null,
            "right": null,
            "justify_content": null,
            "_view_module": "@jupyter-widgets/base",
            "overflow": null,
            "_model_module_version": "1.2.0",
            "_view_count": null,
            "flex_flow": null,
            "width": "28px",
            "min_width": null,
            "border": null,
            "align_items": null,
            "bottom": null,
            "_model_module": "@jupyter-widgets/base",
            "top": null,
            "grid_column": null,
            "overflow_y": null,
            "overflow_x": null,
            "grid_auto_flow": null,
            "grid_area": null,
            "grid_template_columns": null,
            "flex": null,
            "_model_name": "LayoutModel",
            "justify_items": null,
            "grid_row": null,
            "max_height": null,
            "align_content": null,
            "visibility": null,
            "align_self": null,
            "height": "28px",
            "min_height": null,
            "padding": "0px 0px 0px 4px",
            "grid_auto_rows": null,
            "grid_gap": null,
            "max_width": null,
            "order": null,
            "_view_module_version": "1.2.0",
            "grid_template_areas": null,
            "object_position": null,
            "object_fit": null,
            "grid_auto_columns": null,
            "margin": null,
            "display": null,
            "left": null
          }
        },
        "4906d88936d14c9d8dcf86d7c6327e51": {
          "model_module": "@jupyter-widgets/controls",
          "model_name": "DescriptionStyleModel",
          "model_module_version": "1.5.0",
          "state": {
            "_view_name": "StyleView",
            "_model_name": "DescriptionStyleModel",
            "description_width": "",
            "_view_module": "@jupyter-widgets/base",
            "_model_module_version": "1.5.0",
            "_view_count": null,
            "_view_module_version": "1.2.0",
            "_model_module": "@jupyter-widgets/controls"
          }
        },
        "b7016d78625f411d8557d90849b8d24a": {
          "model_module": "@jupyter-widgets/base",
          "model_name": "LayoutModel",
          "model_module_version": "1.2.0",
          "state": {
            "_view_name": "LayoutView",
            "grid_template_rows": null,
            "right": null,
            "justify_content": null,
            "_view_module": "@jupyter-widgets/base",
            "overflow": null,
            "_model_module_version": "1.2.0",
            "_view_count": null,
            "flex_flow": null,
            "width": "28px",
            "min_width": null,
            "border": null,
            "align_items": null,
            "bottom": null,
            "_model_module": "@jupyter-widgets/base",
            "top": null,
            "grid_column": null,
            "overflow_y": null,
            "overflow_x": null,
            "grid_auto_flow": null,
            "grid_area": null,
            "grid_template_columns": null,
            "flex": null,
            "_model_name": "LayoutModel",
            "justify_items": null,
            "grid_row": null,
            "max_height": null,
            "align_content": null,
            "visibility": null,
            "align_self": null,
            "height": "28px",
            "min_height": null,
            "padding": "0px 0px 0px 4px",
            "grid_auto_rows": null,
            "grid_gap": null,
            "max_width": null,
            "order": null,
            "_view_module_version": "1.2.0",
            "grid_template_areas": null,
            "object_position": null,
            "object_fit": null,
            "grid_auto_columns": null,
            "margin": null,
            "display": null,
            "left": null
          }
        },
        "b8e63f62b5df4cab8c85f66b74c0e313": {
          "model_module": "jupyter-leaflet",
          "model_name": "LeafletMapModel",
          "model_module_version": "^0.14.0",
          "state": {
            "_view_name": "LeafletMapView",
            "keyboard_pan_offset": 80,
            "right": 109522,
            "tap": true,
            "_view_module": "jupyter-leaflet",
            "max_zoom": 24,
            "_model_module_version": "^0.14.0",
            "_view_count": null,
            "zoom_snap": 1,
            "min_zoom": 1,
            "bounce_at_zoom_limits": true,
            "keyboard": true,
            "north": 34.807038111521614,
            "scroll_wheel_zoom": true,
            "dragging": true,
            "_model_module": "jupyter-leaflet",
            "zoom_delta": 1,
            "close_popup_on_click": true,
            "fullscreen": false,
            "style": "IPY_MODEL_a22556d2fb0e4a539b881cb9ccb250be",
            "layout": "IPY_MODEL_d34400ccc69a4bd697c6161e736fcb65",
            "bottom": 52604,
            "inertia_max_speed": 1500,
            "top": 52003,
            "box_zoom": true,
            "controls": [
              "IPY_MODEL_cad046b3cef3419abecdb5fa795cbf9c",
              "IPY_MODEL_0062d95fcb0941ca9ab2ce242d007079",
              "IPY_MODEL_06afa7d9b5d944bbbea61063e6868384",
              "IPY_MODEL_a187cf6ba65b4bb89fc28dc5c7a84d68",
              "IPY_MODEL_caeafa7273c04459a0d1a485f184d6a5",
              "IPY_MODEL_57f68c8f53c040db81c03aebb705b573",
              "IPY_MODEL_29ecc3272ca848c6a8a5677d9540253b",
              "IPY_MODEL_1e855f46b71c47068d49ff1bd9abf738"
            ],
            "default_style": "IPY_MODEL_6adbf02c74924bf79a4570723dce1145",
            "east": 120.81115722656251,
            "double_click_zoom": true,
            "interpolation": "bilinear",
            "layers": [
              "IPY_MODEL_e82df1c8f62c4e12a3ae485870ff6d6a",
              "IPY_MODEL_0511d4401e324e77b617d8774c4acebd",
              "IPY_MODEL_0581bd71d57e4893a42e42bc1f3fc657",
              "IPY_MODEL_115afe00af62434b95bddc3b92fbf7c7",
              "IPY_MODEL_60340e457f2f4f318d9c1469b1a3df0c"
            ],
            "dragging_style": "IPY_MODEL_507f23f277a34b4ca4a36a8e7c76b292",
            "_dom_classes": [],
            "zoom_animation_threshold": 4,
            "_model_name": "LeafletMapModel",
            "zoom_start": 12,
            "modisdate": "yesterday",
            "keyboard_zoom_offset": 1,
            "inertia_deceleration": 3000,
            "inertia": true,
            "crs": {
              "name": "EPSG3857",
              "custom": false
            },
            "center": [
              34.1273487583888,
              118.17102980772033
            ],
            "zoom": 9,
            "world_copy_jump": false,
            "_view_module_version": "^0.14.0",
            "window_url": "https://qyvfof41x9b-496ff2e9c6d22116-0-colab.googleusercontent.com/outputframe.html?vrz=colab-20211221-060057-RC00_417582297",
            "tap_tolerance": 15,
            "west": 115.53222656250001,
            "touch_zoom": true,
            "options": [
              "bounce_at_zoom_limits",
              "box_zoom",
              "center",
              "close_popup_on_click",
              "double_click_zoom",
              "dragging",
              "fullscreen",
              "inertia",
              "inertia_deceleration",
              "inertia_max_speed",
              "interpolation",
              "keyboard",
              "keyboard_pan_offset",
              "keyboard_zoom_offset",
              "max_zoom",
              "min_zoom",
              "scroll_wheel_zoom",
              "tap",
              "tap_tolerance",
              "touch_zoom",
              "world_copy_jump",
              "zoom",
              "zoom_animation_threshold",
              "zoom_delta",
              "zoom_snap",
              "zoom_start"
            ],
            "south": 33.440609443703586,
            "left": 107600
          }
        },
        "a22556d2fb0e4a539b881cb9ccb250be": {
          "model_module": "jupyter-leaflet",
          "model_name": "LeafletMapStyleModel",
          "model_module_version": "^0.14.0",
          "state": {
            "_view_name": "StyleView",
            "_model_name": "LeafletMapStyleModel",
            "_view_module": "@jupyter-widgets/base",
            "_model_module_version": "^0.14.0",
            "_view_count": null,
            "cursor": "grab",
            "_view_module_version": "1.2.0",
            "_model_module": "jupyter-leaflet"
          }
        },
        "d34400ccc69a4bd697c6161e736fcb65": {
          "model_module": "@jupyter-widgets/base",
          "model_name": "LayoutModel",
          "model_module_version": "1.2.0",
          "state": {
            "_view_name": "LayoutView",
            "grid_template_rows": null,
            "right": null,
            "justify_content": null,
            "_view_module": "@jupyter-widgets/base",
            "overflow": null,
            "_model_module_version": "1.2.0",
            "_view_count": null,
            "flex_flow": null,
            "width": null,
            "min_width": null,
            "border": null,
            "align_items": null,
            "bottom": null,
            "_model_module": "@jupyter-widgets/base",
            "top": null,
            "grid_column": null,
            "overflow_y": null,
            "overflow_x": null,
            "grid_auto_flow": null,
            "grid_area": null,
            "grid_template_columns": null,
            "flex": null,
            "_model_name": "LayoutModel",
            "justify_items": null,
            "grid_row": null,
            "max_height": null,
            "align_content": null,
            "visibility": null,
            "align_self": null,
            "height": "600px",
            "min_height": null,
            "padding": null,
            "grid_auto_rows": null,
            "grid_gap": null,
            "max_width": null,
            "order": null,
            "_view_module_version": "1.2.0",
            "grid_template_areas": null,
            "object_position": null,
            "object_fit": null,
            "grid_auto_columns": null,
            "margin": null,
            "display": null,
            "left": null
          }
        },
        "cad046b3cef3419abecdb5fa795cbf9c": {
          "model_module": "jupyter-leaflet",
          "model_name": "LeafletWidgetControlModel",
          "model_module_version": "^0.14.0",
          "state": {
            "_view_name": "LeafletWidgetControlView",
            "widget": "IPY_MODEL_a06364b15a9e477ea3ca167a7c44f95f",
            "_model_name": "LeafletWidgetControlModel",
            "_view_module": "jupyter-leaflet",
            "_model_module_version": "^0.14.0",
            "max_height": null,
            "_view_count": null,
            "min_height": null,
            "_view_module_version": "^0.14.0",
            "max_width": null,
            "transparent_bg": false,
            "min_width": null,
            "position": "topleft",
            "_model_module": "jupyter-leaflet",
            "options": [
              "position",
              "transparent_bg"
            ]
          }
        },
        "0062d95fcb0941ca9ab2ce242d007079": {
          "model_module": "jupyter-leaflet",
          "model_name": "LeafletZoomControlModel",
          "model_module_version": "^0.14.0",
          "state": {
            "_view_name": "LeafletZoomControlView",
            "zoom_in_title": "Zoom in",
            "_model_name": "LeafletZoomControlModel",
            "_view_module": "jupyter-leaflet",
            "_model_module_version": "^0.14.0",
            "_view_count": null,
            "_view_module_version": "^0.14.0",
            "zoom_out_title": "Zoom out",
            "position": "topleft",
            "zoom_in_text": "+",
            "_model_module": "jupyter-leaflet",
            "options": [
              "position",
              "zoom_in_text",
              "zoom_in_title",
              "zoom_out_text",
              "zoom_out_title"
            ],
            "zoom_out_text": "-"
          }
        },
        "06afa7d9b5d944bbbea61063e6868384": {
          "model_module": "jupyter-leaflet",
          "model_name": "LeafletScaleControlModel",
          "model_module_version": "^0.14.0",
          "state": {
            "_view_name": "LeafletScaleControlView",
            "_model_name": "LeafletScaleControlModel",
            "metric": true,
            "_view_module": "jupyter-leaflet",
            "_model_module_version": "^0.14.0",
            "max_width": 100,
            "_view_count": null,
            "_view_module_version": "^0.14.0",
            "update_when_idle": false,
            "position": "bottomleft",
            "imperial": true,
            "_model_module": "jupyter-leaflet",
            "options": [
              "imperial",
              "max_width",
              "metric",
              "position",
              "update_when_idle"
            ]
          }
        },
        "a187cf6ba65b4bb89fc28dc5c7a84d68": {
          "model_module": "jupyter-leaflet",
          "model_name": "LeafletFullScreenControlModel",
          "model_module_version": "^0.14.0",
          "state": {
            "_view_name": "LeafletFullScreenControlView",
            "_model_name": "LeafletFullScreenControlModel",
            "_view_module": "jupyter-leaflet",
            "_model_module_version": "^0.14.0",
            "_view_count": null,
            "_view_module_version": "^0.14.0",
            "position": "topleft",
            "_model_module": "jupyter-leaflet",
            "options": [
              "position"
            ]
          }
        },
        "caeafa7273c04459a0d1a485f184d6a5": {
          "model_module": "jupyter-leaflet",
          "model_name": "LeafletMeasureControlModel",
          "model_module_version": "^0.14.0",
          "state": {
            "_view_name": "LeafletMeasureControlView",
            "primary_area_unit": "acres",
            "capture_z_index": 10000,
            "secondary_area_unit": null,
            "primary_length_unit": "kilometers",
            "active_color": "orange",
            "_model_name": "LeafletMeasureControlModel",
            "popup_options": {
              "className": "leaflet-measure-resultpopup",
              "autoPanPadding": [
                10,
                10
              ]
            },
            "_view_module": "jupyter-leaflet",
            "_model_module_version": "^0.14.0",
            "_view_count": null,
            "_view_module_version": "^0.14.0",
            "secondary_length_unit": null,
            "completed_color": "#C8F2BE",
            "position": "bottomleft",
            "_model_module": "jupyter-leaflet",
            "options": [
              "active_color",
              "capture_z_index",
              "completed_color",
              "popup_options",
              "position",
              "primary_area_unit",
              "primary_length_unit",
              "secondary_area_unit",
              "secondary_length_unit"
            ],
            "_custom_units": {}
          }
        },
        "57f68c8f53c040db81c03aebb705b573": {
          "model_module": "jupyter-leaflet",
          "model_name": "LeafletAttributionControlModel",
          "model_module_version": "^0.14.0",
          "state": {
            "_view_name": "LeafletAttributionControlView",
            "prefix": "ipyleaflet",
            "_model_name": "LeafletAttributionControlModel",
            "_view_module": "jupyter-leaflet",
            "_model_module_version": "^0.14.0",
            "_view_count": null,
            "_view_module_version": "^0.14.0",
            "position": "bottomright",
            "_model_module": "jupyter-leaflet",
            "options": [
              "position",
              "prefix"
            ]
          }
        },
        "29ecc3272ca848c6a8a5677d9540253b": {
          "model_module": "jupyter-leaflet",
          "model_name": "LeafletDrawControlModel",
          "model_module_version": "^0.14.0",
          "state": {
            "_view_name": "LeafletDrawControlView",
            "polygon": {
              "shapeOptions": {}
            },
            "circlemarker": {},
            "_model_name": "LeafletDrawControlModel",
            "edit": true,
            "data": [],
            "_view_module": "jupyter-leaflet",
            "_model_module_version": "^0.14.0",
            "remove": true,
            "_view_count": null,
            "_view_module_version": "^0.14.0",
            "polyline": {
              "shapeOptions": {}
            },
            "marker": {
              "shapeOptions": {
                "color": "#3388ff"
              }
            },
            "position": "topleft",
            "circle": {
              "shapeOptions": {
                "color": "#3388ff"
              }
            },
            "_model_module": "jupyter-leaflet",
            "options": [
              "position"
            ],
            "rectangle": {
              "shapeOptions": {
                "color": "#3388ff"
              }
            }
          }
        },
        "1e855f46b71c47068d49ff1bd9abf738": {
          "model_module": "jupyter-leaflet",
          "model_name": "LeafletWidgetControlModel",
          "model_module_version": "^0.14.0",
          "state": {
            "_view_name": "LeafletWidgetControlView",
            "widget": "IPY_MODEL_7eba822612ed4ce1a20359a5a297cbe6",
            "_model_name": "LeafletWidgetControlModel",
            "_view_module": "jupyter-leaflet",
            "_model_module_version": "^0.14.0",
            "max_height": null,
            "_view_count": null,
            "min_height": null,
            "_view_module_version": "^0.14.0",
            "max_width": null,
            "transparent_bg": false,
            "min_width": null,
            "position": "topright",
            "_model_module": "jupyter-leaflet",
            "options": [
              "position",
              "transparent_bg"
            ]
          }
        },
        "6adbf02c74924bf79a4570723dce1145": {
          "model_module": "jupyter-leaflet",
          "model_name": "LeafletMapStyleModel",
          "model_module_version": "^0.14.0",
          "state": {
            "_view_name": "StyleView",
            "_model_name": "LeafletMapStyleModel",
            "_view_module": "@jupyter-widgets/base",
            "_model_module_version": "^0.14.0",
            "_view_count": null,
            "cursor": "grab",
            "_view_module_version": "1.2.0",
            "_model_module": "jupyter-leaflet"
          }
        },
        "e82df1c8f62c4e12a3ae485870ff6d6a": {
          "model_module": "jupyter-leaflet",
          "model_name": "LeafletTileLayerModel",
          "model_module_version": "^0.14.0",
          "state": {
            "_view_name": "LeafletTileLayerView",
            "_view_module": "jupyter-leaflet",
            "max_zoom": 19,
            "_model_module_version": "^0.14.0",
            "_view_count": null,
            "visible": true,
            "min_zoom": 1,
            "tms": false,
            "_model_module": "jupyter-leaflet",
            "loading": false,
            "bottom": true,
            "no_wrap": false,
            "tile_size": 256,
            "popup_min_width": 50,
            "opacity": 1,
            "popup": null,
            "attribution": "Map data (c) <a href=\"https://openstreetmap.org\">OpenStreetMap</a> contributors",
            "_model_name": "LeafletTileLayerModel",
            "max_native_zoom": 18,
            "base": true,
            "min_native_zoom": 0,
            "show_loading": false,
            "name": "",
            "url": "https://{s}.tile.openstreetmap.org/{z}/{x}/{y}.png",
            "popup_max_height": null,
            "popup_max_width": 300,
            "detect_retina": false,
            "_view_module_version": "^0.14.0",
            "options": [
              "attribution",
              "detect_retina",
              "max_native_zoom",
              "max_zoom",
              "min_native_zoom",
              "min_zoom",
              "no_wrap",
              "tile_size",
              "tms"
            ]
          }
        },
        "115afe00af62434b95bddc3b92fbf7c7": {
          "model_module": "jupyter-leaflet",
          "model_name": "LeafletTileLayerModel",
          "model_module_version": "^0.14.0",
          "state": {
            "_view_name": "LeafletTileLayerView",
            "_view_module": "jupyter-leaflet",
            "max_zoom": 24,
            "_model_module_version": "^0.14.0",
            "_view_count": null,
            "visible": true,
            "min_zoom": 0,
            "tms": false,
            "_model_module": "jupyter-leaflet",
            "loading": false,
            "bottom": true,
            "no_wrap": false,
            "tile_size": 256,
            "popup_min_width": 50,
            "opacity": 1,
            "popup": null,
            "attribution": "Google Earth Engine",
            "_model_name": "LeafletTileLayerModel",
            "max_native_zoom": 18,
            "base": false,
            "min_native_zoom": 0,
            "show_loading": false,
            "name": "NDWI image",
            "url": "https://earthengine.googleapis.com/v1alpha/projects/earthengine-legacy/maps/fd0076923d611d85fec20a7af434d880-f5c505b283996a32bfd15939caae8e96/tiles/{z}/{x}/{y}",
            "popup_max_height": null,
            "popup_max_width": 300,
            "detect_retina": false,
            "_view_module_version": "^0.14.0",
            "options": [
              "attribution",
              "detect_retina",
              "max_native_zoom",
              "max_zoom",
              "min_native_zoom",
              "min_zoom",
              "no_wrap",
              "tile_size",
              "tms"
            ]
          }
        },
        "60340e457f2f4f318d9c1469b1a3df0c": {
          "model_module": "jupyter-leaflet",
          "model_name": "LeafletTileLayerModel",
          "model_module_version": "^0.14.0",
          "state": {
            "_view_name": "LeafletTileLayerView",
            "_view_module": "jupyter-leaflet",
            "max_zoom": 24,
            "_model_module_version": "^0.14.0",
            "_view_count": null,
            "visible": true,
            "min_zoom": 0,
            "tms": false,
            "_model_module": "jupyter-leaflet",
            "loading": false,
            "bottom": true,
            "no_wrap": false,
            "tile_size": 256,
            "popup_min_width": 50,
            "opacity": 1,
            "popup": null,
            "attribution": "Google Earth Engine",
            "_model_name": "LeafletTileLayerModel",
            "max_native_zoom": 18,
            "base": false,
            "min_native_zoom": 0,
            "show_loading": false,
            "name": "roi",
            "url": "https://earthengine.googleapis.com/v1alpha/projects/earthengine-legacy/maps/ef8f41cf3632bfe437b4eb67a3704dab-9963a8a8e244fd3044d5972712398c74/tiles/{z}/{x}/{y}",
            "popup_max_height": null,
            "popup_max_width": 300,
            "detect_retina": false,
            "_view_module_version": "^0.14.0",
            "options": [
              "attribution",
              "detect_retina",
              "max_native_zoom",
              "max_zoom",
              "min_native_zoom",
              "min_zoom",
              "no_wrap",
              "tile_size",
              "tms"
            ]
          }
        },
        "507f23f277a34b4ca4a36a8e7c76b292": {
          "model_module": "jupyter-leaflet",
          "model_name": "LeafletMapStyleModel",
          "model_module_version": "^0.14.0",
          "state": {
            "_view_name": "StyleView",
            "_model_name": "LeafletMapStyleModel",
            "_view_module": "@jupyter-widgets/base",
            "_model_module_version": "^0.14.0",
            "_view_count": null,
            "cursor": "move",
            "_view_module_version": "1.2.0",
            "_model_module": "jupyter-leaflet"
          }
        },
        "a06364b15a9e477ea3ca167a7c44f95f": {
          "model_module": "@jupyter-widgets/controls",
          "model_name": "HBoxModel",
          "model_module_version": "1.5.0",
          "state": {
            "_view_name": "HBoxView",
            "_dom_classes": [],
            "_model_name": "HBoxModel",
            "_view_module": "@jupyter-widgets/controls",
            "_model_module_version": "1.5.0",
            "_view_count": null,
            "_view_module_version": "1.5.0",
            "box_style": "",
            "layout": "IPY_MODEL_ab437d2d87014e45a798b42acacea722",
            "_model_module": "@jupyter-widgets/controls",
            "children": [
              "IPY_MODEL_90bc30da98c8426991c6ffc642985fd3"
            ]
          }
        },
        "7eba822612ed4ce1a20359a5a297cbe6": {
          "model_module": "@jupyter-widgets/controls",
          "model_name": "VBoxModel",
          "model_module_version": "1.5.0",
          "state": {
            "_view_name": "VBoxView",
            "_dom_classes": [],
            "_model_name": "VBoxModel",
            "_view_module": "@jupyter-widgets/controls",
            "_model_module_version": "1.5.0",
            "_view_count": null,
            "_view_module_version": "1.5.0",
            "box_style": "",
            "layout": "IPY_MODEL_ed00164a9b364bcf9627784bb788fa87",
            "_model_module": "@jupyter-widgets/controls",
            "children": [
              "IPY_MODEL_c39652c04ce94eefa666345f4d03a766"
            ]
          }
        },
        "ab437d2d87014e45a798b42acacea722": {
          "model_module": "@jupyter-widgets/base",
          "model_name": "LayoutModel",
          "model_module_version": "1.2.0",
          "state": {
            "_view_name": "LayoutView",
            "grid_template_rows": null,
            "right": null,
            "justify_content": null,
            "_view_module": "@jupyter-widgets/base",
            "overflow": null,
            "_model_module_version": "1.2.0",
            "_view_count": null,
            "flex_flow": null,
            "width": null,
            "min_width": null,
            "border": null,
            "align_items": null,
            "bottom": null,
            "_model_module": "@jupyter-widgets/base",
            "top": null,
            "grid_column": null,
            "overflow_y": null,
            "overflow_x": null,
            "grid_auto_flow": null,
            "grid_area": null,
            "grid_template_columns": null,
            "flex": null,
            "_model_name": "LayoutModel",
            "justify_items": null,
            "grid_row": null,
            "max_height": null,
            "align_content": null,
            "visibility": null,
            "align_self": null,
            "height": null,
            "min_height": null,
            "padding": null,
            "grid_auto_rows": null,
            "grid_gap": null,
            "max_width": null,
            "order": null,
            "_view_module_version": "1.2.0",
            "grid_template_areas": null,
            "object_position": null,
            "object_fit": null,
            "grid_auto_columns": null,
            "margin": null,
            "display": null,
            "left": null
          }
        },
        "90bc30da98c8426991c6ffc642985fd3": {
          "model_module": "@jupyter-widgets/controls",
          "model_name": "ToggleButtonModel",
          "model_module_version": "1.5.0",
          "state": {
            "_view_name": "ToggleButtonView",
            "style": "IPY_MODEL_c6a703db9c7446c3ba2476a32d6e6f9e",
            "_dom_classes": [],
            "description": "",
            "_model_name": "ToggleButtonModel",
            "button_style": "",
            "_view_module": "@jupyter-widgets/controls",
            "_model_module_version": "1.5.0",
            "tooltip": "Search location/data",
            "_view_count": null,
            "disabled": false,
            "_view_module_version": "1.5.0",
            "value": false,
            "description_tooltip": null,
            "_model_module": "@jupyter-widgets/controls",
            "layout": "IPY_MODEL_b898a0aed6254d08b7763427aa931ad3",
            "icon": "globe"
          }
        },
        "ed00164a9b364bcf9627784bb788fa87": {
          "model_module": "@jupyter-widgets/base",
          "model_name": "LayoutModel",
          "model_module_version": "1.2.0",
          "state": {
            "_view_name": "LayoutView",
            "grid_template_rows": null,
            "right": null,
            "justify_content": null,
            "_view_module": "@jupyter-widgets/base",
            "overflow": null,
            "_model_module_version": "1.2.0",
            "_view_count": null,
            "flex_flow": null,
            "width": null,
            "min_width": null,
            "border": null,
            "align_items": null,
            "bottom": null,
            "_model_module": "@jupyter-widgets/base",
            "top": null,
            "grid_column": null,
            "overflow_y": null,
            "overflow_x": null,
            "grid_auto_flow": null,
            "grid_area": null,
            "grid_template_columns": null,
            "flex": null,
            "_model_name": "LayoutModel",
            "justify_items": null,
            "grid_row": null,
            "max_height": null,
            "align_content": null,
            "visibility": null,
            "align_self": null,
            "height": null,
            "min_height": null,
            "padding": null,
            "grid_auto_rows": null,
            "grid_gap": null,
            "max_width": null,
            "order": null,
            "_view_module_version": "1.2.0",
            "grid_template_areas": null,
            "object_position": null,
            "object_fit": null,
            "grid_auto_columns": null,
            "margin": null,
            "display": null,
            "left": null
          }
        },
        "c39652c04ce94eefa666345f4d03a766": {
          "model_module": "@jupyter-widgets/controls",
          "model_name": "ToggleButtonModel",
          "model_module_version": "1.5.0",
          "state": {
            "_view_name": "ToggleButtonView",
            "style": "IPY_MODEL_e74497bfb9e440f5ab98edc0a71f2cef",
            "_dom_classes": [],
            "description": "",
            "_model_name": "ToggleButtonModel",
            "button_style": "",
            "_view_module": "@jupyter-widgets/controls",
            "_model_module_version": "1.5.0",
            "tooltip": "Toolbar",
            "_view_count": null,
            "disabled": false,
            "_view_module_version": "1.5.0",
            "value": false,
            "description_tooltip": null,
            "_model_module": "@jupyter-widgets/controls",
            "layout": "IPY_MODEL_81a87e8e536e41a5ab99d149089e33e8",
            "icon": "wrench"
          }
        },
        "c6a703db9c7446c3ba2476a32d6e6f9e": {
          "model_module": "@jupyter-widgets/controls",
          "model_name": "DescriptionStyleModel",
          "model_module_version": "1.5.0",
          "state": {
            "_view_name": "StyleView",
            "_model_name": "DescriptionStyleModel",
            "description_width": "",
            "_view_module": "@jupyter-widgets/base",
            "_model_module_version": "1.5.0",
            "_view_count": null,
            "_view_module_version": "1.2.0",
            "_model_module": "@jupyter-widgets/controls"
          }
        },
        "b898a0aed6254d08b7763427aa931ad3": {
          "model_module": "@jupyter-widgets/base",
          "model_name": "LayoutModel",
          "model_module_version": "1.2.0",
          "state": {
            "_view_name": "LayoutView",
            "grid_template_rows": null,
            "right": null,
            "justify_content": null,
            "_view_module": "@jupyter-widgets/base",
            "overflow": null,
            "_model_module_version": "1.2.0",
            "_view_count": null,
            "flex_flow": null,
            "width": "28px",
            "min_width": null,
            "border": null,
            "align_items": null,
            "bottom": null,
            "_model_module": "@jupyter-widgets/base",
            "top": null,
            "grid_column": null,
            "overflow_y": null,
            "overflow_x": null,
            "grid_auto_flow": null,
            "grid_area": null,
            "grid_template_columns": null,
            "flex": null,
            "_model_name": "LayoutModel",
            "justify_items": null,
            "grid_row": null,
            "max_height": null,
            "align_content": null,
            "visibility": null,
            "align_self": null,
            "height": "28px",
            "min_height": null,
            "padding": "0px 0px 0px 4px",
            "grid_auto_rows": null,
            "grid_gap": null,
            "max_width": null,
            "order": null,
            "_view_module_version": "1.2.0",
            "grid_template_areas": null,
            "object_position": null,
            "object_fit": null,
            "grid_auto_columns": null,
            "margin": null,
            "display": null,
            "left": null
          }
        },
        "e74497bfb9e440f5ab98edc0a71f2cef": {
          "model_module": "@jupyter-widgets/controls",
          "model_name": "DescriptionStyleModel",
          "model_module_version": "1.5.0",
          "state": {
            "_view_name": "StyleView",
            "_model_name": "DescriptionStyleModel",
            "description_width": "",
            "_view_module": "@jupyter-widgets/base",
            "_model_module_version": "1.5.0",
            "_view_count": null,
            "_view_module_version": "1.2.0",
            "_model_module": "@jupyter-widgets/controls"
          }
        },
        "81a87e8e536e41a5ab99d149089e33e8": {
          "model_module": "@jupyter-widgets/base",
          "model_name": "LayoutModel",
          "model_module_version": "1.2.0",
          "state": {
            "_view_name": "LayoutView",
            "grid_template_rows": null,
            "right": null,
            "justify_content": null,
            "_view_module": "@jupyter-widgets/base",
            "overflow": null,
            "_model_module_version": "1.2.0",
            "_view_count": null,
            "flex_flow": null,
            "width": "28px",
            "min_width": null,
            "border": null,
            "align_items": null,
            "bottom": null,
            "_model_module": "@jupyter-widgets/base",
            "top": null,
            "grid_column": null,
            "overflow_y": null,
            "overflow_x": null,
            "grid_auto_flow": null,
            "grid_area": null,
            "grid_template_columns": null,
            "flex": null,
            "_model_name": "LayoutModel",
            "justify_items": null,
            "grid_row": null,
            "max_height": null,
            "align_content": null,
            "visibility": null,
            "align_self": null,
            "height": "28px",
            "min_height": null,
            "padding": "0px 0px 0px 4px",
            "grid_auto_rows": null,
            "grid_gap": null,
            "max_width": null,
            "order": null,
            "_view_module_version": "1.2.0",
            "grid_template_areas": null,
            "object_position": null,
            "object_fit": null,
            "grid_auto_columns": null,
            "margin": null,
            "display": null,
            "left": null
          }
        },
        "4e92aa0059094f85adf65962b7e753bb": {
          "model_module": "jupyter-leaflet",
          "model_name": "LeafletMapModel",
          "model_module_version": "^0.14.0",
          "state": {
            "_view_name": "LeafletMapView",
            "keyboard_pan_offset": 80,
            "right": 28670,
            "tap": true,
            "_view_module": "jupyter-leaflet",
            "max_zoom": 24,
            "_model_module_version": "^0.14.0",
            "_view_count": null,
            "zoom_snap": 1,
            "min_zoom": 1,
            "bounce_at_zoom_limits": true,
            "keyboard": true,
            "north": 38.212288054388175,
            "scroll_wheel_zoom": true,
            "dragging": true,
            "_model_module": "jupyter-leaflet",
            "zoom_delta": 1,
            "close_popup_on_click": true,
            "fullscreen": false,
            "style": "IPY_MODEL_29e66534b9584b68b2836876827ff9db",
            "layout": "IPY_MODEL_3c6e549f6b6a4291a6660c4f1c17063f",
            "bottom": 13216,
            "inertia_max_speed": 1500,
            "top": 12615,
            "box_zoom": true,
            "controls": [
              "IPY_MODEL_a72d1556e15349dbb81f4c4ed9dca276",
              "IPY_MODEL_4681aa87611545adb1a490432218bd4f",
              "IPY_MODEL_11ce054350674fac9c2a1048e17987e6",
              "IPY_MODEL_69da5ef66c0f4d1997a2ef7c0ab64ea5",
              "IPY_MODEL_b0e09ae1eb8e4335950fed8b04ae2882",
              "IPY_MODEL_14f8f42d5e1e485ebde2a9c58706f5d2",
              "IPY_MODEL_502789e1ca5a40d2ba45a73b37c4beb0",
              "IPY_MODEL_6ddc64890bcd462a9882426fdfffb5ff"
            ],
            "default_style": "IPY_MODEL_29e66534b9584b68b2836876827ff9db",
            "east": 134.97802734375003,
            "double_click_zoom": true,
            "interpolation": "bilinear",
            "layers": [
              "IPY_MODEL_89575e7451ce421986b313f266654da4",
              "IPY_MODEL_0511d4401e324e77b617d8774c4acebd",
              "IPY_MODEL_0581bd71d57e4893a42e42bc1f3fc657",
              "IPY_MODEL_ff7d6d7e1a6b48c1b9e68a9e9cb89b50",
              "IPY_MODEL_ac02eb174260436fb806656e6a18e07d"
            ],
            "dragging_style": "IPY_MODEL_41e1aa62b4c7471099e669b9eabe0c90",
            "_dom_classes": [],
            "zoom_animation_threshold": 4,
            "_model_name": "LeafletMapModel",
            "zoom_start": 12,
            "modisdate": "yesterday",
            "keyboard_zoom_offset": 1,
            "inertia_deceleration": 3000,
            "inertia": true,
            "crs": {
              "name": "EPSG3857",
              "custom": false
            },
            "center": [
              35.56924238744772,
              124.4253705414167
            ],
            "zoom": 7,
            "world_copy_jump": false,
            "_view_module_version": "^0.14.0",
            "window_url": "https://qyvfof41x9b-496ff2e9c6d22116-0-colab.googleusercontent.com/outputframe.html?vrz=colab-20211221-060057-RC00_417582297",
            "tap_tolerance": 15,
            "west": 113.8623046875,
            "touch_zoom": true,
            "options": [
              "bounce_at_zoom_limits",
              "box_zoom",
              "center",
              "close_popup_on_click",
              "double_click_zoom",
              "dragging",
              "fullscreen",
              "inertia",
              "inertia_deceleration",
              "inertia_max_speed",
              "interpolation",
              "keyboard",
              "keyboard_pan_offset",
              "keyboard_zoom_offset",
              "max_zoom",
              "min_zoom",
              "scroll_wheel_zoom",
              "tap",
              "tap_tolerance",
              "touch_zoom",
              "world_copy_jump",
              "zoom",
              "zoom_animation_threshold",
              "zoom_delta",
              "zoom_snap",
              "zoom_start"
            ],
            "south": 32.84267363195431,
            "left": 26748,
            "_dragging": false
          }
        },
        "fedb0e2e2a5347fab0d6cc458d7a0fb0": {
          "model_module": "jupyter-leaflet",
          "model_name": "LeafletMapStyleModel",
          "model_module_version": "^0.14.0",
          "state": {
            "_view_name": "StyleView",
            "_model_name": "LeafletMapStyleModel",
            "_view_module": "@jupyter-widgets/base",
            "_model_module_version": "^0.14.0",
            "_view_count": null,
            "cursor": "grab",
            "_view_module_version": "1.2.0",
            "_model_module": "jupyter-leaflet"
          }
        },
        "3c6e549f6b6a4291a6660c4f1c17063f": {
          "model_module": "@jupyter-widgets/base",
          "model_name": "LayoutModel",
          "model_module_version": "1.2.0",
          "state": {
            "_view_name": "LayoutView",
            "grid_template_rows": null,
            "right": null,
            "justify_content": null,
            "_view_module": "@jupyter-widgets/base",
            "overflow": null,
            "_model_module_version": "1.2.0",
            "_view_count": null,
            "flex_flow": null,
            "width": null,
            "min_width": null,
            "border": null,
            "align_items": null,
            "bottom": null,
            "_model_module": "@jupyter-widgets/base",
            "top": null,
            "grid_column": null,
            "overflow_y": null,
            "overflow_x": null,
            "grid_auto_flow": null,
            "grid_area": null,
            "grid_template_columns": null,
            "flex": null,
            "_model_name": "LayoutModel",
            "justify_items": null,
            "grid_row": null,
            "max_height": null,
            "align_content": null,
            "visibility": null,
            "align_self": null,
            "height": "600px",
            "min_height": null,
            "padding": null,
            "grid_auto_rows": null,
            "grid_gap": null,
            "max_width": null,
            "order": null,
            "_view_module_version": "1.2.0",
            "grid_template_areas": null,
            "object_position": null,
            "object_fit": null,
            "grid_auto_columns": null,
            "margin": null,
            "display": null,
            "left": null
          }
        },
        "a72d1556e15349dbb81f4c4ed9dca276": {
          "model_module": "jupyter-leaflet",
          "model_name": "LeafletWidgetControlModel",
          "model_module_version": "^0.14.0",
          "state": {
            "_view_name": "LeafletWidgetControlView",
            "widget": "IPY_MODEL_93f328d85baa43e4851074d70971901b",
            "_model_name": "LeafletWidgetControlModel",
            "_view_module": "jupyter-leaflet",
            "_model_module_version": "^0.14.0",
            "max_height": null,
            "_view_count": null,
            "min_height": null,
            "_view_module_version": "^0.14.0",
            "max_width": null,
            "transparent_bg": false,
            "min_width": null,
            "position": "topleft",
            "_model_module": "jupyter-leaflet",
            "options": [
              "position",
              "transparent_bg"
            ]
          }
        },
        "4681aa87611545adb1a490432218bd4f": {
          "model_module": "jupyter-leaflet",
          "model_name": "LeafletZoomControlModel",
          "model_module_version": "^0.14.0",
          "state": {
            "_view_name": "LeafletZoomControlView",
            "zoom_in_title": "Zoom in",
            "_model_name": "LeafletZoomControlModel",
            "_view_module": "jupyter-leaflet",
            "_model_module_version": "^0.14.0",
            "_view_count": null,
            "_view_module_version": "^0.14.0",
            "zoom_out_title": "Zoom out",
            "position": "topleft",
            "zoom_in_text": "+",
            "_model_module": "jupyter-leaflet",
            "options": [
              "position",
              "zoom_in_text",
              "zoom_in_title",
              "zoom_out_text",
              "zoom_out_title"
            ],
            "zoom_out_text": "-"
          }
        },
        "11ce054350674fac9c2a1048e17987e6": {
          "model_module": "jupyter-leaflet",
          "model_name": "LeafletScaleControlModel",
          "model_module_version": "^0.14.0",
          "state": {
            "_view_name": "LeafletScaleControlView",
            "_model_name": "LeafletScaleControlModel",
            "metric": true,
            "_view_module": "jupyter-leaflet",
            "_model_module_version": "^0.14.0",
            "max_width": 100,
            "_view_count": null,
            "_view_module_version": "^0.14.0",
            "update_when_idle": false,
            "position": "bottomleft",
            "imperial": true,
            "_model_module": "jupyter-leaflet",
            "options": [
              "imperial",
              "max_width",
              "metric",
              "position",
              "update_when_idle"
            ]
          }
        },
        "69da5ef66c0f4d1997a2ef7c0ab64ea5": {
          "model_module": "jupyter-leaflet",
          "model_name": "LeafletFullScreenControlModel",
          "model_module_version": "^0.14.0",
          "state": {
            "_view_name": "LeafletFullScreenControlView",
            "_model_name": "LeafletFullScreenControlModel",
            "_view_module": "jupyter-leaflet",
            "_model_module_version": "^0.14.0",
            "_view_count": null,
            "_view_module_version": "^0.14.0",
            "position": "topleft",
            "_model_module": "jupyter-leaflet",
            "options": [
              "position"
            ]
          }
        },
        "b0e09ae1eb8e4335950fed8b04ae2882": {
          "model_module": "jupyter-leaflet",
          "model_name": "LeafletMeasureControlModel",
          "model_module_version": "^0.14.0",
          "state": {
            "_view_name": "LeafletMeasureControlView",
            "primary_area_unit": "acres",
            "capture_z_index": 10000,
            "secondary_area_unit": null,
            "primary_length_unit": "kilometers",
            "active_color": "orange",
            "_model_name": "LeafletMeasureControlModel",
            "popup_options": {
              "className": "leaflet-measure-resultpopup",
              "autoPanPadding": [
                10,
                10
              ]
            },
            "_view_module": "jupyter-leaflet",
            "_model_module_version": "^0.14.0",
            "_view_count": null,
            "_view_module_version": "^0.14.0",
            "secondary_length_unit": null,
            "completed_color": "#C8F2BE",
            "position": "bottomleft",
            "_model_module": "jupyter-leaflet",
            "options": [
              "active_color",
              "capture_z_index",
              "completed_color",
              "popup_options",
              "position",
              "primary_area_unit",
              "primary_length_unit",
              "secondary_area_unit",
              "secondary_length_unit"
            ],
            "_custom_units": {}
          }
        },
        "14f8f42d5e1e485ebde2a9c58706f5d2": {
          "model_module": "jupyter-leaflet",
          "model_name": "LeafletAttributionControlModel",
          "model_module_version": "^0.14.0",
          "state": {
            "_view_name": "LeafletAttributionControlView",
            "prefix": "ipyleaflet",
            "_model_name": "LeafletAttributionControlModel",
            "_view_module": "jupyter-leaflet",
            "_model_module_version": "^0.14.0",
            "_view_count": null,
            "_view_module_version": "^0.14.0",
            "position": "bottomright",
            "_model_module": "jupyter-leaflet",
            "options": [
              "position",
              "prefix"
            ]
          }
        },
        "502789e1ca5a40d2ba45a73b37c4beb0": {
          "model_module": "jupyter-leaflet",
          "model_name": "LeafletDrawControlModel",
          "model_module_version": "^0.14.0",
          "state": {
            "_view_name": "LeafletDrawControlView",
            "polygon": {
              "shapeOptions": {}
            },
            "circlemarker": {},
            "_model_name": "LeafletDrawControlModel",
            "edit": true,
            "data": [],
            "_view_module": "jupyter-leaflet",
            "_model_module_version": "^0.14.0",
            "remove": true,
            "_view_count": null,
            "_view_module_version": "^0.14.0",
            "polyline": {
              "shapeOptions": {}
            },
            "marker": {
              "shapeOptions": {
                "color": "#3388ff"
              }
            },
            "position": "topleft",
            "circle": {
              "shapeOptions": {
                "color": "#3388ff"
              }
            },
            "_model_module": "jupyter-leaflet",
            "options": [
              "position"
            ],
            "rectangle": {
              "shapeOptions": {
                "color": "#3388ff"
              }
            }
          }
        },
        "6ddc64890bcd462a9882426fdfffb5ff": {
          "model_module": "jupyter-leaflet",
          "model_name": "LeafletWidgetControlModel",
          "model_module_version": "^0.14.0",
          "state": {
            "_view_name": "LeafletWidgetControlView",
            "widget": "IPY_MODEL_2e3d7dd70df642c3a760f39188e12a82",
            "_model_name": "LeafletWidgetControlModel",
            "_view_module": "jupyter-leaflet",
            "_model_module_version": "^0.14.0",
            "max_height": null,
            "_view_count": null,
            "min_height": null,
            "_view_module_version": "^0.14.0",
            "max_width": null,
            "transparent_bg": false,
            "min_width": null,
            "position": "topright",
            "_model_module": "jupyter-leaflet",
            "options": [
              "position",
              "transparent_bg"
            ]
          }
        },
        "29e66534b9584b68b2836876827ff9db": {
          "model_module": "jupyter-leaflet",
          "model_name": "LeafletMapStyleModel",
          "model_module_version": "^0.14.0",
          "state": {
            "_view_name": "StyleView",
            "_model_name": "LeafletMapStyleModel",
            "_view_module": "@jupyter-widgets/base",
            "_model_module_version": "^0.14.0",
            "_view_count": null,
            "cursor": "grab",
            "_view_module_version": "1.2.0",
            "_model_module": "jupyter-leaflet"
          }
        },
        "89575e7451ce421986b313f266654da4": {
          "model_module": "jupyter-leaflet",
          "model_name": "LeafletTileLayerModel",
          "model_module_version": "^0.14.0",
          "state": {
            "_view_name": "LeafletTileLayerView",
            "_view_module": "jupyter-leaflet",
            "max_zoom": 19,
            "_model_module_version": "^0.14.0",
            "_view_count": null,
            "visible": true,
            "min_zoom": 1,
            "tms": false,
            "_model_module": "jupyter-leaflet",
            "loading": false,
            "bottom": true,
            "no_wrap": false,
            "tile_size": 256,
            "popup_min_width": 50,
            "opacity": 1,
            "popup": null,
            "attribution": "Map data (c) <a href=\"https://openstreetmap.org\">OpenStreetMap</a> contributors",
            "_model_name": "LeafletTileLayerModel",
            "max_native_zoom": 18,
            "base": true,
            "min_native_zoom": 0,
            "show_loading": false,
            "name": "",
            "url": "https://{s}.tile.openstreetmap.org/{z}/{x}/{y}.png",
            "popup_max_height": null,
            "popup_max_width": 300,
            "detect_retina": false,
            "_view_module_version": "^0.14.0",
            "options": [
              "attribution",
              "detect_retina",
              "max_native_zoom",
              "max_zoom",
              "min_native_zoom",
              "min_zoom",
              "no_wrap",
              "tile_size",
              "tms"
            ]
          }
        },
        "ff7d6d7e1a6b48c1b9e68a9e9cb89b50": {
          "model_module": "jupyter-leaflet",
          "model_name": "LeafletTileLayerModel",
          "model_module_version": "^0.14.0",
          "state": {
            "_view_name": "LeafletTileLayerView",
            "_view_module": "jupyter-leaflet",
            "max_zoom": 24,
            "_model_module_version": "^0.14.0",
            "_view_count": null,
            "visible": true,
            "min_zoom": 0,
            "tms": false,
            "_model_module": "jupyter-leaflet",
            "loading": false,
            "bottom": true,
            "no_wrap": false,
            "tile_size": 256,
            "popup_min_width": 50,
            "opacity": 1,
            "popup": null,
            "attribution": "Google Earth Engine",
            "_model_name": "LeafletTileLayerModel",
            "max_native_zoom": 18,
            "base": false,
            "min_native_zoom": 0,
            "show_loading": false,
            "name": "Water image",
            "url": "https://earthengine.googleapis.com/v1alpha/projects/earthengine-legacy/maps/46249b1bfce7e9285e74fe0c2fd0f55e-81836186526f48dd9789365dae868c0c/tiles/{z}/{x}/{y}",
            "popup_max_height": null,
            "popup_max_width": 300,
            "detect_retina": false,
            "_view_module_version": "^0.14.0",
            "options": [
              "attribution",
              "detect_retina",
              "max_native_zoom",
              "max_zoom",
              "min_native_zoom",
              "min_zoom",
              "no_wrap",
              "tile_size",
              "tms"
            ]
          }
        },
        "ac02eb174260436fb806656e6a18e07d": {
          "model_module": "jupyter-leaflet",
          "model_name": "LeafletTileLayerModel",
          "model_module_version": "^0.14.0",
          "state": {
            "_view_name": "LeafletTileLayerView",
            "_view_module": "jupyter-leaflet",
            "max_zoom": 24,
            "_model_module_version": "^0.14.0",
            "_view_count": null,
            "visible": true,
            "min_zoom": 0,
            "tms": false,
            "_model_module": "jupyter-leaflet",
            "loading": false,
            "bottom": true,
            "no_wrap": false,
            "tile_size": 256,
            "popup_min_width": 50,
            "opacity": 1,
            "popup": null,
            "attribution": "Google Earth Engine",
            "_model_name": "LeafletTileLayerModel",
            "max_native_zoom": 18,
            "base": false,
            "min_native_zoom": 0,
            "show_loading": false,
            "name": "roi",
            "url": "https://earthengine.googleapis.com/v1alpha/projects/earthengine-legacy/maps/ef8f41cf3632bfe437b4eb67a3704dab-399a97c845d77b004288228e1bdf51da/tiles/{z}/{x}/{y}",
            "popup_max_height": null,
            "popup_max_width": 300,
            "detect_retina": false,
            "_view_module_version": "^0.14.0",
            "options": [
              "attribution",
              "detect_retina",
              "max_native_zoom",
              "max_zoom",
              "min_native_zoom",
              "min_zoom",
              "no_wrap",
              "tile_size",
              "tms"
            ]
          }
        },
        "41e1aa62b4c7471099e669b9eabe0c90": {
          "model_module": "jupyter-leaflet",
          "model_name": "LeafletMapStyleModel",
          "model_module_version": "^0.14.0",
          "state": {
            "_view_name": "StyleView",
            "_model_name": "LeafletMapStyleModel",
            "_view_module": "@jupyter-widgets/base",
            "_model_module_version": "^0.14.0",
            "_view_count": null,
            "cursor": "move",
            "_view_module_version": "1.2.0",
            "_model_module": "jupyter-leaflet"
          }
        },
        "93f328d85baa43e4851074d70971901b": {
          "model_module": "@jupyter-widgets/controls",
          "model_name": "HBoxModel",
          "model_module_version": "1.5.0",
          "state": {
            "_view_name": "HBoxView",
            "_dom_classes": [],
            "_model_name": "HBoxModel",
            "_view_module": "@jupyter-widgets/controls",
            "_model_module_version": "1.5.0",
            "_view_count": null,
            "_view_module_version": "1.5.0",
            "box_style": "",
            "layout": "IPY_MODEL_736064e1af6d418ea80e068c8a3d62a1",
            "_model_module": "@jupyter-widgets/controls",
            "children": [
              "IPY_MODEL_9e04b6bad26a4deaaa5a4cd337604a42"
            ]
          }
        },
        "2e3d7dd70df642c3a760f39188e12a82": {
          "model_module": "@jupyter-widgets/controls",
          "model_name": "VBoxModel",
          "model_module_version": "1.5.0",
          "state": {
            "_view_name": "VBoxView",
            "_dom_classes": [],
            "_model_name": "VBoxModel",
            "_view_module": "@jupyter-widgets/controls",
            "_model_module_version": "1.5.0",
            "_view_count": null,
            "_view_module_version": "1.5.0",
            "box_style": "",
            "layout": "IPY_MODEL_3d2d913f863f40cc90de3782c2cd8fcf",
            "_model_module": "@jupyter-widgets/controls",
            "children": [
              "IPY_MODEL_c3f9ae2e96364c129e1671875fc7942e"
            ]
          }
        },
        "736064e1af6d418ea80e068c8a3d62a1": {
          "model_module": "@jupyter-widgets/base",
          "model_name": "LayoutModel",
          "model_module_version": "1.2.0",
          "state": {
            "_view_name": "LayoutView",
            "grid_template_rows": null,
            "right": null,
            "justify_content": null,
            "_view_module": "@jupyter-widgets/base",
            "overflow": null,
            "_model_module_version": "1.2.0",
            "_view_count": null,
            "flex_flow": null,
            "width": null,
            "min_width": null,
            "border": null,
            "align_items": null,
            "bottom": null,
            "_model_module": "@jupyter-widgets/base",
            "top": null,
            "grid_column": null,
            "overflow_y": null,
            "overflow_x": null,
            "grid_auto_flow": null,
            "grid_area": null,
            "grid_template_columns": null,
            "flex": null,
            "_model_name": "LayoutModel",
            "justify_items": null,
            "grid_row": null,
            "max_height": null,
            "align_content": null,
            "visibility": null,
            "align_self": null,
            "height": null,
            "min_height": null,
            "padding": null,
            "grid_auto_rows": null,
            "grid_gap": null,
            "max_width": null,
            "order": null,
            "_view_module_version": "1.2.0",
            "grid_template_areas": null,
            "object_position": null,
            "object_fit": null,
            "grid_auto_columns": null,
            "margin": null,
            "display": null,
            "left": null
          }
        },
        "9e04b6bad26a4deaaa5a4cd337604a42": {
          "model_module": "@jupyter-widgets/controls",
          "model_name": "ToggleButtonModel",
          "model_module_version": "1.5.0",
          "state": {
            "_view_name": "ToggleButtonView",
            "style": "IPY_MODEL_af6a95adf85e4f8f8690de8b30f954e4",
            "_dom_classes": [],
            "description": "",
            "_model_name": "ToggleButtonModel",
            "button_style": "",
            "_view_module": "@jupyter-widgets/controls",
            "_model_module_version": "1.5.0",
            "tooltip": "Search location/data",
            "_view_count": null,
            "disabled": false,
            "_view_module_version": "1.5.0",
            "value": false,
            "description_tooltip": null,
            "_model_module": "@jupyter-widgets/controls",
            "layout": "IPY_MODEL_728d3f0466ed4724824c7412f56c6901",
            "icon": "globe"
          }
        },
        "3d2d913f863f40cc90de3782c2cd8fcf": {
          "model_module": "@jupyter-widgets/base",
          "model_name": "LayoutModel",
          "model_module_version": "1.2.0",
          "state": {
            "_view_name": "LayoutView",
            "grid_template_rows": null,
            "right": null,
            "justify_content": null,
            "_view_module": "@jupyter-widgets/base",
            "overflow": null,
            "_model_module_version": "1.2.0",
            "_view_count": null,
            "flex_flow": null,
            "width": null,
            "min_width": null,
            "border": null,
            "align_items": null,
            "bottom": null,
            "_model_module": "@jupyter-widgets/base",
            "top": null,
            "grid_column": null,
            "overflow_y": null,
            "overflow_x": null,
            "grid_auto_flow": null,
            "grid_area": null,
            "grid_template_columns": null,
            "flex": null,
            "_model_name": "LayoutModel",
            "justify_items": null,
            "grid_row": null,
            "max_height": null,
            "align_content": null,
            "visibility": null,
            "align_self": null,
            "height": null,
            "min_height": null,
            "padding": null,
            "grid_auto_rows": null,
            "grid_gap": null,
            "max_width": null,
            "order": null,
            "_view_module_version": "1.2.0",
            "grid_template_areas": null,
            "object_position": null,
            "object_fit": null,
            "grid_auto_columns": null,
            "margin": null,
            "display": null,
            "left": null
          }
        },
        "c3f9ae2e96364c129e1671875fc7942e": {
          "model_module": "@jupyter-widgets/controls",
          "model_name": "ToggleButtonModel",
          "model_module_version": "1.5.0",
          "state": {
            "_view_name": "ToggleButtonView",
            "style": "IPY_MODEL_f9d6654aba434dfe8dd572b9a5231a07",
            "_dom_classes": [],
            "description": "",
            "_model_name": "ToggleButtonModel",
            "button_style": "",
            "_view_module": "@jupyter-widgets/controls",
            "_model_module_version": "1.5.0",
            "tooltip": "Toolbar",
            "_view_count": null,
            "disabled": false,
            "_view_module_version": "1.5.0",
            "value": false,
            "description_tooltip": null,
            "_model_module": "@jupyter-widgets/controls",
            "layout": "IPY_MODEL_58761b55a80f46a0aab9baf7ccaddc10",
            "icon": "wrench"
          }
        },
        "af6a95adf85e4f8f8690de8b30f954e4": {
          "model_module": "@jupyter-widgets/controls",
          "model_name": "DescriptionStyleModel",
          "model_module_version": "1.5.0",
          "state": {
            "_view_name": "StyleView",
            "_model_name": "DescriptionStyleModel",
            "description_width": "",
            "_view_module": "@jupyter-widgets/base",
            "_model_module_version": "1.5.0",
            "_view_count": null,
            "_view_module_version": "1.2.0",
            "_model_module": "@jupyter-widgets/controls"
          }
        },
        "728d3f0466ed4724824c7412f56c6901": {
          "model_module": "@jupyter-widgets/base",
          "model_name": "LayoutModel",
          "model_module_version": "1.2.0",
          "state": {
            "_view_name": "LayoutView",
            "grid_template_rows": null,
            "right": null,
            "justify_content": null,
            "_view_module": "@jupyter-widgets/base",
            "overflow": null,
            "_model_module_version": "1.2.0",
            "_view_count": null,
            "flex_flow": null,
            "width": "28px",
            "min_width": null,
            "border": null,
            "align_items": null,
            "bottom": null,
            "_model_module": "@jupyter-widgets/base",
            "top": null,
            "grid_column": null,
            "overflow_y": null,
            "overflow_x": null,
            "grid_auto_flow": null,
            "grid_area": null,
            "grid_template_columns": null,
            "flex": null,
            "_model_name": "LayoutModel",
            "justify_items": null,
            "grid_row": null,
            "max_height": null,
            "align_content": null,
            "visibility": null,
            "align_self": null,
            "height": "28px",
            "min_height": null,
            "padding": "0px 0px 0px 4px",
            "grid_auto_rows": null,
            "grid_gap": null,
            "max_width": null,
            "order": null,
            "_view_module_version": "1.2.0",
            "grid_template_areas": null,
            "object_position": null,
            "object_fit": null,
            "grid_auto_columns": null,
            "margin": null,
            "display": null,
            "left": null
          }
        },
        "f9d6654aba434dfe8dd572b9a5231a07": {
          "model_module": "@jupyter-widgets/controls",
          "model_name": "DescriptionStyleModel",
          "model_module_version": "1.5.0",
          "state": {
            "_view_name": "StyleView",
            "_model_name": "DescriptionStyleModel",
            "description_width": "",
            "_view_module": "@jupyter-widgets/base",
            "_model_module_version": "1.5.0",
            "_view_count": null,
            "_view_module_version": "1.2.0",
            "_model_module": "@jupyter-widgets/controls"
          }
        },
        "58761b55a80f46a0aab9baf7ccaddc10": {
          "model_module": "@jupyter-widgets/base",
          "model_name": "LayoutModel",
          "model_module_version": "1.2.0",
          "state": {
            "_view_name": "LayoutView",
            "grid_template_rows": null,
            "right": null,
            "justify_content": null,
            "_view_module": "@jupyter-widgets/base",
            "overflow": null,
            "_model_module_version": "1.2.0",
            "_view_count": null,
            "flex_flow": null,
            "width": "28px",
            "min_width": null,
            "border": null,
            "align_items": null,
            "bottom": null,
            "_model_module": "@jupyter-widgets/base",
            "top": null,
            "grid_column": null,
            "overflow_y": null,
            "overflow_x": null,
            "grid_auto_flow": null,
            "grid_area": null,
            "grid_template_columns": null,
            "flex": null,
            "_model_name": "LayoutModel",
            "justify_items": null,
            "grid_row": null,
            "max_height": null,
            "align_content": null,
            "visibility": null,
            "align_self": null,
            "height": "28px",
            "min_height": null,
            "padding": "0px 0px 0px 4px",
            "grid_auto_rows": null,
            "grid_gap": null,
            "max_width": null,
            "order": null,
            "_view_module_version": "1.2.0",
            "grid_template_areas": null,
            "object_position": null,
            "object_fit": null,
            "grid_auto_columns": null,
            "margin": null,
            "display": null,
            "left": null
          }
        }
      }
    }
  },
  "cells": [
    {
      "cell_type": "markdown",
      "metadata": {
        "id": "xMA8X0K1XT9U"
      },
      "source": [
        "#  **Lesson 13**\n",
        "\n",
        "1.Introduction to Google Earth Engine\n",
        "\n",
        "2.Google Earth Engine API\n",
        "\n",
        "3.Example\n",
        "\n",
        "4.GEE Related Research"
      ]
    },
    {
      "cell_type": "markdown",
      "metadata": {
        "id": "hxJ4mZ0kYFxk"
      },
      "source": [
        "# **3.Example**\n",
        "\n",
        "**Initial libraries**\n"
      ]
    },
    {
      "cell_type": "code",
      "metadata": {
        "id": "KYVWGT2JIVwJ",
        "colab": {
          "base_uri": "https://localhost:8080/"
        },
        "outputId": "acb56867-400f-4684-fc08-5e592f225d6a"
      },
      "source": [
        "import subprocess\n",
        "\n",
        "try:\n",
        "    import geemap\n",
        "except ImportError:\n",
        "    print('Installing geemap ...')\n",
        "    subprocess.check_call([\"python\", '-m', 'pip', 'install', 'geemap'])"
      ],
      "execution_count": 1,
      "outputs": [
        {
          "output_type": "stream",
          "name": "stdout",
          "text": [
            "Installing geemap ...\n"
          ]
        }
      ]
    },
    {
      "cell_type": "code",
      "metadata": {
        "id": "X6K5X0URJEDL",
        "colab": {
          "base_uri": "https://localhost:8080/",
          "height": 176
        },
        "outputId": "04500907-8d28-492d-a41f-19236a5ee521"
      },
      "source": [
        "import ee\n",
        "import geemap\n",
        "\n",
        "ee.Authenticate()\n",
        "ee.Initialize()"
      ],
      "execution_count": 2,
      "outputs": [
        {
          "output_type": "stream",
          "name": "stdout",
          "text": [
            "To authorize access needed by Earth Engine, open the following URL in a web browser and follow the instructions. If the web browser does not start automatically, please manually browse the URL below.\n",
            "\n",
            "    https://accounts.google.com/o/oauth2/auth?client_id=517222506229-vsmmajv00ul0bs7p89v5m89qs8eb9359.apps.googleusercontent.com&scope=https%3A%2F%2Fwww.googleapis.com%2Fauth%2Fearthengine+https%3A%2F%2Fwww.googleapis.com%2Fauth%2Fdevstorage.full_control&redirect_uri=urn%3Aietf%3Awg%3Aoauth%3A2.0%3Aoob&response_type=code&code_challenge=Y7Uub3cnKI4KRtdk4-E6sTQxlm8GZqPRVScXe1LLOc8&code_challenge_method=S256\n",
            "\n",
            "The authorization workflow will generate a code, which you should paste in the box below. \n",
            "Enter verification code: 4/1AX4XfWhLRg6kecTP8M2iCFTl9EWssYs_DQcRSXw2dvoB1AKqwFtyEskrgjU\n",
            "\n",
            "Successfully saved authorization token.\n"
          ]
        }
      ]
    },
    {
      "cell_type": "markdown",
      "metadata": {
        "id": "WiT_Ras6YXb5"
      },
      "source": [
        "**Creat an interactive map**"
      ]
    },
    {
      "cell_type": "code",
      "metadata": {
        "id": "9K6dsxD9PPHw",
        "colab": {
          "base_uri": "https://localhost:8080/",
          "height": 17,
          "referenced_widgets": [
            "3b5170ac55024223934ba8207e1d1507"
          ]
        },
        "outputId": "27b45e1c-dc4d-47b2-c0e9-387f5a126612"
      },
      "source": [
        "Map = geemap.Map(center=[40, -100], zoom=4)\n",
        "Map.add_basemap('HYBRID')\n",
        "Map.addLayerControl()\n",
        "Map"
      ],
      "execution_count": 4,
      "outputs": [
        {
          "output_type": "display_data",
          "data": {
            "application/vnd.jupyter.widget-view+json": {
              "model_id": "3b5170ac55024223934ba8207e1d1507",
              "version_minor": 0,
              "version_major": 2
            },
            "text/plain": [
              "Map(center=[40, -100], controls=(WidgetControl(options=['position', 'transparent_bg'], widget=HBox(children=(T…"
            ]
          },
          "metadata": {
            "application/vnd.jupyter.widget-view+json": {
              "colab": {
                "custom_widget_manager": {
                  "url": "https://ssl.gstatic.com/colaboratory-static/widgets/colab-cdn-widget-manager/a8874ba6619b6106/manager.min.js"
                }
              }
            }
          }
        }
      ]
    },
    {
      "cell_type": "markdown",
      "metadata": {
        "id": "-hT-cW_mYjOi"
      },
      "source": [
        "**ROI import**"
      ]
    },
    {
      "cell_type": "code",
      "metadata": {
        "id": "t0pbv3UJuzcI",
        "colab": {
          "base_uri": "https://localhost:8080/",
          "height": 17,
          "referenced_widgets": [
            "1f1322236d094a9bb50606fb08e83584"
          ]
        },
        "outputId": "d0b15017-a1e8-411f-bcb5-4e8b25968d31"
      },
      "source": [
        "roi = ee.Geometry.Polygon(\n",
        "        [[[117.96378379556796,34.24723830187869],\n",
        "[117.9863803014576,34.22440321201694],\n",
        "[118.00897680338655,34.20156819708835],\n",
        "[118.03491983986655,34.16590430596248],\n",
        "[118.06086282537606,34.13024038378986],\n",
        "[118.07509188192739,34.09108279338934],\n",
        "[118.08932085909045,34.051925172477176],\n",
        "[118.11442778783793,34.03007784549812],\n",
        "[118.13953477187545,34.00823046001278],\n",
        "[118.17342838447094,33.99643388354467],\n",
        "[118.20732206122985,33.98463734290639],\n",
        "[118.26256137880317,33.9874109340639],\n",
        "[118.29017658429629,34.006839240272186],\n",
        "[118.28766608504732,34.05331201052382],\n",
        "[118.30566079019391,34.079306288568134],\n",
        "[118.32365555110388,34.10530064760616],\n",
        "[118.36298924807315,34.12954926144934],\n",
        "[118.34206717698196,34.147211723161554],\n",
        "[118.32114501155034,34.16487424757031],\n",
        "[118.27511374760552,34.19187407429737],\n",
        "[118.22071269768956,34.21125781297966],\n",
        "[118.18891045802918,34.2216363221177],\n",
        "[118.15710807940567,34.23201492739702],\n",
        "[118.11610224678624,34.23824429983899],\n",
        "[118.09225050019715,34.223366508769274],\n",
        "[118.06839872541094,34.208488710453345],\n",
        "[118.0424512196255,34.246547097651764],\n",
        "[118.02152915479694,34.26556737892651],\n",
        "[118.00060703389703,34.28458769917094],\n",
        "[117.96713260267587,34.28251419811591],\n",
        "[117.96378379556796,34.24723830187869]]])\n",
        "\n",
        "roi_map = geemap.Map()\n",
        "roi_map.add_basemap('HYBRID')\n",
        "roi_map.centerObject(roi, 9)\n",
        "roi_map.addLayer(roi,{},\"roi\")\n",
        "roi_map.addLayerControl() # This line is not needed for ipyleaflet-based Map.\n",
        "roi_map"
      ],
      "execution_count": 5,
      "outputs": [
        {
          "output_type": "display_data",
          "data": {
            "application/vnd.jupyter.widget-view+json": {
              "model_id": "1f1322236d094a9bb50606fb08e83584",
              "version_minor": 0,
              "version_major": 2
            },
            "text/plain": [
              "Map(center=[34.1273487583888, 118.17102980772033], controls=(WidgetControl(options=['position', 'transparent_b…"
            ]
          },
          "metadata": {
            "application/vnd.jupyter.widget-view+json": {
              "colab": {
                "custom_widget_manager": {
                  "url": "https://ssl.gstatic.com/colaboratory-static/widgets/colab-cdn-widget-manager/a8874ba6619b6106/manager.min.js"
                }
              }
            }
          }
        }
      ]
    },
    {
      "cell_type": "markdown",
      "metadata": {
        "id": "b_bxYCW_YopS"
      },
      "source": [
        "# **Image collection filter**\n",
        "\n",
        "In this case study,we can going to use USGS Landsat 8 Surface Reflectance Tier 1.\n",
        "\n",
        "Let's filter the ImageCollection by roi ,date and cloud cover."
      ]
    },
    {
      "cell_type": "code",
      "metadata": {
        "id": "WS81C582xPrx"
      },
      "source": [
        "startDate = ee.Date(\"2013-1-1\");\n",
        "endDate  =ee.Date(\"2020-12-31\");\n",
        "images = ee.ImageCollection('LANDSAT/LC08/C01/T1_SR') \\\n",
        "    .filterBounds(roi) \\\n",
        "    .filterDate(startDate, endDate) \\\n",
        "    .filter(ee.Filter.lte(\"CLOUD_COVER\", 10))\n"
      ],
      "execution_count": 28,
      "outputs": []
    },
    {
      "cell_type": "markdown",
      "metadata": {
        "id": "IfKDAYBtY_da"
      },
      "source": [
        "Let's filter the ImageCollection by cloud mask."
      ]
    },
    {
      "cell_type": "code",
      "metadata": {
        "id": "OXM8XxeAhO-s"
      },
      "source": [
        "def cloud_mask(image):\n",
        "  cloudShadowBitMask = 1 << 3\n",
        "  cloudsBitMask = 1 << 5\n",
        "  snowBitMask = 1 << 4\n",
        "  qa = image.select('pixel_qa')\n",
        "  mask1 = qa.bitwiseAnd(cloudShadowBitMask).eq(0)\n",
        "  mask2 = qa.bitwiseAnd(cloudsBitMask).eq(0)\n",
        "  mask3 = qa.bitwiseAnd(snowBitMask).eq(0)\n",
        "  mask = mask1.add(mask2).add(mask3)\n",
        "  return image.updateMask(mask.gte(1))\n",
        "images = images.map(cloud_mask)"
      ],
      "execution_count": 29,
      "outputs": []
    },
    {
      "cell_type": "markdown",
      "metadata": {
        "id": "JxYJE73iZESq"
      },
      "source": [
        "Get images properties\n"
      ]
    },
    {
      "cell_type": "code",
      "metadata": {
        "id": "DCfyKHuOv9dZ",
        "colab": {
          "base_uri": "https://localhost:8080/"
        },
        "outputId": "09daedbd-709b-406a-a6cf-0d57cb6894d6"
      },
      "source": [
        "print(images.getInfo())"
      ],
      "execution_count": 30,
      "outputs": [
        {
          "output_type": "stream",
          "name": "stdout",
          "text": [
            "{'type': 'ImageCollection', 'bands': [], 'id': 'LANDSAT/LC08/C01/T1_SR', 'version': 1639397895472414, 'properties': {'system:visualization_0_min': '0.0', 'type_name': 'ImageCollection', 'keywords': ['cfmask', 'cloud', 'fmask', 'global', 'l8sr', 'landsat', 'lc08', 'reflectance', 'sr', 'usgs'], 'visualization_1_bands': 'B5,B4,B3', 'thumb': 'https://mw1.google.com/ges/dd/images/LANDSAT_SR_thumb.png', 'visualization_1_max': '30000.0', 'description': '<p>This dataset is the atmospherically corrected\\nsurface reflectance from  the Landsat 8 OLI/TIRS sensors.\\nThese images contain 5 visible and near-infrared (VNIR) bands and\\n2 short-wave infrared (SWIR) bands processed to orthorectified surface\\nreflectance, and two thermal infrared (TIR) bands processed to orthorectified\\nbrightness temperature</p><p>These data have been atmospherically corrected using\\n<a href=\"https://prd-wret.s3.us-west-2.amazonaws.com/assets/palladium/production/atoms/files/LSDS-1368_L8_C1-LandSurfaceReflectanceCode-LASRC_ProductGuide-v3.pdf\">LaSRC</a>\\nand includes a cloud, shadow, water and snow mask produced using\\n<a href=\"https://www.usgs.gov/core-science-systems/nli/landsat/cfmask-algorithm\">CFMASK</a>,\\nas well as a per-pixel saturation mask.</p><p>Strips of collected data are packaged into overlapping &quot;scenes&quot; covering approximately\\n170km x 183km using a <a href=\"https://landsat.gsfc.nasa.gov/about/worldwide-reference-system\">standardized reference grid</a>.</p><p>See also <a href=\"https://www.usgs.gov/land-resources/nli/landsat/landsat-surface-reflectance-quality-assessment\">the USGS page on SR QA bands</a>.</p><p>SR can only be produced for Landsat assets processed to the\\n<a href=\"https://www.usgs.gov/land-resources/nli/landsat/landsat-levels-processing\">L1TP level</a></p><p>Data provider notes:</p><ul><li>Although Surface Reflectance can be processed only from the Operational\\nLand Imager (OLI) bands, SR requires combined OLI/Thermal Infrared\\nSensor (TIRS) product (LC8) input in order to generate the accompanying\\ncloud mask. Therefore, OLI only (LO8), and TIRS only (LT8) data products\\ncannot be calculated to SR.</li><li>SR is not run for a scene with a solar zenith angle greater than 76&deg;.</li><li>Users are cautioned to avoid using SR for data acquired\\nover high latitudes (&gt; 65&deg;).</li><li>The panchromatic band (ETM+ Band 7, OLI Band 8) is not processed to\\nSurface Reflectance.</li><li>Efficacy of SR correction will be likely reduced in areas where atmospheric\\ncorrection is affected by adverse conditions:\\n<ul><li>Hyper-arid or snow-covered regions</li><li>Low sun angle conditions</li><li>Coastal regions where land area is small relative to adjacent water</li><li>Areas with extensive cloud contamination</li></ul></li></ul><p>This product is generated by Google using a Docker image supplied by USGS.</p><p><b>Resolution</b><br>30 meters\\n</p><p><b>Revisit Interval</b><br>\\n  16 days\\n</p><p><b>Bands</b><table class=\"eecat\"><tr><th scope=\"col\">Name</th><th scope=\"col\">Units</th><th scope=\"col\">Scale</th><th scope=\"col\">Wavelength</th><th scope=\"col\">Description</th></tr><tr><td>B1</td><td></td><td>0.0001</td><td>0.435-0.451 &mu;m</td><td><p>Band 1 (ultra blue) surface reflectance</p></td></tr><tr><td>B2</td><td></td><td>0.0001</td><td>0.452-0.512 &mu;m</td><td><p>Band 2 (blue) surface reflectance</p></td></tr><tr><td>B3</td><td></td><td>0.0001</td><td>0.533-0.590 &mu;m</td><td><p>Band 3 (green) surface reflectance</p></td></tr><tr><td>B4</td><td></td><td>0.0001</td><td>0.636-0.673 &mu;m</td><td><p>Band 4 (red) surface reflectance</p></td></tr><tr><td>B5</td><td></td><td>0.0001</td><td>0.851-0.879 &mu;m</td><td><p>Band 5 (near infrared) surface reflectance</p></td></tr><tr><td>B6</td><td></td><td>0.0001</td><td>1.566-1.651 &mu;m</td><td><p>Band 6 (shortwave infrared 1) surface reflectance</p></td></tr><tr><td>B7</td><td></td><td>0.0001</td><td>2.107-2.294 &mu;m</td><td><p>Band 7 (shortwave infrared 2) surface reflectance</p></td></tr><tr><td>B10</td><td>Kelvin</td><td>0.1</td><td>10.60-11.19 &mu;m</td><td><p>Band 10 brightness temperature. This band, while originally\\ncollected with a resolution of 100m / pixel, has been resampled using\\ncubic convolution to 30m.</p></td></tr><tr><td>B11</td><td>Kelvin</td><td>0.1</td><td>11.50-12.51 &mu;m</td><td><p>Band 11 brightness temperature. This band, while originally\\ncollected with a resolution of 100m / pixel, has been resampled using\\ncubic convolution to 30m.</p></td></tr><tr><td>sr_aerosol</td><td></td><td></td><td></td><td><p>Aerosol attributes</p></td></tr><tr><td colspan=100>\\n      Bitmask for sr_aerosol\\n<ul><li>\\n          Bit 0: Fill\\n<ul></ul></li><li>\\n          Bit 1: Aerosol retrieval - valid\\n<ul></ul></li><li>\\n          Bit 2: Aerosol retrieval - interpolated\\n<ul></ul></li><li>\\n          Bit 3: Water pixel\\n<ul></ul></li><li>\\n          Bit 4: Water aerosol retrieval failed - needs interpolated\\n<ul></ul></li><li>\\n          Bit 5: Neighbor of failed aerosol retrieval\\n<ul></ul></li><li>\\n          Bits 6-7: Aerosol content\\n<ul><li>0: Climatology</li><li>1: Low</li><li>2: Medium</li><li>3: High</li></ul></li></ul></td></tr><tr><td>pixel_qa</td><td></td><td></td><td></td><td><p>Pixel quality attributes generated from the CFMASK algorithm.</p></td></tr><tr><td colspan=100>\\n      Bitmask for pixel_qa\\n<ul><li>\\n          Bit 0: Fill\\n<ul></ul></li><li>\\n          Bit 1: Clear\\n<ul></ul></li><li>\\n          Bit 2: Water\\n<ul></ul></li><li>\\n          Bit 3: Cloud Shadow\\n<ul></ul></li><li>\\n          Bit 4: Snow\\n<ul></ul></li><li>\\n          Bit 5: Cloud\\n<ul></ul></li><li>\\n          Bits 6-7: Cloud Confidence\\n<ul><li>0: None</li><li>1: Low</li><li>2: Medium</li><li>3: High</li></ul></li><li>\\n          Bits 8-9: Cirrus Confidence\\n<ul><li>0: None</li><li>1: Low</li><li>2: Medium</li><li>3: High</li></ul></li><li>\\n          Bit 10: Terrain Occlusion\\n<ul></ul></li></ul></td></tr><tr><td>radsat_qa</td><td></td><td></td><td></td><td><p>Radiometric saturation QA</p></td></tr><tr><td colspan=100>\\n      Bitmask for radsat_qa\\n<ul><li>\\n          Bit 0: Data Fill Flag\\n<ul><li>0: Valid data</li><li>1: Invalid data</li></ul></li><li>\\n          Bit 1: Band 1 data saturated\\n<ul></ul></li><li>\\n          Bit 2: Band 2 data saturated\\n<ul></ul></li><li>\\n          Bit 3: Band 3 data saturated\\n<ul></ul></li><li>\\n          Bit 4: Band 4 data saturated\\n<ul></ul></li><li>\\n          Bit 5: Band 5 data saturated\\n<ul></ul></li><li>\\n          Bit 6: Band 6 data saturated\\n<ul></ul></li><li>\\n          Bit 7: Band 7 data saturated\\n<ul></ul></li><li>\\n          Bit 8: Unused\\n<ul></ul></li><li>\\n          Bit 9: Band 9 data saturated\\n<ul></ul></li><li>\\n          Bit 10: Band 10 data saturated\\n<ul></ul></li><li>\\n          Bit 11: Band 11 data saturated\\n<ul></ul></li></ul></td></tr></table><p><b>Image Properties</b><table class=\"eecat\"><tr><th scope=\"col\">Name</th><th scope=\"col\">Type</th><th scope=\"col\">Description</th></tr><tr><td>CLOUD_COVER</td><td>DOUBLE</td><td><p>Percentage cloud cover (0-100), -1 = not calculated.\\n(Obtained from raw Landsat metadata)</p></td></tr><tr><td>CLOUD_COVER_LAND</td><td>DOUBLE</td><td><p>Percentage cloud cover over land (0-100), -1 = not calculated.\\n(Obtained from raw Landsat metadata)</p></td></tr><tr><td>EARTH_SUN_DISTANCE</td><td>DOUBLE</td><td><p>Earth-Sun distance (AU)</p></td></tr><tr><td>ESPA_VERSION</td><td>STRING</td><td><p>Internal ESPA image version used to compute SR</p></td></tr><tr><td>GEOMETRIC_RMSE_MODEL</td><td>DOUBLE</td><td><p>Combined RMSE (Root Mean Square Error) of the geometric\\n    residuals (meters) in both across-track and along-track\\n    directions. (Obtained from raw Landsat metadata)</p></td></tr><tr><td>GEOMETRIC_RMSE_MODEL_X</td><td>DOUBLE</td><td><p>RMSE (Root Mean Square Error) of the geometric residuals (meters)\\n    measured on the GCPs (Ground Control Points) used in geometric\\n    precision correction in the across-track direction.\\n    (Obtained from raw Landsat metadata)</p></td></tr><tr><td>GEOMETRIC_RMSE_MODEL_Y</td><td>DOUBLE</td><td><p>RMSE (Root Mean Square Error) of the geometric residuals (meters)\\n    measured on the GCPs (Ground Control Points) used in geometric\\n    precision correction in the along-track direction.\\n    (Obtained from raw Landsat metadata)</p></td></tr><tr><td>IMAGE_QUALITY</td><td>INT</td><td><p>Image quality, 0 = worst, 9 = best, -1 = quality not calculated.\\n(Obtained from raw Landsat metadata)</p></td></tr><tr><td>LANDSAT_ID</td><td>STRING</td><td><p>Landsat Product Identifier (Collection 1)</p></td></tr><tr><td>LEVEL1_PRODUCTION_DATE</td><td>INT</td><td><p>Date of production for raw Level 1 data as ms since epoch</p></td></tr><tr><td>PIXEL_QA_VERSION</td><td>STRING</td><td><p>Version of the software used to produce the &#39;pixel_qa&#39; band</p></td></tr><tr><td>SATELLITE</td><td>STRING</td><td><p>Name of satellite</p></td></tr><tr><td>SENSING_TIME</td><td>STRING</td><td><p>Time of the observations as in ISO 8601 string.\\n(Obtained from raw Landsat metadata)</p></td></tr><tr><td>SOLAR_AZIMUTH_ANGLE</td><td>DOUBLE</td><td><p>Solar azimuth angle</p></td></tr><tr><td>SR_APP_VERSION</td><td>STRING</td><td><p>LaSRC version used to process surface reflectance</p></td></tr><tr><td>WRS_PATH</td><td>INT</td><td><p>WRS path number of scene</p></td></tr><tr><td>WRS_ROW</td><td>INT</td><td><p>WRS row number of scene</p></td></tr></table><p><b>Terms of Use</b><br><p>Landsat datasets are federally created data\\nand therefore reside in the public domain and may be used, transferred, or\\nreproduced without copyright restriction.</p><p>Acknowledgement or credit of the USGS as data source should be provided\\nby including a line of text citation such as the example shown below.</p><p>(Product, Image, Photograph, or Dataset Name) courtesy of\\nthe U.S. Geological Survey</p><p>Example: Landsat-7 image courtesy of the U.S. Geological Survey</p><p>See the\\n<a href=\"https://www.usgs.gov/information-policies-and-instructions/usgs-visual-identity-system\">USGS Visual Identity System Guidance</a>\\nfor further details on proper citation and acknowledgement of USGS products.</p><style>\\n  table.eecat {\\n  border: 1px solid black;\\n  border-collapse: collapse;\\n  font-size: 13px;\\n  }\\n  table.eecat td, tr, th {\\n  text-align: left; vertical-align: top;\\n  border: 1px solid gray; padding: 3px;\\n  }\\n  td.nobreak { white-space: nowrap; }\\n</style>', 'source_tags': ['landsat', 'usgs'], 'visualization_1_name': 'Near Infrared (543)', 'visualization_0_max': '30000.0', 'title': 'USGS Landsat 8 Surface Reflectance Tier 1 [deprecated]', 'superseded_by': 'LANDSAT/LC08/C02/T1_L2', 'system:visualization_2_max': '30000.0', 'product_tags': ['global', 'sr', 'reflectance', 'l8sr', 'cloud', 'fmask', 'cfmask', 'lc08'], 'provider': 'USGS', 'visualization_1_min': '0.0', 'system:visualization_2_name': 'Shortwave Infrared (753)', 'visualization_0_min': '0.0', 'system:visualization_1_bands': 'B5,B4,B3', 'system:visualization_1_max': '30000.0', 'visualization_0_name': 'True Color (432)', 'date_range': [1365638400000, 1634515200000], 'visualization_2_bands': 'B7,B5,B3', 'visualization_2_name': 'Shortwave Infrared (753)', 'period': 0, 'system:visualization_2_min': '0.0', 'system:visualization_0_bands': 'B4,B3,B2', 'visualization_2_min': '0.0', 'provider_url': 'https://www.usgs.gov/core-science-systems/nli/landsat/landsat-surface-reflectance', 'sample': 'https://mw1.google.com/ges/dd/images/LANDSAT_SR_sample.png', 'system:visualization_1_name': 'Near Infrared (543)', 'tags': ['cfmask', 'cloud', 'fmask', 'global', 'l8sr', 'landsat', 'lc08', 'reflectance', 'sr', 'usgs'], 'system:visualization_0_max': '30000.0', 'visualization_2_max': '30000.0', 'system:visualization_2_bands': 'B7,B5,B3', 'system:visualization_1_min': '0.0', 'system:visualization_0_name': 'True Color (432)', 'visualization_0_bands': 'B4,B3,B2'}, 'features': [{'type': 'Image', 'bands': [{'id': 'B1', 'data_type': {'type': 'PixelType', 'precision': 'int', 'min': -32768, 'max': 32767}, 'dimensions': [7361, 7321], 'crs': 'EPSG:32650', 'crs_transform': [30, 0, 528585, 0, -30, 3940215]}, {'id': 'B2', 'data_type': {'type': 'PixelType', 'precision': 'int', 'min': -32768, 'max': 32767}, 'dimensions': [7361, 7321], 'crs': 'EPSG:32650', 'crs_transform': [30, 0, 528585, 0, -30, 3940215]}, {'id': 'B3', 'data_type': {'type': 'PixelType', 'precision': 'int', 'min': -32768, 'max': 32767}, 'dimensions': [7361, 7321], 'crs': 'EPSG:32650', 'crs_transform': [30, 0, 528585, 0, -30, 3940215]}, {'id': 'B4', 'data_type': {'type': 'PixelType', 'precision': 'int', 'min': -32768, 'max': 32767}, 'dimensions': [7361, 7321], 'crs': 'EPSG:32650', 'crs_transform': [30, 0, 528585, 0, -30, 3940215]}, {'id': 'B5', 'data_type': {'type': 'PixelType', 'precision': 'int', 'min': -32768, 'max': 32767}, 'dimensions': [7361, 7321], 'crs': 'EPSG:32650', 'crs_transform': [30, 0, 528585, 0, -30, 3940215]}, {'id': 'B6', 'data_type': {'type': 'PixelType', 'precision': 'int', 'min': -32768, 'max': 32767}, 'dimensions': [7361, 7321], 'crs': 'EPSG:32650', 'crs_transform': [30, 0, 528585, 0, -30, 3940215]}, {'id': 'B7', 'data_type': {'type': 'PixelType', 'precision': 'int', 'min': -32768, 'max': 32767}, 'dimensions': [7361, 7321], 'crs': 'EPSG:32650', 'crs_transform': [30, 0, 528585, 0, -30, 3940215]}, {'id': 'B10', 'data_type': {'type': 'PixelType', 'precision': 'int', 'min': -32768, 'max': 32767}, 'dimensions': [7361, 7321], 'crs': 'EPSG:32650', 'crs_transform': [30, 0, 528585, 0, -30, 3940215]}, {'id': 'B11', 'data_type': {'type': 'PixelType', 'precision': 'int', 'min': -32768, 'max': 32767}, 'dimensions': [7361, 7321], 'crs': 'EPSG:32650', 'crs_transform': [30, 0, 528585, 0, -30, 3940215]}, {'id': 'sr_aerosol', 'data_type': {'type': 'PixelType', 'precision': 'int', 'min': 0, 'max': 255}, 'dimensions': [7361, 7321], 'crs': 'EPSG:32650', 'crs_transform': [30, 0, 528585, 0, -30, 3940215]}, {'id': 'pixel_qa', 'data_type': {'type': 'PixelType', 'precision': 'int', 'min': 0, 'max': 65535}, 'dimensions': [7361, 7321], 'crs': 'EPSG:32650', 'crs_transform': [30, 0, 528585, 0, -30, 3940215]}, {'id': 'radsat_qa', 'data_type': {'type': 'PixelType', 'precision': 'int', 'min': 0, 'max': 65535}, 'dimensions': [7361, 7321], 'crs': 'EPSG:32650', 'crs_transform': [30, 0, 528585, 0, -30, 3940215]}], 'id': 'LANDSAT/LC08/C01/T1_SR/LC08_121036_20130402', 'version': 1522736590322801, 'properties': {'IMAGE_QUALITY_TIRS': 9, 'CLOUD_COVER': 1.59, 'EARTH_SUN_DISTANCE': 0.999557, 'LANDSAT_ID': 'LC08_L1TP_121036_20130402_20170505_01_T1', 'system:footprint': {'type': 'LinearRing', 'coordinates': [[119.60684487507757, 34.91111971180909], [119.62817560929334, 34.98286408488937], [119.6694862646786, 35.12149914934856], [119.68946117141975, 35.18839065264065], [119.70132486248193, 35.22809297325392], [119.70137215153713, 35.22951890453667], [119.18115457423657, 35.3325394620653], [118.30361702253529, 35.500718272801855], [117.76040337169236, 35.60130427973201], [117.32231825228148, 33.9838041160934], [118.66099478621773, 33.725918917011626], [119.03028001169791, 33.65195792912], [119.22417944563865, 33.61263670832249], [119.2260007940288, 33.61260395747365], [119.30708868934319, 33.891827042632606], [119.33044268683052, 33.97199727350556], [119.40087172517251, 34.21298800130166], [119.43567162007115, 34.331624256064686], [119.48634752132213, 34.503853934854], [119.55370093344635, 34.73186726898039], [119.60684487507757, 34.91111971180909]]}, 'CLOUD_COVER_LAND': 1.68, 'GEOMETRIC_RMSE_MODEL': 7.133, 'SR_APP_VERSION': 'LaSRC_1.3.0', 'SATELLITE': 'LANDSAT_8', 'SOLAR_AZIMUTH_ANGLE': 140.914246, 'IMAGE_QUALITY_OLI': 9, 'WRS_PATH': 121, 'system:time_start': 1364870550850, 'SENSING_TIME': '2013-04-02T02:42:30.8462710Z', 'ESPA_VERSION': '2_23_0_1a', 'SOLAR_ZENITH_ANGLE': 35.852409, 'WRS_ROW': 36, 'GEOMETRIC_RMSE_MODEL_Y': 5.231, 'LEVEL1_PRODUCTION_DATE': 1493986986000, 'GEOMETRIC_RMSE_MODEL_X': 4.85, 'system:asset_size': 594575139, 'PIXEL_QA_VERSION': 'generate_pixel_qa_1.6.0', 'system:index': 'LC08_121036_20130402'}}, {'type': 'Image', 'bands': [{'id': 'B1', 'data_type': {'type': 'PixelType', 'precision': 'int', 'min': -32768, 'max': 32767}, 'dimensions': [7631, 7781], 'crs': 'EPSG:32650', 'crs_transform': [30, 0, 483585, 0, -30, 3946515]}, {'id': 'B2', 'data_type': {'type': 'PixelType', 'precision': 'int', 'min': -32768, 'max': 32767}, 'dimensions': [7631, 7781], 'crs': 'EPSG:32650', 'crs_transform': [30, 0, 483585, 0, -30, 3946515]}, {'id': 'B3', 'data_type': {'type': 'PixelType', 'precision': 'int', 'min': -32768, 'max': 32767}, 'dimensions': [7631, 7781], 'crs': 'EPSG:32650', 'crs_transform': [30, 0, 483585, 0, -30, 3946515]}, {'id': 'B4', 'data_type': {'type': 'PixelType', 'precision': 'int', 'min': -32768, 'max': 32767}, 'dimensions': [7631, 7781], 'crs': 'EPSG:32650', 'crs_transform': [30, 0, 483585, 0, -30, 3946515]}, {'id': 'B5', 'data_type': {'type': 'PixelType', 'precision': 'int', 'min': -32768, 'max': 32767}, 'dimensions': [7631, 7781], 'crs': 'EPSG:32650', 'crs_transform': [30, 0, 483585, 0, -30, 3946515]}, {'id': 'B6', 'data_type': {'type': 'PixelType', 'precision': 'int', 'min': -32768, 'max': 32767}, 'dimensions': [7631, 7781], 'crs': 'EPSG:32650', 'crs_transform': [30, 0, 483585, 0, -30, 3946515]}, {'id': 'B7', 'data_type': {'type': 'PixelType', 'precision': 'int', 'min': -32768, 'max': 32767}, 'dimensions': [7631, 7781], 'crs': 'EPSG:32650', 'crs_transform': [30, 0, 483585, 0, -30, 3946515]}, {'id': 'B10', 'data_type': {'type': 'PixelType', 'precision': 'int', 'min': -32768, 'max': 32767}, 'dimensions': [7631, 7781], 'crs': 'EPSG:32650', 'crs_transform': [30, 0, 483585, 0, -30, 3946515]}, {'id': 'B11', 'data_type': {'type': 'PixelType', 'precision': 'int', 'min': -32768, 'max': 32767}, 'dimensions': [7631, 7781], 'crs': 'EPSG:32650', 'crs_transform': [30, 0, 483585, 0, -30, 3946515]}, {'id': 'sr_aerosol', 'data_type': {'type': 'PixelType', 'precision': 'int', 'min': 0, 'max': 255}, 'dimensions': [7631, 7781], 'crs': 'EPSG:32650', 'crs_transform': [30, 0, 483585, 0, -30, 3946515]}, {'id': 'pixel_qa', 'data_type': {'type': 'PixelType', 'precision': 'int', 'min': 0, 'max': 65535}, 'dimensions': [7631, 7781], 'crs': 'EPSG:32650', 'crs_transform': [30, 0, 483585, 0, -30, 3946515]}, {'id': 'radsat_qa', 'data_type': {'type': 'PixelType', 'precision': 'int', 'min': 0, 'max': 65535}, 'dimensions': [7631, 7781], 'crs': 'EPSG:32650', 'crs_transform': [30, 0, 483585, 0, -30, 3946515]}], 'id': 'LANDSAT/LC08/C01/T1_SR/LC08_121036_20130903', 'version': 1522736596605080.0, 'properties': {'IMAGE_QUALITY_TIRS': 9, 'CLOUD_COVER': 0.6, 'EARTH_SUN_DISTANCE': 1.008758, 'LANDSAT_ID': 'LC08_L1TP_121036_20130903_20170502_01_T1', 'system:footprint': {'type': 'LinearRing', 'coordinates': [[117.53533003775593, 35.615312356326015], [117.29852240334934, 35.65867871882476], [117.29788320338335, 35.65816028834453], [116.8328852284704, 33.93590395911996], [118.33436378965925, 33.64628040823466], [118.6865465341822, 33.57542451545204], [118.78957418828753, 33.554492100890954], [118.79127325203744, 33.554467514087975], [118.80663389926241, 33.607494993254996], [118.82745893044098, 33.67940562062413], [118.85926890625343, 33.7890344407056], [118.92893036952303, 34.02825699848318], [118.99404345122072, 34.250799577893105], [119.04384710464586, 34.42043354961328], [119.12169604644488, 34.68444491185025], [119.15794919503375, 34.806870671606674], [119.23471826960083, 35.06516464219896], [119.29768851207679, 35.276095983444975], [119.29712485827086, 35.27658010606447], [118.92843251718999, 35.349818396509356], [117.53533003775593, 35.615312356326015]]}, 'CLOUD_COVER_LAND': 0.59, 'GEOMETRIC_RMSE_MODEL': 7.528, 'SR_APP_VERSION': 'LaSRC_1.3.0', 'SATELLITE': 'LANDSAT_8', 'SOLAR_AZIMUTH_ANGLE': 140.270523, 'IMAGE_QUALITY_OLI': 9, 'WRS_PATH': 121, 'system:time_start': 1378176287460, 'SENSING_TIME': '2013-09-03T02:44:47.4587350Z', 'ESPA_VERSION': '2_23_0_1a', 'SOLAR_ZENITH_ANGLE': 33.046623, 'WRS_ROW': 36, 'GEOMETRIC_RMSE_MODEL_Y': 5.472, 'LEVEL1_PRODUCTION_DATE': 1493745636000, 'GEOMETRIC_RMSE_MODEL_X': 5.17, 'system:asset_size': 615738689, 'PIXEL_QA_VERSION': 'generate_pixel_qa_1.6.0', 'system:index': 'LC08_121036_20130903'}}, {'type': 'Image', 'bands': [{'id': 'B1', 'data_type': {'type': 'PixelType', 'precision': 'int', 'min': -32768, 'max': 32767}, 'dimensions': [7631, 7771], 'crs': 'EPSG:32650', 'crs_transform': [30, 0, 484785, 0, -30, 3946515]}, {'id': 'B2', 'data_type': {'type': 'PixelType', 'precision': 'int', 'min': -32768, 'max': 32767}, 'dimensions': [7631, 7771], 'crs': 'EPSG:32650', 'crs_transform': [30, 0, 484785, 0, -30, 3946515]}, {'id': 'B3', 'data_type': {'type': 'PixelType', 'precision': 'int', 'min': -32768, 'max': 32767}, 'dimensions': [7631, 7771], 'crs': 'EPSG:32650', 'crs_transform': [30, 0, 484785, 0, -30, 3946515]}, {'id': 'B4', 'data_type': {'type': 'PixelType', 'precision': 'int', 'min': -32768, 'max': 32767}, 'dimensions': [7631, 7771], 'crs': 'EPSG:32650', 'crs_transform': [30, 0, 484785, 0, -30, 3946515]}, {'id': 'B5', 'data_type': {'type': 'PixelType', 'precision': 'int', 'min': -32768, 'max': 32767}, 'dimensions': [7631, 7771], 'crs': 'EPSG:32650', 'crs_transform': [30, 0, 484785, 0, -30, 3946515]}, {'id': 'B6', 'data_type': {'type': 'PixelType', 'precision': 'int', 'min': -32768, 'max': 32767}, 'dimensions': [7631, 7771], 'crs': 'EPSG:32650', 'crs_transform': [30, 0, 484785, 0, -30, 3946515]}, {'id': 'B7', 'data_type': {'type': 'PixelType', 'precision': 'int', 'min': -32768, 'max': 32767}, 'dimensions': [7631, 7771], 'crs': 'EPSG:32650', 'crs_transform': [30, 0, 484785, 0, -30, 3946515]}, {'id': 'B10', 'data_type': {'type': 'PixelType', 'precision': 'int', 'min': -32768, 'max': 32767}, 'dimensions': [7631, 7771], 'crs': 'EPSG:32650', 'crs_transform': [30, 0, 484785, 0, -30, 3946515]}, {'id': 'B11', 'data_type': {'type': 'PixelType', 'precision': 'int', 'min': -32768, 'max': 32767}, 'dimensions': [7631, 7771], 'crs': 'EPSG:32650', 'crs_transform': [30, 0, 484785, 0, -30, 3946515]}, {'id': 'sr_aerosol', 'data_type': {'type': 'PixelType', 'precision': 'int', 'min': 0, 'max': 255}, 'dimensions': [7631, 7771], 'crs': 'EPSG:32650', 'crs_transform': [30, 0, 484785, 0, -30, 3946515]}, {'id': 'pixel_qa', 'data_type': {'type': 'PixelType', 'precision': 'int', 'min': 0, 'max': 65535}, 'dimensions': [7631, 7771], 'crs': 'EPSG:32650', 'crs_transform': [30, 0, 484785, 0, -30, 3946515]}, {'id': 'radsat_qa', 'data_type': {'type': 'PixelType', 'precision': 'int', 'min': 0, 'max': 65535}, 'dimensions': [7631, 7771], 'crs': 'EPSG:32650', 'crs_transform': [30, 0, 484785, 0, -30, 3946515]}], 'id': 'LANDSAT/LC08/C01/T1_SR/LC08_121036_20131005', 'version': 1522736597708689, 'properties': {'IMAGE_QUALITY_TIRS': 9, 'CLOUD_COVER': 0.69, 'EARTH_SUN_DISTANCE': 1.000076, 'LANDSAT_ID': 'LC08_L1TP_121036_20131005_20170429_01_T1', 'system:footprint': {'type': 'LinearRing', 'coordinates': [[117.31322218214187, 35.65856828133696], [117.31177661934329, 35.658572047523386], [116.84685539681601, 33.935554526460116], [118.80207888851858, 33.55458121811473], [118.80400662300056, 33.55455311729298], [118.82438245310952, 33.624916809858625], [118.86965486096793, 33.781052196902245], [118.92800654696366, 33.98159219170872], [118.95590201850666, 34.07721482408975], [119.00369916307568, 34.2406824207323], [119.10655069813399, 34.5905827698711], [119.1312581432804, 34.6742706402869], [119.16314517302473, 34.78204922975688], [119.19982411773358, 34.905718301289966], [119.25004382549913, 35.07466787984346], [119.31038508908989, 35.276868650498116], [119.29714338380354, 35.27954776812544], [118.06438915830942, 35.51929510244326], [117.62366876021322, 35.601633484042544], [117.31322218214187, 35.65856828133696]]}, 'CLOUD_COVER_LAND': 0.69, 'GEOMETRIC_RMSE_MODEL': 7.297, 'SR_APP_VERSION': 'LaSRC_1.3.0', 'SATELLITE': 'LANDSAT_8', 'SOLAR_AZIMUTH_ANGLE': 153.255615, 'IMAGE_QUALITY_OLI': 9, 'WRS_PATH': 121, 'system:time_start': 1380941078390, 'SENSING_TIME': '2013-10-05T02:44:38.3937760Z', 'ESPA_VERSION': '2_23_0_1a', 'SOLAR_ZENITH_ANGLE': 42.818432, 'WRS_ROW': 36, 'GEOMETRIC_RMSE_MODEL_Y': 5.119, 'LEVEL1_PRODUCTION_DATE': 1493470963000, 'GEOMETRIC_RMSE_MODEL_X': 5.201, 'system:asset_size': 655964923, 'PIXEL_QA_VERSION': 'generate_pixel_qa_1.6.0', 'system:index': 'LC08_121036_20131005'}}, {'type': 'Image', 'bands': [{'id': 'B1', 'data_type': {'type': 'PixelType', 'precision': 'int', 'min': -32768, 'max': 32767}, 'dimensions': [7631, 7771], 'crs': 'EPSG:32650', 'crs_transform': [30, 0, 484785, 0, -30, 3946515]}, {'id': 'B2', 'data_type': {'type': 'PixelType', 'precision': 'int', 'min': -32768, 'max': 32767}, 'dimensions': [7631, 7771], 'crs': 'EPSG:32650', 'crs_transform': [30, 0, 484785, 0, -30, 3946515]}, {'id': 'B3', 'data_type': {'type': 'PixelType', 'precision': 'int', 'min': -32768, 'max': 32767}, 'dimensions': [7631, 7771], 'crs': 'EPSG:32650', 'crs_transform': [30, 0, 484785, 0, -30, 3946515]}, {'id': 'B4', 'data_type': {'type': 'PixelType', 'precision': 'int', 'min': -32768, 'max': 32767}, 'dimensions': [7631, 7771], 'crs': 'EPSG:32650', 'crs_transform': [30, 0, 484785, 0, -30, 3946515]}, {'id': 'B5', 'data_type': {'type': 'PixelType', 'precision': 'int', 'min': -32768, 'max': 32767}, 'dimensions': [7631, 7771], 'crs': 'EPSG:32650', 'crs_transform': [30, 0, 484785, 0, -30, 3946515]}, {'id': 'B6', 'data_type': {'type': 'PixelType', 'precision': 'int', 'min': -32768, 'max': 32767}, 'dimensions': [7631, 7771], 'crs': 'EPSG:32650', 'crs_transform': [30, 0, 484785, 0, -30, 3946515]}, {'id': 'B7', 'data_type': {'type': 'PixelType', 'precision': 'int', 'min': -32768, 'max': 32767}, 'dimensions': [7631, 7771], 'crs': 'EPSG:32650', 'crs_transform': [30, 0, 484785, 0, -30, 3946515]}, {'id': 'B10', 'data_type': {'type': 'PixelType', 'precision': 'int', 'min': -32768, 'max': 32767}, 'dimensions': [7631, 7771], 'crs': 'EPSG:32650', 'crs_transform': [30, 0, 484785, 0, -30, 3946515]}, {'id': 'B11', 'data_type': {'type': 'PixelType', 'precision': 'int', 'min': -32768, 'max': 32767}, 'dimensions': [7631, 7771], 'crs': 'EPSG:32650', 'crs_transform': [30, 0, 484785, 0, -30, 3946515]}, {'id': 'sr_aerosol', 'data_type': {'type': 'PixelType', 'precision': 'int', 'min': 0, 'max': 255}, 'dimensions': [7631, 7771], 'crs': 'EPSG:32650', 'crs_transform': [30, 0, 484785, 0, -30, 3946515]}, {'id': 'pixel_qa', 'data_type': {'type': 'PixelType', 'precision': 'int', 'min': 0, 'max': 65535}, 'dimensions': [7631, 7771], 'crs': 'EPSG:32650', 'crs_transform': [30, 0, 484785, 0, -30, 3946515]}, {'id': 'radsat_qa', 'data_type': {'type': 'PixelType', 'precision': 'int', 'min': 0, 'max': 65535}, 'dimensions': [7631, 7771], 'crs': 'EPSG:32650', 'crs_transform': [30, 0, 484785, 0, -30, 3946515]}], 'id': 'LANDSAT/LC08/C01/T1_SR/LC08_121036_20131021', 'version': 1522736598338982, 'properties': {'IMAGE_QUALITY_TIRS': 9, 'CLOUD_COVER': 6.76, 'EARTH_SUN_DISTANCE': 0.99547, 'LANDSAT_ID': 'LC08_L1TP_121036_20131021_20170429_01_T1', 'system:footprint': {'type': 'LinearRing', 'coordinates': [[116.84769875730635, 33.93697403141676], [116.84770145375366, 33.93548900367605], [117.31183392549411, 33.848174492613104], [118.80176106528963, 33.55485637465629], [118.80355781635646, 33.554830208405576], [118.84042213564783, 33.682225354154525], [118.9045296436224, 33.90304676689045], [118.93928841047536, 34.022337483399724], [118.99027400850152, 34.196777273262086], [119.05343673579323, 34.41215829834398], [119.08409236396267, 34.516316362367526], [119.14138955785272, 34.71058981706334], [119.18543005628521, 34.859346991733595], [119.23637703657728, 35.03084544528703], [119.26549467340188, 35.12864591757151], [119.30950693084618, 35.276095456681205], [119.30955000574653, 35.27761138591587], [118.73027334898494, 35.392035988674884], [117.42890337427117, 35.63789764510111], [117.31411162986426, 35.65883648625844], [117.3122556946702, 35.65884128393053], [116.84769875730635, 33.93697403141676]]}, 'CLOUD_COVER_LAND': 6.76, 'GEOMETRIC_RMSE_MODEL': 7.442, 'SR_APP_VERSION': 'LaSRC_1.3.0', 'SATELLITE': 'LANDSAT_8', 'SOLAR_AZIMUTH_ANGLE': 157.375885, 'IMAGE_QUALITY_OLI': 9, 'WRS_PATH': 121, 'system:time_start': 1382323473890, 'SENSING_TIME': '2013-10-21T02:44:33.8875190Z', 'ESPA_VERSION': '2_23_0_1a', 'SOLAR_ZENITH_ANGLE': 48.088737, 'WRS_ROW': 36, 'GEOMETRIC_RMSE_MODEL_Y': 5.178, 'LEVEL1_PRODUCTION_DATE': 1493433319000, 'GEOMETRIC_RMSE_MODEL_X': 5.345, 'system:asset_size': 663572625, 'PIXEL_QA_VERSION': 'generate_pixel_qa_1.6.0', 'system:index': 'LC08_121036_20131021'}}, {'type': 'Image', 'bands': [{'id': 'B1', 'data_type': {'type': 'PixelType', 'precision': 'int', 'min': -32768, 'max': 32767}, 'dimensions': [7631, 7771], 'crs': 'EPSG:32650', 'crs_transform': [30, 0, 484185, 0, -30, 3946515]}, {'id': 'B2', 'data_type': {'type': 'PixelType', 'precision': 'int', 'min': -32768, 'max': 32767}, 'dimensions': [7631, 7771], 'crs': 'EPSG:32650', 'crs_transform': [30, 0, 484185, 0, -30, 3946515]}, {'id': 'B3', 'data_type': {'type': 'PixelType', 'precision': 'int', 'min': -32768, 'max': 32767}, 'dimensions': [7631, 7771], 'crs': 'EPSG:32650', 'crs_transform': [30, 0, 484185, 0, -30, 3946515]}, {'id': 'B4', 'data_type': {'type': 'PixelType', 'precision': 'int', 'min': -32768, 'max': 32767}, 'dimensions': [7631, 7771], 'crs': 'EPSG:32650', 'crs_transform': [30, 0, 484185, 0, -30, 3946515]}, {'id': 'B5', 'data_type': {'type': 'PixelType', 'precision': 'int', 'min': -32768, 'max': 32767}, 'dimensions': [7631, 7771], 'crs': 'EPSG:32650', 'crs_transform': [30, 0, 484185, 0, -30, 3946515]}, {'id': 'B6', 'data_type': {'type': 'PixelType', 'precision': 'int', 'min': -32768, 'max': 32767}, 'dimensions': [7631, 7771], 'crs': 'EPSG:32650', 'crs_transform': [30, 0, 484185, 0, -30, 3946515]}, {'id': 'B7', 'data_type': {'type': 'PixelType', 'precision': 'int', 'min': -32768, 'max': 32767}, 'dimensions': [7631, 7771], 'crs': 'EPSG:32650', 'crs_transform': [30, 0, 484185, 0, -30, 3946515]}, {'id': 'B10', 'data_type': {'type': 'PixelType', 'precision': 'int', 'min': -32768, 'max': 32767}, 'dimensions': [7631, 7771], 'crs': 'EPSG:32650', 'crs_transform': [30, 0, 484185, 0, -30, 3946515]}, {'id': 'B11', 'data_type': {'type': 'PixelType', 'precision': 'int', 'min': -32768, 'max': 32767}, 'dimensions': [7631, 7771], 'crs': 'EPSG:32650', 'crs_transform': [30, 0, 484185, 0, -30, 3946515]}, {'id': 'sr_aerosol', 'data_type': {'type': 'PixelType', 'precision': 'int', 'min': 0, 'max': 255}, 'dimensions': [7631, 7771], 'crs': 'EPSG:32650', 'crs_transform': [30, 0, 484185, 0, -30, 3946515]}, {'id': 'pixel_qa', 'data_type': {'type': 'PixelType', 'precision': 'int', 'min': 0, 'max': 65535}, 'dimensions': [7631, 7771], 'crs': 'EPSG:32650', 'crs_transform': [30, 0, 484185, 0, -30, 3946515]}, {'id': 'radsat_qa', 'data_type': {'type': 'PixelType', 'precision': 'int', 'min': 0, 'max': 65535}, 'dimensions': [7631, 7771], 'crs': 'EPSG:32650', 'crs_transform': [30, 0, 484185, 0, -30, 3946515]}], 'id': 'LANDSAT/LC08/C01/T1_SR/LC08_121036_20131106', 'version': 1522736600404169, 'properties': {'IMAGE_QUALITY_TIRS': 9, 'CLOUD_COVER': 0.03, 'EARTH_SUN_DISTANCE': 0.991299, 'LANDSAT_ID': 'LC08_L1TP_121036_20131106_20170428_01_T1', 'system:footprint': {'type': 'LinearRing', 'coordinates': [[118.94343846995895, 34.0574374170292], [118.96214230023716, 34.12152024936607], [118.99078818226214, 34.21952087767485], [119.10324776639646, 34.602270178496624], [119.14893854034585, 34.7569049916624], [119.20323624685497, 34.94010598611876], [119.25280781744331, 35.10683420276731], [119.30323408090494, 35.27585050036531], [119.30327387813, 35.277254960356366], [118.38259332214945, 35.45764447336205], [117.61439975638511, 35.602222099527225], [117.30604242341893, 35.65874018574832], [116.84108534973736, 33.935144976389786], [117.23274569654909, 33.86160723303953], [118.38339563236144, 33.637624827951996], [118.7972644295489, 33.55416312256374], [118.80750401650059, 33.589510979233964], [118.84660080703817, 33.72453976485637], [118.89172736045875, 33.87997619001919], [118.94343846995895, 34.0574374170292]]}, 'CLOUD_COVER_LAND': 0.03, 'GEOMETRIC_RMSE_MODEL': 7.057, 'SR_APP_VERSION': 'LaSRC_1.3.0', 'SATELLITE': 'LANDSAT_8', 'SOLAR_AZIMUTH_ANGLE': 159.769775, 'IMAGE_QUALITY_OLI': 9, 'WRS_PATH': 121, 'system:time_start': 1383705869990, 'SENSING_TIME': '2013-11-06T02:44:29.9908330Z', 'ESPA_VERSION': '2_23_0_1a', 'SOLAR_ZENITH_ANGLE': 53.039207, 'WRS_ROW': 36, 'GEOMETRIC_RMSE_MODEL_Y': 5.142, 'LEVEL1_PRODUCTION_DATE': 1493416510000, 'GEOMETRIC_RMSE_MODEL_X': 4.833, 'system:asset_size': 606302908, 'PIXEL_QA_VERSION': 'generate_pixel_qa_1.6.0', 'system:index': 'LC08_121036_20131106'}}, {'type': 'Image', 'bands': [{'id': 'B1', 'data_type': {'type': 'PixelType', 'precision': 'int', 'min': -32768, 'max': 32767}, 'dimensions': [7631, 7771], 'crs': 'EPSG:32650', 'crs_transform': [30, 0, 485385, 0, -30, 3946515]}, {'id': 'B2', 'data_type': {'type': 'PixelType', 'precision': 'int', 'min': -32768, 'max': 32767}, 'dimensions': [7631, 7771], 'crs': 'EPSG:32650', 'crs_transform': [30, 0, 485385, 0, -30, 3946515]}, {'id': 'B3', 'data_type': {'type': 'PixelType', 'precision': 'int', 'min': -32768, 'max': 32767}, 'dimensions': [7631, 7771], 'crs': 'EPSG:32650', 'crs_transform': [30, 0, 485385, 0, -30, 3946515]}, {'id': 'B4', 'data_type': {'type': 'PixelType', 'precision': 'int', 'min': -32768, 'max': 32767}, 'dimensions': [7631, 7771], 'crs': 'EPSG:32650', 'crs_transform': [30, 0, 485385, 0, -30, 3946515]}, {'id': 'B5', 'data_type': {'type': 'PixelType', 'precision': 'int', 'min': -32768, 'max': 32767}, 'dimensions': [7631, 7771], 'crs': 'EPSG:32650', 'crs_transform': [30, 0, 485385, 0, -30, 3946515]}, {'id': 'B6', 'data_type': {'type': 'PixelType', 'precision': 'int', 'min': -32768, 'max': 32767}, 'dimensions': [7631, 7771], 'crs': 'EPSG:32650', 'crs_transform': [30, 0, 485385, 0, -30, 3946515]}, {'id': 'B7', 'data_type': {'type': 'PixelType', 'precision': 'int', 'min': -32768, 'max': 32767}, 'dimensions': [7631, 7771], 'crs': 'EPSG:32650', 'crs_transform': [30, 0, 485385, 0, -30, 3946515]}, {'id': 'B10', 'data_type': {'type': 'PixelType', 'precision': 'int', 'min': -32768, 'max': 32767}, 'dimensions': [7631, 7771], 'crs': 'EPSG:32650', 'crs_transform': [30, 0, 485385, 0, -30, 3946515]}, {'id': 'B11', 'data_type': {'type': 'PixelType', 'precision': 'int', 'min': -32768, 'max': 32767}, 'dimensions': [7631, 7771], 'crs': 'EPSG:32650', 'crs_transform': [30, 0, 485385, 0, -30, 3946515]}, {'id': 'sr_aerosol', 'data_type': {'type': 'PixelType', 'precision': 'int', 'min': 0, 'max': 255}, 'dimensions': [7631, 7771], 'crs': 'EPSG:32650', 'crs_transform': [30, 0, 485385, 0, -30, 3946515]}, {'id': 'pixel_qa', 'data_type': {'type': 'PixelType', 'precision': 'int', 'min': 0, 'max': 65535}, 'dimensions': [7631, 7771], 'crs': 'EPSG:32650', 'crs_transform': [30, 0, 485385, 0, -30, 3946515]}, {'id': 'radsat_qa', 'data_type': {'type': 'PixelType', 'precision': 'int', 'min': 0, 'max': 65535}, 'dimensions': [7631, 7771], 'crs': 'EPSG:32650', 'crs_transform': [30, 0, 485385, 0, -30, 3946515]}], 'id': 'LANDSAT/LC08/C01/T1_SR/LC08_121036_20131122', 'version': 1522736601093891, 'properties': {'IMAGE_QUALITY_TIRS': 9, 'CLOUD_COVER': 2.14, 'EARTH_SUN_DISTANCE': 0.987682, 'LANDSAT_ID': 'LC08_L1TP_121036_20131122_20170428_01_T1', 'system:footprint': {'type': 'LinearRing', 'coordinates': [[119.16433577074919, 34.76267149673622], [119.18198771643215, 34.82230560335168], [119.21344378736978, 34.92842735433063], [119.25358452425515, 35.063521671237645], [119.31741061018987, 35.277538124627746], [117.32111317914803, 35.65881797955816], [117.31921847878607, 35.65882307467405], [116.85484036024928, 33.93698264023477], [116.8548426970933, 33.935623636828296], [117.45697223592688, 33.822017682908445], [118.52269301127888, 33.61299117133899], [118.8094324851204, 33.55501494858285], [118.8112371518899, 33.55498856773466], [118.81534650436683, 33.56907230764889], [118.84565338325368, 33.67381796106104], [118.88939408984515, 33.82463996526369], [118.94613945844371, 34.01963755658174], [118.9849909491896, 34.152801590341866], [119.08446615229607, 34.491966738573254], [119.12092753126741, 34.615758320847384], [119.16433577074919, 34.76267149673622]]}, 'CLOUD_COVER_LAND': 2.14, 'GEOMETRIC_RMSE_MODEL': 6.819, 'SR_APP_VERSION': 'LaSRC_1.3.0', 'SATELLITE': 'LANDSAT_8', 'SOLAR_AZIMUTH_ANGLE': 160.551331, 'IMAGE_QUALITY_OLI': 9, 'WRS_PATH': 121, 'system:time_start': 1385088260540, 'SENSING_TIME': '2013-11-22T02:44:20.5446010Z', 'ESPA_VERSION': '2_23_0_1a', 'SOLAR_ZENITH_ANGLE': 57.178459, 'WRS_ROW': 36, 'GEOMETRIC_RMSE_MODEL_Y': 5.159, 'LEVEL1_PRODUCTION_DATE': 1493381244000, 'GEOMETRIC_RMSE_MODEL_X': 4.459, 'system:asset_size': 623033933, 'PIXEL_QA_VERSION': 'generate_pixel_qa_1.6.0', 'system:index': 'LC08_121036_20131122'}}, {'type': 'Image', 'bands': [{'id': 'B1', 'data_type': {'type': 'PixelType', 'precision': 'int', 'min': -32768, 'max': 32767}, 'dimensions': [7641, 7771], 'crs': 'EPSG:32650', 'crs_transform': [30, 0, 482685, 0, -30, 3946515]}, {'id': 'B2', 'data_type': {'type': 'PixelType', 'precision': 'int', 'min': -32768, 'max': 32767}, 'dimensions': [7641, 7771], 'crs': 'EPSG:32650', 'crs_transform': [30, 0, 482685, 0, -30, 3946515]}, {'id': 'B3', 'data_type': {'type': 'PixelType', 'precision': 'int', 'min': -32768, 'max': 32767}, 'dimensions': [7641, 7771], 'crs': 'EPSG:32650', 'crs_transform': [30, 0, 482685, 0, -30, 3946515]}, {'id': 'B4', 'data_type': {'type': 'PixelType', 'precision': 'int', 'min': -32768, 'max': 32767}, 'dimensions': [7641, 7771], 'crs': 'EPSG:32650', 'crs_transform': [30, 0, 482685, 0, -30, 3946515]}, {'id': 'B5', 'data_type': {'type': 'PixelType', 'precision': 'int', 'min': -32768, 'max': 32767}, 'dimensions': [7641, 7771], 'crs': 'EPSG:32650', 'crs_transform': [30, 0, 482685, 0, -30, 3946515]}, {'id': 'B6', 'data_type': {'type': 'PixelType', 'precision': 'int', 'min': -32768, 'max': 32767}, 'dimensions': [7641, 7771], 'crs': 'EPSG:32650', 'crs_transform': [30, 0, 482685, 0, -30, 3946515]}, {'id': 'B7', 'data_type': {'type': 'PixelType', 'precision': 'int', 'min': -32768, 'max': 32767}, 'dimensions': [7641, 7771], 'crs': 'EPSG:32650', 'crs_transform': [30, 0, 482685, 0, -30, 3946515]}, {'id': 'B10', 'data_type': {'type': 'PixelType', 'precision': 'int', 'min': -32768, 'max': 32767}, 'dimensions': [7641, 7771], 'crs': 'EPSG:32650', 'crs_transform': [30, 0, 482685, 0, -30, 3946515]}, {'id': 'B11', 'data_type': {'type': 'PixelType', 'precision': 'int', 'min': -32768, 'max': 32767}, 'dimensions': [7641, 7771], 'crs': 'EPSG:32650', 'crs_transform': [30, 0, 482685, 0, -30, 3946515]}, {'id': 'sr_aerosol', 'data_type': {'type': 'PixelType', 'precision': 'int', 'min': 0, 'max': 255}, 'dimensions': [7641, 7771], 'crs': 'EPSG:32650', 'crs_transform': [30, 0, 482685, 0, -30, 3946515]}, {'id': 'pixel_qa', 'data_type': {'type': 'PixelType', 'precision': 'int', 'min': 0, 'max': 65535}, 'dimensions': [7641, 7771], 'crs': 'EPSG:32650', 'crs_transform': [30, 0, 482685, 0, -30, 3946515]}, {'id': 'radsat_qa', 'data_type': {'type': 'PixelType', 'precision': 'int', 'min': 0, 'max': 65535}, 'dimensions': [7641, 7771], 'crs': 'EPSG:32650', 'crs_transform': [30, 0, 482685, 0, -30, 3946515]}], 'id': 'LANDSAT/LC08/C01/T1_SR/LC08_121036_20131224', 'version': 1522736602486844, 'properties': {'IMAGE_QUALITY_TIRS': 9, 'CLOUD_COVER': 0.34, 'EARTH_SUN_DISTANCE': 0.983583, 'LANDSAT_ID': 'LC08_L1TP_121036_20131224_20170427_01_T1', 'system:footprint': {'type': 'LinearRing', 'coordinates': [[118.78426593073532, 33.55483928898764], [118.78653903968635, 33.56259238337335], [118.7988718147596, 33.60522294768199], [118.83120252961518, 33.71689915840018], [118.86749832904114, 33.842043400283806], [118.89930205081517, 33.95143931209784], [118.94421365073775, 34.10557519466354], [118.98734454427404, 34.253118349359255], [119.07982422373735, 34.568050694915804], [119.13281156976899, 34.74754077850599], [119.19344614608042, 34.95231139577029], [119.22151034707295, 35.04674752066639], [119.28970346745734, 35.27551324658193], [119.28974637083815, 35.27703556235566], [117.29030314222821, 35.65873648722973], [116.82584717668014, 33.93574011007419], [117.41969999822213, 33.82377354200181], [118.56351035900609, 33.599225133134105], [118.78267467282055, 33.55486222266844], [118.78426593073532, 33.55483928898764]]}, 'CLOUD_COVER_LAND': 0.34, 'GEOMETRIC_RMSE_MODEL': 6.932, 'SR_APP_VERSION': 'LaSRC_1.3.0', 'SATELLITE': 'LANDSAT_8', 'SOLAR_AZIMUTH_ANGLE': 158.239334, 'IMAGE_QUALITY_OLI': 9, 'WRS_PATH': 121, 'system:time_start': 1387853052150, 'SENSING_TIME': '2013-12-24T02:44:12.1530330Z', 'ESPA_VERSION': '2_23_0_1a', 'SOLAR_ZENITH_ANGLE': 61.278564, 'WRS_ROW': 36, 'GEOMETRIC_RMSE_MODEL_Y': 5.071, 'LEVEL1_PRODUCTION_DATE': 1493310939000, 'GEOMETRIC_RMSE_MODEL_X': 4.726, 'system:asset_size': 600346802, 'PIXEL_QA_VERSION': 'generate_pixel_qa_1.6.0', 'system:index': 'LC08_121036_20131224'}}, {'type': 'Image', 'bands': [{'id': 'B1', 'data_type': {'type': 'PixelType', 'precision': 'int', 'min': -32768, 'max': 32767}, 'dimensions': [7641, 7771], 'crs': 'EPSG:32650', 'crs_transform': [30, 0, 482985, 0, -30, 3946515]}, {'id': 'B2', 'data_type': {'type': 'PixelType', 'precision': 'int', 'min': -32768, 'max': 32767}, 'dimensions': [7641, 7771], 'crs': 'EPSG:32650', 'crs_transform': [30, 0, 482985, 0, -30, 3946515]}, {'id': 'B3', 'data_type': {'type': 'PixelType', 'precision': 'int', 'min': -32768, 'max': 32767}, 'dimensions': [7641, 7771], 'crs': 'EPSG:32650', 'crs_transform': [30, 0, 482985, 0, -30, 3946515]}, {'id': 'B4', 'data_type': {'type': 'PixelType', 'precision': 'int', 'min': -32768, 'max': 32767}, 'dimensions': [7641, 7771], 'crs': 'EPSG:32650', 'crs_transform': [30, 0, 482985, 0, -30, 3946515]}, {'id': 'B5', 'data_type': {'type': 'PixelType', 'precision': 'int', 'min': -32768, 'max': 32767}, 'dimensions': [7641, 7771], 'crs': 'EPSG:32650', 'crs_transform': [30, 0, 482985, 0, -30, 3946515]}, {'id': 'B6', 'data_type': {'type': 'PixelType', 'precision': 'int', 'min': -32768, 'max': 32767}, 'dimensions': [7641, 7771], 'crs': 'EPSG:32650', 'crs_transform': [30, 0, 482985, 0, -30, 3946515]}, {'id': 'B7', 'data_type': {'type': 'PixelType', 'precision': 'int', 'min': -32768, 'max': 32767}, 'dimensions': [7641, 7771], 'crs': 'EPSG:32650', 'crs_transform': [30, 0, 482985, 0, -30, 3946515]}, {'id': 'B10', 'data_type': {'type': 'PixelType', 'precision': 'int', 'min': -32768, 'max': 32767}, 'dimensions': [7641, 7771], 'crs': 'EPSG:32650', 'crs_transform': [30, 0, 482985, 0, -30, 3946515]}, {'id': 'B11', 'data_type': {'type': 'PixelType', 'precision': 'int', 'min': -32768, 'max': 32767}, 'dimensions': [7641, 7771], 'crs': 'EPSG:32650', 'crs_transform': [30, 0, 482985, 0, -30, 3946515]}, {'id': 'sr_aerosol', 'data_type': {'type': 'PixelType', 'precision': 'int', 'min': 0, 'max': 255}, 'dimensions': [7641, 7771], 'crs': 'EPSG:32650', 'crs_transform': [30, 0, 482985, 0, -30, 3946515]}, {'id': 'pixel_qa', 'data_type': {'type': 'PixelType', 'precision': 'int', 'min': 0, 'max': 65535}, 'dimensions': [7641, 7771], 'crs': 'EPSG:32650', 'crs_transform': [30, 0, 482985, 0, -30, 3946515]}, {'id': 'radsat_qa', 'data_type': {'type': 'PixelType', 'precision': 'int', 'min': 0, 'max': 65535}, 'dimensions': [7641, 7771], 'crs': 'EPSG:32650', 'crs_transform': [30, 0, 482985, 0, -30, 3946515]}], 'id': 'LANDSAT/LC08/C01/T1_SR/LC08_121036_20140125', 'version': 1522736603657748, 'properties': {'IMAGE_QUALITY_TIRS': 9, 'CLOUD_COVER': 0.17, 'EARTH_SUN_DISTANCE': 0.984482, 'LANDSAT_ID': 'LC08_L1TP_121036_20140125_20170426_01_T1', 'system:footprint': {'type': 'LinearRing', 'coordinates': [[117.293851452032, 35.65893481086432], [117.293246319074, 35.65844391228027], [116.82951962682787, 33.937220749130475], [116.82952286283543, 33.9356055209457], [118.78532898386726, 33.55509449183094], [118.78666283732066, 33.555075255662054], [118.82902039686998, 33.70155468510309], [118.87718884522349, 33.86775485164975], [118.92851204216548, 34.04414724924897], [118.96662815787472, 34.17473735010473], [119.06249452196, 34.501806614965325], [119.09749792879003, 34.62076165054709], [119.14913258589438, 34.79566734524116], [119.22605808216107, 35.05500685925095], [119.29224538267913, 35.27717208273634], [119.29158030145962, 35.27774331398701], [119.00891461896687, 35.3339026919854], [118.39442181586396, 35.4534512450048], [117.53806431268018, 35.614295789731585], [117.293851452032, 35.65893481086432]]}, 'CLOUD_COVER_LAND': 0.16, 'GEOMETRIC_RMSE_MODEL': 6.567, 'SR_APP_VERSION': 'LaSRC_1.3.0', 'SATELLITE': 'LANDSAT_8', 'SOLAR_AZIMUTH_ANGLE': 153.102325, 'IMAGE_QUALITY_OLI': 9, 'WRS_PATH': 121, 'system:time_start': 1390617832580, 'SENSING_TIME': '2014-01-25T02:43:52.5811130Z', 'ESPA_VERSION': '2_23_0_1a', 'SOLAR_ZENITH_ANGLE': 58.276871, 'WRS_ROW': 36, 'GEOMETRIC_RMSE_MODEL_Y': 4.851, 'LEVEL1_PRODUCTION_DATE': 1493211808000, 'GEOMETRIC_RMSE_MODEL_X': 4.427, 'system:asset_size': 609985514, 'PIXEL_QA_VERSION': 'generate_pixel_qa_1.6.0', 'system:index': 'LC08_121036_20140125'}}, {'type': 'Image', 'bands': [{'id': 'B1', 'data_type': {'type': 'PixelType', 'precision': 'int', 'min': -32768, 'max': 32767}, 'dimensions': [7631, 7771], 'crs': 'EPSG:32650', 'crs_transform': [30, 0, 483585, 0, -30, 3946515]}, {'id': 'B2', 'data_type': {'type': 'PixelType', 'precision': 'int', 'min': -32768, 'max': 32767}, 'dimensions': [7631, 7771], 'crs': 'EPSG:32650', 'crs_transform': [30, 0, 483585, 0, -30, 3946515]}, {'id': 'B3', 'data_type': {'type': 'PixelType', 'precision': 'int', 'min': -32768, 'max': 32767}, 'dimensions': [7631, 7771], 'crs': 'EPSG:32650', 'crs_transform': [30, 0, 483585, 0, -30, 3946515]}, {'id': 'B4', 'data_type': {'type': 'PixelType', 'precision': 'int', 'min': -32768, 'max': 32767}, 'dimensions': [7631, 7771], 'crs': 'EPSG:32650', 'crs_transform': [30, 0, 483585, 0, -30, 3946515]}, {'id': 'B5', 'data_type': {'type': 'PixelType', 'precision': 'int', 'min': -32768, 'max': 32767}, 'dimensions': [7631, 7771], 'crs': 'EPSG:32650', 'crs_transform': [30, 0, 483585, 0, -30, 3946515]}, {'id': 'B6', 'data_type': {'type': 'PixelType', 'precision': 'int', 'min': -32768, 'max': 32767}, 'dimensions': [7631, 7771], 'crs': 'EPSG:32650', 'crs_transform': [30, 0, 483585, 0, -30, 3946515]}, {'id': 'B7', 'data_type': {'type': 'PixelType', 'precision': 'int', 'min': -32768, 'max': 32767}, 'dimensions': [7631, 7771], 'crs': 'EPSG:32650', 'crs_transform': [30, 0, 483585, 0, -30, 3946515]}, {'id': 'B10', 'data_type': {'type': 'PixelType', 'precision': 'int', 'min': -32768, 'max': 32767}, 'dimensions': [7631, 7771], 'crs': 'EPSG:32650', 'crs_transform': [30, 0, 483585, 0, -30, 3946515]}, {'id': 'B11', 'data_type': {'type': 'PixelType', 'precision': 'int', 'min': -32768, 'max': 32767}, 'dimensions': [7631, 7771], 'crs': 'EPSG:32650', 'crs_transform': [30, 0, 483585, 0, -30, 3946515]}, {'id': 'sr_aerosol', 'data_type': {'type': 'PixelType', 'precision': 'int', 'min': 0, 'max': 255}, 'dimensions': [7631, 7771], 'crs': 'EPSG:32650', 'crs_transform': [30, 0, 483585, 0, -30, 3946515]}, {'id': 'pixel_qa', 'data_type': {'type': 'PixelType', 'precision': 'int', 'min': 0, 'max': 65535}, 'dimensions': [7631, 7771], 'crs': 'EPSG:32650', 'crs_transform': [30, 0, 483585, 0, -30, 3946515]}, {'id': 'radsat_qa', 'data_type': {'type': 'PixelType', 'precision': 'int', 'min': 0, 'max': 65535}, 'dimensions': [7631, 7771], 'crs': 'EPSG:32650', 'crs_transform': [30, 0, 483585, 0, -30, 3946515]}], 'id': 'LANDSAT/LC08/C01/T1_SR/LC08_121036_20140210', 'version': 1522736604117212, 'properties': {'IMAGE_QUALITY_TIRS': 9, 'CLOUD_COVER': 9.21, 'EARTH_SUN_DISTANCE': 0.986746, 'LANDSAT_ID': 'LC08_L1TP_121036_20140210_20170426_01_T1', 'system:footprint': {'type': 'LinearRing', 'coordinates': [[117.30033129139743, 35.65833063150943], [117.29885191295809, 35.658334333548375], [116.83463326772554, 33.935015432051955], [117.54630927165321, 33.800549681307466], [118.28598472654835, 33.65599203316785], [118.78961589805292, 33.554762055635734], [118.79114483351398, 33.554739966279996], [118.80632106493435, 33.607264612369846], [118.86622009364504, 33.81416879956608], [118.94504986432929, 34.0852741177772], [118.97649184309161, 34.192972809980596], [119.04177770254456, 34.415869972158525], [119.0713536310251, 34.51653311912534], [119.10330652131194, 34.62505266267487], [119.13480652718431, 34.73181655403206], [119.22105859008457, 35.02304111306598], [119.29681373534163, 35.27743977690375], [119.28409374340254, 35.28001183381028], [118.52881433643381, 35.4282927727155], [117.49946993851195, 35.621979122883374], [117.30033129139743, 35.65833063150943]]}, 'CLOUD_COVER_LAND': 9.2, 'GEOMETRIC_RMSE_MODEL': 8.247, 'SR_APP_VERSION': 'LaSRC_1.3.0', 'SATELLITE': 'LANDSAT_8', 'SOLAR_AZIMUTH_ANGLE': 150.275238, 'IMAGE_QUALITY_OLI': 9, 'WRS_PATH': 121, 'system:time_start': 1392000220220, 'SENSING_TIME': '2014-02-10T02:43:40.2244360Z', 'ESPA_VERSION': '2_23_0_1a', 'SOLAR_ZENITH_ANGLE': 54.290508, 'WRS_ROW': 36, 'GEOMETRIC_RMSE_MODEL_Y': 6.146, 'LEVEL1_PRODUCTION_DATE': 1493166217000, 'GEOMETRIC_RMSE_MODEL_X': 5.499, 'system:asset_size': 690719661, 'PIXEL_QA_VERSION': 'generate_pixel_qa_1.6.0', 'system:index': 'LC08_121036_20140210'}}, {'type': 'Image', 'bands': [{'id': 'B1', 'data_type': {'type': 'PixelType', 'precision': 'int', 'min': -32768, 'max': 32767}, 'dimensions': [7631, 7771], 'crs': 'EPSG:32650', 'crs_transform': [30, 0, 482685, 0, -30, 3946515]}, {'id': 'B2', 'data_type': {'type': 'PixelType', 'precision': 'int', 'min': -32768, 'max': 32767}, 'dimensions': [7631, 7771], 'crs': 'EPSG:32650', 'crs_transform': [30, 0, 482685, 0, -30, 3946515]}, {'id': 'B3', 'data_type': {'type': 'PixelType', 'precision': 'int', 'min': -32768, 'max': 32767}, 'dimensions': [7631, 7771], 'crs': 'EPSG:32650', 'crs_transform': [30, 0, 482685, 0, -30, 3946515]}, {'id': 'B4', 'data_type': {'type': 'PixelType', 'precision': 'int', 'min': -32768, 'max': 32767}, 'dimensions': [7631, 7771], 'crs': 'EPSG:32650', 'crs_transform': [30, 0, 482685, 0, -30, 3946515]}, {'id': 'B5', 'data_type': {'type': 'PixelType', 'precision': 'int', 'min': -32768, 'max': 32767}, 'dimensions': [7631, 7771], 'crs': 'EPSG:32650', 'crs_transform': [30, 0, 482685, 0, -30, 3946515]}, {'id': 'B6', 'data_type': {'type': 'PixelType', 'precision': 'int', 'min': -32768, 'max': 32767}, 'dimensions': [7631, 7771], 'crs': 'EPSG:32650', 'crs_transform': [30, 0, 482685, 0, -30, 3946515]}, {'id': 'B7', 'data_type': {'type': 'PixelType', 'precision': 'int', 'min': -32768, 'max': 32767}, 'dimensions': [7631, 7771], 'crs': 'EPSG:32650', 'crs_transform': [30, 0, 482685, 0, -30, 3946515]}, {'id': 'B10', 'data_type': {'type': 'PixelType', 'precision': 'int', 'min': -32768, 'max': 32767}, 'dimensions': [7631, 7771], 'crs': 'EPSG:32650', 'crs_transform': [30, 0, 482685, 0, -30, 3946515]}, {'id': 'B11', 'data_type': {'type': 'PixelType', 'precision': 'int', 'min': -32768, 'max': 32767}, 'dimensions': [7631, 7771], 'crs': 'EPSG:32650', 'crs_transform': [30, 0, 482685, 0, -30, 3946515]}, {'id': 'sr_aerosol', 'data_type': {'type': 'PixelType', 'precision': 'int', 'min': 0, 'max': 255}, 'dimensions': [7631, 7771], 'crs': 'EPSG:32650', 'crs_transform': [30, 0, 482685, 0, -30, 3946515]}, {'id': 'pixel_qa', 'data_type': {'type': 'PixelType', 'precision': 'int', 'min': 0, 'max': 65535}, 'dimensions': [7631, 7771], 'crs': 'EPSG:32650', 'crs_transform': [30, 0, 482685, 0, -30, 3946515]}, {'id': 'radsat_qa', 'data_type': {'type': 'PixelType', 'precision': 'int', 'min': 0, 'max': 65535}, 'dimensions': [7631, 7771], 'crs': 'EPSG:32650', 'crs_transform': [30, 0, 482685, 0, -30, 3946515]}], 'id': 'LANDSAT/LC08/C01/T1_SR/LC08_121036_20140314', 'version': 1522736604958714, 'properties': {'IMAGE_QUALITY_TIRS': 9, 'CLOUD_COVER': 0.81, 'EARTH_SUN_DISTANCE': 0.994093, 'LANDSAT_ID': 'LC08_L1TP_121036_20140314_20170425_01_T1', 'system:footprint': {'type': 'LinearRing', 'coordinates': [[119.06118789012172, 34.5150822474627], [119.08296513493072, 34.58909449693201], [119.14669266899908, 34.80504487441592], [119.17510634856508, 34.90110866793546], [119.2301876472638, 35.08672614535742], [119.28696258936074, 35.27739205110063], [118.31168464624656, 35.46790271212598], [117.29035991639809, 35.65808457632126], [117.28879202854381, 35.658088416619066], [116.82480678020495, 33.93479985140202], [118.63853922696441, 33.58337415861013], [118.78148691093408, 33.55442810106938], [118.79135631493278, 33.58855870369889], [118.81278730816867, 33.662746362308646], [118.84641660348036, 33.77894769127504], [118.89691165936134, 33.95293562665556], [118.93176124681067, 34.07277009363759], [119.02877961612032, 34.404725796170176], [119.06118789012172, 34.5150822474627]]}, 'CLOUD_COVER_LAND': 0.81, 'GEOMETRIC_RMSE_MODEL': 6.744, 'SR_APP_VERSION': 'LaSRC_1.3.0', 'SATELLITE': 'LANDSAT_8', 'SOLAR_AZIMUTH_ANGLE': 144.53154, 'IMAGE_QUALITY_OLI': 9, 'WRS_PATH': 121, 'system:time_start': 1394764996400, 'SENSING_TIME': '2014-03-14T02:43:16.4006660Z', 'ESPA_VERSION': '2_23_0_1a', 'SOLAR_ZENITH_ANGLE': 43.243332, 'WRS_ROW': 36, 'GEOMETRIC_RMSE_MODEL_Y': 4.689, 'LEVEL1_PRODUCTION_DATE': 1493097113000, 'GEOMETRIC_RMSE_MODEL_X': 4.847, 'system:asset_size': 644405915, 'PIXEL_QA_VERSION': 'generate_pixel_qa_1.6.0', 'system:index': 'LC08_121036_20140314'}}, {'type': 'Image', 'bands': [{'id': 'B1', 'data_type': {'type': 'PixelType', 'precision': 'int', 'min': -32768, 'max': 32767}, 'dimensions': [7641, 7771], 'crs': 'EPSG:32650', 'crs_transform': [30, 0, 482685, 0, -30, 3946515]}, {'id': 'B2', 'data_type': {'type': 'PixelType', 'precision': 'int', 'min': -32768, 'max': 32767}, 'dimensions': [7641, 7771], 'crs': 'EPSG:32650', 'crs_transform': [30, 0, 482685, 0, -30, 3946515]}, {'id': 'B3', 'data_type': {'type': 'PixelType', 'precision': 'int', 'min': -32768, 'max': 32767}, 'dimensions': [7641, 7771], 'crs': 'EPSG:32650', 'crs_transform': [30, 0, 482685, 0, -30, 3946515]}, {'id': 'B4', 'data_type': {'type': 'PixelType', 'precision': 'int', 'min': -32768, 'max': 32767}, 'dimensions': [7641, 7771], 'crs': 'EPSG:32650', 'crs_transform': [30, 0, 482685, 0, -30, 3946515]}, {'id': 'B5', 'data_type': {'type': 'PixelType', 'precision': 'int', 'min': -32768, 'max': 32767}, 'dimensions': [7641, 7771], 'crs': 'EPSG:32650', 'crs_transform': [30, 0, 482685, 0, -30, 3946515]}, {'id': 'B6', 'data_type': {'type': 'PixelType', 'precision': 'int', 'min': -32768, 'max': 32767}, 'dimensions': [7641, 7771], 'crs': 'EPSG:32650', 'crs_transform': [30, 0, 482685, 0, -30, 3946515]}, {'id': 'B7', 'data_type': {'type': 'PixelType', 'precision': 'int', 'min': -32768, 'max': 32767}, 'dimensions': [7641, 7771], 'crs': 'EPSG:32650', 'crs_transform': [30, 0, 482685, 0, -30, 3946515]}, {'id': 'B10', 'data_type': {'type': 'PixelType', 'precision': 'int', 'min': -32768, 'max': 32767}, 'dimensions': [7641, 7771], 'crs': 'EPSG:32650', 'crs_transform': [30, 0, 482685, 0, -30, 3946515]}, {'id': 'B11', 'data_type': {'type': 'PixelType', 'precision': 'int', 'min': -32768, 'max': 32767}, 'dimensions': [7641, 7771], 'crs': 'EPSG:32650', 'crs_transform': [30, 0, 482685, 0, -30, 3946515]}, {'id': 'sr_aerosol', 'data_type': {'type': 'PixelType', 'precision': 'int', 'min': 0, 'max': 255}, 'dimensions': [7641, 7771], 'crs': 'EPSG:32650', 'crs_transform': [30, 0, 482685, 0, -30, 3946515]}, {'id': 'pixel_qa', 'data_type': {'type': 'PixelType', 'precision': 'int', 'min': 0, 'max': 65535}, 'dimensions': [7641, 7771], 'crs': 'EPSG:32650', 'crs_transform': [30, 0, 482685, 0, -30, 3946515]}, {'id': 'radsat_qa', 'data_type': {'type': 'PixelType', 'precision': 'int', 'min': 0, 'max': 65535}, 'dimensions': [7641, 7771], 'crs': 'EPSG:32650', 'crs_transform': [30, 0, 482685, 0, -30, 3946515]}], 'id': 'LANDSAT/LC08/C01/T1_SR/LC08_121036_20140501', 'version': 1522736607209429, 'properties': {'IMAGE_QUALITY_TIRS': 9, 'CLOUD_COVER': 1.49, 'EARTH_SUN_DISTANCE': 1.007506, 'LANDSAT_ID': 'LC08_L1TP_121036_20140501_20170423_01_T1', 'system:footprint': {'type': 'LinearRing', 'coordinates': [[118.78394842749717, 33.55511440512412], [118.78673958824795, 33.56463411460265], [118.8277775910577, 33.7067116743893], [118.8487159320323, 33.77905181644604], [118.90797814328727, 33.983332413399076], [118.96122258430125, 34.166167905866665], [118.9888253597823, 34.2606683028673], [119.04251305513847, 34.44408489771366], [119.11712429991458, 34.69777767615337], [119.17773591067, 34.90289919328911], [119.22157322401705, 35.05075851990656], [119.2440341183445, 35.12634102646364], [119.28896861216705, 35.27735926189391], [119.28770853517182, 35.27790606283754], [118.65418985611092, 35.40256842630885], [117.28995738449498, 35.65855581934913], [116.82627307800254, 33.93516493192352], [117.47734259798997, 33.81247043321764], [118.16173997373194, 33.67940819605252], [118.78226991872091, 33.555138582265585], [118.78394842749717, 33.55511440512412]]}, 'CLOUD_COVER_LAND': 1.49, 'GEOMETRIC_RMSE_MODEL': 7.434, 'SR_APP_VERSION': 'LaSRC_1.3.0', 'SATELLITE': 'LANDSAT_8', 'SOLAR_AZIMUTH_ANGLE': 131.459534, 'IMAGE_QUALITY_OLI': 9, 'WRS_PATH': 121, 'system:time_start': 1398912149410, 'SENSING_TIME': '2014-05-01T02:42:29.4140160Z', 'ESPA_VERSION': '2_23_0_1a', 'SOLAR_ZENITH_ANGLE': 26.966499, 'WRS_ROW': 36, 'GEOMETRIC_RMSE_MODEL_Y': 5.048, 'LEVEL1_PRODUCTION_DATE': 1492919277000, 'GEOMETRIC_RMSE_MODEL_X': 5.458, 'system:asset_size': 642176775, 'PIXEL_QA_VERSION': 'generate_pixel_qa_1.6.0', 'system:index': 'LC08_121036_20140501'}}, {'type': 'Image', 'bands': [{'id': 'B1', 'data_type': {'type': 'PixelType', 'precision': 'int', 'min': -32768, 'max': 32767}, 'dimensions': [7641, 7771], 'crs': 'EPSG:32650', 'crs_transform': [30, 0, 487185, 0, -30, 3946515]}, {'id': 'B2', 'data_type': {'type': 'PixelType', 'precision': 'int', 'min': -32768, 'max': 32767}, 'dimensions': [7641, 7771], 'crs': 'EPSG:32650', 'crs_transform': [30, 0, 487185, 0, -30, 3946515]}, {'id': 'B3', 'data_type': {'type': 'PixelType', 'precision': 'int', 'min': -32768, 'max': 32767}, 'dimensions': [7641, 7771], 'crs': 'EPSG:32650', 'crs_transform': [30, 0, 487185, 0, -30, 3946515]}, {'id': 'B4', 'data_type': {'type': 'PixelType', 'precision': 'int', 'min': -32768, 'max': 32767}, 'dimensions': [7641, 7771], 'crs': 'EPSG:32650', 'crs_transform': [30, 0, 487185, 0, -30, 3946515]}, {'id': 'B5', 'data_type': {'type': 'PixelType', 'precision': 'int', 'min': -32768, 'max': 32767}, 'dimensions': [7641, 7771], 'crs': 'EPSG:32650', 'crs_transform': [30, 0, 487185, 0, -30, 3946515]}, {'id': 'B6', 'data_type': {'type': 'PixelType', 'precision': 'int', 'min': -32768, 'max': 32767}, 'dimensions': [7641, 7771], 'crs': 'EPSG:32650', 'crs_transform': [30, 0, 487185, 0, -30, 3946515]}, {'id': 'B7', 'data_type': {'type': 'PixelType', 'precision': 'int', 'min': -32768, 'max': 32767}, 'dimensions': [7641, 7771], 'crs': 'EPSG:32650', 'crs_transform': [30, 0, 487185, 0, -30, 3946515]}, {'id': 'B10', 'data_type': {'type': 'PixelType', 'precision': 'int', 'min': -32768, 'max': 32767}, 'dimensions': [7641, 7771], 'crs': 'EPSG:32650', 'crs_transform': [30, 0, 487185, 0, -30, 3946515]}, {'id': 'B11', 'data_type': {'type': 'PixelType', 'precision': 'int', 'min': -32768, 'max': 32767}, 'dimensions': [7641, 7771], 'crs': 'EPSG:32650', 'crs_transform': [30, 0, 487185, 0, -30, 3946515]}, {'id': 'sr_aerosol', 'data_type': {'type': 'PixelType', 'precision': 'int', 'min': 0, 'max': 255}, 'dimensions': [7641, 7771], 'crs': 'EPSG:32650', 'crs_transform': [30, 0, 487185, 0, -30, 3946515]}, {'id': 'pixel_qa', 'data_type': {'type': 'PixelType', 'precision': 'int', 'min': 0, 'max': 65535}, 'dimensions': [7641, 7771], 'crs': 'EPSG:32650', 'crs_transform': [30, 0, 487185, 0, -30, 3946515]}, {'id': 'radsat_qa', 'data_type': {'type': 'PixelType', 'precision': 'int', 'min': 0, 'max': 65535}, 'dimensions': [7641, 7771], 'crs': 'EPSG:32650', 'crs_transform': [30, 0, 487185, 0, -30, 3946515]}], 'id': 'LANDSAT/LC08/C01/T1_SR/LC08_121036_20140922', 'version': 1522736613915980.0, 'properties': {'IMAGE_QUALITY_TIRS': 9, 'CLOUD_COVER': 2.78, 'EARTH_SUN_DISTANCE': 1.003859, 'LANDSAT_ID': 'LC08_L1TP_121036_20140922_20170419_01_T1', 'system:footprint': {'type': 'LinearRing', 'coordinates': [[117.10175256222688, 33.89317144172206], [118.5082534855794, 33.61939069466952], [118.83099136827191, 33.55406984720805], [118.83170149163078, 33.55464373614666], [118.86599635693386, 33.6729143261214], [118.9521966766933, 33.969336330481504], [119.00694065996501, 34.1565863600541], [119.07540558771146, 34.389878094751964], [119.1125090175495, 34.515828057233385], [119.15691363328676, 34.66624606652237], [119.17930296303298, 34.74191231139117], [119.24633395037752, 34.967722137131354], [119.28187933185458, 35.087053333860126], [119.33817829495551, 35.275411731950754], [119.33821622185548, 35.27673010904751], [119.32489556983309, 35.279428441191186], [118.14398580632668, 35.50964043526491], [117.409611029607, 35.64637103997354], [117.3404548951884, 35.65898706256898], [116.87483338398283, 33.935684452458815], [117.10175256222688, 33.89317144172206]]}, 'CLOUD_COVER_LAND': 2.74, 'GEOMETRIC_RMSE_MODEL': 8.203, 'SR_APP_VERSION': 'LaSRC_1.3.0', 'SATELLITE': 'LANDSAT_8', 'SOLAR_AZIMUTH_ANGLE': 147.941132, 'IMAGE_QUALITY_OLI': 9, 'WRS_PATH': 121, 'system:time_start': 1411353771070, 'SENSING_TIME': '2014-09-22T02:42:51.0686360Z', 'ESPA_VERSION': '2_23_0_1a', 'SOLAR_ZENITH_ANGLE': 38.72884, 'WRS_ROW': 36, 'GEOMETRIC_RMSE_MODEL_Y': 5.86, 'LEVEL1_PRODUCTION_DATE': 1492574835000, 'GEOMETRIC_RMSE_MODEL_X': 5.739, 'system:asset_size': 641567695, 'PIXEL_QA_VERSION': 'generate_pixel_qa_1.6.0', 'system:index': 'LC08_121036_20140922'}}, {'type': 'Image', 'bands': [{'id': 'B1', 'data_type': {'type': 'PixelType', 'precision': 'int', 'min': -32768, 'max': 32767}, 'dimensions': [7631, 7771], 'crs': 'EPSG:32650', 'crs_transform': [30, 0, 485685, 0, -30, 3946515]}, {'id': 'B2', 'data_type': {'type': 'PixelType', 'precision': 'int', 'min': -32768, 'max': 32767}, 'dimensions': [7631, 7771], 'crs': 'EPSG:32650', 'crs_transform': [30, 0, 485685, 0, -30, 3946515]}, {'id': 'B3', 'data_type': {'type': 'PixelType', 'precision': 'int', 'min': -32768, 'max': 32767}, 'dimensions': [7631, 7771], 'crs': 'EPSG:32650', 'crs_transform': [30, 0, 485685, 0, -30, 3946515]}, {'id': 'B4', 'data_type': {'type': 'PixelType', 'precision': 'int', 'min': -32768, 'max': 32767}, 'dimensions': [7631, 7771], 'crs': 'EPSG:32650', 'crs_transform': [30, 0, 485685, 0, -30, 3946515]}, {'id': 'B5', 'data_type': {'type': 'PixelType', 'precision': 'int', 'min': -32768, 'max': 32767}, 'dimensions': [7631, 7771], 'crs': 'EPSG:32650', 'crs_transform': [30, 0, 485685, 0, -30, 3946515]}, {'id': 'B6', 'data_type': {'type': 'PixelType', 'precision': 'int', 'min': -32768, 'max': 32767}, 'dimensions': [7631, 7771], 'crs': 'EPSG:32650', 'crs_transform': [30, 0, 485685, 0, -30, 3946515]}, {'id': 'B7', 'data_type': {'type': 'PixelType', 'precision': 'int', 'min': -32768, 'max': 32767}, 'dimensions': [7631, 7771], 'crs': 'EPSG:32650', 'crs_transform': [30, 0, 485685, 0, -30, 3946515]}, {'id': 'B10', 'data_type': {'type': 'PixelType', 'precision': 'int', 'min': -32768, 'max': 32767}, 'dimensions': [7631, 7771], 'crs': 'EPSG:32650', 'crs_transform': [30, 0, 485685, 0, -30, 3946515]}, {'id': 'B11', 'data_type': {'type': 'PixelType', 'precision': 'int', 'min': -32768, 'max': 32767}, 'dimensions': [7631, 7771], 'crs': 'EPSG:32650', 'crs_transform': [30, 0, 485685, 0, -30, 3946515]}, {'id': 'sr_aerosol', 'data_type': {'type': 'PixelType', 'precision': 'int', 'min': 0, 'max': 255}, 'dimensions': [7631, 7771], 'crs': 'EPSG:32650', 'crs_transform': [30, 0, 485685, 0, -30, 3946515]}, {'id': 'pixel_qa', 'data_type': {'type': 'PixelType', 'precision': 'int', 'min': 0, 'max': 65535}, 'dimensions': [7631, 7771], 'crs': 'EPSG:32650', 'crs_transform': [30, 0, 485685, 0, -30, 3946515]}, {'id': 'radsat_qa', 'data_type': {'type': 'PixelType', 'precision': 'int', 'min': 0, 'max': 65535}, 'dimensions': [7631, 7771], 'crs': 'EPSG:32650', 'crs_transform': [30, 0, 485685, 0, -30, 3946515]}], 'id': 'LANDSAT/LC08/C01/T1_SR/LC08_121036_20141008', 'version': 1582194175460249, 'properties': {'IMAGE_QUALITY_TIRS': 9, 'CLOUD_COVER': 6.85, 'EARTH_SUN_DISTANCE': 0.999253, 'LANDSAT_ID': 'LC08_L1TP_121036_20141008_20170418_01_T1', 'system:footprint': {'type': 'LinearRing', 'coordinates': [[117.32312506789113, 35.65854213865547], [117.32117048261233, 35.65854733822427], [116.85613838334335, 33.93725479676898], [116.85614116956376, 33.93563258213776], [116.86516842520659, 33.93393326677466], [117.41551566299667, 33.83001093040015], [118.68308679948535, 33.58034130148744], [118.81281576268195, 33.55398092550203], [118.82373587042855, 33.59165271174646], [118.86637671804188, 33.73871931582329], [118.8955900274316, 33.839214329620454], [118.97393191130938, 34.10781754499996], [119.00647618489232, 34.218970889193905], [119.04401597983404, 34.34685798923809], [119.0849711334618, 34.486007440597724], [119.1371839900869, 34.66280698784543], [119.1626657374227, 34.74890733962137], [119.19608425692974, 34.86161158631197], [119.249332359479, 35.040625688671135], [119.31980980546483, 35.27658375884225], [117.32312506789113, 35.65854213865547]]}, 'CLOUD_COVER_LAND': 6.86, 'GEOMETRIC_RMSE_MODEL': 8.136, 'SR_APP_VERSION': 'LaSRC_1.3.0', 'SATELLITE': 'LANDSAT_8', 'SOLAR_AZIMUTH_ANGLE': 153.533997, 'IMAGE_QUALITY_OLI': 9, 'system:time_end': 1412736176940, 'WRS_PATH': 121, 'system:time_start': 1412736176940, 'SENSING_TIME': '2014-10-08T02:42:56.9404220Z', 'ESPA_VERSION': '2_23_0_1b', 'SOLAR_ZENITH_ANGLE': 43.879345, 'WRS_ROW': 36, 'GEOMETRIC_RMSE_MODEL_Y': 5.819, 'LEVEL1_PRODUCTION_DATE': 1492535423000, 'GEOMETRIC_RMSE_MODEL_X': 5.686, 'system:asset_size': 679004430, 'PIXEL_QA_VERSION': 'generate_pixel_qa_1.6.0', 'system:index': 'LC08_121036_20141008'}}, {'type': 'Image', 'bands': [{'id': 'B1', 'data_type': {'type': 'PixelType', 'precision': 'int', 'min': -32768, 'max': 32767}, 'dimensions': [7641, 7771], 'crs': 'EPSG:32650', 'crs_transform': [30, 0, 485085, 0, -30, 3946515]}, {'id': 'B2', 'data_type': {'type': 'PixelType', 'precision': 'int', 'min': -32768, 'max': 32767}, 'dimensions': [7641, 7771], 'crs': 'EPSG:32650', 'crs_transform': [30, 0, 485085, 0, -30, 3946515]}, {'id': 'B3', 'data_type': {'type': 'PixelType', 'precision': 'int', 'min': -32768, 'max': 32767}, 'dimensions': [7641, 7771], 'crs': 'EPSG:32650', 'crs_transform': [30, 0, 485085, 0, -30, 3946515]}, {'id': 'B4', 'data_type': {'type': 'PixelType', 'precision': 'int', 'min': -32768, 'max': 32767}, 'dimensions': [7641, 7771], 'crs': 'EPSG:32650', 'crs_transform': [30, 0, 485085, 0, -30, 3946515]}, {'id': 'B5', 'data_type': {'type': 'PixelType', 'precision': 'int', 'min': -32768, 'max': 32767}, 'dimensions': [7641, 7771], 'crs': 'EPSG:32650', 'crs_transform': [30, 0, 485085, 0, -30, 3946515]}, {'id': 'B6', 'data_type': {'type': 'PixelType', 'precision': 'int', 'min': -32768, 'max': 32767}, 'dimensions': [7641, 7771], 'crs': 'EPSG:32650', 'crs_transform': [30, 0, 485085, 0, -30, 3946515]}, {'id': 'B7', 'data_type': {'type': 'PixelType', 'precision': 'int', 'min': -32768, 'max': 32767}, 'dimensions': [7641, 7771], 'crs': 'EPSG:32650', 'crs_transform': [30, 0, 485085, 0, -30, 3946515]}, {'id': 'B10', 'data_type': {'type': 'PixelType', 'precision': 'int', 'min': -32768, 'max': 32767}, 'dimensions': [7641, 7771], 'crs': 'EPSG:32650', 'crs_transform': [30, 0, 485085, 0, -30, 3946515]}, {'id': 'B11', 'data_type': {'type': 'PixelType', 'precision': 'int', 'min': -32768, 'max': 32767}, 'dimensions': [7641, 7771], 'crs': 'EPSG:32650', 'crs_transform': [30, 0, 485085, 0, -30, 3946515]}, {'id': 'sr_aerosol', 'data_type': {'type': 'PixelType', 'precision': 'int', 'min': 0, 'max': 255}, 'dimensions': [7641, 7771], 'crs': 'EPSG:32650', 'crs_transform': [30, 0, 485085, 0, -30, 3946515]}, {'id': 'pixel_qa', 'data_type': {'type': 'PixelType', 'precision': 'int', 'min': 0, 'max': 65535}, 'dimensions': [7641, 7771], 'crs': 'EPSG:32650', 'crs_transform': [30, 0, 485085, 0, -30, 3946515]}, {'id': 'radsat_qa', 'data_type': {'type': 'PixelType', 'precision': 'int', 'min': 0, 'max': 65535}, 'dimensions': [7641, 7771], 'crs': 'EPSG:32650', 'crs_transform': [30, 0, 485085, 0, -30, 3946515]}], 'id': 'LANDSAT/LC08/C01/T1_SR/LC08_121036_20141024', 'version': 1522736615893827, 'properties': {'IMAGE_QUALITY_TIRS': 9, 'CLOUD_COVER': 0.08, 'EARTH_SUN_DISTANCE': 0.9948, 'LANDSAT_ID': 'LC08_L1TP_121036_20141024_20170418_01_T1', 'system:footprint': {'type': 'LinearRing', 'coordinates': [[117.4767843551718, 35.62989434847909], [117.31855755341148, 35.65882481820365], [117.31675313525692, 35.65882954015529], [116.85139240931254, 33.935943349601885], [118.20311630576731, 33.676036119881], [118.80842463711646, 33.55434574726816], [118.81704191232164, 33.584061879106876], [118.86348474154843, 33.74433452003334], [118.89828820297184, 33.8640701110492], [118.96870105860182, 34.105378494244164], [119.02488457501778, 34.29713507267471], [119.04655698730353, 34.37088901672758], [119.12077932985507, 34.62279312955849], [119.16131001942323, 34.75975001375755], [119.20325194583978, 34.90110112598934], [119.24807043880406, 35.05173292826143], [119.31520786448154, 35.2765502325745], [119.31458223758358, 35.27708775998359], [117.92508543655602, 35.546681229871375], [117.4767843551718, 35.62989434847909]]}, 'CLOUD_COVER_LAND': 0.08, 'GEOMETRIC_RMSE_MODEL': 7.594, 'SR_APP_VERSION': 'LaSRC_1.3.0', 'SATELLITE': 'LANDSAT_8', 'SOLAR_AZIMUTH_ANGLE': 157.426773, 'IMAGE_QUALITY_OLI': 9, 'WRS_PATH': 121, 'system:time_start': 1414118578340, 'SENSING_TIME': '2014-10-24T02:42:58.3385820Z', 'ESPA_VERSION': '2_23_0_1a', 'SOLAR_ZENITH_ANGLE': 49.10078, 'WRS_ROW': 36, 'GEOMETRIC_RMSE_MODEL_Y': 5.512, 'LEVEL1_PRODUCTION_DATE': 1492499099000, 'GEOMETRIC_RMSE_MODEL_X': 5.223, 'system:asset_size': 619966322, 'PIXEL_QA_VERSION': 'generate_pixel_qa_1.6.0', 'system:index': 'LC08_121036_20141024'}}, {'type': 'Image', 'bands': [{'id': 'B1', 'data_type': {'type': 'PixelType', 'precision': 'int', 'min': -32768, 'max': 32767}, 'dimensions': [7631, 7771], 'crs': 'EPSG:32650', 'crs_transform': [30, 0, 485385, 0, -30, 3946515]}, {'id': 'B2', 'data_type': {'type': 'PixelType', 'precision': 'int', 'min': -32768, 'max': 32767}, 'dimensions': [7631, 7771], 'crs': 'EPSG:32650', 'crs_transform': [30, 0, 485385, 0, -30, 3946515]}, {'id': 'B3', 'data_type': {'type': 'PixelType', 'precision': 'int', 'min': -32768, 'max': 32767}, 'dimensions': [7631, 7771], 'crs': 'EPSG:32650', 'crs_transform': [30, 0, 485385, 0, -30, 3946515]}, {'id': 'B4', 'data_type': {'type': 'PixelType', 'precision': 'int', 'min': -32768, 'max': 32767}, 'dimensions': [7631, 7771], 'crs': 'EPSG:32650', 'crs_transform': [30, 0, 485385, 0, -30, 3946515]}, {'id': 'B5', 'data_type': {'type': 'PixelType', 'precision': 'int', 'min': -32768, 'max': 32767}, 'dimensions': [7631, 7771], 'crs': 'EPSG:32650', 'crs_transform': [30, 0, 485385, 0, -30, 3946515]}, {'id': 'B6', 'data_type': {'type': 'PixelType', 'precision': 'int', 'min': -32768, 'max': 32767}, 'dimensions': [7631, 7771], 'crs': 'EPSG:32650', 'crs_transform': [30, 0, 485385, 0, -30, 3946515]}, {'id': 'B7', 'data_type': {'type': 'PixelType', 'precision': 'int', 'min': -32768, 'max': 32767}, 'dimensions': [7631, 7771], 'crs': 'EPSG:32650', 'crs_transform': [30, 0, 485385, 0, -30, 3946515]}, {'id': 'B10', 'data_type': {'type': 'PixelType', 'precision': 'int', 'min': -32768, 'max': 32767}, 'dimensions': [7631, 7771], 'crs': 'EPSG:32650', 'crs_transform': [30, 0, 485385, 0, -30, 3946515]}, {'id': 'B11', 'data_type': {'type': 'PixelType', 'precision': 'int', 'min': -32768, 'max': 32767}, 'dimensions': [7631, 7771], 'crs': 'EPSG:32650', 'crs_transform': [30, 0, 485385, 0, -30, 3946515]}, {'id': 'sr_aerosol', 'data_type': {'type': 'PixelType', 'precision': 'int', 'min': 0, 'max': 255}, 'dimensions': [7631, 7771], 'crs': 'EPSG:32650', 'crs_transform': [30, 0, 485385, 0, -30, 3946515]}, {'id': 'pixel_qa', 'data_type': {'type': 'PixelType', 'precision': 'int', 'min': 0, 'max': 65535}, 'dimensions': [7631, 7771], 'crs': 'EPSG:32650', 'crs_transform': [30, 0, 485385, 0, -30, 3946515]}, {'id': 'radsat_qa', 'data_type': {'type': 'PixelType', 'precision': 'int', 'min': 0, 'max': 65535}, 'dimensions': [7631, 7771], 'crs': 'EPSG:32650', 'crs_transform': [30, 0, 485385, 0, -30, 3946515]}], 'id': 'LANDSAT/LC08/C01/T1_SR/LC08_121036_20141227', 'version': 1522736618584899, 'properties': {'IMAGE_QUALITY_TIRS': 9, 'CLOUD_COVER': 0.05, 'EARTH_SUN_DISTANCE': 0.983478, 'LANDSAT_ID': 'LC08_L1TP_121036_20141227_20170415_01_T1', 'system:footprint': {'type': 'LinearRing', 'coordinates': [[118.83189984904214, 33.550098813345244], [118.84586852549815, 33.54728105010927], [118.86135852612358, 33.600716977859214], [118.88827619086581, 33.693514658508256], [118.93768104333822, 33.863423004802556], [118.9918754111965, 34.049220980915614], [119.03873343662902, 34.20926560481867], [119.13063165692975, 34.52173408868504], [119.18584865631989, 34.708464299280266], [119.20419503494291, 34.77039643079699], [119.2576182805564, 34.950296350291914], [119.30403046654442, 35.106013151028264], [119.3530331944404, 35.26982994665382], [119.33981437101151, 35.272509578256354], [119.16202092784435, 35.308002189918795], [117.53337121449593, 35.619648993464175], [117.35549641119248, 35.65221262805617], [116.8897126968209, 33.92897336412371], [118.50238700003405, 33.61675665714599], [118.83189984904214, 33.550098813345244]]}, 'CLOUD_COVER_LAND': 0.05, 'GEOMETRIC_RMSE_MODEL': 7.445, 'SR_APP_VERSION': 'LaSRC_1.3.0', 'SATELLITE': 'LANDSAT_8', 'SOLAR_AZIMUTH_ANGLE': 157.558792, 'IMAGE_QUALITY_OLI': 9, 'WRS_PATH': 121, 'system:time_start': 1419648169970, 'SENSING_TIME': '2014-12-27T02:42:49.9744470Z', 'ESPA_VERSION': '2_23_0_1a', 'SOLAR_ZENITH_ANGLE': 61.405251, 'WRS_ROW': 36, 'GEOMETRIC_RMSE_MODEL_Y': 5.623, 'LEVEL1_PRODUCTION_DATE': 1492297759000, 'GEOMETRIC_RMSE_MODEL_X': 4.879, 'system:asset_size': 617749980, 'PIXEL_QA_VERSION': 'generate_pixel_qa_1.6.0', 'system:index': 'LC08_121036_20141227'}}, {'type': 'Image', 'bands': [{'id': 'B1', 'data_type': {'type': 'PixelType', 'precision': 'int', 'min': -32768, 'max': 32767}, 'dimensions': [7631, 7771], 'crs': 'EPSG:32650', 'crs_transform': [30, 0, 485385, 0, -30, 3946515]}, {'id': 'B2', 'data_type': {'type': 'PixelType', 'precision': 'int', 'min': -32768, 'max': 32767}, 'dimensions': [7631, 7771], 'crs': 'EPSG:32650', 'crs_transform': [30, 0, 485385, 0, -30, 3946515]}, {'id': 'B3', 'data_type': {'type': 'PixelType', 'precision': 'int', 'min': -32768, 'max': 32767}, 'dimensions': [7631, 7771], 'crs': 'EPSG:32650', 'crs_transform': [30, 0, 485385, 0, -30, 3946515]}, {'id': 'B4', 'data_type': {'type': 'PixelType', 'precision': 'int', 'min': -32768, 'max': 32767}, 'dimensions': [7631, 7771], 'crs': 'EPSG:32650', 'crs_transform': [30, 0, 485385, 0, -30, 3946515]}, {'id': 'B5', 'data_type': {'type': 'PixelType', 'precision': 'int', 'min': -32768, 'max': 32767}, 'dimensions': [7631, 7771], 'crs': 'EPSG:32650', 'crs_transform': [30, 0, 485385, 0, -30, 3946515]}, {'id': 'B6', 'data_type': {'type': 'PixelType', 'precision': 'int', 'min': -32768, 'max': 32767}, 'dimensions': [7631, 7771], 'crs': 'EPSG:32650', 'crs_transform': [30, 0, 485385, 0, -30, 3946515]}, {'id': 'B7', 'data_type': {'type': 'PixelType', 'precision': 'int', 'min': -32768, 'max': 32767}, 'dimensions': [7631, 7771], 'crs': 'EPSG:32650', 'crs_transform': [30, 0, 485385, 0, -30, 3946515]}, {'id': 'B10', 'data_type': {'type': 'PixelType', 'precision': 'int', 'min': -32768, 'max': 32767}, 'dimensions': [7631, 7771], 'crs': 'EPSG:32650', 'crs_transform': [30, 0, 485385, 0, -30, 3946515]}, {'id': 'B11', 'data_type': {'type': 'PixelType', 'precision': 'int', 'min': -32768, 'max': 32767}, 'dimensions': [7631, 7771], 'crs': 'EPSG:32650', 'crs_transform': [30, 0, 485385, 0, -30, 3946515]}, {'id': 'sr_aerosol', 'data_type': {'type': 'PixelType', 'precision': 'int', 'min': 0, 'max': 255}, 'dimensions': [7631, 7771], 'crs': 'EPSG:32650', 'crs_transform': [30, 0, 485385, 0, -30, 3946515]}, {'id': 'pixel_qa', 'data_type': {'type': 'PixelType', 'precision': 'int', 'min': 0, 'max': 65535}, 'dimensions': [7631, 7771], 'crs': 'EPSG:32650', 'crs_transform': [30, 0, 485385, 0, -30, 3946515]}, {'id': 'radsat_qa', 'data_type': {'type': 'PixelType', 'precision': 'int', 'min': 0, 'max': 65535}, 'dimensions': [7631, 7771], 'crs': 'EPSG:32650', 'crs_transform': [30, 0, 485385, 0, -30, 3946515]}], 'id': 'LANDSAT/LC08/C01/T1_SR/LC08_121036_20150213', 'version': 1522736620670401, 'properties': {'IMAGE_QUALITY_TIRS': 9, 'CLOUD_COVER': 0.03, 'EARTH_SUN_DISTANCE': 0.987253, 'LANDSAT_ID': 'LC08_L1TP_121036_20150213_20170413_01_T1', 'system:footprint': {'type': 'LinearRing', 'coordinates': [[118.80429109479077, 33.55578373451312], [118.8166913083941, 33.55328543583386], [118.81841711158458, 33.553260111137156], [118.82479990297793, 33.575246861713474], [118.86079681073426, 33.69963926560345], [118.89799359219955, 33.82786845326701], [118.93815798647088, 33.965928891286815], [118.96983632307081, 34.07459996198791], [119.06771774155838, 34.408942364000694], [119.1037510876014, 34.53139654185212], [119.14725706798885, 34.678837640792786], [119.1969426840407, 34.84669352110317], [119.25566857883551, 35.04444271270437], [119.32451635472009, 35.275197026322225], [119.32377972280933, 35.275830113284115], [118.73424138674974, 35.392249588316304], [117.93961799658969, 35.54413454703017], [117.32762907808888, 35.65717752434375], [117.32613187772098, 35.65718158035706], [116.86165997264577, 33.935367110071034], [116.8616621296646, 33.93405276859518], [118.80429109479077, 33.55578373451312]]}, 'CLOUD_COVER_LAND': 0.03, 'GEOMETRIC_RMSE_MODEL': 6.541, 'SR_APP_VERSION': 'LaSRC_1.3.0', 'SATELLITE': 'LANDSAT_8', 'SOLAR_AZIMUTH_ANGLE': 149.522507, 'IMAGE_QUALITY_OLI': 9, 'WRS_PATH': 121, 'system:time_start': 1423795354100, 'SENSING_TIME': '2015-02-13T02:42:34.0976410Z', 'ESPA_VERSION': '2_23_0_1a', 'SOLAR_ZENITH_ANGLE': 53.574406, 'WRS_ROW': 36, 'GEOMETRIC_RMSE_MODEL_Y': 4.49, 'LEVEL1_PRODUCTION_DATE': 1492046162000, 'GEOMETRIC_RMSE_MODEL_X': 4.756, 'system:asset_size': 613292607, 'PIXEL_QA_VERSION': 'generate_pixel_qa_1.6.0', 'system:index': 'LC08_121036_20150213'}}, {'type': 'Image', 'bands': [{'id': 'B1', 'data_type': {'type': 'PixelType', 'precision': 'int', 'min': -32768, 'max': 32767}, 'dimensions': [7641, 7771], 'crs': 'EPSG:32650', 'crs_transform': [30, 0, 483285, 0, -30, 3946515]}, {'id': 'B2', 'data_type': {'type': 'PixelType', 'precision': 'int', 'min': -32768, 'max': 32767}, 'dimensions': [7641, 7771], 'crs': 'EPSG:32650', 'crs_transform': [30, 0, 483285, 0, -30, 3946515]}, {'id': 'B3', 'data_type': {'type': 'PixelType', 'precision': 'int', 'min': -32768, 'max': 32767}, 'dimensions': [7641, 7771], 'crs': 'EPSG:32650', 'crs_transform': [30, 0, 483285, 0, -30, 3946515]}, {'id': 'B4', 'data_type': {'type': 'PixelType', 'precision': 'int', 'min': -32768, 'max': 32767}, 'dimensions': [7641, 7771], 'crs': 'EPSG:32650', 'crs_transform': [30, 0, 483285, 0, -30, 3946515]}, {'id': 'B5', 'data_type': {'type': 'PixelType', 'precision': 'int', 'min': -32768, 'max': 32767}, 'dimensions': [7641, 7771], 'crs': 'EPSG:32650', 'crs_transform': [30, 0, 483285, 0, -30, 3946515]}, {'id': 'B6', 'data_type': {'type': 'PixelType', 'precision': 'int', 'min': -32768, 'max': 32767}, 'dimensions': [7641, 7771], 'crs': 'EPSG:32650', 'crs_transform': [30, 0, 483285, 0, -30, 3946515]}, {'id': 'B7', 'data_type': {'type': 'PixelType', 'precision': 'int', 'min': -32768, 'max': 32767}, 'dimensions': [7641, 7771], 'crs': 'EPSG:32650', 'crs_transform': [30, 0, 483285, 0, -30, 3946515]}, {'id': 'B10', 'data_type': {'type': 'PixelType', 'precision': 'int', 'min': -32768, 'max': 32767}, 'dimensions': [7641, 7771], 'crs': 'EPSG:32650', 'crs_transform': [30, 0, 483285, 0, -30, 3946515]}, {'id': 'B11', 'data_type': {'type': 'PixelType', 'precision': 'int', 'min': -32768, 'max': 32767}, 'dimensions': [7641, 7771], 'crs': 'EPSG:32650', 'crs_transform': [30, 0, 483285, 0, -30, 3946515]}, {'id': 'sr_aerosol', 'data_type': {'type': 'PixelType', 'precision': 'int', 'min': 0, 'max': 255}, 'dimensions': [7641, 7771], 'crs': 'EPSG:32650', 'crs_transform': [30, 0, 483285, 0, -30, 3946515]}, {'id': 'pixel_qa', 'data_type': {'type': 'PixelType', 'precision': 'int', 'min': 0, 'max': 65535}, 'dimensions': [7641, 7771], 'crs': 'EPSG:32650', 'crs_transform': [30, 0, 483285, 0, -30, 3946515]}, {'id': 'radsat_qa', 'data_type': {'type': 'PixelType', 'precision': 'int', 'min': 0, 'max': 65535}, 'dimensions': [7641, 7771], 'crs': 'EPSG:32650', 'crs_transform': [30, 0, 483285, 0, -30, 3946515]}], 'id': 'LANDSAT/LC08/C01/T1_SR/LC08_121036_20150301', 'version': 1522736621452090.0, 'properties': {'IMAGE_QUALITY_TIRS': 9, 'CLOUD_COVER': 0.79, 'EARTH_SUN_DISTANCE': 0.99068, 'LANDSAT_ID': 'LC08_L1TP_121036_20150301_20170412_01_T1', 'system:footprint': {'type': 'LinearRing', 'coordinates': [[118.79850320697992, 33.55280122187535], [118.80369387239858, 33.57069744738431], [118.81729123810005, 33.61769562645649], [118.85515536640722, 33.748517952847244], [118.91914247617997, 33.96872958643818], [119.0018990321921, 34.252046283792865], [119.0673921167375, 34.475216530767874], [119.11285549031315, 34.62958997298402], [119.15233683006834, 34.763198649088764], [119.19241251411123, 34.89848142950441], [119.24204903602751, 35.06549760303066], [119.30468804651164, 35.27554475091952], [119.29164297150876, 35.278183512097236], [118.61472676005576, 35.4114870903728], [117.75556227474694, 35.57464124976096], [117.30801437620684, 35.656958761610795], [117.30602448670233, 35.65696388651695], [116.84134628375448, 33.93394749309732], [117.31895294308856, 33.844097674927916], [118.79850320697992, 33.55280122187535]]}, 'CLOUD_COVER_LAND': 0.78, 'GEOMETRIC_RMSE_MODEL': 6.665, 'SR_APP_VERSION': 'LaSRC_1.3.0', 'SATELLITE': 'LANDSAT_8', 'SOLAR_AZIMUTH_ANGLE': 146.696838, 'IMAGE_QUALITY_OLI': 9, 'WRS_PATH': 121, 'system:time_start': 1425177751400, 'SENSING_TIME': '2015-03-01T02:42:31.3997820Z', 'ESPA_VERSION': '2_23_0_1a', 'SOLAR_ZENITH_ANGLE': 48.24168, 'WRS_ROW': 36, 'GEOMETRIC_RMSE_MODEL_Y': 4.541, 'LEVEL1_PRODUCTION_DATE': 1492002780000, 'GEOMETRIC_RMSE_MODEL_X': 4.878, 'system:asset_size': 637127046, 'PIXEL_QA_VERSION': 'generate_pixel_qa_1.6.0', 'system:index': 'LC08_121036_20150301'}}, {'type': 'Image', 'bands': [{'id': 'B1', 'data_type': {'type': 'PixelType', 'precision': 'int', 'min': -32768, 'max': 32767}, 'dimensions': [7641, 7781], 'crs': 'EPSG:32650', 'crs_transform': [30, 0, 480885, 0, -30, 3946515]}, {'id': 'B2', 'data_type': {'type': 'PixelType', 'precision': 'int', 'min': -32768, 'max': 32767}, 'dimensions': [7641, 7781], 'crs': 'EPSG:32650', 'crs_transform': [30, 0, 480885, 0, -30, 3946515]}, {'id': 'B3', 'data_type': {'type': 'PixelType', 'precision': 'int', 'min': -32768, 'max': 32767}, 'dimensions': [7641, 7781], 'crs': 'EPSG:32650', 'crs_transform': [30, 0, 480885, 0, -30, 3946515]}, {'id': 'B4', 'data_type': {'type': 'PixelType', 'precision': 'int', 'min': -32768, 'max': 32767}, 'dimensions': [7641, 7781], 'crs': 'EPSG:32650', 'crs_transform': [30, 0, 480885, 0, -30, 3946515]}, {'id': 'B5', 'data_type': {'type': 'PixelType', 'precision': 'int', 'min': -32768, 'max': 32767}, 'dimensions': [7641, 7781], 'crs': 'EPSG:32650', 'crs_transform': [30, 0, 480885, 0, -30, 3946515]}, {'id': 'B6', 'data_type': {'type': 'PixelType', 'precision': 'int', 'min': -32768, 'max': 32767}, 'dimensions': [7641, 7781], 'crs': 'EPSG:32650', 'crs_transform': [30, 0, 480885, 0, -30, 3946515]}, {'id': 'B7', 'data_type': {'type': 'PixelType', 'precision': 'int', 'min': -32768, 'max': 32767}, 'dimensions': [7641, 7781], 'crs': 'EPSG:32650', 'crs_transform': [30, 0, 480885, 0, -30, 3946515]}, {'id': 'B10', 'data_type': {'type': 'PixelType', 'precision': 'int', 'min': -32768, 'max': 32767}, 'dimensions': [7641, 7781], 'crs': 'EPSG:32650', 'crs_transform': [30, 0, 480885, 0, -30, 3946515]}, {'id': 'B11', 'data_type': {'type': 'PixelType', 'precision': 'int', 'min': -32768, 'max': 32767}, 'dimensions': [7641, 7781], 'crs': 'EPSG:32650', 'crs_transform': [30, 0, 480885, 0, -30, 3946515]}, {'id': 'sr_aerosol', 'data_type': {'type': 'PixelType', 'precision': 'int', 'min': 0, 'max': 255}, 'dimensions': [7641, 7781], 'crs': 'EPSG:32650', 'crs_transform': [30, 0, 480885, 0, -30, 3946515]}, {'id': 'pixel_qa', 'data_type': {'type': 'PixelType', 'precision': 'int', 'min': 0, 'max': 65535}, 'dimensions': [7641, 7781], 'crs': 'EPSG:32650', 'crs_transform': [30, 0, 480885, 0, -30, 3946515]}, {'id': 'radsat_qa', 'data_type': {'type': 'PixelType', 'precision': 'int', 'min': 0, 'max': 65535}, 'dimensions': [7641, 7781], 'crs': 'EPSG:32650', 'crs_transform': [30, 0, 480885, 0, -30, 3946515]}], 'id': 'LANDSAT/LC08/C01/T1_SR/LC08_121036_20150418', 'version': 1582195003225091, 'properties': {'IMAGE_QUALITY_TIRS': 9, 'CLOUD_COVER': 1.56, 'EARTH_SUN_DISTANCE': 1.003963, 'LANDSAT_ID': 'LC08_L1TP_121036_20150418_20170409_01_T1', 'system:footprint': {'type': 'LinearRing', 'coordinates': [[117.13643744314882, 33.87338615138689], [118.15651905178298, 33.676210461015586], [118.76136804948364, 33.55489674132209], [118.76312460893844, 33.554871736028716], [118.76966617230812, 33.57745698054824], [118.82340848803246, 33.76332895711564], [118.90723859516582, 34.05182963815263], [118.9576929137791, 34.22465225476554], [118.98566555300799, 34.32022832786749], [119.05751260629177, 34.564912731931685], [119.11475246790611, 34.75894506703692], [119.14077207539619, 34.84689026149062], [119.2022168736587, 35.053933352508125], [119.26877728188848, 35.27733829612748], [119.25451239985259, 35.2802191769536], [118.63173290629298, 35.4028739178932], [117.77468058975103, 35.56586421632775], [117.27026803067857, 35.65865319185525], [116.80599968390294, 33.935262601498614], [117.13643744314882, 33.87338615138689]]}, 'CLOUD_COVER_LAND': 1.56, 'GEOMETRIC_RMSE_MODEL': 6.932, 'SR_APP_VERSION': 'LaSRC_1.3.0', 'SATELLITE': 'LANDSAT_8', 'SOLAR_AZIMUTH_ANGLE': 135.842133, 'IMAGE_QUALITY_OLI': 9, 'system:time_end': 1429324928000, 'WRS_PATH': 121, 'system:time_start': 1429324928000, 'SENSING_TIME': '2015-04-18T02:42:08.0008270Z', 'ESPA_VERSION': '2_23_0_1b', 'SOLAR_ZENITH_ANGLE': 30.823509, 'WRS_ROW': 36, 'GEOMETRIC_RMSE_MODEL_Y': 4.757, 'LEVEL1_PRODUCTION_DATE': 1491775043000, 'GEOMETRIC_RMSE_MODEL_X': 5.043, 'system:asset_size': 644915725, 'PIXEL_QA_VERSION': 'generate_pixel_qa_1.6.0', 'system:index': 'LC08_121036_20150418'}}, {'type': 'Image', 'bands': [{'id': 'B1', 'data_type': {'type': 'PixelType', 'precision': 'int', 'min': -32768, 'max': 32767}, 'dimensions': [7641, 7781], 'crs': 'EPSG:32650', 'crs_transform': [30, 0, 485385, 0, -30, 3946515]}, {'id': 'B2', 'data_type': {'type': 'PixelType', 'precision': 'int', 'min': -32768, 'max': 32767}, 'dimensions': [7641, 7781], 'crs': 'EPSG:32650', 'crs_transform': [30, 0, 485385, 0, -30, 3946515]}, {'id': 'B3', 'data_type': {'type': 'PixelType', 'precision': 'int', 'min': -32768, 'max': 32767}, 'dimensions': [7641, 7781], 'crs': 'EPSG:32650', 'crs_transform': [30, 0, 485385, 0, -30, 3946515]}, {'id': 'B4', 'data_type': {'type': 'PixelType', 'precision': 'int', 'min': -32768, 'max': 32767}, 'dimensions': [7641, 7781], 'crs': 'EPSG:32650', 'crs_transform': [30, 0, 485385, 0, -30, 3946515]}, {'id': 'B5', 'data_type': {'type': 'PixelType', 'precision': 'int', 'min': -32768, 'max': 32767}, 'dimensions': [7641, 7781], 'crs': 'EPSG:32650', 'crs_transform': [30, 0, 485385, 0, -30, 3946515]}, {'id': 'B6', 'data_type': {'type': 'PixelType', 'precision': 'int', 'min': -32768, 'max': 32767}, 'dimensions': [7641, 7781], 'crs': 'EPSG:32650', 'crs_transform': [30, 0, 485385, 0, -30, 3946515]}, {'id': 'B7', 'data_type': {'type': 'PixelType', 'precision': 'int', 'min': -32768, 'max': 32767}, 'dimensions': [7641, 7781], 'crs': 'EPSG:32650', 'crs_transform': [30, 0, 485385, 0, -30, 3946515]}, {'id': 'B10', 'data_type': {'type': 'PixelType', 'precision': 'int', 'min': -32768, 'max': 32767}, 'dimensions': [7641, 7781], 'crs': 'EPSG:32650', 'crs_transform': [30, 0, 485385, 0, -30, 3946515]}, {'id': 'B11', 'data_type': {'type': 'PixelType', 'precision': 'int', 'min': -32768, 'max': 32767}, 'dimensions': [7641, 7781], 'crs': 'EPSG:32650', 'crs_transform': [30, 0, 485385, 0, -30, 3946515]}, {'id': 'sr_aerosol', 'data_type': {'type': 'PixelType', 'precision': 'int', 'min': 0, 'max': 255}, 'dimensions': [7641, 7781], 'crs': 'EPSG:32650', 'crs_transform': [30, 0, 485385, 0, -30, 3946515]}, {'id': 'pixel_qa', 'data_type': {'type': 'PixelType', 'precision': 'int', 'min': 0, 'max': 65535}, 'dimensions': [7641, 7781], 'crs': 'EPSG:32650', 'crs_transform': [30, 0, 485385, 0, -30, 3946515]}, {'id': 'radsat_qa', 'data_type': {'type': 'PixelType', 'precision': 'int', 'min': 0, 'max': 65535}, 'dimensions': [7641, 7781], 'crs': 'EPSG:32650', 'crs_transform': [30, 0, 485385, 0, -30, 3946515]}], 'id': 'LANDSAT/LC08/C01/T1_SR/LC08_121036_20150520', 'version': 1522736623642311, 'properties': {'IMAGE_QUALITY_TIRS': 9, 'CLOUD_COVER': 0.53, 'EARTH_SUN_DISTANCE': 1.01182, 'LANDSAT_ID': 'LC08_L1TP_121036_20150520_20170408_01_T1', 'system:footprint': {'type': 'LinearRing', 'coordinates': [[118.81095491563846, 33.554181140843966], [118.81244016269389, 33.5541593997141], [118.81882292912083, 33.57607276188238], [118.88851340511161, 33.815883602071196], [118.91292445871382, 33.89966685499708], [118.96998102871729, 34.094885288368395], [119.03663732766697, 34.32200844075838], [119.09139531689128, 34.50780641483892], [119.12320972595955, 34.61544794552018], [119.18063554347385, 34.80917065684753], [119.26224878619858, 35.0832109626916], [119.32002516481116, 35.276367067829575], [119.30436461928579, 35.279536794343514], [118.8157999012921, 35.376446005729605], [117.69544160564493, 35.59042097577006], [117.32183857342744, 35.65922265510592], [116.85559390126171, 33.9361536408839], [116.86732620714746, 33.933944996055125], [117.4297684596534, 33.827526946055066], [118.65378406479415, 33.586147363005416], [118.81095491563846, 33.554181140843966]]}, 'CLOUD_COVER_LAND': 0.42, 'GEOMETRIC_RMSE_MODEL': 7.421, 'SR_APP_VERSION': 'LaSRC_1.3.0', 'SATELLITE': 'LANDSAT_8', 'SOLAR_AZIMUTH_ANGLE': 123.652008, 'IMAGE_QUALITY_OLI': 9, 'WRS_PATH': 121, 'system:time_start': 1432089707680, 'SENSING_TIME': '2015-05-20T02:41:47.6768820Z', 'ESPA_VERSION': '2_23_0_1a', 'SOLAR_ZENITH_ANGLE': 23.400192, 'WRS_ROW': 36, 'GEOMETRIC_RMSE_MODEL_Y': 5.191, 'LEVEL1_PRODUCTION_DATE': 1491693653000, 'GEOMETRIC_RMSE_MODEL_X': 5.304, 'system:asset_size': 657029563, 'PIXEL_QA_VERSION': 'generate_pixel_qa_1.6.0', 'system:index': 'LC08_121036_20150520'}}, {'type': 'Image', 'bands': [{'id': 'B1', 'data_type': {'type': 'PixelType', 'precision': 'int', 'min': -32768, 'max': 32767}, 'dimensions': [7641, 7771], 'crs': 'EPSG:32650', 'crs_transform': [30, 0, 485985, 0, -30, 3946515]}, {'id': 'B2', 'data_type': {'type': 'PixelType', 'precision': 'int', 'min': -32768, 'max': 32767}, 'dimensions': [7641, 7771], 'crs': 'EPSG:32650', 'crs_transform': [30, 0, 485985, 0, -30, 3946515]}, {'id': 'B3', 'data_type': {'type': 'PixelType', 'precision': 'int', 'min': -32768, 'max': 32767}, 'dimensions': [7641, 7771], 'crs': 'EPSG:32650', 'crs_transform': [30, 0, 485985, 0, -30, 3946515]}, {'id': 'B4', 'data_type': {'type': 'PixelType', 'precision': 'int', 'min': -32768, 'max': 32767}, 'dimensions': [7641, 7771], 'crs': 'EPSG:32650', 'crs_transform': [30, 0, 485985, 0, -30, 3946515]}, {'id': 'B5', 'data_type': {'type': 'PixelType', 'precision': 'int', 'min': -32768, 'max': 32767}, 'dimensions': [7641, 7771], 'crs': 'EPSG:32650', 'crs_transform': [30, 0, 485985, 0, -30, 3946515]}, {'id': 'B6', 'data_type': {'type': 'PixelType', 'precision': 'int', 'min': -32768, 'max': 32767}, 'dimensions': [7641, 7771], 'crs': 'EPSG:32650', 'crs_transform': [30, 0, 485985, 0, -30, 3946515]}, {'id': 'B7', 'data_type': {'type': 'PixelType', 'precision': 'int', 'min': -32768, 'max': 32767}, 'dimensions': [7641, 7771], 'crs': 'EPSG:32650', 'crs_transform': [30, 0, 485985, 0, -30, 3946515]}, {'id': 'B10', 'data_type': {'type': 'PixelType', 'precision': 'int', 'min': -32768, 'max': 32767}, 'dimensions': [7641, 7771], 'crs': 'EPSG:32650', 'crs_transform': [30, 0, 485985, 0, -30, 3946515]}, {'id': 'B11', 'data_type': {'type': 'PixelType', 'precision': 'int', 'min': -32768, 'max': 32767}, 'dimensions': [7641, 7771], 'crs': 'EPSG:32650', 'crs_transform': [30, 0, 485985, 0, -30, 3946515]}, {'id': 'sr_aerosol', 'data_type': {'type': 'PixelType', 'precision': 'int', 'min': 0, 'max': 255}, 'dimensions': [7641, 7771], 'crs': 'EPSG:32650', 'crs_transform': [30, 0, 485985, 0, -30, 3946515]}, {'id': 'pixel_qa', 'data_type': {'type': 'PixelType', 'precision': 'int', 'min': 0, 'max': 65535}, 'dimensions': [7641, 7771], 'crs': 'EPSG:32650', 'crs_transform': [30, 0, 485985, 0, -30, 3946515]}, {'id': 'radsat_qa', 'data_type': {'type': 'PixelType', 'precision': 'int', 'min': 0, 'max': 65535}, 'dimensions': [7641, 7771], 'crs': 'EPSG:32650', 'crs_transform': [30, 0, 485985, 0, -30, 3946515]}], 'id': 'LANDSAT/LC08/C01/T1_SR/LC08_121036_20150605', 'version': 1522736624314766, 'properties': {'IMAGE_QUALITY_TIRS': 9, 'CLOUD_COVER': 0.52, 'EARTH_SUN_DISTANCE': 1.014507, 'LANDSAT_ID': 'LC08_L1TP_121036_20150605_20170408_01_T1', 'system:footprint': {'type': 'LinearRing', 'coordinates': [[118.81686549897942, 33.55422778467714], [118.81745671408572, 33.55517586040887], [118.82685112620578, 33.58750182924291], [118.85682589937224, 33.690795685630555], [118.9018050039065, 33.84533647650198], [118.97311166533456, 34.0894838476456], [119.03220296866076, 34.29084753051343], [119.04786196854907, 34.34408875714875], [119.11811380951454, 34.58226814510314], [119.1884530159902, 34.81957827326018], [119.24006029167829, 34.9930825738767], [119.26541106904621, 35.07807388036772], [119.32480278230385, 35.2765776552268], [119.31108580386291, 35.27935467549232], [118.8220720992839, 35.37635149371551], [117.41721457680855, 35.642828570559885], [117.3264262789954, 35.65942491228489], [116.86020245212973, 33.9363986835351], [118.56169275573887, 33.60601181207839], [118.81686549897942, 33.55422778467714]]}, 'CLOUD_COVER_LAND': 0.38, 'GEOMETRIC_RMSE_MODEL': 7.742, 'SR_APP_VERSION': 'LaSRC_1.3.0', 'SATELLITE': 'LANDSAT_8', 'SOLAR_AZIMUTH_ANGLE': 117.843086, 'IMAGE_QUALITY_OLI': 9, 'WRS_PATH': 121, 'system:time_start': 1433472115720, 'SENSING_TIME': '2015-06-05T02:41:55.7169830Z', 'ESPA_VERSION': '2_23_0_1a', 'SOLAR_ZENITH_ANGLE': 22.006371, 'WRS_ROW': 36, 'GEOMETRIC_RMSE_MODEL_Y': 5.271, 'LEVEL1_PRODUCTION_DATE': 1491629861000, 'GEOMETRIC_RMSE_MODEL_X': 5.67, 'system:asset_size': 650289439, 'PIXEL_QA_VERSION': 'generate_pixel_qa_1.6.0', 'system:index': 'LC08_121036_20150605'}}, {'type': 'Image', 'bands': [{'id': 'B1', 'data_type': {'type': 'PixelType', 'precision': 'int', 'min': -32768, 'max': 32767}, 'dimensions': [7641, 7771], 'crs': 'EPSG:32650', 'crs_transform': [30, 0, 485385, 0, -30, 3946515]}, {'id': 'B2', 'data_type': {'type': 'PixelType', 'precision': 'int', 'min': -32768, 'max': 32767}, 'dimensions': [7641, 7771], 'crs': 'EPSG:32650', 'crs_transform': [30, 0, 485385, 0, -30, 3946515]}, {'id': 'B3', 'data_type': {'type': 'PixelType', 'precision': 'int', 'min': -32768, 'max': 32767}, 'dimensions': [7641, 7771], 'crs': 'EPSG:32650', 'crs_transform': [30, 0, 485385, 0, -30, 3946515]}, {'id': 'B4', 'data_type': {'type': 'PixelType', 'precision': 'int', 'min': -32768, 'max': 32767}, 'dimensions': [7641, 7771], 'crs': 'EPSG:32650', 'crs_transform': [30, 0, 485385, 0, -30, 3946515]}, {'id': 'B5', 'data_type': {'type': 'PixelType', 'precision': 'int', 'min': -32768, 'max': 32767}, 'dimensions': [7641, 7771], 'crs': 'EPSG:32650', 'crs_transform': [30, 0, 485385, 0, -30, 3946515]}, {'id': 'B6', 'data_type': {'type': 'PixelType', 'precision': 'int', 'min': -32768, 'max': 32767}, 'dimensions': [7641, 7771], 'crs': 'EPSG:32650', 'crs_transform': [30, 0, 485385, 0, -30, 3946515]}, {'id': 'B7', 'data_type': {'type': 'PixelType', 'precision': 'int', 'min': -32768, 'max': 32767}, 'dimensions': [7641, 7771], 'crs': 'EPSG:32650', 'crs_transform': [30, 0, 485385, 0, -30, 3946515]}, {'id': 'B10', 'data_type': {'type': 'PixelType', 'precision': 'int', 'min': -32768, 'max': 32767}, 'dimensions': [7641, 7771], 'crs': 'EPSG:32650', 'crs_transform': [30, 0, 485385, 0, -30, 3946515]}, {'id': 'B11', 'data_type': {'type': 'PixelType', 'precision': 'int', 'min': -32768, 'max': 32767}, 'dimensions': [7641, 7771], 'crs': 'EPSG:32650', 'crs_transform': [30, 0, 485385, 0, -30, 3946515]}, {'id': 'sr_aerosol', 'data_type': {'type': 'PixelType', 'precision': 'int', 'min': 0, 'max': 255}, 'dimensions': [7641, 7771], 'crs': 'EPSG:32650', 'crs_transform': [30, 0, 485385, 0, -30, 3946515]}, {'id': 'pixel_qa', 'data_type': {'type': 'PixelType', 'precision': 'int', 'min': 0, 'max': 65535}, 'dimensions': [7641, 7771], 'crs': 'EPSG:32650', 'crs_transform': [30, 0, 485385, 0, -30, 3946515]}, {'id': 'radsat_qa', 'data_type': {'type': 'PixelType', 'precision': 'int', 'min': 0, 'max': 65535}, 'dimensions': [7641, 7771], 'crs': 'EPSG:32650', 'crs_transform': [30, 0, 485385, 0, -30, 3946515]}], 'id': 'LANDSAT/LC08/C01/T1_SR/LC08_121036_20150925', 'version': 1522736628455596, 'properties': {'IMAGE_QUALITY_TIRS': 9, 'CLOUD_COVER': 7.3, 'EARTH_SUN_DISTANCE': 1.003023, 'LANDSAT_ID': 'LC08_L1TP_121036_20150925_20170403_01_T1', 'system:footprint': {'type': 'LinearRing', 'coordinates': [[116.85404340508788, 33.936423667809], [116.85475946947905, 33.93582846147151], [118.34216402334351, 33.64863092126337], [118.81072620964828, 33.55405319354957], [118.81135995206743, 33.55506950460694], [118.862946323486, 33.73292257950578], [118.9089799312468, 33.89111159609161], [118.96154568034184, 34.071125552958286], [119.00657396456054, 34.22485514759401], [119.0338572997022, 34.3178142751173], [119.06266417553847, 34.415789761726764], [119.16497684428346, 34.76211899597157], [119.19268464926361, 34.85547338903625], [119.2502357895146, 35.04884800592375], [119.31826541272844, 35.276574680481865], [118.86674872257959, 35.36620330457589], [117.32153268675683, 35.658816848750405], [117.31962597360862, 35.65882195885085], [116.85404340508788, 33.936423667809]]}, 'CLOUD_COVER_LAND': 7.31, 'GEOMETRIC_RMSE_MODEL': 8.05, 'SR_APP_VERSION': 'LaSRC_1.3.0', 'SATELLITE': 'LANDSAT_8', 'SOLAR_AZIMUTH_ANGLE': 148.954315, 'IMAGE_QUALITY_OLI': 9, 'WRS_PATH': 121, 'system:time_start': 1443148964770, 'SENSING_TIME': '2015-09-25T02:42:44.7679020Z', 'ESPA_VERSION': '2_23_0_1a', 'SOLAR_ZENITH_ANGLE': 39.61174, 'WRS_ROW': 36, 'GEOMETRIC_RMSE_MODEL_Y': 5.602, 'LEVEL1_PRODUCTION_DATE': 1491256835000, 'GEOMETRIC_RMSE_MODEL_X': 5.781, 'system:asset_size': 624973075, 'PIXEL_QA_VERSION': 'generate_pixel_qa_1.6.0', 'system:index': 'LC08_121036_20150925'}}, {'type': 'Image', 'bands': [{'id': 'B1', 'data_type': {'type': 'PixelType', 'precision': 'int', 'min': -32768, 'max': 32767}, 'dimensions': [7641, 7771], 'crs': 'EPSG:32650', 'crs_transform': [30, 0, 486285, 0, -30, 3946515]}, {'id': 'B2', 'data_type': {'type': 'PixelType', 'precision': 'int', 'min': -32768, 'max': 32767}, 'dimensions': [7641, 7771], 'crs': 'EPSG:32650', 'crs_transform': [30, 0, 486285, 0, -30, 3946515]}, {'id': 'B3', 'data_type': {'type': 'PixelType', 'precision': 'int', 'min': -32768, 'max': 32767}, 'dimensions': [7641, 7771], 'crs': 'EPSG:32650', 'crs_transform': [30, 0, 486285, 0, -30, 3946515]}, {'id': 'B4', 'data_type': {'type': 'PixelType', 'precision': 'int', 'min': -32768, 'max': 32767}, 'dimensions': [7641, 7771], 'crs': 'EPSG:32650', 'crs_transform': [30, 0, 486285, 0, -30, 3946515]}, {'id': 'B5', 'data_type': {'type': 'PixelType', 'precision': 'int', 'min': -32768, 'max': 32767}, 'dimensions': [7641, 7771], 'crs': 'EPSG:32650', 'crs_transform': [30, 0, 486285, 0, -30, 3946515]}, {'id': 'B6', 'data_type': {'type': 'PixelType', 'precision': 'int', 'min': -32768, 'max': 32767}, 'dimensions': [7641, 7771], 'crs': 'EPSG:32650', 'crs_transform': [30, 0, 486285, 0, -30, 3946515]}, {'id': 'B7', 'data_type': {'type': 'PixelType', 'precision': 'int', 'min': -32768, 'max': 32767}, 'dimensions': [7641, 7771], 'crs': 'EPSG:32650', 'crs_transform': [30, 0, 486285, 0, -30, 3946515]}, {'id': 'B10', 'data_type': {'type': 'PixelType', 'precision': 'int', 'min': -32768, 'max': 32767}, 'dimensions': [7641, 7771], 'crs': 'EPSG:32650', 'crs_transform': [30, 0, 486285, 0, -30, 3946515]}, {'id': 'B11', 'data_type': {'type': 'PixelType', 'precision': 'int', 'min': -32768, 'max': 32767}, 'dimensions': [7641, 7771], 'crs': 'EPSG:32650', 'crs_transform': [30, 0, 486285, 0, -30, 3946515]}, {'id': 'sr_aerosol', 'data_type': {'type': 'PixelType', 'precision': 'int', 'min': 0, 'max': 255}, 'dimensions': [7641, 7771], 'crs': 'EPSG:32650', 'crs_transform': [30, 0, 486285, 0, -30, 3946515]}, {'id': 'pixel_qa', 'data_type': {'type': 'PixelType', 'precision': 'int', 'min': 0, 'max': 65535}, 'dimensions': [7641, 7771], 'crs': 'EPSG:32650', 'crs_transform': [30, 0, 486285, 0, -30, 3946515]}, {'id': 'radsat_qa', 'data_type': {'type': 'PixelType', 'precision': 'int', 'min': 0, 'max': 65535}, 'dimensions': [7641, 7771], 'crs': 'EPSG:32650', 'crs_transform': [30, 0, 486285, 0, -30, 3946515]}], 'id': 'LANDSAT/LC08/C01/T1_SR/LC08_121036_20151011', 'version': 1522736629160679, 'properties': {'IMAGE_QUALITY_TIRS': 9, 'CLOUD_COVER': 0.05, 'EARTH_SUN_DISTANCE': 0.998501, 'LANDSAT_ID': 'LC08_L1TP_121036_20151011_20170403_01_T1', 'system:footprint': {'type': 'LinearRing', 'coordinates': [[118.89326259138491, 33.802584422776455], [118.9167771813434, 33.88337614686336], [118.96019936835798, 34.032194423631125], [119.006721832878, 34.19112931157562], [119.03792934111996, 34.297459681345245], [119.06388432633143, 34.38574520819669], [119.14175788107619, 34.64974407684349], [119.1818812675164, 34.785185741078905], [119.22740549978995, 34.93841334656545], [119.26866929900045, 35.076931203218074], [119.32841223617477, 35.27672260743366], [119.31501917519203, 35.27943450698752], [119.19390570332551, 35.303641468789294], [117.3651391544076, 35.65282509410981], [117.33025641508081, 35.6591801116588], [117.32966582998407, 35.65822414222933], [116.86416605451592, 33.936115715652285], [118.27800964450792, 33.66365036639343], [118.82118294547273, 33.55421647808225], [118.82362374959214, 33.562528783114765], [118.85790668703606, 33.68084523548589], [118.89326259138491, 33.802584422776455]]}, 'CLOUD_COVER_LAND': 0.05, 'GEOMETRIC_RMSE_MODEL': 7.833, 'SR_APP_VERSION': 'LaSRC_1.3.0', 'SATELLITE': 'LANDSAT_8', 'SOLAR_AZIMUTH_ANGLE': 154.284164, 'IMAGE_QUALITY_OLI': 9, 'WRS_PATH': 121, 'system:time_start': 1444531365900, 'SENSING_TIME': '2015-10-11T02:42:45.8950040Z', 'ESPA_VERSION': '2_23_0_1a', 'SOLAR_ZENITH_ANGLE': 44.797173, 'WRS_ROW': 36, 'GEOMETRIC_RMSE_MODEL_Y': 5.648, 'LEVEL1_PRODUCTION_DATE': 1491199706000, 'GEOMETRIC_RMSE_MODEL_X': 5.427, 'system:asset_size': 648124270, 'PIXEL_QA_VERSION': 'generate_pixel_qa_1.6.0', 'system:index': 'LC08_121036_20151011'}}, {'type': 'Image', 'bands': [{'id': 'B1', 'data_type': {'type': 'PixelType', 'precision': 'int', 'min': -32768, 'max': 32767}, 'dimensions': [7641, 7771], 'crs': 'EPSG:32650', 'crs_transform': [30, 0, 485385, 0, -30, 3946515]}, {'id': 'B2', 'data_type': {'type': 'PixelType', 'precision': 'int', 'min': -32768, 'max': 32767}, 'dimensions': [7641, 7771], 'crs': 'EPSG:32650', 'crs_transform': [30, 0, 485385, 0, -30, 3946515]}, {'id': 'B3', 'data_type': {'type': 'PixelType', 'precision': 'int', 'min': -32768, 'max': 32767}, 'dimensions': [7641, 7771], 'crs': 'EPSG:32650', 'crs_transform': [30, 0, 485385, 0, -30, 3946515]}, {'id': 'B4', 'data_type': {'type': 'PixelType', 'precision': 'int', 'min': -32768, 'max': 32767}, 'dimensions': [7641, 7771], 'crs': 'EPSG:32650', 'crs_transform': [30, 0, 485385, 0, -30, 3946515]}, {'id': 'B5', 'data_type': {'type': 'PixelType', 'precision': 'int', 'min': -32768, 'max': 32767}, 'dimensions': [7641, 7771], 'crs': 'EPSG:32650', 'crs_transform': [30, 0, 485385, 0, -30, 3946515]}, {'id': 'B6', 'data_type': {'type': 'PixelType', 'precision': 'int', 'min': -32768, 'max': 32767}, 'dimensions': [7641, 7771], 'crs': 'EPSG:32650', 'crs_transform': [30, 0, 485385, 0, -30, 3946515]}, {'id': 'B7', 'data_type': {'type': 'PixelType', 'precision': 'int', 'min': -32768, 'max': 32767}, 'dimensions': [7641, 7771], 'crs': 'EPSG:32650', 'crs_transform': [30, 0, 485385, 0, -30, 3946515]}, {'id': 'B10', 'data_type': {'type': 'PixelType', 'precision': 'int', 'min': -32768, 'max': 32767}, 'dimensions': [7641, 7771], 'crs': 'EPSG:32650', 'crs_transform': [30, 0, 485385, 0, -30, 3946515]}, {'id': 'B11', 'data_type': {'type': 'PixelType', 'precision': 'int', 'min': -32768, 'max': 32767}, 'dimensions': [7641, 7771], 'crs': 'EPSG:32650', 'crs_transform': [30, 0, 485385, 0, -30, 3946515]}, {'id': 'sr_aerosol', 'data_type': {'type': 'PixelType', 'precision': 'int', 'min': 0, 'max': 255}, 'dimensions': [7641, 7771], 'crs': 'EPSG:32650', 'crs_transform': [30, 0, 485385, 0, -30, 3946515]}, {'id': 'pixel_qa', 'data_type': {'type': 'PixelType', 'precision': 'int', 'min': 0, 'max': 65535}, 'dimensions': [7641, 7771], 'crs': 'EPSG:32650', 'crs_transform': [30, 0, 485385, 0, -30, 3946515]}, {'id': 'radsat_qa', 'data_type': {'type': 'PixelType', 'precision': 'int', 'min': 0, 'max': 65535}, 'dimensions': [7641, 7771], 'crs': 'EPSG:32650', 'crs_transform': [30, 0, 485385, 0, -30, 3946515]}], 'id': 'LANDSAT/LC08/C01/T1_SR/LC08_121036_20151027', 'version': 1522736629809255, 'properties': {'IMAGE_QUALITY_TIRS': 9, 'CLOUD_COVER': 0.03, 'EARTH_SUN_DISTANCE': 0.993962, 'LANDSAT_ID': 'LC08_L1TP_121036_20151027_20170402_01_T1', 'system:footprint': {'type': 'LinearRing', 'coordinates': [[118.92404756258512, 33.942384386674334], [118.94963580976132, 34.03001797663223], [119.00835476922008, 34.230593524817046], [119.0676444138922, 34.43247573135293], [119.11834987093964, 34.60444306519315], [119.15527483695995, 34.7292942581819], [119.20569059019525, 34.89920536060308], [119.25664591545723, 35.07039442859043], [119.3181723551495, 35.27637200177711], [119.3144521309627, 35.27721084973585], [118.84044765131542, 35.37120471637165], [117.32153241772698, 35.65854639920583], [117.3195118141617, 35.65855173386861], [116.85401644140194, 33.93577668436944], [116.92847054871316, 33.9218733416651], [117.36076671922876, 33.84019444663193], [118.81114485162121, 33.55393343099782], [118.82335238305062, 33.59598602688025], [118.87024347764995, 33.75756818562272], [118.92404756258512, 33.942384386674334]]}, 'CLOUD_COVER_LAND': 0.03, 'GEOMETRIC_RMSE_MODEL': 7.713, 'SR_APP_VERSION': 'LaSRC_1.3.0', 'SATELLITE': 'LANDSAT_8', 'SOLAR_AZIMUTH_ANGLE': 157.889999, 'IMAGE_QUALITY_OLI': 9, 'WRS_PATH': 121, 'system:time_start': 1445913770800, 'SENSING_TIME': '2015-10-27T02:42:50.8030540Z', 'ESPA_VERSION': '2_23_0_1a', 'SOLAR_ZENITH_ANGLE': 49.981529, 'WRS_ROW': 36, 'GEOMETRIC_RMSE_MODEL_Y': 5.558, 'LEVEL1_PRODUCTION_DATE': 1491163868000, 'GEOMETRIC_RMSE_MODEL_X': 5.347, 'system:asset_size': 619299917, 'PIXEL_QA_VERSION': 'generate_pixel_qa_1.6.0', 'system:index': 'LC08_121036_20151027'}}, {'type': 'Image', 'bands': [{'id': 'B1', 'data_type': {'type': 'PixelType', 'precision': 'int', 'min': -32768, 'max': 32767}, 'dimensions': [7641, 7771], 'crs': 'EPSG:32650', 'crs_transform': [30, 0, 484785, 0, -30, 3946515]}, {'id': 'B2', 'data_type': {'type': 'PixelType', 'precision': 'int', 'min': -32768, 'max': 32767}, 'dimensions': [7641, 7771], 'crs': 'EPSG:32650', 'crs_transform': [30, 0, 484785, 0, -30, 3946515]}, {'id': 'B3', 'data_type': {'type': 'PixelType', 'precision': 'int', 'min': -32768, 'max': 32767}, 'dimensions': [7641, 7771], 'crs': 'EPSG:32650', 'crs_transform': [30, 0, 484785, 0, -30, 3946515]}, {'id': 'B4', 'data_type': {'type': 'PixelType', 'precision': 'int', 'min': -32768, 'max': 32767}, 'dimensions': [7641, 7771], 'crs': 'EPSG:32650', 'crs_transform': [30, 0, 484785, 0, -30, 3946515]}, {'id': 'B5', 'data_type': {'type': 'PixelType', 'precision': 'int', 'min': -32768, 'max': 32767}, 'dimensions': [7641, 7771], 'crs': 'EPSG:32650', 'crs_transform': [30, 0, 484785, 0, -30, 3946515]}, {'id': 'B6', 'data_type': {'type': 'PixelType', 'precision': 'int', 'min': -32768, 'max': 32767}, 'dimensions': [7641, 7771], 'crs': 'EPSG:32650', 'crs_transform': [30, 0, 484785, 0, -30, 3946515]}, {'id': 'B7', 'data_type': {'type': 'PixelType', 'precision': 'int', 'min': -32768, 'max': 32767}, 'dimensions': [7641, 7771], 'crs': 'EPSG:32650', 'crs_transform': [30, 0, 484785, 0, -30, 3946515]}, {'id': 'B10', 'data_type': {'type': 'PixelType', 'precision': 'int', 'min': -32768, 'max': 32767}, 'dimensions': [7641, 7771], 'crs': 'EPSG:32650', 'crs_transform': [30, 0, 484785, 0, -30, 3946515]}, {'id': 'B11', 'data_type': {'type': 'PixelType', 'precision': 'int', 'min': -32768, 'max': 32767}, 'dimensions': [7641, 7771], 'crs': 'EPSG:32650', 'crs_transform': [30, 0, 484785, 0, -30, 3946515]}, {'id': 'sr_aerosol', 'data_type': {'type': 'PixelType', 'precision': 'int', 'min': 0, 'max': 255}, 'dimensions': [7641, 7771], 'crs': 'EPSG:32650', 'crs_transform': [30, 0, 484785, 0, -30, 3946515]}, {'id': 'pixel_qa', 'data_type': {'type': 'PixelType', 'precision': 'int', 'min': 0, 'max': 65535}, 'dimensions': [7641, 7771], 'crs': 'EPSG:32650', 'crs_transform': [30, 0, 484785, 0, -30, 3946515]}, {'id': 'radsat_qa', 'data_type': {'type': 'PixelType', 'precision': 'int', 'min': 0, 'max': 65535}, 'dimensions': [7641, 7771], 'crs': 'EPSG:32650', 'crs_transform': [30, 0, 484785, 0, -30, 3946515]}], 'id': 'LANDSAT/LC08/C01/T1_SR/LC08_121036_20151128', 'version': 1522736631536594, 'properties': {'IMAGE_QUALITY_TIRS': 9, 'CLOUD_COVER': 5.95, 'EARTH_SUN_DISTANCE': 0.986645, 'LANDSAT_ID': 'LC08_L1TP_121036_20151128_20170401_01_T1', 'system:footprint': {'type': 'LinearRing', 'coordinates': [[118.81287035976494, 33.55290313625333], [118.81770906240688, 33.56954094073692], [118.85015468437784, 33.68150256972023], [118.87175785323156, 33.75591319159339], [118.91638530206569, 33.90935164790918], [118.96518888129229, 34.07651790647104], [119.01711009202413, 34.25375359899726], [119.04397655788249, 34.345235717712065], [119.10707344494874, 34.55946886060028], [119.15723959822981, 34.72925951134147], [119.20799358480734, 34.90036297231846], [119.25246955858637, 35.0497938018554], [119.31988141469799, 35.275541143329285], [118.18845060470412, 35.49649796708996], [117.67162465574933, 35.593531476853265], [117.32146695379319, 35.657886743158436], [116.85591467669141, 33.93463731872172], [118.09852346848723, 33.69622009326937], [118.81287035976494, 33.55290313625333]]}, 'CLOUD_COVER_LAND': 5.95, 'GEOMETRIC_RMSE_MODEL': 8.172, 'SR_APP_VERSION': 'LaSRC_1.3.0', 'SATELLITE': 'LANDSAT_8', 'SOLAR_AZIMUTH_ANGLE': 160.10997, 'IMAGE_QUALITY_OLI': 9, 'WRS_PATH': 121, 'system:time_start': 1448678574300, 'SENSING_TIME': '2015-11-28T02:42:54.2970370Z', 'ESPA_VERSION': '2_23_0_1a', 'SOLAR_ZENITH_ANGLE': 58.429279, 'WRS_ROW': 36, 'GEOMETRIC_RMSE_MODEL_Y': 5.946, 'LEVEL1_PRODUCTION_DATE': 1491049886000, 'GEOMETRIC_RMSE_MODEL_X': 5.605, 'system:asset_size': 664657493, 'PIXEL_QA_VERSION': 'generate_pixel_qa_1.6.0', 'system:index': 'LC08_121036_20151128'}}, {'type': 'Image', 'bands': [{'id': 'B1', 'data_type': {'type': 'PixelType', 'precision': 'int', 'min': -32768, 'max': 32767}, 'dimensions': [7631, 7771], 'crs': 'EPSG:32650', 'crs_transform': [30, 0, 485085, 0, -30, 3946515]}, {'id': 'B2', 'data_type': {'type': 'PixelType', 'precision': 'int', 'min': -32768, 'max': 32767}, 'dimensions': [7631, 7771], 'crs': 'EPSG:32650', 'crs_transform': [30, 0, 485085, 0, -30, 3946515]}, {'id': 'B3', 'data_type': {'type': 'PixelType', 'precision': 'int', 'min': -32768, 'max': 32767}, 'dimensions': [7631, 7771], 'crs': 'EPSG:32650', 'crs_transform': [30, 0, 485085, 0, -30, 3946515]}, {'id': 'B4', 'data_type': {'type': 'PixelType', 'precision': 'int', 'min': -32768, 'max': 32767}, 'dimensions': [7631, 7771], 'crs': 'EPSG:32650', 'crs_transform': [30, 0, 485085, 0, -30, 3946515]}, {'id': 'B5', 'data_type': {'type': 'PixelType', 'precision': 'int', 'min': -32768, 'max': 32767}, 'dimensions': [7631, 7771], 'crs': 'EPSG:32650', 'crs_transform': [30, 0, 485085, 0, -30, 3946515]}, {'id': 'B6', 'data_type': {'type': 'PixelType', 'precision': 'int', 'min': -32768, 'max': 32767}, 'dimensions': [7631, 7771], 'crs': 'EPSG:32650', 'crs_transform': [30, 0, 485085, 0, -30, 3946515]}, {'id': 'B7', 'data_type': {'type': 'PixelType', 'precision': 'int', 'min': -32768, 'max': 32767}, 'dimensions': [7631, 7771], 'crs': 'EPSG:32650', 'crs_transform': [30, 0, 485085, 0, -30, 3946515]}, {'id': 'B10', 'data_type': {'type': 'PixelType', 'precision': 'int', 'min': -32768, 'max': 32767}, 'dimensions': [7631, 7771], 'crs': 'EPSG:32650', 'crs_transform': [30, 0, 485085, 0, -30, 3946515]}, {'id': 'B11', 'data_type': {'type': 'PixelType', 'precision': 'int', 'min': -32768, 'max': 32767}, 'dimensions': [7631, 7771], 'crs': 'EPSG:32650', 'crs_transform': [30, 0, 485085, 0, -30, 3946515]}, {'id': 'sr_aerosol', 'data_type': {'type': 'PixelType', 'precision': 'int', 'min': 0, 'max': 255}, 'dimensions': [7631, 7771], 'crs': 'EPSG:32650', 'crs_transform': [30, 0, 485085, 0, -30, 3946515]}, {'id': 'pixel_qa', 'data_type': {'type': 'PixelType', 'precision': 'int', 'min': 0, 'max': 65535}, 'dimensions': [7631, 7771], 'crs': 'EPSG:32650', 'crs_transform': [30, 0, 485085, 0, -30, 3946515]}, {'id': 'radsat_qa', 'data_type': {'type': 'PixelType', 'precision': 'int', 'min': 0, 'max': 65535}, 'dimensions': [7631, 7771], 'crs': 'EPSG:32650', 'crs_transform': [30, 0, 485085, 0, -30, 3946515]}], 'id': 'LANDSAT/LC08/C01/T1_SR/LC08_121036_20151230', 'version': 1522736632813390.0, 'properties': {'IMAGE_QUALITY_TIRS': 9, 'CLOUD_COVER': 8.81, 'EARTH_SUN_DISTANCE': 0.983343, 'LANDSAT_ID': 'LC08_L1TP_121036_20151230_20170331_01_T1', 'system:footprint': {'type': 'LinearRing', 'coordinates': [[118.97278219775365, 34.103496497775524], [118.99222766426513, 34.16999623363938], [119.01808923909515, 34.25829623155347], [119.06607300951295, 34.42168288255128], [119.09889149647117, 34.53310303430373], [119.13575022284728, 34.65796367212929], [119.16862477220229, 34.76905743439885], [119.2224800148034, 34.9504930193763], [119.2475206948625, 35.03465960722785], [119.31951973453972, 35.27593134574017], [117.32279012816367, 35.65773157234318], [117.32112896226347, 35.65773598554758], [116.85596572748649, 33.93496762640921], [116.85708120232984, 33.93450436602705], [117.84394423930478, 33.746382748920404], [118.81275174001989, 33.55322165230164], [118.81528497246174, 33.56190372712615], [118.82648649588711, 33.60057925415072], [118.89187764915887, 33.825971451174674], [118.9273031692912, 33.94766184210122], [118.97278219775365, 34.103496497775524]]}, 'CLOUD_COVER_LAND': 8.82, 'GEOMETRIC_RMSE_MODEL': 7.394, 'SR_APP_VERSION': 'LaSRC_1.3.0', 'SATELLITE': 'LANDSAT_8', 'SOLAR_AZIMUTH_ANGLE': 157.181183, 'IMAGE_QUALITY_OLI': 9, 'WRS_PATH': 121, 'system:time_start': 1451443372160, 'SENSING_TIME': '2015-12-30T02:42:52.1558360Z', 'ESPA_VERSION': '2_23_0_1a', 'SOLAR_ZENITH_ANGLE': 61.376648, 'WRS_ROW': 36, 'GEOMETRIC_RMSE_MODEL_Y': 5.549, 'LEVEL1_PRODUCTION_DATE': 1490961972000, 'GEOMETRIC_RMSE_MODEL_X': 4.888, 'system:asset_size': 600282343, 'PIXEL_QA_VERSION': 'generate_pixel_qa_1.6.0', 'system:index': 'LC08_121036_20151230'}}, {'type': 'Image', 'bands': [{'id': 'B1', 'data_type': {'type': 'PixelType', 'precision': 'int', 'min': -32768, 'max': 32767}, 'dimensions': [7631, 7771], 'crs': 'EPSG:32650', 'crs_transform': [30, 0, 485085, 0, -30, 3946515]}, {'id': 'B2', 'data_type': {'type': 'PixelType', 'precision': 'int', 'min': -32768, 'max': 32767}, 'dimensions': [7631, 7771], 'crs': 'EPSG:32650', 'crs_transform': [30, 0, 485085, 0, -30, 3946515]}, {'id': 'B3', 'data_type': {'type': 'PixelType', 'precision': 'int', 'min': -32768, 'max': 32767}, 'dimensions': [7631, 7771], 'crs': 'EPSG:32650', 'crs_transform': [30, 0, 485085, 0, -30, 3946515]}, {'id': 'B4', 'data_type': {'type': 'PixelType', 'precision': 'int', 'min': -32768, 'max': 32767}, 'dimensions': [7631, 7771], 'crs': 'EPSG:32650', 'crs_transform': [30, 0, 485085, 0, -30, 3946515]}, {'id': 'B5', 'data_type': {'type': 'PixelType', 'precision': 'int', 'min': -32768, 'max': 32767}, 'dimensions': [7631, 7771], 'crs': 'EPSG:32650', 'crs_transform': [30, 0, 485085, 0, -30, 3946515]}, {'id': 'B6', 'data_type': {'type': 'PixelType', 'precision': 'int', 'min': -32768, 'max': 32767}, 'dimensions': [7631, 7771], 'crs': 'EPSG:32650', 'crs_transform': [30, 0, 485085, 0, -30, 3946515]}, {'id': 'B7', 'data_type': {'type': 'PixelType', 'precision': 'int', 'min': -32768, 'max': 32767}, 'dimensions': [7631, 7771], 'crs': 'EPSG:32650', 'crs_transform': [30, 0, 485085, 0, -30, 3946515]}, {'id': 'B10', 'data_type': {'type': 'PixelType', 'precision': 'int', 'min': -32768, 'max': 32767}, 'dimensions': [7631, 7771], 'crs': 'EPSG:32650', 'crs_transform': [30, 0, 485085, 0, -30, 3946515]}, {'id': 'B11', 'data_type': {'type': 'PixelType', 'precision': 'int', 'min': -32768, 'max': 32767}, 'dimensions': [7631, 7771], 'crs': 'EPSG:32650', 'crs_transform': [30, 0, 485085, 0, -30, 3946515]}, {'id': 'sr_aerosol', 'data_type': {'type': 'PixelType', 'precision': 'int', 'min': 0, 'max': 255}, 'dimensions': [7631, 7771], 'crs': 'EPSG:32650', 'crs_transform': [30, 0, 485085, 0, -30, 3946515]}, {'id': 'pixel_qa', 'data_type': {'type': 'PixelType', 'precision': 'int', 'min': 0, 'max': 65535}, 'dimensions': [7631, 7771], 'crs': 'EPSG:32650', 'crs_transform': [30, 0, 485085, 0, -30, 3946515]}, {'id': 'radsat_qa', 'data_type': {'type': 'PixelType', 'precision': 'int', 'min': 0, 'max': 65535}, 'dimensions': [7631, 7771], 'crs': 'EPSG:32650', 'crs_transform': [30, 0, 485085, 0, -30, 3946515]}], 'id': 'LANDSAT/LC08/C01/T1_SR/LC08_121036_20160115', 'version': 1522736634100258, 'properties': {'IMAGE_QUALITY_TIRS': 9, 'CLOUD_COVER': 1.4, 'EARTH_SUN_DISTANCE': 0.983615, 'LANDSAT_ID': 'LC08_L1TP_121036_20160115_20170405_01_T1', 'system:footprint': {'type': 'LinearRing', 'coordinates': [[116.85953772532413, 33.93416005269539], [116.86065992247406, 33.93369399663447], [118.8162999790733, 33.552425424065625], [118.81736299476857, 33.55573766985901], [118.8271862368179, 33.589620587308126], [118.85989854195388, 33.70249496071417], [118.91011163375119, 33.87536427594477], [118.95233589069213, 34.020236910328144], [118.97703937287194, 34.10478052586964], [119.01313438530043, 34.228082278119906], [119.03832801532658, 34.31395307573701], [119.10245794546883, 34.531959764730615], [119.13649399462824, 34.647287049218384], [119.20506201888729, 34.87886284110861], [119.23986742782007, 34.995942727214455], [119.26089334953544, 35.06658148868078], [119.32312789975704, 35.2750560945029], [119.0067055806915, 35.3379961827499], [117.32620998422405, 35.6569108654986], [117.32469609358652, 35.65691496395788], [116.85953772532413, 33.93416005269539]]}, 'CLOUD_COVER_LAND': 1.39, 'GEOMETRIC_RMSE_MODEL': 7.313, 'SR_APP_VERSION': 'LaSRC_1.3.0', 'SATELLITE': 'LANDSAT_8', 'SOLAR_AZIMUTH_ANGLE': 154.650024, 'IMAGE_QUALITY_OLI': 9, 'WRS_PATH': 121, 'system:time_start': 1452825770090, 'SENSING_TIME': '2016-01-15T02:42:50.0876050Z', 'ESPA_VERSION': '2_23_0_1a', 'SOLAR_ZENITH_ANGLE': 60.143932, 'WRS_ROW': 36, 'GEOMETRIC_RMSE_MODEL_Y': 5.399, 'LEVEL1_PRODUCTION_DATE': 1491376026000, 'GEOMETRIC_RMSE_MODEL_X': 4.932, 'system:asset_size': 627012301, 'PIXEL_QA_VERSION': 'generate_pixel_qa_1.6.0', 'system:index': 'LC08_121036_20160115'}}, {'type': 'Image', 'bands': [{'id': 'B1', 'data_type': {'type': 'PixelType', 'precision': 'int', 'min': -32768, 'max': 32767}, 'dimensions': [7631, 7771], 'crs': 'EPSG:32650', 'crs_transform': [30, 0, 485985, 0, -30, 3946515]}, {'id': 'B2', 'data_type': {'type': 'PixelType', 'precision': 'int', 'min': -32768, 'max': 32767}, 'dimensions': [7631, 7771], 'crs': 'EPSG:32650', 'crs_transform': [30, 0, 485985, 0, -30, 3946515]}, {'id': 'B3', 'data_type': {'type': 'PixelType', 'precision': 'int', 'min': -32768, 'max': 32767}, 'dimensions': [7631, 7771], 'crs': 'EPSG:32650', 'crs_transform': [30, 0, 485985, 0, -30, 3946515]}, {'id': 'B4', 'data_type': {'type': 'PixelType', 'precision': 'int', 'min': -32768, 'max': 32767}, 'dimensions': [7631, 7771], 'crs': 'EPSG:32650', 'crs_transform': [30, 0, 485985, 0, -30, 3946515]}, {'id': 'B5', 'data_type': {'type': 'PixelType', 'precision': 'int', 'min': -32768, 'max': 32767}, 'dimensions': [7631, 7771], 'crs': 'EPSG:32650', 'crs_transform': [30, 0, 485985, 0, -30, 3946515]}, {'id': 'B6', 'data_type': {'type': 'PixelType', 'precision': 'int', 'min': -32768, 'max': 32767}, 'dimensions': [7631, 7771], 'crs': 'EPSG:32650', 'crs_transform': [30, 0, 485985, 0, -30, 3946515]}, {'id': 'B7', 'data_type': {'type': 'PixelType', 'precision': 'int', 'min': -32768, 'max': 32767}, 'dimensions': [7631, 7771], 'crs': 'EPSG:32650', 'crs_transform': [30, 0, 485985, 0, -30, 3946515]}, {'id': 'B10', 'data_type': {'type': 'PixelType', 'precision': 'int', 'min': -32768, 'max': 32767}, 'dimensions': [7631, 7771], 'crs': 'EPSG:32650', 'crs_transform': [30, 0, 485985, 0, -30, 3946515]}, {'id': 'B11', 'data_type': {'type': 'PixelType', 'precision': 'int', 'min': -32768, 'max': 32767}, 'dimensions': [7631, 7771], 'crs': 'EPSG:32650', 'crs_transform': [30, 0, 485985, 0, -30, 3946515]}, {'id': 'sr_aerosol', 'data_type': {'type': 'PixelType', 'precision': 'int', 'min': 0, 'max': 255}, 'dimensions': [7631, 7771], 'crs': 'EPSG:32650', 'crs_transform': [30, 0, 485985, 0, -30, 3946515]}, {'id': 'pixel_qa', 'data_type': {'type': 'PixelType', 'precision': 'int', 'min': 0, 'max': 65535}, 'dimensions': [7631, 7771], 'crs': 'EPSG:32650', 'crs_transform': [30, 0, 485985, 0, -30, 3946515]}, {'id': 'radsat_qa', 'data_type': {'type': 'PixelType', 'precision': 'int', 'min': 0, 'max': 65535}, 'dimensions': [7631, 7771], 'crs': 'EPSG:32650', 'crs_transform': [30, 0, 485985, 0, -30, 3946515]}], 'id': 'LANDSAT/LC08/C01/T1_SR/LC08_121036_20160216', 'version': 1522736635776101, 'properties': {'IMAGE_QUALITY_TIRS': 9, 'CLOUD_COVER': 0.05, 'EARTH_SUN_DISTANCE': 0.987779, 'LANDSAT_ID': 'LC08_L1TP_121036_20160216_20170329_01_T1', 'system:footprint': {'type': 'LinearRing', 'coordinates': [[119.33190196733788, 35.275043323904605], [119.32850369213072, 35.27581000418227], [119.2424378613538, 35.29301506642148], [118.82338012434367, 35.3757909511402], [117.33369066939181, 35.65704131270497], [116.86859431751591, 33.933774570687675], [117.37275804913577, 33.83880587593972], [118.29960737384783, 33.658284541800775], [118.82511830223035, 33.55251315110971], [118.8258248955374, 33.55308426405504], [118.83375831515285, 33.58049340360191], [118.8725498346305, 33.714439810815385], [118.91885225897967, 33.87387936317596], [118.9676590596965, 34.0413280983967], [119.01339032413104, 34.19778252165212], [119.08305469930353, 34.43518951569232], [119.14494515709254, 34.645099603873696], [119.1934182940809, 34.808940922947464], [119.21743561638137, 34.8899189247886], [119.27310034511166, 35.07709947839875], [119.33187511606904, 35.27410782115105], [119.33190196733788, 35.275043323904605]]}, 'CLOUD_COVER_LAND': 0.05, 'GEOMETRIC_RMSE_MODEL': 6.891, 'SR_APP_VERSION': 'LaSRC_1.3.0', 'SATELLITE': 'LANDSAT_8', 'SOLAR_AZIMUTH_ANGLE': 149.073792, 'IMAGE_QUALITY_OLI': 9, 'WRS_PATH': 121, 'system:time_start': 1455590560470, 'SENSING_TIME': '2016-02-16T02:42:40.4719500Z', 'ESPA_VERSION': '2_23_0_1a', 'SOLAR_ZENITH_ANGLE': 52.705185, 'WRS_ROW': 36, 'GEOMETRIC_RMSE_MODEL_Y': 5.029, 'LEVEL1_PRODUCTION_DATE': 1490826505000, 'GEOMETRIC_RMSE_MODEL_X': 4.712, 'system:asset_size': 628587279, 'PIXEL_QA_VERSION': 'generate_pixel_qa_1.6.0', 'system:index': 'LC08_121036_20160216'}}, {'type': 'Image', 'bands': [{'id': 'B1', 'data_type': {'type': 'PixelType', 'precision': 'int', 'min': -32768, 'max': 32767}, 'dimensions': [7631, 7771], 'crs': 'EPSG:32650', 'crs_transform': [30, 0, 484485, 0, -30, 3946515]}, {'id': 'B2', 'data_type': {'type': 'PixelType', 'precision': 'int', 'min': -32768, 'max': 32767}, 'dimensions': [7631, 7771], 'crs': 'EPSG:32650', 'crs_transform': [30, 0, 484485, 0, -30, 3946515]}, {'id': 'B3', 'data_type': {'type': 'PixelType', 'precision': 'int', 'min': -32768, 'max': 32767}, 'dimensions': [7631, 7771], 'crs': 'EPSG:32650', 'crs_transform': [30, 0, 484485, 0, -30, 3946515]}, {'id': 'B4', 'data_type': {'type': 'PixelType', 'precision': 'int', 'min': -32768, 'max': 32767}, 'dimensions': [7631, 7771], 'crs': 'EPSG:32650', 'crs_transform': [30, 0, 484485, 0, -30, 3946515]}, {'id': 'B5', 'data_type': {'type': 'PixelType', 'precision': 'int', 'min': -32768, 'max': 32767}, 'dimensions': [7631, 7771], 'crs': 'EPSG:32650', 'crs_transform': [30, 0, 484485, 0, -30, 3946515]}, {'id': 'B6', 'data_type': {'type': 'PixelType', 'precision': 'int', 'min': -32768, 'max': 32767}, 'dimensions': [7631, 7771], 'crs': 'EPSG:32650', 'crs_transform': [30, 0, 484485, 0, -30, 3946515]}, {'id': 'B7', 'data_type': {'type': 'PixelType', 'precision': 'int', 'min': -32768, 'max': 32767}, 'dimensions': [7631, 7771], 'crs': 'EPSG:32650', 'crs_transform': [30, 0, 484485, 0, -30, 3946515]}, {'id': 'B10', 'data_type': {'type': 'PixelType', 'precision': 'int', 'min': -32768, 'max': 32767}, 'dimensions': [7631, 7771], 'crs': 'EPSG:32650', 'crs_transform': [30, 0, 484485, 0, -30, 3946515]}, {'id': 'B11', 'data_type': {'type': 'PixelType', 'precision': 'int', 'min': -32768, 'max': 32767}, 'dimensions': [7631, 7771], 'crs': 'EPSG:32650', 'crs_transform': [30, 0, 484485, 0, -30, 3946515]}, {'id': 'sr_aerosol', 'data_type': {'type': 'PixelType', 'precision': 'int', 'min': 0, 'max': 255}, 'dimensions': [7631, 7771], 'crs': 'EPSG:32650', 'crs_transform': [30, 0, 484485, 0, -30, 3946515]}, {'id': 'pixel_qa', 'data_type': {'type': 'PixelType', 'precision': 'int', 'min': 0, 'max': 65535}, 'dimensions': [7631, 7771], 'crs': 'EPSG:32650', 'crs_transform': [30, 0, 484485, 0, -30, 3946515]}, {'id': 'radsat_qa', 'data_type': {'type': 'PixelType', 'precision': 'int', 'min': 0, 'max': 65535}, 'dimensions': [7631, 7771], 'crs': 'EPSG:32650', 'crs_transform': [30, 0, 484485, 0, -30, 3946515]}], 'id': 'LANDSAT/LC08/C01/T1_SR/LC08_121036_20160303', 'version': 1522736636274894, 'properties': {'IMAGE_QUALITY_TIRS': 9, 'CLOUD_COVER': 2.43, 'EARTH_SUN_DISTANCE': 0.991391, 'LANDSAT_ID': 'LC08_L1TP_121036_20160303_20170328_01_T1', 'system:footprint': {'type': 'LinearRing', 'coordinates': [[118.80917078671986, 33.55433377356645], [118.81526718866967, 33.57537261113404], [118.86040087973554, 33.73121240607469], [118.89917318728044, 33.8647127476167], [118.94274324722578, 34.01436307091918], [118.98135141291417, 34.14657667357221], [119.0173835185396, 34.269668621993226], [119.07143485763618, 34.45377984332019], [119.12320138421323, 34.629480480069674], [119.1554626637436, 34.73870007803214], [119.18573954898528, 34.84099375641237], [119.21820621069342, 34.95048188577284], [119.26759744489421, 35.11652373162923], [119.31488135829693, 35.274892469842065], [119.31419962807219, 35.275478257382694], [119.08876567289481, 35.32037863566759], [117.45956235715191, 35.63104324748367], [117.31774991217976, 35.656933502227474], [117.31618896537852, 35.65693761104265], [116.85141694656403, 33.933989303356746], [118.80849817626978, 33.55273771917938], [118.80917078671986, 33.55433377356645]]}, 'CLOUD_COVER_LAND': 2.41, 'GEOMETRIC_RMSE_MODEL': 6.985, 'SR_APP_VERSION': 'LaSRC_1.3.0', 'SATELLITE': 'LANDSAT_8', 'SOLAR_AZIMUTH_ANGLE': 146.262161, 'IMAGE_QUALITY_OLI': 9, 'WRS_PATH': 121, 'system:time_start': 1456972958550, 'SENSING_TIME': '2016-03-03T02:42:38.5473690Z', 'ESPA_VERSION': '2_23_0_1a', 'SOLAR_ZENITH_ANGLE': 47.223324, 'WRS_ROW': 36, 'GEOMETRIC_RMSE_MODEL_Y': 4.914, 'LEVEL1_PRODUCTION_DATE': 1490705014000, 'GEOMETRIC_RMSE_MODEL_X': 4.963, 'system:asset_size': 636368526, 'PIXEL_QA_VERSION': 'generate_pixel_qa_1.6.0', 'system:index': 'LC08_121036_20160303'}}, {'type': 'Image', 'bands': [{'id': 'B1', 'data_type': {'type': 'PixelType', 'precision': 'int', 'min': -32768, 'max': 32767}, 'dimensions': [7631, 7771], 'crs': 'EPSG:32650', 'crs_transform': [30, 0, 484185, 0, -30, 3946515]}, {'id': 'B2', 'data_type': {'type': 'PixelType', 'precision': 'int', 'min': -32768, 'max': 32767}, 'dimensions': [7631, 7771], 'crs': 'EPSG:32650', 'crs_transform': [30, 0, 484185, 0, -30, 3946515]}, {'id': 'B3', 'data_type': {'type': 'PixelType', 'precision': 'int', 'min': -32768, 'max': 32767}, 'dimensions': [7631, 7771], 'crs': 'EPSG:32650', 'crs_transform': [30, 0, 484185, 0, -30, 3946515]}, {'id': 'B4', 'data_type': {'type': 'PixelType', 'precision': 'int', 'min': -32768, 'max': 32767}, 'dimensions': [7631, 7771], 'crs': 'EPSG:32650', 'crs_transform': [30, 0, 484185, 0, -30, 3946515]}, {'id': 'B5', 'data_type': {'type': 'PixelType', 'precision': 'int', 'min': -32768, 'max': 32767}, 'dimensions': [7631, 7771], 'crs': 'EPSG:32650', 'crs_transform': [30, 0, 484185, 0, -30, 3946515]}, {'id': 'B6', 'data_type': {'type': 'PixelType', 'precision': 'int', 'min': -32768, 'max': 32767}, 'dimensions': [7631, 7771], 'crs': 'EPSG:32650', 'crs_transform': [30, 0, 484185, 0, -30, 3946515]}, {'id': 'B7', 'data_type': {'type': 'PixelType', 'precision': 'int', 'min': -32768, 'max': 32767}, 'dimensions': [7631, 7771], 'crs': 'EPSG:32650', 'crs_transform': [30, 0, 484185, 0, -30, 3946515]}, {'id': 'B10', 'data_type': {'type': 'PixelType', 'precision': 'int', 'min': -32768, 'max': 32767}, 'dimensions': [7631, 7771], 'crs': 'EPSG:32650', 'crs_transform': [30, 0, 484185, 0, -30, 3946515]}, {'id': 'B11', 'data_type': {'type': 'PixelType', 'precision': 'int', 'min': -32768, 'max': 32767}, 'dimensions': [7631, 7771], 'crs': 'EPSG:32650', 'crs_transform': [30, 0, 484185, 0, -30, 3946515]}, {'id': 'sr_aerosol', 'data_type': {'type': 'PixelType', 'precision': 'int', 'min': 0, 'max': 255}, 'dimensions': [7631, 7771], 'crs': 'EPSG:32650', 'crs_transform': [30, 0, 484185, 0, -30, 3946515]}, {'id': 'pixel_qa', 'data_type': {'type': 'PixelType', 'precision': 'int', 'min': 0, 'max': 65535}, 'dimensions': [7631, 7771], 'crs': 'EPSG:32650', 'crs_transform': [30, 0, 484185, 0, -30, 3946515]}, {'id': 'radsat_qa', 'data_type': {'type': 'PixelType', 'precision': 'int', 'min': 0, 'max': 65535}, 'dimensions': [7631, 7771], 'crs': 'EPSG:32650', 'crs_transform': [30, 0, 484185, 0, -30, 3946515]}], 'id': 'LANDSAT/LC08/C01/T1_SR/LC08_121036_20160319', 'version': 1522736637852252, 'properties': {'IMAGE_QUALITY_TIRS': 9, 'CLOUD_COVER': 6.87, 'EARTH_SUN_DISTANCE': 0.99561, 'LANDSAT_ID': 'LC08_L1TP_121036_20160319_20170328_01_T1', 'system:footprint': {'type': 'LinearRing', 'coordinates': [[117.43784864880897, 33.822628222315714], [118.29793710498001, 33.654784854845396], [118.80258114395863, 33.553221171523546], [118.80427357653652, 33.55319652521895], [118.84088906281879, 33.679748726528246], [118.86414796125652, 33.76001497361454], [118.91853156212368, 33.94719015782836], [118.95226979293165, 34.06292815871876], [118.98413914107473, 34.17202082844352], [119.01495871720834, 34.277282369176135], [119.08684706745012, 34.52194934655071], [119.12054007744858, 34.63625123579813], [119.1491891048298, 34.733246705050945], [119.1946059909961, 34.886576746455745], [119.2197526198194, 34.97127860572057], [119.25069091614284, 35.07528391568819], [119.31046627503449, 35.275632129774266], [118.96132590048549, 35.34496169529392], [117.4562492218402, 35.631055905319094], [117.31192916666613, 35.657398095909336], [116.84707884317378, 33.93408164778882], [117.43784864880897, 33.822628222315714]]}, 'CLOUD_COVER_LAND': 6.79, 'GEOMETRIC_RMSE_MODEL': 7.004, 'SR_APP_VERSION': 'LaSRC_1.3.0', 'SATELLITE': 'LANDSAT_8', 'SOLAR_AZIMUTH_ANGLE': 143.25029, 'IMAGE_QUALITY_OLI': 9, 'WRS_PATH': 121, 'system:time_start': 1458355352960, 'SENSING_TIME': '2016-03-19T02:42:32.9655090Z', 'ESPA_VERSION': '2_23_0_1a', 'SOLAR_ZENITH_ANGLE': 41.228649, 'WRS_ROW': 36, 'GEOMETRIC_RMSE_MODEL_Y': 4.782, 'LEVEL1_PRODUCTION_DATE': 1490659778000, 'GEOMETRIC_RMSE_MODEL_X': 5.118, 'system:asset_size': 633648373, 'PIXEL_QA_VERSION': 'generate_pixel_qa_1.6.0', 'system:index': 'LC08_121036_20160319'}}, {'type': 'Image', 'bands': [{'id': 'B1', 'data_type': {'type': 'PixelType', 'precision': 'int', 'min': -32768, 'max': 32767}, 'dimensions': [7631, 7771], 'crs': 'EPSG:32650', 'crs_transform': [30, 0, 486285, 0, -30, 3946515]}, {'id': 'B2', 'data_type': {'type': 'PixelType', 'precision': 'int', 'min': -32768, 'max': 32767}, 'dimensions': [7631, 7771], 'crs': 'EPSG:32650', 'crs_transform': [30, 0, 486285, 0, -30, 3946515]}, {'id': 'B3', 'data_type': {'type': 'PixelType', 'precision': 'int', 'min': -32768, 'max': 32767}, 'dimensions': [7631, 7771], 'crs': 'EPSG:32650', 'crs_transform': [30, 0, 486285, 0, -30, 3946515]}, {'id': 'B4', 'data_type': {'type': 'PixelType', 'precision': 'int', 'min': -32768, 'max': 32767}, 'dimensions': [7631, 7771], 'crs': 'EPSG:32650', 'crs_transform': [30, 0, 486285, 0, -30, 3946515]}, {'id': 'B5', 'data_type': {'type': 'PixelType', 'precision': 'int', 'min': -32768, 'max': 32767}, 'dimensions': [7631, 7771], 'crs': 'EPSG:32650', 'crs_transform': [30, 0, 486285, 0, -30, 3946515]}, {'id': 'B6', 'data_type': {'type': 'PixelType', 'precision': 'int', 'min': -32768, 'max': 32767}, 'dimensions': [7631, 7771], 'crs': 'EPSG:32650', 'crs_transform': [30, 0, 486285, 0, -30, 3946515]}, {'id': 'B7', 'data_type': {'type': 'PixelType', 'precision': 'int', 'min': -32768, 'max': 32767}, 'dimensions': [7631, 7771], 'crs': 'EPSG:32650', 'crs_transform': [30, 0, 486285, 0, -30, 3946515]}, {'id': 'B10', 'data_type': {'type': 'PixelType', 'precision': 'int', 'min': -32768, 'max': 32767}, 'dimensions': [7631, 7771], 'crs': 'EPSG:32650', 'crs_transform': [30, 0, 486285, 0, -30, 3946515]}, {'id': 'B11', 'data_type': {'type': 'PixelType', 'precision': 'int', 'min': -32768, 'max': 32767}, 'dimensions': [7631, 7771], 'crs': 'EPSG:32650', 'crs_transform': [30, 0, 486285, 0, -30, 3946515]}, {'id': 'sr_aerosol', 'data_type': {'type': 'PixelType', 'precision': 'int', 'min': 0, 'max': 255}, 'dimensions': [7631, 7771], 'crs': 'EPSG:32650', 'crs_transform': [30, 0, 486285, 0, -30, 3946515]}, {'id': 'pixel_qa', 'data_type': {'type': 'PixelType', 'precision': 'int', 'min': 0, 'max': 65535}, 'dimensions': [7631, 7771], 'crs': 'EPSG:32650', 'crs_transform': [30, 0, 486285, 0, -30, 3946515]}, {'id': 'radsat_qa', 'data_type': {'type': 'PixelType', 'precision': 'int', 'min': 0, 'max': 65535}, 'dimensions': [7631, 7771], 'crs': 'EPSG:32650', 'crs_transform': [30, 0, 486285, 0, -30, 3946515]}], 'id': 'LANDSAT/LC08/C01/T1_SR/LC08_121036_20160725', 'version': 1582196792306737, 'properties': {'IMAGE_QUALITY_TIRS': 9, 'CLOUD_COVER': 2.77, 'EARTH_SUN_DISTANCE': 1.015719, 'LANDSAT_ID': 'LC08_L1TP_121036_20160725_20170322_01_T1', 'system:footprint': {'type': 'LinearRing', 'coordinates': [[118.82555148778181, 33.55312914307921], [118.82607554112498, 33.55355266132617], [118.82911028607892, 33.56394799873669], [118.84876633837091, 33.631746212117854], [118.9163478913166, 33.86417616029401], [118.98934202532958, 34.11406685453164], [119.05451606323642, 34.33613314168395], [119.13237764840429, 34.6002592352483], [119.2002163347084, 34.82922244730966], [119.24236922954553, 34.970991957212654], [119.27728605107718, 35.08806983262311], [119.33029717449412, 35.265340637394544], [119.3333251661993, 35.27553832465944], [119.32970661625296, 35.27635475895182], [119.2723107081752, 35.28785983325393], [117.33685280664155, 35.657963504328976], [117.33516413979514, 35.657968214571525], [116.86929514526852, 33.935194971988395], [116.87110643026259, 33.93469383625077], [118.8127809059025, 33.555702963442116], [118.82555148778181, 33.55312914307921]]}, 'CLOUD_COVER_LAND': 2.59, 'GEOMETRIC_RMSE_MODEL': 8.076, 'SR_APP_VERSION': 'LaSRC_1.3.0', 'SATELLITE': 'LANDSAT_8', 'SOLAR_AZIMUTH_ANGLE': 120.73336, 'IMAGE_QUALITY_OLI': 9, 'system:time_end': 1469414564968, 'WRS_PATH': 121, 'system:time_start': 1469414564968, 'SENSING_TIME': '2016-07-25T02:42:44.9684630Z', 'ESPA_VERSION': '2_23_0_1b', 'SOLAR_ZENITH_ANGLE': 25.181343, 'WRS_ROW': 36, 'GEOMETRIC_RMSE_MODEL_Y': 5.535, 'LEVEL1_PRODUCTION_DATE': 1490219684000, 'GEOMETRIC_RMSE_MODEL_X': 5.881, 'system:asset_size': 637611808, 'PIXEL_QA_VERSION': 'generate_pixel_qa_1.6.0', 'system:index': 'LC08_121036_20160725'}}, {'type': 'Image', 'bands': [{'id': 'B1', 'data_type': {'type': 'PixelType', 'precision': 'int', 'min': -32768, 'max': 32767}, 'dimensions': [7641, 7771], 'crs': 'EPSG:32650', 'crs_transform': [30, 0, 484785, 0, -30, 3946515]}, {'id': 'B2', 'data_type': {'type': 'PixelType', 'precision': 'int', 'min': -32768, 'max': 32767}, 'dimensions': [7641, 7771], 'crs': 'EPSG:32650', 'crs_transform': [30, 0, 484785, 0, -30, 3946515]}, {'id': 'B3', 'data_type': {'type': 'PixelType', 'precision': 'int', 'min': -32768, 'max': 32767}, 'dimensions': [7641, 7771], 'crs': 'EPSG:32650', 'crs_transform': [30, 0, 484785, 0, -30, 3946515]}, {'id': 'B4', 'data_type': {'type': 'PixelType', 'precision': 'int', 'min': -32768, 'max': 32767}, 'dimensions': [7641, 7771], 'crs': 'EPSG:32650', 'crs_transform': [30, 0, 484785, 0, -30, 3946515]}, {'id': 'B5', 'data_type': {'type': 'PixelType', 'precision': 'int', 'min': -32768, 'max': 32767}, 'dimensions': [7641, 7771], 'crs': 'EPSG:32650', 'crs_transform': [30, 0, 484785, 0, -30, 3946515]}, {'id': 'B6', 'data_type': {'type': 'PixelType', 'precision': 'int', 'min': -32768, 'max': 32767}, 'dimensions': [7641, 7771], 'crs': 'EPSG:32650', 'crs_transform': [30, 0, 484785, 0, -30, 3946515]}, {'id': 'B7', 'data_type': {'type': 'PixelType', 'precision': 'int', 'min': -32768, 'max': 32767}, 'dimensions': [7641, 7771], 'crs': 'EPSG:32650', 'crs_transform': [30, 0, 484785, 0, -30, 3946515]}, {'id': 'B10', 'data_type': {'type': 'PixelType', 'precision': 'int', 'min': -32768, 'max': 32767}, 'dimensions': [7641, 7771], 'crs': 'EPSG:32650', 'crs_transform': [30, 0, 484785, 0, -30, 3946515]}, {'id': 'B11', 'data_type': {'type': 'PixelType', 'precision': 'int', 'min': -32768, 'max': 32767}, 'dimensions': [7641, 7771], 'crs': 'EPSG:32650', 'crs_transform': [30, 0, 484785, 0, -30, 3946515]}, {'id': 'sr_aerosol', 'data_type': {'type': 'PixelType', 'precision': 'int', 'min': 0, 'max': 255}, 'dimensions': [7641, 7771], 'crs': 'EPSG:32650', 'crs_transform': [30, 0, 484785, 0, -30, 3946515]}, {'id': 'pixel_qa', 'data_type': {'type': 'PixelType', 'precision': 'int', 'min': 0, 'max': 65535}, 'dimensions': [7641, 7771], 'crs': 'EPSG:32650', 'crs_transform': [30, 0, 484785, 0, -30, 3946515]}, {'id': 'radsat_qa', 'data_type': {'type': 'PixelType', 'precision': 'int', 'min': 0, 'max': 65535}, 'dimensions': [7641, 7771], 'crs': 'EPSG:32650', 'crs_transform': [30, 0, 484785, 0, -30, 3946515]}], 'id': 'LANDSAT/LC08/C01/T1_SR/LC08_121036_20161216', 'version': 1582194555881980.0, 'properties': {'IMAGE_QUALITY_TIRS': 9, 'CLOUD_COVER': 0.69, 'EARTH_SUN_DISTANCE': 0.98411, 'LANDSAT_ID': 'LC08_L1TP_121036_20161216_20170316_01_T1', 'system:footprint': {'type': 'LinearRing', 'coordinates': [[119.31868807065084, 35.274246261085864], [119.31872892722376, 35.27567736751249], [119.27614369263237, 35.284204739602615], [119.09503250486094, 35.320270156861916], [117.32071985633272, 35.657716655454976], [116.85547553150288, 33.93447458135746], [117.3542829320364, 33.840483841854436], [118.37343045199951, 33.64152368710444], [118.81238058590912, 33.55296387739082], [118.81525296163457, 33.56274918331553], [118.8486191198128, 33.677970053072876], [118.88845083533425, 33.815178398296695], [118.93837877652693, 33.98664473680084], [118.96357272171072, 34.0729568489486], [119.03440924257798, 34.314858878823536], [119.10749572365813, 34.56324830411832], [119.1620345018774, 34.74777816754041], [119.19281823302674, 34.85163130505017], [119.21408332084202, 34.923257053350085], [119.26106880870617, 35.0812307071749], [119.31868807065084, 35.274246261085864]]}, 'CLOUD_COVER_LAND': 0.69, 'GEOMETRIC_RMSE_MODEL': 7.88, 'SR_APP_VERSION': 'LaSRC_1.3.0', 'SATELLITE': 'LANDSAT_8', 'SOLAR_AZIMUTH_ANGLE': 158.878342, 'IMAGE_QUALITY_OLI': 9, 'system:time_end': 1481856181077, 'WRS_PATH': 121, 'system:time_start': 1481856181077, 'SENSING_TIME': '2016-12-16T02:43:01.0777870Z', 'ESPA_VERSION': '2_23_0_1b', 'SOLAR_ZENITH_ANGLE': 60.989662, 'WRS_ROW': 36, 'GEOMETRIC_RMSE_MODEL_Y': 5.524, 'LEVEL1_PRODUCTION_DATE': 1489631319000, 'GEOMETRIC_RMSE_MODEL_X': 5.619, 'system:asset_size': 627636269, 'PIXEL_QA_VERSION': 'generate_pixel_qa_1.6.0', 'system:index': 'LC08_121036_20161216'}}, {'type': 'Image', 'bands': [{'id': 'B1', 'data_type': {'type': 'PixelType', 'precision': 'int', 'min': -32768, 'max': 32767}, 'dimensions': [7631, 7771], 'crs': 'EPSG:32650', 'crs_transform': [30, 0, 484785, 0, -30, 3946515]}, {'id': 'B2', 'data_type': {'type': 'PixelType', 'precision': 'int', 'min': -32768, 'max': 32767}, 'dimensions': [7631, 7771], 'crs': 'EPSG:32650', 'crs_transform': [30, 0, 484785, 0, -30, 3946515]}, {'id': 'B3', 'data_type': {'type': 'PixelType', 'precision': 'int', 'min': -32768, 'max': 32767}, 'dimensions': [7631, 7771], 'crs': 'EPSG:32650', 'crs_transform': [30, 0, 484785, 0, -30, 3946515]}, {'id': 'B4', 'data_type': {'type': 'PixelType', 'precision': 'int', 'min': -32768, 'max': 32767}, 'dimensions': [7631, 7771], 'crs': 'EPSG:32650', 'crs_transform': [30, 0, 484785, 0, -30, 3946515]}, {'id': 'B5', 'data_type': {'type': 'PixelType', 'precision': 'int', 'min': -32768, 'max': 32767}, 'dimensions': [7631, 7771], 'crs': 'EPSG:32650', 'crs_transform': [30, 0, 484785, 0, -30, 3946515]}, {'id': 'B6', 'data_type': {'type': 'PixelType', 'precision': 'int', 'min': -32768, 'max': 32767}, 'dimensions': [7631, 7771], 'crs': 'EPSG:32650', 'crs_transform': [30, 0, 484785, 0, -30, 3946515]}, {'id': 'B7', 'data_type': {'type': 'PixelType', 'precision': 'int', 'min': -32768, 'max': 32767}, 'dimensions': [7631, 7771], 'crs': 'EPSG:32650', 'crs_transform': [30, 0, 484785, 0, -30, 3946515]}, {'id': 'B10', 'data_type': {'type': 'PixelType', 'precision': 'int', 'min': -32768, 'max': 32767}, 'dimensions': [7631, 7771], 'crs': 'EPSG:32650', 'crs_transform': [30, 0, 484785, 0, -30, 3946515]}, {'id': 'B11', 'data_type': {'type': 'PixelType', 'precision': 'int', 'min': -32768, 'max': 32767}, 'dimensions': [7631, 7771], 'crs': 'EPSG:32650', 'crs_transform': [30, 0, 484785, 0, -30, 3946515]}, {'id': 'sr_aerosol', 'data_type': {'type': 'PixelType', 'precision': 'int', 'min': 0, 'max': 255}, 'dimensions': [7631, 7771], 'crs': 'EPSG:32650', 'crs_transform': [30, 0, 484785, 0, -30, 3946515]}, {'id': 'pixel_qa', 'data_type': {'type': 'PixelType', 'precision': 'int', 'min': 0, 'max': 65535}, 'dimensions': [7631, 7771], 'crs': 'EPSG:32650', 'crs_transform': [30, 0, 484785, 0, -30, 3946515]}, {'id': 'radsat_qa', 'data_type': {'type': 'PixelType', 'precision': 'int', 'min': 0, 'max': 65535}, 'dimensions': [7631, 7771], 'crs': 'EPSG:32650', 'crs_transform': [30, 0, 484785, 0, -30, 3946515]}], 'id': 'LANDSAT/LC08/C01/T1_SR/LC08_121036_20170202', 'version': 1522736650403219, 'properties': {'IMAGE_QUALITY_TIRS': 9, 'CLOUD_COVER': 0.08, 'EARTH_SUN_DISTANCE': 0.985524, 'LANDSAT_ID': 'LC08_L1TP_121036_20170202_20170215_01_T1', 'system:footprint': {'type': 'LinearRing', 'coordinates': [[118.81435478852966, 33.5530492220787], [118.81724589000277, 33.56295704153331], [118.82499400123038, 33.58971085052015], [118.84718479845425, 33.66634290950597], [118.94468888572575, 34.00199967167295], [118.99917406165346, 34.18854769682808], [119.0923278327966, 34.50589728108668], [119.11269893868092, 34.575059370460984], [119.18554927624865, 34.82151179734971], [119.21135098343821, 34.90849408202582], [119.23210141324901, 34.978354439201915], [119.25972391197654, 35.07118434686623], [119.32034120186712, 35.274394810801034], [119.3203739931101, 35.275541877026455], [118.5762769184254, 35.42200251861598], [117.32217252831745, 35.65737671576165], [116.85723624128393, 33.934046170888834], [116.88888333945395, 33.92814497668442], [117.20551873007172, 33.868690532716165], [118.32667200225488, 33.650962553351334], [118.81272417469904, 33.55307305118151], [118.81435478852966, 33.5530492220787]]}, 'CLOUD_COVER_LAND': 0.08, 'GEOMETRIC_RMSE_MODEL': 7.785, 'SR_APP_VERSION': 'LaSRC_1.3.0', 'SATELLITE': 'LANDSAT_8', 'SOLAR_AZIMUTH_ANGLE': 151.400146, 'IMAGE_QUALITY_OLI': 9, 'WRS_PATH': 121, 'system:time_start': 1486003367160, 'SENSING_TIME': '2017-02-02T02:42:47.1614320Z', 'ESPA_VERSION': '2_23_0_1a', 'SOLAR_ZENITH_ANGLE': 56.482143, 'WRS_ROW': 36, 'GEOMETRIC_RMSE_MODEL_Y': 5.512, 'LEVEL1_PRODUCTION_DATE': 1487149855000, 'GEOMETRIC_RMSE_MODEL_X': 5.498, 'system:asset_size': 619851847, 'PIXEL_QA_VERSION': 'generate_pixel_qa_1.6.0', 'system:index': 'LC08_121036_20170202'}}, {'type': 'Image', 'bands': [{'id': 'B1', 'data_type': {'type': 'PixelType', 'precision': 'int', 'min': -32768, 'max': 32767}, 'dimensions': [7641, 7771], 'crs': 'EPSG:32650', 'crs_transform': [30, 0, 484785, 0, -30, 3946515]}, {'id': 'B2', 'data_type': {'type': 'PixelType', 'precision': 'int', 'min': -32768, 'max': 32767}, 'dimensions': [7641, 7771], 'crs': 'EPSG:32650', 'crs_transform': [30, 0, 484785, 0, -30, 3946515]}, {'id': 'B3', 'data_type': {'type': 'PixelType', 'precision': 'int', 'min': -32768, 'max': 32767}, 'dimensions': [7641, 7771], 'crs': 'EPSG:32650', 'crs_transform': [30, 0, 484785, 0, -30, 3946515]}, {'id': 'B4', 'data_type': {'type': 'PixelType', 'precision': 'int', 'min': -32768, 'max': 32767}, 'dimensions': [7641, 7771], 'crs': 'EPSG:32650', 'crs_transform': [30, 0, 484785, 0, -30, 3946515]}, {'id': 'B5', 'data_type': {'type': 'PixelType', 'precision': 'int', 'min': -32768, 'max': 32767}, 'dimensions': [7641, 7771], 'crs': 'EPSG:32650', 'crs_transform': [30, 0, 484785, 0, -30, 3946515]}, {'id': 'B6', 'data_type': {'type': 'PixelType', 'precision': 'int', 'min': -32768, 'max': 32767}, 'dimensions': [7641, 7771], 'crs': 'EPSG:32650', 'crs_transform': [30, 0, 484785, 0, -30, 3946515]}, {'id': 'B7', 'data_type': {'type': 'PixelType', 'precision': 'int', 'min': -32768, 'max': 32767}, 'dimensions': [7641, 7771], 'crs': 'EPSG:32650', 'crs_transform': [30, 0, 484785, 0, -30, 3946515]}, {'id': 'B10', 'data_type': {'type': 'PixelType', 'precision': 'int', 'min': -32768, 'max': 32767}, 'dimensions': [7641, 7771], 'crs': 'EPSG:32650', 'crs_transform': [30, 0, 484785, 0, -30, 3946515]}, {'id': 'B11', 'data_type': {'type': 'PixelType', 'precision': 'int', 'min': -32768, 'max': 32767}, 'dimensions': [7641, 7771], 'crs': 'EPSG:32650', 'crs_transform': [30, 0, 484785, 0, -30, 3946515]}, {'id': 'sr_aerosol', 'data_type': {'type': 'PixelType', 'precision': 'int', 'min': 0, 'max': 255}, 'dimensions': [7641, 7771], 'crs': 'EPSG:32650', 'crs_transform': [30, 0, 484785, 0, -30, 3946515]}, {'id': 'pixel_qa', 'data_type': {'type': 'PixelType', 'precision': 'int', 'min': 0, 'max': 65535}, 'dimensions': [7641, 7771], 'crs': 'EPSG:32650', 'crs_transform': [30, 0, 484785, 0, -30, 3946515]}, {'id': 'radsat_qa', 'data_type': {'type': 'PixelType', 'precision': 'int', 'min': 0, 'max': 65535}, 'dimensions': [7641, 7771], 'crs': 'EPSG:32650', 'crs_transform': [30, 0, 484785, 0, -30, 3946515]}], 'id': 'LANDSAT/LC08/C01/T1_SR/LC08_121036_20170218', 'version': 1522736651166061, 'properties': {'IMAGE_QUALITY_TIRS': 9, 'CLOUD_COVER': 0.36, 'EARTH_SUN_DISTANCE': 0.988352, 'LANDSAT_ID': 'LC08_L1TP_121036_20170218_20170228_01_T1', 'system:footprint': {'type': 'LinearRing', 'coordinates': [[116.85549467559126, 33.93809173200745], [116.85468415115693, 33.93468874518837], [116.8559546724738, 33.93416111863094], [118.81153788321971, 33.553285275974034], [118.81691511525186, 33.57177502334901], [118.8353373228475, 33.63547289316381], [118.89860352031046, 33.85363029557486], [118.92453725411978, 33.942747397761465], [118.96513069522108, 34.08197891570813], [118.99164057537003, 34.17271078478865], [119.06299709017568, 34.41605471689582], [119.08545924778224, 34.49249078593268], [119.11905876296318, 34.606594700587515], [119.16751165743301, 34.77060415816806], [119.22678978979398, 34.9705806723483], [119.2577514516106, 35.07470113852301], [119.31737950219697, 35.27461387427808], [119.31742292930777, 35.27613877424136], [119.30536086859941, 35.27858012163739], [119.0421732591061, 35.33091116993628], [117.32127379022458, 35.657465078392285], [117.31924878982932, 35.65747054350622], [116.85549467559126, 33.93809173200745]]}, 'CLOUD_COVER_LAND': 0.35, 'GEOMETRIC_RMSE_MODEL': 6.93, 'SR_APP_VERSION': 'LaSRC_1.3.0', 'SATELLITE': 'LANDSAT_8', 'SOLAR_AZIMUTH_ANGLE': 148.593338, 'IMAGE_QUALITY_OLI': 9, 'WRS_PATH': 121, 'system:time_start': 1487385760610, 'SENSING_TIME': '2017-02-18T02:42:40.6114800Z', 'ESPA_VERSION': '2_23_0_1a', 'SOLAR_ZENITH_ANGLE': 51.822113, 'WRS_ROW': 36, 'GEOMETRIC_RMSE_MODEL_Y': 5.096, 'LEVEL1_PRODUCTION_DATE': 1488319530000, 'GEOMETRIC_RMSE_MODEL_X': 4.696, 'system:asset_size': 635517752, 'PIXEL_QA_VERSION': 'generate_pixel_qa_1.6.0', 'system:index': 'LC08_121036_20170218'}}, {'type': 'Image', 'bands': [{'id': 'B1', 'data_type': {'type': 'PixelType', 'precision': 'int', 'min': -32768, 'max': 32767}, 'dimensions': [7631, 7771], 'crs': 'EPSG:32650', 'crs_transform': [30, 0, 484485, 0, -30, 3946515]}, {'id': 'B2', 'data_type': {'type': 'PixelType', 'precision': 'int', 'min': -32768, 'max': 32767}, 'dimensions': [7631, 7771], 'crs': 'EPSG:32650', 'crs_transform': [30, 0, 484485, 0, -30, 3946515]}, {'id': 'B3', 'data_type': {'type': 'PixelType', 'precision': 'int', 'min': -32768, 'max': 32767}, 'dimensions': [7631, 7771], 'crs': 'EPSG:32650', 'crs_transform': [30, 0, 484485, 0, -30, 3946515]}, {'id': 'B4', 'data_type': {'type': 'PixelType', 'precision': 'int', 'min': -32768, 'max': 32767}, 'dimensions': [7631, 7771], 'crs': 'EPSG:32650', 'crs_transform': [30, 0, 484485, 0, -30, 3946515]}, {'id': 'B5', 'data_type': {'type': 'PixelType', 'precision': 'int', 'min': -32768, 'max': 32767}, 'dimensions': [7631, 7771], 'crs': 'EPSG:32650', 'crs_transform': [30, 0, 484485, 0, -30, 3946515]}, {'id': 'B6', 'data_type': {'type': 'PixelType', 'precision': 'int', 'min': -32768, 'max': 32767}, 'dimensions': [7631, 7771], 'crs': 'EPSG:32650', 'crs_transform': [30, 0, 484485, 0, -30, 3946515]}, {'id': 'B7', 'data_type': {'type': 'PixelType', 'precision': 'int', 'min': -32768, 'max': 32767}, 'dimensions': [7631, 7771], 'crs': 'EPSG:32650', 'crs_transform': [30, 0, 484485, 0, -30, 3946515]}, {'id': 'B10', 'data_type': {'type': 'PixelType', 'precision': 'int', 'min': -32768, 'max': 32767}, 'dimensions': [7631, 7771], 'crs': 'EPSG:32650', 'crs_transform': [30, 0, 484485, 0, -30, 3946515]}, {'id': 'B11', 'data_type': {'type': 'PixelType', 'precision': 'int', 'min': -32768, 'max': 32767}, 'dimensions': [7631, 7771], 'crs': 'EPSG:32650', 'crs_transform': [30, 0, 484485, 0, -30, 3946515]}, {'id': 'sr_aerosol', 'data_type': {'type': 'PixelType', 'precision': 'int', 'min': 0, 'max': 255}, 'dimensions': [7631, 7771], 'crs': 'EPSG:32650', 'crs_transform': [30, 0, 484485, 0, -30, 3946515]}, {'id': 'pixel_qa', 'data_type': {'type': 'PixelType', 'precision': 'int', 'min': 0, 'max': 65535}, 'dimensions': [7631, 7771], 'crs': 'EPSG:32650', 'crs_transform': [30, 0, 484485, 0, -30, 3946515]}, {'id': 'radsat_qa', 'data_type': {'type': 'PixelType', 'precision': 'int', 'min': 0, 'max': 65535}, 'dimensions': [7631, 7771], 'crs': 'EPSG:32650', 'crs_transform': [30, 0, 484485, 0, -30, 3946515]}], 'id': 'LANDSAT/LC08/C01/T1_SR/LC08_121036_20170306', 'version': 1522736651828153, 'properties': {'IMAGE_QUALITY_TIRS': 9, 'CLOUD_COVER': 1.08, 'EARTH_SUN_DISTANCE': 0.992084, 'LANDSAT_ID': 'LC08_L1TP_121036_20170306_20170316_01_T1', 'system:footprint': {'type': 'LinearRing', 'coordinates': [[119.0673382305564, 34.44654619541457], [119.09267080122821, 34.532668919218274], [119.11531059634892, 34.609495509053005], [119.15651039043155, 34.74902087757198], [119.20066141369563, 34.89807375422304], [119.22021245106971, 34.963967997341484], [119.25111279148251, 35.06792517910713], [119.31320521094541, 35.27622312722207], [117.31485014287787, 35.657841699497965], [116.85022144889489, 33.934649320516826], [116.85132697662833, 33.93419026668136], [118.5932072151395, 33.59668183462669], [118.8053500118539, 33.553721897106215], [118.80715730403315, 33.553695580114486], [118.81782438847848, 33.59054318179377], [118.85798838140887, 33.72929163987335], [118.88634646759496, 33.827037252805944], [118.95422810480707, 34.060241875501156], [118.97364757052414, 34.12674588649492], [119.02701636394058, 34.30911395678217], [119.0673382305564, 34.44654619541457]]}, 'CLOUD_COVER_LAND': 1.08, 'GEOMETRIC_RMSE_MODEL': 7.023, 'SR_APP_VERSION': 'LaSRC_1.3.0', 'SATELLITE': 'LANDSAT_8', 'SOLAR_AZIMUTH_ANGLE': 145.749496, 'IMAGE_QUALITY_OLI': 9, 'WRS_PATH': 121, 'system:time_start': 1488768153970, 'SENSING_TIME': '2017-03-06T02:42:33.9700350Z', 'ESPA_VERSION': '2_23_0_1a', 'SOLAR_ZENITH_ANGLE': 46.218231, 'WRS_ROW': 36, 'GEOMETRIC_RMSE_MODEL_Y': 5.283, 'LEVEL1_PRODUCTION_DATE': 1489702165000, 'GEOMETRIC_RMSE_MODEL_X': 4.628, 'system:asset_size': 646516310, 'PIXEL_QA_VERSION': 'generate_pixel_qa_1.6.0', 'system:index': 'LC08_121036_20170306'}}, {'type': 'Image', 'bands': [{'id': 'B1', 'data_type': {'type': 'PixelType', 'precision': 'int', 'min': -32768, 'max': 32767}, 'dimensions': [7631, 7771], 'crs': 'EPSG:32650', 'crs_transform': [30, 0, 483585, 0, -30, 3946515]}, {'id': 'B2', 'data_type': {'type': 'PixelType', 'precision': 'int', 'min': -32768, 'max': 32767}, 'dimensions': [7631, 7771], 'crs': 'EPSG:32650', 'crs_transform': [30, 0, 483585, 0, -30, 3946515]}, {'id': 'B3', 'data_type': {'type': 'PixelType', 'precision': 'int', 'min': -32768, 'max': 32767}, 'dimensions': [7631, 7771], 'crs': 'EPSG:32650', 'crs_transform': [30, 0, 483585, 0, -30, 3946515]}, {'id': 'B4', 'data_type': {'type': 'PixelType', 'precision': 'int', 'min': -32768, 'max': 32767}, 'dimensions': [7631, 7771], 'crs': 'EPSG:32650', 'crs_transform': [30, 0, 483585, 0, -30, 3946515]}, {'id': 'B5', 'data_type': {'type': 'PixelType', 'precision': 'int', 'min': -32768, 'max': 32767}, 'dimensions': [7631, 7771], 'crs': 'EPSG:32650', 'crs_transform': [30, 0, 483585, 0, -30, 3946515]}, {'id': 'B6', 'data_type': {'type': 'PixelType', 'precision': 'int', 'min': -32768, 'max': 32767}, 'dimensions': [7631, 7771], 'crs': 'EPSG:32650', 'crs_transform': [30, 0, 483585, 0, -30, 3946515]}, {'id': 'B7', 'data_type': {'type': 'PixelType', 'precision': 'int', 'min': -32768, 'max': 32767}, 'dimensions': [7631, 7771], 'crs': 'EPSG:32650', 'crs_transform': [30, 0, 483585, 0, -30, 3946515]}, {'id': 'B10', 'data_type': {'type': 'PixelType', 'precision': 'int', 'min': -32768, 'max': 32767}, 'dimensions': [7631, 7771], 'crs': 'EPSG:32650', 'crs_transform': [30, 0, 483585, 0, -30, 3946515]}, {'id': 'B11', 'data_type': {'type': 'PixelType', 'precision': 'int', 'min': -32768, 'max': 32767}, 'dimensions': [7631, 7771], 'crs': 'EPSG:32650', 'crs_transform': [30, 0, 483585, 0, -30, 3946515]}, {'id': 'sr_aerosol', 'data_type': {'type': 'PixelType', 'precision': 'int', 'min': 0, 'max': 255}, 'dimensions': [7631, 7771], 'crs': 'EPSG:32650', 'crs_transform': [30, 0, 483585, 0, -30, 3946515]}, {'id': 'pixel_qa', 'data_type': {'type': 'PixelType', 'precision': 'int', 'min': 0, 'max': 65535}, 'dimensions': [7631, 7771], 'crs': 'EPSG:32650', 'crs_transform': [30, 0, 483585, 0, -30, 3946515]}, {'id': 'radsat_qa', 'data_type': {'type': 'PixelType', 'precision': 'int', 'min': 0, 'max': 65535}, 'dimensions': [7631, 7771], 'crs': 'EPSG:32650', 'crs_transform': [30, 0, 483585, 0, -30, 3946515]}], 'id': 'LANDSAT/LC08/C01/T1_SR/LC08_121036_20170423', 'version': 1522736653294088, 'properties': {'IMAGE_QUALITY_TIRS': 9, 'CLOUD_COVER': 0.35, 'EARTH_SUN_DISTANCE': 1.005479, 'LANDSAT_ID': 'LC08_L1TP_121036_20170423_20170502_01_T1', 'system:footprint': {'type': 'LinearRing', 'coordinates': [[118.78569148575653, 33.55575651230271], [118.79741863252282, 33.55339573087166], [118.80324533164391, 33.57344228727542], [118.81339152087246, 33.608517120245665], [118.83891768189802, 33.69677542191827], [118.88944466085333, 33.87105262213731], [118.94306424949605, 34.05527930858236], [118.98793635702475, 34.20901774845496], [119.04045535530977, 34.3883023336077], [119.08400244514088, 34.536442793386236], [119.16267780317827, 34.80313564450085], [119.20025323249854, 34.92994759988906], [119.26218468517486, 35.1382998652228], [119.30287377814616, 35.27477180858867], [119.30291641180253, 35.27627852070029], [118.59959195072872, 35.41466370949717], [117.83453954537755, 35.56005492460739], [117.30483474068974, 35.65758851103579], [116.84043970972448, 33.93434000632943], [116.84230148114841, 33.93382534986805], [118.78569148575653, 33.55575651230271]]}, 'CLOUD_COVER_LAND': 0.33, 'GEOMETRIC_RMSE_MODEL': 7.625, 'SR_APP_VERSION': 'LaSRC_1.3.0', 'SATELLITE': 'LANDSAT_8', 'SOLAR_AZIMUTH_ANGLE': 134.100632, 'IMAGE_QUALITY_OLI': 9, 'WRS_PATH': 121, 'system:time_start': 1492915327330, 'SENSING_TIME': '2017-04-23T02:42:07.3310280Z', 'ESPA_VERSION': '2_23_0_1a', 'SOLAR_ZENITH_ANGLE': 29.12524, 'WRS_ROW': 36, 'GEOMETRIC_RMSE_MODEL_Y': 5.304, 'LEVEL1_PRODUCTION_DATE': 1493683489000, 'GEOMETRIC_RMSE_MODEL_X': 5.479, 'system:asset_size': 665812435, 'PIXEL_QA_VERSION': 'generate_pixel_qa_1.6.0', 'system:index': 'LC08_121036_20170423'}}, {'type': 'Image', 'bands': [{'id': 'B1', 'data_type': {'type': 'PixelType', 'precision': 'int', 'min': -32768, 'max': 32767}, 'dimensions': [7631, 7781], 'crs': 'EPSG:32650', 'crs_transform': [30, 0, 485985, 0, -30, 3946515]}, {'id': 'B2', 'data_type': {'type': 'PixelType', 'precision': 'int', 'min': -32768, 'max': 32767}, 'dimensions': [7631, 7781], 'crs': 'EPSG:32650', 'crs_transform': [30, 0, 485985, 0, -30, 3946515]}, {'id': 'B3', 'data_type': {'type': 'PixelType', 'precision': 'int', 'min': -32768, 'max': 32767}, 'dimensions': [7631, 7781], 'crs': 'EPSG:32650', 'crs_transform': [30, 0, 485985, 0, -30, 3946515]}, {'id': 'B4', 'data_type': {'type': 'PixelType', 'precision': 'int', 'min': -32768, 'max': 32767}, 'dimensions': [7631, 7781], 'crs': 'EPSG:32650', 'crs_transform': [30, 0, 485985, 0, -30, 3946515]}, {'id': 'B5', 'data_type': {'type': 'PixelType', 'precision': 'int', 'min': -32768, 'max': 32767}, 'dimensions': [7631, 7781], 'crs': 'EPSG:32650', 'crs_transform': [30, 0, 485985, 0, -30, 3946515]}, {'id': 'B6', 'data_type': {'type': 'PixelType', 'precision': 'int', 'min': -32768, 'max': 32767}, 'dimensions': [7631, 7781], 'crs': 'EPSG:32650', 'crs_transform': [30, 0, 485985, 0, -30, 3946515]}, {'id': 'B7', 'data_type': {'type': 'PixelType', 'precision': 'int', 'min': -32768, 'max': 32767}, 'dimensions': [7631, 7781], 'crs': 'EPSG:32650', 'crs_transform': [30, 0, 485985, 0, -30, 3946515]}, {'id': 'B10', 'data_type': {'type': 'PixelType', 'precision': 'int', 'min': -32768, 'max': 32767}, 'dimensions': [7631, 7781], 'crs': 'EPSG:32650', 'crs_transform': [30, 0, 485985, 0, -30, 3946515]}, {'id': 'B11', 'data_type': {'type': 'PixelType', 'precision': 'int', 'min': -32768, 'max': 32767}, 'dimensions': [7631, 7781], 'crs': 'EPSG:32650', 'crs_transform': [30, 0, 485985, 0, -30, 3946515]}, {'id': 'sr_aerosol', 'data_type': {'type': 'PixelType', 'precision': 'int', 'min': 0, 'max': 255}, 'dimensions': [7631, 7781], 'crs': 'EPSG:32650', 'crs_transform': [30, 0, 485985, 0, -30, 3946515]}, {'id': 'pixel_qa', 'data_type': {'type': 'PixelType', 'precision': 'int', 'min': 0, 'max': 65535}, 'dimensions': [7631, 7781], 'crs': 'EPSG:32650', 'crs_transform': [30, 0, 485985, 0, -30, 3946515]}, {'id': 'radsat_qa', 'data_type': {'type': 'PixelType', 'precision': 'int', 'min': 0, 'max': 65535}, 'dimensions': [7631, 7781], 'crs': 'EPSG:32650', 'crs_transform': [30, 0, 485985, 0, -30, 3946515]}], 'id': 'LANDSAT/LC08/C01/T1_SR/LC08_121036_20170525', 'version': 1522736654729376, 'properties': {'IMAGE_QUALITY_TIRS': 9, 'CLOUD_COVER': 7.02, 'EARTH_SUN_DISTANCE': 1.012879, 'LANDSAT_ID': 'LC08_L1TP_121036_20170525_20170614_01_T1', 'system:footprint': {'type': 'LinearRing', 'coordinates': [[116.8673752780344, 33.934619106504115], [116.8711919882531, 33.933828108912614], [118.65090139504342, 33.58753853606004], [118.82245541194557, 33.552659617209315], [118.82443322289694, 33.55263051157032], [118.82742407689693, 33.56281445442272], [118.89818617794683, 33.80647701450105], [118.94608028792274, 33.97072339101266], [118.99009974504126, 34.12122098039678], [119.06779781603979, 34.385679074032254], [119.14287242824444, 34.63992172968863], [119.20859207733824, 34.861405980530336], [119.27187488565333, 35.073896202127585], [119.33152303610758, 35.273329407383024], [119.33156566148875, 35.27481517400988], [119.31524172040181, 35.27812078845251], [117.89240372278202, 35.55423070797817], [117.49863562615172, 35.62737144914747], [117.33348397734882, 35.65762303499484], [116.8673752780344, 33.934619106504115]]}, 'CLOUD_COVER_LAND': 6.9, 'GEOMETRIC_RMSE_MODEL': 7.676, 'SR_APP_VERSION': 'LaSRC_1.3.0', 'SATELLITE': 'LANDSAT_8', 'SOLAR_AZIMUTH_ANGLE': 121.665009, 'IMAGE_QUALITY_OLI': 9, 'WRS_PATH': 121, 'system:time_start': 1495680137490, 'SENSING_TIME': '2017-05-25T02:42:17.4893260Z', 'ESPA_VERSION': '2_23_0_1a', 'SOLAR_ZENITH_ANGLE': 22.65712, 'WRS_ROW': 36, 'GEOMETRIC_RMSE_MODEL_Y': 5.319, 'LEVEL1_PRODUCTION_DATE': 1497452213000, 'GEOMETRIC_RMSE_MODEL_X': 5.535, 'system:asset_size': 666326295, 'PIXEL_QA_VERSION': 'generate_pixel_qa_1.6.0', 'system:index': 'LC08_121036_20170525'}}, {'type': 'Image', 'bands': [{'id': 'B1', 'data_type': {'type': 'PixelType', 'precision': 'int', 'min': -32768, 'max': 32767}, 'dimensions': [7631, 7771], 'crs': 'EPSG:32650', 'crs_transform': [30, 0, 486885, 0, -30, 3946515]}, {'id': 'B2', 'data_type': {'type': 'PixelType', 'precision': 'int', 'min': -32768, 'max': 32767}, 'dimensions': [7631, 7771], 'crs': 'EPSG:32650', 'crs_transform': [30, 0, 486885, 0, -30, 3946515]}, {'id': 'B3', 'data_type': {'type': 'PixelType', 'precision': 'int', 'min': -32768, 'max': 32767}, 'dimensions': [7631, 7771], 'crs': 'EPSG:32650', 'crs_transform': [30, 0, 486885, 0, -30, 3946515]}, {'id': 'B4', 'data_type': {'type': 'PixelType', 'precision': 'int', 'min': -32768, 'max': 32767}, 'dimensions': [7631, 7771], 'crs': 'EPSG:32650', 'crs_transform': [30, 0, 486885, 0, -30, 3946515]}, {'id': 'B5', 'data_type': {'type': 'PixelType', 'precision': 'int', 'min': -32768, 'max': 32767}, 'dimensions': [7631, 7771], 'crs': 'EPSG:32650', 'crs_transform': [30, 0, 486885, 0, -30, 3946515]}, {'id': 'B6', 'data_type': {'type': 'PixelType', 'precision': 'int', 'min': -32768, 'max': 32767}, 'dimensions': [7631, 7771], 'crs': 'EPSG:32650', 'crs_transform': [30, 0, 486885, 0, -30, 3946515]}, {'id': 'B7', 'data_type': {'type': 'PixelType', 'precision': 'int', 'min': -32768, 'max': 32767}, 'dimensions': [7631, 7771], 'crs': 'EPSG:32650', 'crs_transform': [30, 0, 486885, 0, -30, 3946515]}, {'id': 'B10', 'data_type': {'type': 'PixelType', 'precision': 'int', 'min': -32768, 'max': 32767}, 'dimensions': [7631, 7771], 'crs': 'EPSG:32650', 'crs_transform': [30, 0, 486885, 0, -30, 3946515]}, {'id': 'B11', 'data_type': {'type': 'PixelType', 'precision': 'int', 'min': -32768, 'max': 32767}, 'dimensions': [7631, 7771], 'crs': 'EPSG:32650', 'crs_transform': [30, 0, 486885, 0, -30, 3946515]}, {'id': 'sr_aerosol', 'data_type': {'type': 'PixelType', 'precision': 'int', 'min': 0, 'max': 255}, 'dimensions': [7631, 7771], 'crs': 'EPSG:32650', 'crs_transform': [30, 0, 486885, 0, -30, 3946515]}, {'id': 'pixel_qa', 'data_type': {'type': 'PixelType', 'precision': 'int', 'min': 0, 'max': 65535}, 'dimensions': [7631, 7771], 'crs': 'EPSG:32650', 'crs_transform': [30, 0, 486885, 0, -30, 3946515]}, {'id': 'radsat_qa', 'data_type': {'type': 'PixelType', 'precision': 'int', 'min': 0, 'max': 65535}, 'dimensions': [7631, 7771], 'crs': 'EPSG:32650', 'crs_transform': [30, 0, 486885, 0, -30, 3946515]}], 'id': 'LANDSAT/LC08/C01/T1_SR/LC08_121036_20170914', 'version': 1522736657330423, 'properties': {'IMAGE_QUALITY_TIRS': 9, 'CLOUD_COVER': 0.3, 'EARTH_SUN_DISTANCE': 1.005924, 'LANDSAT_ID': 'LC08_L1TP_121036_20170914_20170928_01_T1', 'system:footprint': {'type': 'LinearRing', 'coordinates': [[117.3427969215492, 35.65794677662756], [117.34131283737914, 35.65795098481364], [116.87565785258383, 33.93512114678344], [117.6382770458558, 33.79036761770994], [118.45538880335508, 33.62949346713378], [118.83239311865297, 33.55325187370916], [118.83293261940715, 33.55411680990818], [118.83838353601176, 33.572882271003046], [118.90156416618105, 33.79057996805175], [118.92774024833804, 33.880499956195564], [118.96279337373039, 34.00066585068618], [118.99534426058925, 34.11197742224793], [119.04255292141212, 34.27303846077932], [119.07063972270849, 34.368590404567136], [119.10129765832394, 34.47274465091841], [119.17872963577916, 34.73481212333285], [119.24846935656463, 34.96964643910348], [119.2706525189956, 35.044111636930005], [119.33946665209572, 35.27434217591182], [119.33950768013489, 35.27576920614476], [118.90922422328002, 35.361212211275344], [117.3427969215492, 35.65794677662756]]}, 'CLOUD_COVER_LAND': 0.3, 'GEOMETRIC_RMSE_MODEL': 8.28, 'SR_APP_VERSION': 'LaSRC_1.3.0', 'SATELLITE': 'LANDSAT_8', 'SOLAR_AZIMUTH_ANGLE': 144.697876, 'IMAGE_QUALITY_OLI': 9, 'WRS_PATH': 121, 'system:time_start': 1505356971380, 'SENSING_TIME': '2017-09-14T02:42:51.3807650Z', 'ESPA_VERSION': '2_23_0_1a', 'SOLAR_ZENITH_ANGLE': 36.380775, 'WRS_ROW': 36, 'GEOMETRIC_RMSE_MODEL_Y': 5.921, 'LEVEL1_PRODUCTION_DATE': 1506597783000, 'GEOMETRIC_RMSE_MODEL_X': 5.788, 'system:asset_size': 636860150, 'PIXEL_QA_VERSION': 'generate_pixel_qa_1.6.0', 'system:index': 'LC08_121036_20170914'}}, {'type': 'Image', 'bands': [{'id': 'B1', 'data_type': {'type': 'PixelType', 'precision': 'int', 'min': -32768, 'max': 32767}, 'dimensions': [7631, 7781], 'crs': 'EPSG:32650', 'crs_transform': [30, 0, 483885, 0, -30, 3946515]}, {'id': 'B2', 'data_type': {'type': 'PixelType', 'precision': 'int', 'min': -32768, 'max': 32767}, 'dimensions': [7631, 7781], 'crs': 'EPSG:32650', 'crs_transform': [30, 0, 483885, 0, -30, 3946515]}, {'id': 'B3', 'data_type': {'type': 'PixelType', 'precision': 'int', 'min': -32768, 'max': 32767}, 'dimensions': [7631, 7781], 'crs': 'EPSG:32650', 'crs_transform': [30, 0, 483885, 0, -30, 3946515]}, {'id': 'B4', 'data_type': {'type': 'PixelType', 'precision': 'int', 'min': -32768, 'max': 32767}, 'dimensions': [7631, 7781], 'crs': 'EPSG:32650', 'crs_transform': [30, 0, 483885, 0, -30, 3946515]}, {'id': 'B5', 'data_type': {'type': 'PixelType', 'precision': 'int', 'min': -32768, 'max': 32767}, 'dimensions': [7631, 7781], 'crs': 'EPSG:32650', 'crs_transform': [30, 0, 483885, 0, -30, 3946515]}, {'id': 'B6', 'data_type': {'type': 'PixelType', 'precision': 'int', 'min': -32768, 'max': 32767}, 'dimensions': [7631, 7781], 'crs': 'EPSG:32650', 'crs_transform': [30, 0, 483885, 0, -30, 3946515]}, {'id': 'B7', 'data_type': {'type': 'PixelType', 'precision': 'int', 'min': -32768, 'max': 32767}, 'dimensions': [7631, 7781], 'crs': 'EPSG:32650', 'crs_transform': [30, 0, 483885, 0, -30, 3946515]}, {'id': 'B10', 'data_type': {'type': 'PixelType', 'precision': 'int', 'min': -32768, 'max': 32767}, 'dimensions': [7631, 7781], 'crs': 'EPSG:32650', 'crs_transform': [30, 0, 483885, 0, -30, 3946515]}, {'id': 'B11', 'data_type': {'type': 'PixelType', 'precision': 'int', 'min': -32768, 'max': 32767}, 'dimensions': [7631, 7781], 'crs': 'EPSG:32650', 'crs_transform': [30, 0, 483885, 0, -30, 3946515]}, {'id': 'sr_aerosol', 'data_type': {'type': 'PixelType', 'precision': 'int', 'min': 0, 'max': 255}, 'dimensions': [7631, 7781], 'crs': 'EPSG:32650', 'crs_transform': [30, 0, 483885, 0, -30, 3946515]}, {'id': 'pixel_qa', 'data_type': {'type': 'PixelType', 'precision': 'int', 'min': 0, 'max': 65535}, 'dimensions': [7631, 7781], 'crs': 'EPSG:32650', 'crs_transform': [30, 0, 483885, 0, -30, 3946515]}, {'id': 'radsat_qa', 'data_type': {'type': 'PixelType', 'precision': 'int', 'min': 0, 'max': 65535}, 'dimensions': [7631, 7781], 'crs': 'EPSG:32650', 'crs_transform': [30, 0, 483885, 0, -30, 3946515]}], 'id': 'LANDSAT/LC08/C01/T1_SR/LC08_121036_20171219', 'version': 1522736660755197, 'properties': {'IMAGE_QUALITY_TIRS': 9, 'CLOUD_COVER': 3.56, 'EARTH_SUN_DISTANCE': 0.983951, 'LANDSAT_ID': 'LC08_L1TP_121036_20171219_20171224_01_T1', 'system:footprint': {'type': 'LinearRing', 'coordinates': [[116.84163804770269, 33.93478086147972], [117.02485927764268, 33.90051643294869], [118.52681453976378, 33.608341083118624], [118.79734695572667, 33.553567912626626], [118.79892863986322, 33.553544865568306], [118.80307130389113, 33.56775035089364], [118.84114848596028, 33.699221374582216], [118.91098615378614, 33.93949611919157], [118.96734512616868, 34.132574702863806], [118.9986200382103, 34.239372373327654], [119.03140043719117, 34.35112541994342], [119.11056568471307, 34.61999509642133], [119.14820538840523, 34.74727005552387], [119.16759584883552, 34.812743542776204], [119.22786158291613, 35.01574646244145], [119.25429543796409, 35.104514573961154], [119.30542636909753, 35.27574604285936], [119.30366351810156, 35.276265486931095], [119.29085777681345, 35.27885570060022], [117.31122839863554, 35.657215189677885], [117.3067783655105, 35.65795343521839], [116.84163804770269, 33.93478086147972]]}, 'CLOUD_COVER_LAND': 3.57, 'GEOMETRIC_RMSE_MODEL': 7.891, 'SR_APP_VERSION': 'LaSRC_1.3.0', 'SATELLITE': 'LANDSAT_8', 'SOLAR_AZIMUTH_ANGLE': 158.545746, 'IMAGE_QUALITY_OLI': 9, 'WRS_PATH': 121, 'system:time_start': 1513651376660, 'SENSING_TIME': '2017-12-19T02:42:56.6574810Z', 'ESPA_VERSION': '2_23_0_1a', 'SOLAR_ZENITH_ANGLE': 61.180031, 'WRS_ROW': 36, 'GEOMETRIC_RMSE_MODEL_Y': 6.045, 'LEVEL1_PRODUCTION_DATE': 1514110530000, 'GEOMETRIC_RMSE_MODEL_X': 5.072, 'system:asset_size': 642850729, 'PIXEL_QA_VERSION': 'generate_pixel_qa_1.6.0', 'system:index': 'LC08_121036_20171219'}}, {'type': 'Image', 'bands': [{'id': 'B1', 'data_type': {'type': 'PixelType', 'precision': 'int', 'min': -32768, 'max': 32767}, 'dimensions': [7641, 7771], 'crs': 'EPSG:32650', 'crs_transform': [30, 0, 485985, 0, -30, 3946515]}, {'id': 'B2', 'data_type': {'type': 'PixelType', 'precision': 'int', 'min': -32768, 'max': 32767}, 'dimensions': [7641, 7771], 'crs': 'EPSG:32650', 'crs_transform': [30, 0, 485985, 0, -30, 3946515]}, {'id': 'B3', 'data_type': {'type': 'PixelType', 'precision': 'int', 'min': -32768, 'max': 32767}, 'dimensions': [7641, 7771], 'crs': 'EPSG:32650', 'crs_transform': [30, 0, 485985, 0, -30, 3946515]}, {'id': 'B4', 'data_type': {'type': 'PixelType', 'precision': 'int', 'min': -32768, 'max': 32767}, 'dimensions': [7641, 7771], 'crs': 'EPSG:32650', 'crs_transform': [30, 0, 485985, 0, -30, 3946515]}, {'id': 'B5', 'data_type': {'type': 'PixelType', 'precision': 'int', 'min': -32768, 'max': 32767}, 'dimensions': [7641, 7771], 'crs': 'EPSG:32650', 'crs_transform': [30, 0, 485985, 0, -30, 3946515]}, {'id': 'B6', 'data_type': {'type': 'PixelType', 'precision': 'int', 'min': -32768, 'max': 32767}, 'dimensions': [7641, 7771], 'crs': 'EPSG:32650', 'crs_transform': [30, 0, 485985, 0, -30, 3946515]}, {'id': 'B7', 'data_type': {'type': 'PixelType', 'precision': 'int', 'min': -32768, 'max': 32767}, 'dimensions': [7641, 7771], 'crs': 'EPSG:32650', 'crs_transform': [30, 0, 485985, 0, -30, 3946515]}, {'id': 'B10', 'data_type': {'type': 'PixelType', 'precision': 'int', 'min': -32768, 'max': 32767}, 'dimensions': [7641, 7771], 'crs': 'EPSG:32650', 'crs_transform': [30, 0, 485985, 0, -30, 3946515]}, {'id': 'B11', 'data_type': {'type': 'PixelType', 'precision': 'int', 'min': -32768, 'max': 32767}, 'dimensions': [7641, 7771], 'crs': 'EPSG:32650', 'crs_transform': [30, 0, 485985, 0, -30, 3946515]}, {'id': 'sr_aerosol', 'data_type': {'type': 'PixelType', 'precision': 'int', 'min': 0, 'max': 255}, 'dimensions': [7641, 7771], 'crs': 'EPSG:32650', 'crs_transform': [30, 0, 485985, 0, -30, 3946515]}, {'id': 'pixel_qa', 'data_type': {'type': 'PixelType', 'precision': 'int', 'min': 0, 'max': 65535}, 'dimensions': [7641, 7771], 'crs': 'EPSG:32650', 'crs_transform': [30, 0, 485985, 0, -30, 3946515]}, {'id': 'radsat_qa', 'data_type': {'type': 'PixelType', 'precision': 'int', 'min': 0, 'max': 65535}, 'dimensions': [7641, 7771], 'crs': 'EPSG:32650', 'crs_transform': [30, 0, 485985, 0, -30, 3946515]}], 'id': 'LANDSAT/LC08/C01/T1_SR/LC08_121036_20180205', 'version': 1522736662537585, 'properties': {'IMAGE_QUALITY_TIRS': 9, 'CLOUD_COVER': 0.25, 'EARTH_SUN_DISTANCE': 0.98592, 'LANDSAT_ID': 'LC08_L1TP_121036_20180205_20180220_01_T1', 'system:footprint': {'type': 'LinearRing', 'coordinates': [[118.8287670886255, 33.55764659994422], [118.83405740318642, 33.57588835521297], [118.88421558530291, 33.74910298343996], [118.92710946442124, 33.896761825353096], [118.97081594833698, 34.04672224343219], [118.9987343423446, 34.14229951399224], [119.06616782155746, 34.37245294989476], [119.09861013901774, 34.48279873519418], [119.14075006993946, 34.62577370663936], [119.19687536181934, 34.81564011135788], [119.24380667803922, 34.97381140641437], [119.28621921051219, 35.11635703219162], [119.33373147543044, 35.275503992186216], [119.08788035687773, 35.324450705923645], [117.33539028855668, 35.657329083835194], [116.87048847049239, 33.93397766239816], [117.2590148993128, 33.86101374617655], [118.65188656073937, 33.588336955506485], [118.82731231433253, 33.552763337660615], [118.8287670886255, 33.55764659994422]]}, 'CLOUD_COVER_LAND': 0.24, 'GEOMETRIC_RMSE_MODEL': 7.321, 'SR_APP_VERSION': 'LaSRC_1.3.0', 'SATELLITE': 'LANDSAT_8', 'SOLAR_AZIMUTH_ANGLE': 150.889832, 'IMAGE_QUALITY_OLI': 9, 'WRS_PATH': 121, 'system:time_start': 1517798556710, 'SENSING_TIME': '2018-02-05T02:42:36.7145870Z', 'ESPA_VERSION': '2_23_0_1a', 'SOLAR_ZENITH_ANGLE': 55.777988, 'WRS_ROW': 36, 'GEOMETRIC_RMSE_MODEL_Y': 5.353, 'LEVEL1_PRODUCTION_DATE': 1519169743000, 'GEOMETRIC_RMSE_MODEL_X': 4.995, 'system:asset_size': 634075097, 'PIXEL_QA_VERSION': 'generate_pixel_qa_1.6.0', 'system:index': 'LC08_121036_20180205'}}, {'type': 'Image', 'bands': [{'id': 'B1', 'data_type': {'type': 'PixelType', 'precision': 'int', 'min': -32768, 'max': 32767}, 'dimensions': [7631, 7771], 'crs': 'EPSG:32650', 'crs_transform': [30, 0, 485685, 0, -30, 3946515]}, {'id': 'B2', 'data_type': {'type': 'PixelType', 'precision': 'int', 'min': -32768, 'max': 32767}, 'dimensions': [7631, 7771], 'crs': 'EPSG:32650', 'crs_transform': [30, 0, 485685, 0, -30, 3946515]}, {'id': 'B3', 'data_type': {'type': 'PixelType', 'precision': 'int', 'min': -32768, 'max': 32767}, 'dimensions': [7631, 7771], 'crs': 'EPSG:32650', 'crs_transform': [30, 0, 485685, 0, -30, 3946515]}, {'id': 'B4', 'data_type': {'type': 'PixelType', 'precision': 'int', 'min': -32768, 'max': 32767}, 'dimensions': [7631, 7771], 'crs': 'EPSG:32650', 'crs_transform': [30, 0, 485685, 0, -30, 3946515]}, {'id': 'B5', 'data_type': {'type': 'PixelType', 'precision': 'int', 'min': -32768, 'max': 32767}, 'dimensions': [7631, 7771], 'crs': 'EPSG:32650', 'crs_transform': [30, 0, 485685, 0, -30, 3946515]}, {'id': 'B6', 'data_type': {'type': 'PixelType', 'precision': 'int', 'min': -32768, 'max': 32767}, 'dimensions': [7631, 7771], 'crs': 'EPSG:32650', 'crs_transform': [30, 0, 485685, 0, -30, 3946515]}, {'id': 'B7', 'data_type': {'type': 'PixelType', 'precision': 'int', 'min': -32768, 'max': 32767}, 'dimensions': [7631, 7771], 'crs': 'EPSG:32650', 'crs_transform': [30, 0, 485685, 0, -30, 3946515]}, {'id': 'B10', 'data_type': {'type': 'PixelType', 'precision': 'int', 'min': -32768, 'max': 32767}, 'dimensions': [7631, 7771], 'crs': 'EPSG:32650', 'crs_transform': [30, 0, 485685, 0, -30, 3946515]}, {'id': 'B11', 'data_type': {'type': 'PixelType', 'precision': 'int', 'min': -32768, 'max': 32767}, 'dimensions': [7631, 7771], 'crs': 'EPSG:32650', 'crs_transform': [30, 0, 485685, 0, -30, 3946515]}, {'id': 'sr_aerosol', 'data_type': {'type': 'PixelType', 'precision': 'int', 'min': 0, 'max': 255}, 'dimensions': [7631, 7771], 'crs': 'EPSG:32650', 'crs_transform': [30, 0, 485685, 0, -30, 3946515]}, {'id': 'pixel_qa', 'data_type': {'type': 'PixelType', 'precision': 'int', 'min': 0, 'max': 65535}, 'dimensions': [7631, 7771], 'crs': 'EPSG:32650', 'crs_transform': [30, 0, 485685, 0, -30, 3946515]}, {'id': 'radsat_qa', 'data_type': {'type': 'PixelType', 'precision': 'int', 'min': 0, 'max': 65535}, 'dimensions': [7631, 7771], 'crs': 'EPSG:32650', 'crs_transform': [30, 0, 485685, 0, -30, 3946515]}], 'id': 'LANDSAT/LC08/C01/T1_SR/LC08_121036_20180309', 'version': 1521706147189573, 'properties': {'IMAGE_QUALITY_TIRS': 9, 'CLOUD_COVER': 0.17, 'EARTH_SUN_DISTANCE': 0.992794, 'LANDSAT_ID': 'LC08_L1TP_121036_20180309_20180320_01_T1', 'system:footprint': {'type': 'LinearRing', 'coordinates': [[118.82051972238118, 33.55349973553506], [118.82105001654725, 33.554757763989784], [118.82779483996777, 33.57802203188988], [118.85840014173513, 33.68379798399496], [118.91606202313437, 33.88261570996495], [118.94426056126687, 33.979518163681945], [118.96718025307023, 34.058141722403406], [119.0543523490107, 34.35615216564042], [119.10079255388307, 34.514174587262836], [119.17637074768987, 34.77035464321977], [119.22998696689217, 34.95132133538004], [119.26917038149256, 35.08314221586453], [119.32628595782155, 35.27470229973393], [119.32632645780414, 35.27611809786756], [119.31466927069515, 35.278478361812255], [117.32949123669566, 35.65744293347112], [117.32811484078289, 35.65744671552147], [116.86354169377123, 33.93430276458757], [117.15429003567921, 33.879858798192764], [118.49079934564165, 33.61987286141139], [118.81934015824069, 33.55351704142779], [118.82051972238118, 33.55349973553506]]}, 'CLOUD_COVER_LAND': 0.17, 'GEOMETRIC_RMSE_MODEL': 7.013, 'SR_APP_VERSION': 'LaSRC_1.3.0', 'SATELLITE': 'LANDSAT_8', 'SOLAR_AZIMUTH_ANGLE': 145.214539, 'IMAGE_QUALITY_OLI': 9, 'WRS_PATH': 121, 'system:time_start': 1520563342860, 'SENSING_TIME': '2018-03-09T02:42:22.8555870Z', 'ESPA_VERSION': '2_23_0_1a', 'SOLAR_ZENITH_ANGLE': 45.207794, 'WRS_ROW': 36, 'GEOMETRIC_RMSE_MODEL_Y': 5.25, 'LEVEL1_PRODUCTION_DATE': 1521520879000, 'GEOMETRIC_RMSE_MODEL_X': 4.649, 'system:asset_size': 642733402, 'PIXEL_QA_VERSION': 'generate_pixel_qa_1.6.0', 'system:index': 'LC08_121036_20180309'}}, {'type': 'Image', 'bands': [{'id': 'B1', 'data_type': {'type': 'PixelType', 'precision': 'int', 'min': -32768, 'max': 32767}, 'dimensions': [7631, 7771], 'crs': 'EPSG:32650', 'crs_transform': [30, 0, 485085, 0, -30, 3946515]}, {'id': 'B2', 'data_type': {'type': 'PixelType', 'precision': 'int', 'min': -32768, 'max': 32767}, 'dimensions': [7631, 7771], 'crs': 'EPSG:32650', 'crs_transform': [30, 0, 485085, 0, -30, 3946515]}, {'id': 'B3', 'data_type': {'type': 'PixelType', 'precision': 'int', 'min': -32768, 'max': 32767}, 'dimensions': [7631, 7771], 'crs': 'EPSG:32650', 'crs_transform': [30, 0, 485085, 0, -30, 3946515]}, {'id': 'B4', 'data_type': {'type': 'PixelType', 'precision': 'int', 'min': -32768, 'max': 32767}, 'dimensions': [7631, 7771], 'crs': 'EPSG:32650', 'crs_transform': [30, 0, 485085, 0, -30, 3946515]}, {'id': 'B5', 'data_type': {'type': 'PixelType', 'precision': 'int', 'min': -32768, 'max': 32767}, 'dimensions': [7631, 7771], 'crs': 'EPSG:32650', 'crs_transform': [30, 0, 485085, 0, -30, 3946515]}, {'id': 'B6', 'data_type': {'type': 'PixelType', 'precision': 'int', 'min': -32768, 'max': 32767}, 'dimensions': [7631, 7771], 'crs': 'EPSG:32650', 'crs_transform': [30, 0, 485085, 0, -30, 3946515]}, {'id': 'B7', 'data_type': {'type': 'PixelType', 'precision': 'int', 'min': -32768, 'max': 32767}, 'dimensions': [7631, 7771], 'crs': 'EPSG:32650', 'crs_transform': [30, 0, 485085, 0, -30, 3946515]}, {'id': 'B10', 'data_type': {'type': 'PixelType', 'precision': 'int', 'min': -32768, 'max': 32767}, 'dimensions': [7631, 7771], 'crs': 'EPSG:32650', 'crs_transform': [30, 0, 485085, 0, -30, 3946515]}, {'id': 'B11', 'data_type': {'type': 'PixelType', 'precision': 'int', 'min': -32768, 'max': 32767}, 'dimensions': [7631, 7771], 'crs': 'EPSG:32650', 'crs_transform': [30, 0, 485085, 0, -30, 3946515]}, {'id': 'sr_aerosol', 'data_type': {'type': 'PixelType', 'precision': 'int', 'min': 0, 'max': 255}, 'dimensions': [7631, 7771], 'crs': 'EPSG:32650', 'crs_transform': [30, 0, 485085, 0, -30, 3946515]}, {'id': 'pixel_qa', 'data_type': {'type': 'PixelType', 'precision': 'int', 'min': 0, 'max': 65535}, 'dimensions': [7631, 7771], 'crs': 'EPSG:32650', 'crs_transform': [30, 0, 485085, 0, -30, 3946515]}, {'id': 'radsat_qa', 'data_type': {'type': 'PixelType', 'precision': 'int', 'min': 0, 'max': 65535}, 'dimensions': [7631, 7771], 'crs': 'EPSG:32650', 'crs_transform': [30, 0, 485085, 0, -30, 3946515]}], 'id': 'LANDSAT/LC08/C01/T1_SR/LC08_121036_20180325', 'version': 1523173724911612, 'properties': {'IMAGE_QUALITY_TIRS': 9, 'CLOUD_COVER': 2.57, 'EARTH_SUN_DISTANCE': 0.997175, 'LANDSAT_ID': 'LC08_L1TP_121036_20180325_20180404_01_T1', 'system:footprint': {'type': 'LinearRing', 'coordinates': [[117.5301432823966, 33.80684336547575], [118.53008555310797, 33.610464994009355], [118.81370202928308, 33.55313983527621], [118.81923763728634, 33.57226106208321], [118.84590870905826, 33.66452297358683], [118.87062258402194, 33.74985635667471], [118.938859182618, 33.984743113795986], [118.98014419596572, 34.126370803866564], [119.0446679499604, 34.346847222353325], [119.0941823738887, 34.515371689376146], [119.12239950951675, 34.611185678953525], [119.16909886592651, 34.76934835413224], [119.19467216113763, 34.855734124722815], [119.25813207900617, 35.06946289846015], [119.31958753301967, 35.275695575799105], [119.31835979964143, 35.2762288232217], [118.96696136954716, 35.34595192646462], [117.3226691551489, 35.657190880452994], [117.32093920608804, 35.65719551760396], [116.85661536577842, 33.93455608881173], [116.85735604812135, 33.933940413017176], [117.5301432823966, 33.80684336547575]]}, 'CLOUD_COVER_LAND': 2.55, 'GEOMETRIC_RMSE_MODEL': 7.443, 'SR_APP_VERSION': 'LaSRC_1.3.0', 'SATELLITE': 'LANDSAT_8', 'SOLAR_AZIMUTH_ANGLE': 142.040253, 'IMAGE_QUALITY_OLI': 9, 'WRS_PATH': 121, 'system:time_start': 1521945735230, 'SENSING_TIME': '2018-03-25T02:42:15.2338560Z', 'ESPA_VERSION': '2_23_0_1a', 'SOLAR_ZENITH_ANGLE': 39.169128, 'WRS_ROW': 36, 'GEOMETRIC_RMSE_MODEL_Y': 5.411, 'LEVEL1_PRODUCTION_DATE': 1522864334000, 'GEOMETRIC_RMSE_MODEL_X': 5.111, 'system:asset_size': 642115151, 'PIXEL_QA_VERSION': 'generate_pixel_qa_1.6.0', 'system:index': 'LC08_121036_20180325'}}, {'type': 'Image', 'bands': [{'id': 'B1', 'data_type': {'type': 'PixelType', 'precision': 'int', 'min': -32768, 'max': 32767}, 'dimensions': [7641, 7771], 'crs': 'EPSG:32650', 'crs_transform': [30, 0, 487185, 0, -30, 3946515]}, {'id': 'B2', 'data_type': {'type': 'PixelType', 'precision': 'int', 'min': -32768, 'max': 32767}, 'dimensions': [7641, 7771], 'crs': 'EPSG:32650', 'crs_transform': [30, 0, 487185, 0, -30, 3946515]}, {'id': 'B3', 'data_type': {'type': 'PixelType', 'precision': 'int', 'min': -32768, 'max': 32767}, 'dimensions': [7641, 7771], 'crs': 'EPSG:32650', 'crs_transform': [30, 0, 487185, 0, -30, 3946515]}, {'id': 'B4', 'data_type': {'type': 'PixelType', 'precision': 'int', 'min': -32768, 'max': 32767}, 'dimensions': [7641, 7771], 'crs': 'EPSG:32650', 'crs_transform': [30, 0, 487185, 0, -30, 3946515]}, {'id': 'B5', 'data_type': {'type': 'PixelType', 'precision': 'int', 'min': -32768, 'max': 32767}, 'dimensions': [7641, 7771], 'crs': 'EPSG:32650', 'crs_transform': [30, 0, 487185, 0, -30, 3946515]}, {'id': 'B6', 'data_type': {'type': 'PixelType', 'precision': 'int', 'min': -32768, 'max': 32767}, 'dimensions': [7641, 7771], 'crs': 'EPSG:32650', 'crs_transform': [30, 0, 487185, 0, -30, 3946515]}, {'id': 'B7', 'data_type': {'type': 'PixelType', 'precision': 'int', 'min': -32768, 'max': 32767}, 'dimensions': [7641, 7771], 'crs': 'EPSG:32650', 'crs_transform': [30, 0, 487185, 0, -30, 3946515]}, {'id': 'B10', 'data_type': {'type': 'PixelType', 'precision': 'int', 'min': -32768, 'max': 32767}, 'dimensions': [7641, 7771], 'crs': 'EPSG:32650', 'crs_transform': [30, 0, 487185, 0, -30, 3946515]}, {'id': 'B11', 'data_type': {'type': 'PixelType', 'precision': 'int', 'min': -32768, 'max': 32767}, 'dimensions': [7641, 7771], 'crs': 'EPSG:32650', 'crs_transform': [30, 0, 487185, 0, -30, 3946515]}, {'id': 'sr_aerosol', 'data_type': {'type': 'PixelType', 'precision': 'int', 'min': 0, 'max': 255}, 'dimensions': [7641, 7771], 'crs': 'EPSG:32650', 'crs_transform': [30, 0, 487185, 0, -30, 3946515]}, {'id': 'pixel_qa', 'data_type': {'type': 'PixelType', 'precision': 'int', 'min': 0, 'max': 65535}, 'dimensions': [7641, 7771], 'crs': 'EPSG:32650', 'crs_transform': [30, 0, 487185, 0, -30, 3946515]}, {'id': 'radsat_qa', 'data_type': {'type': 'PixelType', 'precision': 'int', 'min': 0, 'max': 65535}, 'dimensions': [7641, 7771], 'crs': 'EPSG:32650', 'crs_transform': [30, 0, 487185, 0, -30, 3946515]}], 'id': 'LANDSAT/LC08/C01/T1_SR/LC08_121036_20180613', 'version': 1530090443603444, 'properties': {'IMAGE_QUALITY_TIRS': 9, 'CLOUD_COVER': 0.67, 'EARTH_SUN_DISTANCE': 1.01556, 'LANDSAT_ID': 'LC08_L1TP_121036_20180613_20180615_01_T1', 'system:footprint': {'type': 'LinearRing', 'coordinates': [[117.13256745952337, 33.88800131965766], [118.31062208482072, 33.65925051396788], [118.82375098584053, 33.55572526171098], [118.83783978643959, 33.55288434725294], [118.8578461496116, 33.621803213152795], [118.93522957871569, 33.88768987360445], [119.00354951562052, 34.12140750471212], [119.05589146888165, 34.29968462373282], [119.08580445079991, 34.40133204117653], [119.17093667471018, 34.68937415314934], [119.20330525142, 34.798484621021935], [119.23696805542258, 34.911682387046824], [119.29663406376804, 35.111635045887034], [119.34559928654991, 35.27525252602075], [119.07940133553795, 35.32838316659575], [117.34905118618722, 35.65792875483905], [117.34709497320753, 35.65793448538158], [116.88275737279174, 33.94245124666218], [116.88095687988505, 33.935282003797646], [116.88805784307674, 33.933923096414794], [117.13256745952337, 33.88800131965766]]}, 'CLOUD_COVER_LAND': 0.46, 'GEOMETRIC_RMSE_MODEL': 8.249, 'SR_APP_VERSION': 'LaSRC_1.3.0', 'SATELLITE': 'LANDSAT_8', 'SOLAR_AZIMUTH_ANGLE': 115.656403, 'IMAGE_QUALITY_OLI': 9, 'WRS_PATH': 121, 'system:time_start': 1528857697030, 'SENSING_TIME': '2018-06-13T02:41:37.0304470Z', 'ESPA_VERSION': '2_23_0_1a', 'SOLAR_ZENITH_ANGLE': 21.921814, 'WRS_ROW': 36, 'GEOMETRIC_RMSE_MODEL_Y': 5.628, 'LEVEL1_PRODUCTION_DATE': 1529093536000, 'GEOMETRIC_RMSE_MODEL_X': 6.031, 'system:asset_size': 676510920, 'PIXEL_QA_VERSION': 'generate_pixel_qa_1.6.0', 'system:index': 'LC08_121036_20180613'}}, {'type': 'Image', 'bands': [{'id': 'B1', 'data_type': {'type': 'PixelType', 'precision': 'int', 'min': -32768, 'max': 32767}, 'dimensions': [7631, 7771], 'crs': 'EPSG:32650', 'crs_transform': [30, 0, 487185, 0, -30, 3946515]}, {'id': 'B2', 'data_type': {'type': 'PixelType', 'precision': 'int', 'min': -32768, 'max': 32767}, 'dimensions': [7631, 7771], 'crs': 'EPSG:32650', 'crs_transform': [30, 0, 487185, 0, -30, 3946515]}, {'id': 'B3', 'data_type': {'type': 'PixelType', 'precision': 'int', 'min': -32768, 'max': 32767}, 'dimensions': [7631, 7771], 'crs': 'EPSG:32650', 'crs_transform': [30, 0, 487185, 0, -30, 3946515]}, {'id': 'B4', 'data_type': {'type': 'PixelType', 'precision': 'int', 'min': -32768, 'max': 32767}, 'dimensions': [7631, 7771], 'crs': 'EPSG:32650', 'crs_transform': [30, 0, 487185, 0, -30, 3946515]}, {'id': 'B5', 'data_type': {'type': 'PixelType', 'precision': 'int', 'min': -32768, 'max': 32767}, 'dimensions': [7631, 7771], 'crs': 'EPSG:32650', 'crs_transform': [30, 0, 487185, 0, -30, 3946515]}, {'id': 'B6', 'data_type': {'type': 'PixelType', 'precision': 'int', 'min': -32768, 'max': 32767}, 'dimensions': [7631, 7771], 'crs': 'EPSG:32650', 'crs_transform': [30, 0, 487185, 0, -30, 3946515]}, {'id': 'B7', 'data_type': {'type': 'PixelType', 'precision': 'int', 'min': -32768, 'max': 32767}, 'dimensions': [7631, 7771], 'crs': 'EPSG:32650', 'crs_transform': [30, 0, 487185, 0, -30, 3946515]}, {'id': 'B10', 'data_type': {'type': 'PixelType', 'precision': 'int', 'min': -32768, 'max': 32767}, 'dimensions': [7631, 7771], 'crs': 'EPSG:32650', 'crs_transform': [30, 0, 487185, 0, -30, 3946515]}, {'id': 'B11', 'data_type': {'type': 'PixelType', 'precision': 'int', 'min': -32768, 'max': 32767}, 'dimensions': [7631, 7771], 'crs': 'EPSG:32650', 'crs_transform': [30, 0, 487185, 0, -30, 3946515]}, {'id': 'sr_aerosol', 'data_type': {'type': 'PixelType', 'precision': 'int', 'min': 0, 'max': 255}, 'dimensions': [7631, 7771], 'crs': 'EPSG:32650', 'crs_transform': [30, 0, 487185, 0, -30, 3946515]}, {'id': 'pixel_qa', 'data_type': {'type': 'PixelType', 'precision': 'int', 'min': 0, 'max': 65535}, 'dimensions': [7631, 7771], 'crs': 'EPSG:32650', 'crs_transform': [30, 0, 487185, 0, -30, 3946515]}, {'id': 'radsat_qa', 'data_type': {'type': 'PixelType', 'precision': 'int', 'min': 0, 'max': 65535}, 'dimensions': [7631, 7771], 'crs': 'EPSG:32650', 'crs_transform': [30, 0, 487185, 0, -30, 3946515]}], 'id': 'LANDSAT/LC08/C01/T1_SR/LC08_121036_20180715', 'version': 1533459987064344, 'properties': {'IMAGE_QUALITY_TIRS': 9, 'CLOUD_COVER': 7.09, 'EARTH_SUN_DISTANCE': 1.016496, 'LANDSAT_ID': 'LC08_L1TP_121036_20180715_20180730_01_T1', 'system:footprint': {'type': 'LinearRing', 'coordinates': [[119.34227620452086, 35.27544042972114], [119.2677633212506, 35.29037914951543], [119.01403780661794, 35.340849117926396], [117.34619572026797, 35.65793708456465], [117.34458989489107, 35.6579416840837], [116.87886232199257, 33.93687248737582], [116.87886483831409, 33.93510203266309], [118.78164264120967, 33.56381323846733], [118.83539111196355, 33.552859926198934], [118.85147021024127, 33.608295489175944], [118.88820935486491, 33.734760990453594], [118.94333096607225, 33.92395805928554], [118.99303706167139, 34.09387200343261], [119.05755335645732, 34.31363143754131], [119.07925912979647, 34.38737822159992], [119.10957514958935, 34.49018312129514], [119.1546685904824, 34.64275473443138], [119.19904580081942, 34.792412853345354], [119.26183518782058, 35.00345053391498], [119.34296409628368, 35.274848967003855], [119.34227620452086, 35.27544042972114]]}, 'CLOUD_COVER_LAND': 6.88, 'GEOMETRIC_RMSE_MODEL': 8.058, 'SR_APP_VERSION': 'LaSRC_1.3.0', 'SATELLITE': 'LANDSAT_8', 'SOLAR_AZIMUTH_ANGLE': 117.011833, 'IMAGE_QUALITY_OLI': 9, 'system:time_end': 1531622515150, 'WRS_PATH': 121, 'system:time_start': 1531622515150, 'SENSING_TIME': '2018-07-15T02:41:55.1463310Z', 'ESPA_VERSION': '2_23_0_1a', 'SOLAR_ZENITH_ANGLE': 23.966385, 'WRS_ROW': 36, 'GEOMETRIC_RMSE_MODEL_Y': 5.416, 'LEVEL1_PRODUCTION_DATE': 1532972036000, 'GEOMETRIC_RMSE_MODEL_X': 5.966, 'system:asset_size': 662609739, 'PIXEL_QA_VERSION': 'generate_pixel_qa_1.6.0', 'system:index': 'LC08_121036_20180715'}}, {'type': 'Image', 'bands': [{'id': 'B1', 'data_type': {'type': 'PixelType', 'precision': 'int', 'min': -32768, 'max': 32767}, 'dimensions': [7641, 7771], 'crs': 'EPSG:32650', 'crs_transform': [30, 0, 485985, 0, -30, 3946515]}, {'id': 'B2', 'data_type': {'type': 'PixelType', 'precision': 'int', 'min': -32768, 'max': 32767}, 'dimensions': [7641, 7771], 'crs': 'EPSG:32650', 'crs_transform': [30, 0, 485985, 0, -30, 3946515]}, {'id': 'B3', 'data_type': {'type': 'PixelType', 'precision': 'int', 'min': -32768, 'max': 32767}, 'dimensions': [7641, 7771], 'crs': 'EPSG:32650', 'crs_transform': [30, 0, 485985, 0, -30, 3946515]}, {'id': 'B4', 'data_type': {'type': 'PixelType', 'precision': 'int', 'min': -32768, 'max': 32767}, 'dimensions': [7641, 7771], 'crs': 'EPSG:32650', 'crs_transform': [30, 0, 485985, 0, -30, 3946515]}, {'id': 'B5', 'data_type': {'type': 'PixelType', 'precision': 'int', 'min': -32768, 'max': 32767}, 'dimensions': [7641, 7771], 'crs': 'EPSG:32650', 'crs_transform': [30, 0, 485985, 0, -30, 3946515]}, {'id': 'B6', 'data_type': {'type': 'PixelType', 'precision': 'int', 'min': -32768, 'max': 32767}, 'dimensions': [7641, 7771], 'crs': 'EPSG:32650', 'crs_transform': [30, 0, 485985, 0, -30, 3946515]}, {'id': 'B7', 'data_type': {'type': 'PixelType', 'precision': 'int', 'min': -32768, 'max': 32767}, 'dimensions': [7641, 7771], 'crs': 'EPSG:32650', 'crs_transform': [30, 0, 485985, 0, -30, 3946515]}, {'id': 'B10', 'data_type': {'type': 'PixelType', 'precision': 'int', 'min': -32768, 'max': 32767}, 'dimensions': [7641, 7771], 'crs': 'EPSG:32650', 'crs_transform': [30, 0, 485985, 0, -30, 3946515]}, {'id': 'B11', 'data_type': {'type': 'PixelType', 'precision': 'int', 'min': -32768, 'max': 32767}, 'dimensions': [7641, 7771], 'crs': 'EPSG:32650', 'crs_transform': [30, 0, 485985, 0, -30, 3946515]}, {'id': 'sr_aerosol', 'data_type': {'type': 'PixelType', 'precision': 'int', 'min': 0, 'max': 255}, 'dimensions': [7641, 7771], 'crs': 'EPSG:32650', 'crs_transform': [30, 0, 485985, 0, -30, 3946515]}, {'id': 'pixel_qa', 'data_type': {'type': 'PixelType', 'precision': 'int', 'min': 0, 'max': 65535}, 'dimensions': [7641, 7771], 'crs': 'EPSG:32650', 'crs_transform': [30, 0, 485985, 0, -30, 3946515]}, {'id': 'radsat_qa', 'data_type': {'type': 'PixelType', 'precision': 'int', 'min': 0, 'max': 65535}, 'dimensions': [7641, 7771], 'crs': 'EPSG:32650', 'crs_transform': [30, 0, 485985, 0, -30, 3946515]}], 'id': 'LANDSAT/LC08/C01/T1_SR/LC08_121036_20181003', 'version': 1539419017510797, 'properties': {'IMAGE_QUALITY_TIRS': 9, 'CLOUD_COVER': 0.09, 'EARTH_SUN_DISTANCE': 1.000716, 'LANDSAT_ID': 'LC08_L1TP_121036_20181003_20181010_01_T1', 'system:footprint': {'type': 'LinearRing', 'coordinates': [[116.86815142340103, 33.93591538224055], [116.86815358035511, 33.93449598169627], [117.42264689679969, 33.8297161339898], [118.46630953581254, 33.625035642846086], [118.82481697438672, 33.552474046251085], [118.86491598057358, 33.69074899988242], [118.91071422754572, 33.84826824701474], [118.95558370800174, 34.0020831953556], [119.0131407793361, 34.19870738312623], [119.03730691004952, 34.281059836438196], [119.08772741876828, 34.452420558685986], [119.15139306061909, 34.66796639442738], [119.18984024485023, 34.797645845082705], [119.24339896936374, 34.977774791338206], [119.27406036846274, 35.08060835840508], [119.33216844154587, 35.2749951759664], [119.32574279614809, 35.2762966661521], [118.70433019382683, 35.39916653566901], [117.33510854410456, 35.65742739992664], [117.33365094508095, 35.657431468522766], [116.86815142340103, 33.93591538224055]]}, 'CLOUD_COVER_LAND': 0.09, 'GEOMETRIC_RMSE_MODEL': 7.958, 'SR_APP_VERSION': 'LaSRC_1.3.0', 'SATELLITE': 'LANDSAT_8', 'SOLAR_AZIMUTH_ANGLE': 151.835236, 'IMAGE_QUALITY_OLI': 9, 'system:time_end': 1538534550300, 'WRS_PATH': 121, 'system:time_start': 1538534550300, 'SENSING_TIME': '2018-10-03T02:42:30.2978170Z', 'ESPA_VERSION': '2_23_0_1a', 'SOLAR_ZENITH_ANGLE': 42.287224, 'WRS_ROW': 36, 'GEOMETRIC_RMSE_MODEL_Y': 5.83, 'LEVEL1_PRODUCTION_DATE': 1539156441000, 'GEOMETRIC_RMSE_MODEL_X': 5.416, 'system:asset_size': 657428016, 'PIXEL_QA_VERSION': 'generate_pixel_qa_1.6.0', 'system:index': 'LC08_121036_20181003'}}, {'type': 'Image', 'bands': [{'id': 'B1', 'data_type': {'type': 'PixelType', 'precision': 'int', 'min': -32768, 'max': 32767}, 'dimensions': [7641, 7781], 'crs': 'EPSG:32650', 'crs_transform': [30, 0, 484785, 0, -30, 3946515]}, {'id': 'B2', 'data_type': {'type': 'PixelType', 'precision': 'int', 'min': -32768, 'max': 32767}, 'dimensions': [7641, 7781], 'crs': 'EPSG:32650', 'crs_transform': [30, 0, 484785, 0, -30, 3946515]}, {'id': 'B3', 'data_type': {'type': 'PixelType', 'precision': 'int', 'min': -32768, 'max': 32767}, 'dimensions': [7641, 7781], 'crs': 'EPSG:32650', 'crs_transform': [30, 0, 484785, 0, -30, 3946515]}, {'id': 'B4', 'data_type': {'type': 'PixelType', 'precision': 'int', 'min': -32768, 'max': 32767}, 'dimensions': [7641, 7781], 'crs': 'EPSG:32650', 'crs_transform': [30, 0, 484785, 0, -30, 3946515]}, {'id': 'B5', 'data_type': {'type': 'PixelType', 'precision': 'int', 'min': -32768, 'max': 32767}, 'dimensions': [7641, 7781], 'crs': 'EPSG:32650', 'crs_transform': [30, 0, 484785, 0, -30, 3946515]}, {'id': 'B6', 'data_type': {'type': 'PixelType', 'precision': 'int', 'min': -32768, 'max': 32767}, 'dimensions': [7641, 7781], 'crs': 'EPSG:32650', 'crs_transform': [30, 0, 484785, 0, -30, 3946515]}, {'id': 'B7', 'data_type': {'type': 'PixelType', 'precision': 'int', 'min': -32768, 'max': 32767}, 'dimensions': [7641, 7781], 'crs': 'EPSG:32650', 'crs_transform': [30, 0, 484785, 0, -30, 3946515]}, {'id': 'B10', 'data_type': {'type': 'PixelType', 'precision': 'int', 'min': -32768, 'max': 32767}, 'dimensions': [7641, 7781], 'crs': 'EPSG:32650', 'crs_transform': [30, 0, 484785, 0, -30, 3946515]}, {'id': 'B11', 'data_type': {'type': 'PixelType', 'precision': 'int', 'min': -32768, 'max': 32767}, 'dimensions': [7641, 7781], 'crs': 'EPSG:32650', 'crs_transform': [30, 0, 484785, 0, -30, 3946515]}, {'id': 'sr_aerosol', 'data_type': {'type': 'PixelType', 'precision': 'int', 'min': 0, 'max': 255}, 'dimensions': [7641, 7781], 'crs': 'EPSG:32650', 'crs_transform': [30, 0, 484785, 0, -30, 3946515]}, {'id': 'pixel_qa', 'data_type': {'type': 'PixelType', 'precision': 'int', 'min': 0, 'max': 65535}, 'dimensions': [7641, 7781], 'crs': 'EPSG:32650', 'crs_transform': [30, 0, 484785, 0, -30, 3946515]}, {'id': 'radsat_qa', 'data_type': {'type': 'PixelType', 'precision': 'int', 'min': 0, 'max': 65535}, 'dimensions': [7641, 7781], 'crs': 'EPSG:32650', 'crs_transform': [30, 0, 484785, 0, -30, 3946515]}], 'id': 'LANDSAT/LC08/C01/T1_SR/LC08_121036_20181019', 'version': 1541241004842380.0, 'properties': {'IMAGE_QUALITY_TIRS': 9, 'CLOUD_COVER': 0.41, 'EARTH_SUN_DISTANCE': 0.996125, 'LANDSAT_ID': 'LC08_L1TP_121036_20181019_20181031_01_T1', 'system:footprint': {'type': 'LinearRing', 'coordinates': [[118.64377621094451, 33.586821819861434], [118.81360661825856, 33.55231028958787], [118.822627462211, 33.58338693744356], [118.84553896657647, 33.662364107843935], [118.86722392709181, 33.73700321228309], [118.91524893544421, 33.90206542057694], [118.96103469613675, 34.05886651498886], [119.01644424003227, 34.248008213384246], [119.04931556497401, 34.359858644360685], [119.08661717047146, 34.486520261930465], [119.18265204466938, 34.81102773519739], [119.20534974114541, 34.88742896127767], [119.24992226293914, 35.03711539803141], [119.32095395378144, 35.2748197409149], [119.30457051726998, 35.2781359387525], [118.85127267759725, 35.368064232922585], [117.3241300630405, 35.65718696640655], [117.32230758080713, 35.65719188764243], [116.85679062757367, 33.93549612319256], [116.85679260488544, 33.934304668978676], [118.64377621094451, 33.586821819861434]]}, 'CLOUD_COVER_LAND': 0.41, 'GEOMETRIC_RMSE_MODEL': 7.815, 'SR_APP_VERSION': 'LaSRC_1.3.0', 'SATELLITE': 'LANDSAT_8', 'SOLAR_AZIMUTH_ANGLE': 156.290436, 'IMAGE_QUALITY_OLI': 9, 'system:time_end': 1539916956740, 'WRS_PATH': 121, 'system:time_start': 1539916956740, 'SENSING_TIME': '2018-10-19T02:42:36.7408210Z', 'ESPA_VERSION': '2_23_0_1a', 'SOLAR_ZENITH_ANGLE': 47.526134, 'WRS_ROW': 36, 'GEOMETRIC_RMSE_MODEL_Y': 5.634, 'LEVEL1_PRODUCTION_DATE': 1540957447000, 'GEOMETRIC_RMSE_MODEL_X': 5.416, 'system:asset_size': 662734201, 'PIXEL_QA_VERSION': 'generate_pixel_qa_1.6.0', 'system:index': 'LC08_121036_20181019'}}, {'type': 'Image', 'bands': [{'id': 'B1', 'data_type': {'type': 'PixelType', 'precision': 'int', 'min': -32768, 'max': 32767}, 'dimensions': [7641, 7771], 'crs': 'EPSG:32650', 'crs_transform': [30, 0, 486885, 0, -30, 3946515]}, {'id': 'B2', 'data_type': {'type': 'PixelType', 'precision': 'int', 'min': -32768, 'max': 32767}, 'dimensions': [7641, 7771], 'crs': 'EPSG:32650', 'crs_transform': [30, 0, 486885, 0, -30, 3946515]}, {'id': 'B3', 'data_type': {'type': 'PixelType', 'precision': 'int', 'min': -32768, 'max': 32767}, 'dimensions': [7641, 7771], 'crs': 'EPSG:32650', 'crs_transform': [30, 0, 486885, 0, -30, 3946515]}, {'id': 'B4', 'data_type': {'type': 'PixelType', 'precision': 'int', 'min': -32768, 'max': 32767}, 'dimensions': [7641, 7771], 'crs': 'EPSG:32650', 'crs_transform': [30, 0, 486885, 0, -30, 3946515]}, {'id': 'B5', 'data_type': {'type': 'PixelType', 'precision': 'int', 'min': -32768, 'max': 32767}, 'dimensions': [7641, 7771], 'crs': 'EPSG:32650', 'crs_transform': [30, 0, 486885, 0, -30, 3946515]}, {'id': 'B6', 'data_type': {'type': 'PixelType', 'precision': 'int', 'min': -32768, 'max': 32767}, 'dimensions': [7641, 7771], 'crs': 'EPSG:32650', 'crs_transform': [30, 0, 486885, 0, -30, 3946515]}, {'id': 'B7', 'data_type': {'type': 'PixelType', 'precision': 'int', 'min': -32768, 'max': 32767}, 'dimensions': [7641, 7771], 'crs': 'EPSG:32650', 'crs_transform': [30, 0, 486885, 0, -30, 3946515]}, {'id': 'B10', 'data_type': {'type': 'PixelType', 'precision': 'int', 'min': -32768, 'max': 32767}, 'dimensions': [7641, 7771], 'crs': 'EPSG:32650', 'crs_transform': [30, 0, 486885, 0, -30, 3946515]}, {'id': 'B11', 'data_type': {'type': 'PixelType', 'precision': 'int', 'min': -32768, 'max': 32767}, 'dimensions': [7641, 7771], 'crs': 'EPSG:32650', 'crs_transform': [30, 0, 486885, 0, -30, 3946515]}, {'id': 'sr_aerosol', 'data_type': {'type': 'PixelType', 'precision': 'int', 'min': 0, 'max': 255}, 'dimensions': [7641, 7771], 'crs': 'EPSG:32650', 'crs_transform': [30, 0, 486885, 0, -30, 3946515]}, {'id': 'pixel_qa', 'data_type': {'type': 'PixelType', 'precision': 'int', 'min': 0, 'max': 65535}, 'dimensions': [7641, 7771], 'crs': 'EPSG:32650', 'crs_transform': [30, 0, 486885, 0, -30, 3946515]}, {'id': 'radsat_qa', 'data_type': {'type': 'PixelType', 'precision': 'int', 'min': 0, 'max': 65535}, 'dimensions': [7641, 7771], 'crs': 'EPSG:32650', 'crs_transform': [30, 0, 486885, 0, -30, 3946515]}], 'id': 'LANDSAT/LC08/C01/T1_SR/LC08_121036_20190123', 'version': 1563396522868758, 'properties': {'IMAGE_QUALITY_TIRS': 9, 'CLOUD_COVER': 0.98, 'EARTH_SUN_DISTANCE': 0.98418, 'LANDSAT_ID': 'LC08_L1TP_121036_20190123_20190205_01_T1', 'system:footprint': {'type': 'LinearRing', 'coordinates': [[118.88756792333379, 33.73504146665068], [118.92686075767696, 33.870234157933645], [118.94937487881033, 33.94751703957857], [119.01754673946229, 34.180943388236635], [119.10290286925893, 34.471635166344726], [119.14152984199049, 34.60268600210904], [119.19826712507249, 34.794460343806655], [119.2098527353119, 34.8335346105487], [119.2571411867397, 34.99276622365423], [119.28503933492395, 35.086447664061424], [119.34111166369061, 35.274209826782446], [119.34116305893005, 35.27599467547406], [119.11091340440586, 35.32188700354107], [118.03838058379772, 35.529259263246544], [117.34307874474857, 35.65807691046286], [116.87821391888045, 33.93632786173718], [116.87821607573397, 33.93476422160313], [118.83329616790061, 33.55358165341274], [118.83499324988514, 33.553556533068075], [118.84743194289692, 33.59650519331719], [118.88756792333379, 33.73504146665068]]}, 'CLOUD_COVER_LAND': 0.97, 'GEOMETRIC_RMSE_MODEL': 7.289, 'SR_APP_VERSION': 'LaSRC_1.3.0', 'SATELLITE': 'LANDSAT_8', 'SOLAR_AZIMUTH_ANGLE': 153.18959, 'IMAGE_QUALITY_OLI': 9, 'system:time_end': 1548211353210, 'WRS_PATH': 121, 'system:time_start': 1548211353210, 'SENSING_TIME': '2019-01-23T02:42:33.2060790Z', 'ESPA_VERSION': '2_23_0_1b', 'SOLAR_ZENITH_ANGLE': 58.821281, 'WRS_ROW': 36, 'GEOMETRIC_RMSE_MODEL_Y': 5.317, 'LEVEL1_PRODUCTION_DATE': 1549390711000, 'GEOMETRIC_RMSE_MODEL_X': 4.986, 'system:asset_size': 648678004, 'PIXEL_QA_VERSION': 'generate_pixel_qa_1.6.0', 'system:index': 'LC08_121036_20190123'}}, {'type': 'Image', 'bands': [{'id': 'B1', 'data_type': {'type': 'PixelType', 'precision': 'int', 'min': -32768, 'max': 32767}, 'dimensions': [7631, 7771], 'crs': 'EPSG:32650', 'crs_transform': [30, 0, 486285, 0, -30, 3946515]}, {'id': 'B2', 'data_type': {'type': 'PixelType', 'precision': 'int', 'min': -32768, 'max': 32767}, 'dimensions': [7631, 7771], 'crs': 'EPSG:32650', 'crs_transform': [30, 0, 486285, 0, -30, 3946515]}, {'id': 'B3', 'data_type': {'type': 'PixelType', 'precision': 'int', 'min': -32768, 'max': 32767}, 'dimensions': [7631, 7771], 'crs': 'EPSG:32650', 'crs_transform': [30, 0, 486285, 0, -30, 3946515]}, {'id': 'B4', 'data_type': {'type': 'PixelType', 'precision': 'int', 'min': -32768, 'max': 32767}, 'dimensions': [7631, 7771], 'crs': 'EPSG:32650', 'crs_transform': [30, 0, 486285, 0, -30, 3946515]}, {'id': 'B5', 'data_type': {'type': 'PixelType', 'precision': 'int', 'min': -32768, 'max': 32767}, 'dimensions': [7631, 7771], 'crs': 'EPSG:32650', 'crs_transform': [30, 0, 486285, 0, -30, 3946515]}, {'id': 'B6', 'data_type': {'type': 'PixelType', 'precision': 'int', 'min': -32768, 'max': 32767}, 'dimensions': [7631, 7771], 'crs': 'EPSG:32650', 'crs_transform': [30, 0, 486285, 0, -30, 3946515]}, {'id': 'B7', 'data_type': {'type': 'PixelType', 'precision': 'int', 'min': -32768, 'max': 32767}, 'dimensions': [7631, 7771], 'crs': 'EPSG:32650', 'crs_transform': [30, 0, 486285, 0, -30, 3946515]}, {'id': 'B10', 'data_type': {'type': 'PixelType', 'precision': 'int', 'min': -32768, 'max': 32767}, 'dimensions': [7631, 7771], 'crs': 'EPSG:32650', 'crs_transform': [30, 0, 486285, 0, -30, 3946515]}, {'id': 'B11', 'data_type': {'type': 'PixelType', 'precision': 'int', 'min': -32768, 'max': 32767}, 'dimensions': [7631, 7771], 'crs': 'EPSG:32650', 'crs_transform': [30, 0, 486285, 0, -30, 3946515]}, {'id': 'sr_aerosol', 'data_type': {'type': 'PixelType', 'precision': 'int', 'min': 0, 'max': 255}, 'dimensions': [7631, 7771], 'crs': 'EPSG:32650', 'crs_transform': [30, 0, 486285, 0, -30, 3946515]}, {'id': 'pixel_qa', 'data_type': {'type': 'PixelType', 'precision': 'int', 'min': 0, 'max': 65535}, 'dimensions': [7631, 7771], 'crs': 'EPSG:32650', 'crs_transform': [30, 0, 486285, 0, -30, 3946515]}, {'id': 'radsat_qa', 'data_type': {'type': 'PixelType', 'precision': 'int', 'min': 0, 'max': 65535}, 'dimensions': [7631, 7771], 'crs': 'EPSG:32650', 'crs_transform': [30, 0, 486285, 0, -30, 3946515]}], 'id': 'LANDSAT/LC08/C01/T1_SR/LC08_121036_20190224', 'version': 1563396706386099, 'properties': {'IMAGE_QUALITY_TIRS': 9, 'CLOUD_COVER': 8.9, 'EARTH_SUN_DISTANCE': 0.989503, 'LANDSAT_ID': 'LC08_L1TP_121036_20190224_20190308_01_T1', 'system:footprint': {'type': 'LinearRing', 'coordinates': [[116.87193738384966, 33.93441706757902], [116.87317347306889, 33.93390355719686], [117.31022531136647, 33.851695987059884], [118.8117365327551, 33.55624529791343], [118.8290506266789, 33.552755610386804], [118.84416231494558, 33.60497401139306], [118.87826789256934, 33.72275800943174], [118.92711257436373, 33.89089917074893], [118.98762104359521, 34.09838821406749], [119.08774428368632, 34.43997815477767], [119.11309519859324, 34.52609607734397], [119.15939996319639, 34.68301586455657], [119.20912626626473, 34.85096904427499], [119.23783883961116, 34.94768757650156], [119.25670017726787, 35.011144906398115], [119.33536813260332, 35.27500884427845], [119.33464732865912, 35.27562844834206], [118.32796241904401, 35.47259332155091], [117.33856028959288, 35.657147307789856], [117.33677972582814, 35.65715223571249], [116.87193738384966, 33.93441706757902]]}, 'CLOUD_COVER_LAND': 8.89, 'GEOMETRIC_RMSE_MODEL': 7.417, 'SR_APP_VERSION': 'LaSRC_1.3.0', 'SATELLITE': 'LANDSAT_8', 'SOLAR_AZIMUTH_ANGLE': 147.583466, 'IMAGE_QUALITY_OLI': 9, 'system:time_end': 1550976147580, 'WRS_PATH': 121, 'system:time_start': 1550976147580, 'SENSING_TIME': '2019-02-24T02:42:27.5789950Z', 'ESPA_VERSION': '2_23_0_1b', 'SOLAR_ZENITH_ANGLE': 49.986576, 'WRS_ROW': 36, 'GEOMETRIC_RMSE_MODEL_Y': 5.073, 'LEVEL1_PRODUCTION_DATE': 1552085662000, 'GEOMETRIC_RMSE_MODEL_X': 5.411, 'system:asset_size': 637072984, 'PIXEL_QA_VERSION': 'generate_pixel_qa_1.6.0', 'system:index': 'LC08_121036_20190224'}}, {'type': 'Image', 'bands': [{'id': 'B1', 'data_type': {'type': 'PixelType', 'precision': 'int', 'min': -32768, 'max': 32767}, 'dimensions': [7631, 7771], 'crs': 'EPSG:32650', 'crs_transform': [30, 0, 486285, 0, -30, 3946515]}, {'id': 'B2', 'data_type': {'type': 'PixelType', 'precision': 'int', 'min': -32768, 'max': 32767}, 'dimensions': [7631, 7771], 'crs': 'EPSG:32650', 'crs_transform': [30, 0, 486285, 0, -30, 3946515]}, {'id': 'B3', 'data_type': {'type': 'PixelType', 'precision': 'int', 'min': -32768, 'max': 32767}, 'dimensions': [7631, 7771], 'crs': 'EPSG:32650', 'crs_transform': [30, 0, 486285, 0, -30, 3946515]}, {'id': 'B4', 'data_type': {'type': 'PixelType', 'precision': 'int', 'min': -32768, 'max': 32767}, 'dimensions': [7631, 7771], 'crs': 'EPSG:32650', 'crs_transform': [30, 0, 486285, 0, -30, 3946515]}, {'id': 'B5', 'data_type': {'type': 'PixelType', 'precision': 'int', 'min': -32768, 'max': 32767}, 'dimensions': [7631, 7771], 'crs': 'EPSG:32650', 'crs_transform': [30, 0, 486285, 0, -30, 3946515]}, {'id': 'B6', 'data_type': {'type': 'PixelType', 'precision': 'int', 'min': -32768, 'max': 32767}, 'dimensions': [7631, 7771], 'crs': 'EPSG:32650', 'crs_transform': [30, 0, 486285, 0, -30, 3946515]}, {'id': 'B7', 'data_type': {'type': 'PixelType', 'precision': 'int', 'min': -32768, 'max': 32767}, 'dimensions': [7631, 7771], 'crs': 'EPSG:32650', 'crs_transform': [30, 0, 486285, 0, -30, 3946515]}, {'id': 'B10', 'data_type': {'type': 'PixelType', 'precision': 'int', 'min': -32768, 'max': 32767}, 'dimensions': [7631, 7771], 'crs': 'EPSG:32650', 'crs_transform': [30, 0, 486285, 0, -30, 3946515]}, {'id': 'B11', 'data_type': {'type': 'PixelType', 'precision': 'int', 'min': -32768, 'max': 32767}, 'dimensions': [7631, 7771], 'crs': 'EPSG:32650', 'crs_transform': [30, 0, 486285, 0, -30, 3946515]}, {'id': 'sr_aerosol', 'data_type': {'type': 'PixelType', 'precision': 'int', 'min': 0, 'max': 255}, 'dimensions': [7631, 7771], 'crs': 'EPSG:32650', 'crs_transform': [30, 0, 486285, 0, -30, 3946515]}, {'id': 'pixel_qa', 'data_type': {'type': 'PixelType', 'precision': 'int', 'min': 0, 'max': 65535}, 'dimensions': [7631, 7771], 'crs': 'EPSG:32650', 'crs_transform': [30, 0, 486285, 0, -30, 3946515]}, {'id': 'radsat_qa', 'data_type': {'type': 'PixelType', 'precision': 'int', 'min': 0, 'max': 65535}, 'dimensions': [7631, 7771], 'crs': 'EPSG:32650', 'crs_transform': [30, 0, 486285, 0, -30, 3946515]}], 'id': 'LANDSAT/LC08/C01/T1_SR/LC08_121036_20190312', 'version': 1563396707740605, 'properties': {'IMAGE_QUALITY_TIRS': 9, 'CLOUD_COVER': 0.09, 'EARTH_SUN_DISTANCE': 0.993506, 'LANDSAT_ID': 'LC08_L1TP_121036_20190312_20190325_01_T1', 'system:footprint': {'type': 'LinearRing', 'coordinates': [[117.02907908434614, 33.90484465649655], [118.50532494611267, 33.61834420034766], [118.8318355673983, 33.55234240794161], [118.84384724361017, 33.593850182578876], [118.87518085519206, 33.702060200375385], [118.94363144369095, 33.93759893646215], [118.97052831508438, 34.029875653027524], [119.02170002305168, 34.204949253916816], [119.05222786580103, 34.30912268206364], [119.0881883629344, 34.43158563960722], [119.1128220322965, 34.515281738516336], [119.18980964239525, 34.77593931723852], [119.22993171988432, 34.9113505981937], [119.27941666880115, 35.07779977463232], [119.33827674536948, 35.2750564638804], [119.3269608969982, 35.27734882173864], [118.15880373219072, 35.50490088869593], [117.33989984908895, 35.65698092757345], [116.87529414854356, 33.93511103513098], [116.87529639529636, 33.933568713266084], [117.02907908434614, 33.90484465649655]]}, 'CLOUD_COVER_LAND': 0.08, 'GEOMETRIC_RMSE_MODEL': 7.08, 'SR_APP_VERSION': 'LaSRC_1.3.0', 'SATELLITE': 'LANDSAT_8', 'SOLAR_AZIMUTH_ANGLE': 144.697739, 'IMAGE_QUALITY_OLI': 9, 'system:time_end': 1552358541980, 'WRS_PATH': 121, 'system:time_start': 1552358541980, 'SENSING_TIME': '2019-03-12T02:42:21.9775300Z', 'ESPA_VERSION': '2_23_0_1b', 'SOLAR_ZENITH_ANGLE': 44.172474, 'WRS_ROW': 36, 'GEOMETRIC_RMSE_MODEL_Y': 4.96, 'LEVEL1_PRODUCTION_DATE': 1553498022000, 'GEOMETRIC_RMSE_MODEL_X': 5.053, 'system:asset_size': 649999499, 'PIXEL_QA_VERSION': 'generate_pixel_qa_1.6.0', 'system:index': 'LC08_121036_20190312'}}, {'type': 'Image', 'bands': [{'id': 'B1', 'data_type': {'type': 'PixelType', 'precision': 'int', 'min': -32768, 'max': 32767}, 'dimensions': [7641, 7781], 'crs': 'EPSG:32650', 'crs_transform': [30, 0, 484785, 0, -30, 3946515]}, {'id': 'B2', 'data_type': {'type': 'PixelType', 'precision': 'int', 'min': -32768, 'max': 32767}, 'dimensions': [7641, 7781], 'crs': 'EPSG:32650', 'crs_transform': [30, 0, 484785, 0, -30, 3946515]}, {'id': 'B3', 'data_type': {'type': 'PixelType', 'precision': 'int', 'min': -32768, 'max': 32767}, 'dimensions': [7641, 7781], 'crs': 'EPSG:32650', 'crs_transform': [30, 0, 484785, 0, -30, 3946515]}, {'id': 'B4', 'data_type': {'type': 'PixelType', 'precision': 'int', 'min': -32768, 'max': 32767}, 'dimensions': [7641, 7781], 'crs': 'EPSG:32650', 'crs_transform': [30, 0, 484785, 0, -30, 3946515]}, {'id': 'B5', 'data_type': {'type': 'PixelType', 'precision': 'int', 'min': -32768, 'max': 32767}, 'dimensions': [7641, 7781], 'crs': 'EPSG:32650', 'crs_transform': [30, 0, 484785, 0, -30, 3946515]}, {'id': 'B6', 'data_type': {'type': 'PixelType', 'precision': 'int', 'min': -32768, 'max': 32767}, 'dimensions': [7641, 7781], 'crs': 'EPSG:32650', 'crs_transform': [30, 0, 484785, 0, -30, 3946515]}, {'id': 'B7', 'data_type': {'type': 'PixelType', 'precision': 'int', 'min': -32768, 'max': 32767}, 'dimensions': [7641, 7781], 'crs': 'EPSG:32650', 'crs_transform': [30, 0, 484785, 0, -30, 3946515]}, {'id': 'B10', 'data_type': {'type': 'PixelType', 'precision': 'int', 'min': -32768, 'max': 32767}, 'dimensions': [7641, 7781], 'crs': 'EPSG:32650', 'crs_transform': [30, 0, 484785, 0, -30, 3946515]}, {'id': 'B11', 'data_type': {'type': 'PixelType', 'precision': 'int', 'min': -32768, 'max': 32767}, 'dimensions': [7641, 7781], 'crs': 'EPSG:32650', 'crs_transform': [30, 0, 484785, 0, -30, 3946515]}, {'id': 'sr_aerosol', 'data_type': {'type': 'PixelType', 'precision': 'int', 'min': 0, 'max': 255}, 'dimensions': [7641, 7781], 'crs': 'EPSG:32650', 'crs_transform': [30, 0, 484785, 0, -30, 3946515]}, {'id': 'pixel_qa', 'data_type': {'type': 'PixelType', 'precision': 'int', 'min': 0, 'max': 65535}, 'dimensions': [7641, 7781], 'crs': 'EPSG:32650', 'crs_transform': [30, 0, 484785, 0, -30, 3946515]}, {'id': 'radsat_qa', 'data_type': {'type': 'PixelType', 'precision': 'int', 'min': 0, 'max': 65535}, 'dimensions': [7641, 7781], 'crs': 'EPSG:32650', 'crs_transform': [30, 0, 484785, 0, -30, 3946515]}], 'id': 'LANDSAT/LC08/C01/T1_SR/LC08_121036_20190531', 'version': 1563396778238139, 'properties': {'IMAGE_QUALITY_TIRS': 9, 'CLOUD_COVER': 7.25, 'EARTH_SUN_DISTANCE': 1.013819, 'LANDSAT_ID': 'LC08_L1TP_121036_20190531_20190605_01_T1', 'system:footprint': {'type': 'LinearRing', 'coordinates': [[117.32393223893047, 35.65718751224633], [117.32278761723452, 35.657190611648744], [116.85671198447797, 33.934657728654436], [116.85790735644973, 33.93416127910378], [117.34683055076565, 33.841857887914216], [118.70140456095527, 33.574950576373645], [118.81367766524316, 33.55209144480905], [118.81475385864817, 33.55544492654322], [118.82249524582218, 33.582087779855016], [118.83501529902776, 33.62524247046026], [118.89837014288265, 33.843083550407016], [118.95166256285815, 34.02559597511165], [118.97263776121869, 34.09727718098292], [119.03217162401637, 34.300229299279216], [119.07766307872048, 34.454755914508496], [119.10014393021815, 34.53091755822988], [119.21937402288341, 34.932880755582914], [119.23708182517302, 34.99232616508912], [119.26242929737005, 35.07731819738858], [119.31657742775116, 35.258302262821566], [119.32140655903548, 35.2744691234665], [117.33947625551181, 35.654367494034496], [117.32393223893047, 35.65718751224633]]}, 'CLOUD_COVER_LAND': 7.14, 'GEOMETRIC_RMSE_MODEL': 7.96, 'SR_APP_VERSION': 'LaSRC_1.3.0', 'SATELLITE': 'LANDSAT_8', 'SOLAR_AZIMUTH_ANGLE': 119.652, 'IMAGE_QUALITY_OLI': 9, 'system:time_end': 1559270548240, 'WRS_PATH': 121, 'system:time_start': 1559270548240, 'SENSING_TIME': '2019-05-31T02:42:28.2375370Z', 'ESPA_VERSION': '2_23_0_1b', 'SOLAR_ZENITH_ANGLE': 22.178627, 'WRS_ROW': 36, 'GEOMETRIC_RMSE_MODEL_Y': 5.62, 'LEVEL1_PRODUCTION_DATE': 1559737742000, 'GEOMETRIC_RMSE_MODEL_X': 5.637, 'system:asset_size': 660214756, 'PIXEL_QA_VERSION': 'generate_pixel_qa_1.6.0', 'system:index': 'LC08_121036_20190531'}}, {'type': 'Image', 'bands': [{'id': 'B1', 'data_type': {'type': 'PixelType', 'precision': 'int', 'min': -32768, 'max': 32767}, 'dimensions': [7631, 7771], 'crs': 'EPSG:32650', 'crs_transform': [30, 0, 486285, 0, -30, 3946515]}, {'id': 'B2', 'data_type': {'type': 'PixelType', 'precision': 'int', 'min': -32768, 'max': 32767}, 'dimensions': [7631, 7771], 'crs': 'EPSG:32650', 'crs_transform': [30, 0, 486285, 0, -30, 3946515]}, {'id': 'B3', 'data_type': {'type': 'PixelType', 'precision': 'int', 'min': -32768, 'max': 32767}, 'dimensions': [7631, 7771], 'crs': 'EPSG:32650', 'crs_transform': [30, 0, 486285, 0, -30, 3946515]}, {'id': 'B4', 'data_type': {'type': 'PixelType', 'precision': 'int', 'min': -32768, 'max': 32767}, 'dimensions': [7631, 7771], 'crs': 'EPSG:32650', 'crs_transform': [30, 0, 486285, 0, -30, 3946515]}, {'id': 'B5', 'data_type': {'type': 'PixelType', 'precision': 'int', 'min': -32768, 'max': 32767}, 'dimensions': [7631, 7771], 'crs': 'EPSG:32650', 'crs_transform': [30, 0, 486285, 0, -30, 3946515]}, {'id': 'B6', 'data_type': {'type': 'PixelType', 'precision': 'int', 'min': -32768, 'max': 32767}, 'dimensions': [7631, 7771], 'crs': 'EPSG:32650', 'crs_transform': [30, 0, 486285, 0, -30, 3946515]}, {'id': 'B7', 'data_type': {'type': 'PixelType', 'precision': 'int', 'min': -32768, 'max': 32767}, 'dimensions': [7631, 7771], 'crs': 'EPSG:32650', 'crs_transform': [30, 0, 486285, 0, -30, 3946515]}, {'id': 'B10', 'data_type': {'type': 'PixelType', 'precision': 'int', 'min': -32768, 'max': 32767}, 'dimensions': [7631, 7771], 'crs': 'EPSG:32650', 'crs_transform': [30, 0, 486285, 0, -30, 3946515]}, {'id': 'B11', 'data_type': {'type': 'PixelType', 'precision': 'int', 'min': -32768, 'max': 32767}, 'dimensions': [7631, 7771], 'crs': 'EPSG:32650', 'crs_transform': [30, 0, 486285, 0, -30, 3946515]}, {'id': 'sr_aerosol', 'data_type': {'type': 'PixelType', 'precision': 'int', 'min': 0, 'max': 255}, 'dimensions': [7631, 7771], 'crs': 'EPSG:32650', 'crs_transform': [30, 0, 486285, 0, -30, 3946515]}, {'id': 'pixel_qa', 'data_type': {'type': 'PixelType', 'precision': 'int', 'min': 0, 'max': 65535}, 'dimensions': [7631, 7771], 'crs': 'EPSG:32650', 'crs_transform': [30, 0, 486285, 0, -30, 3946515]}, {'id': 'radsat_qa', 'data_type': {'type': 'PixelType', 'precision': 'int', 'min': 0, 'max': 65535}, 'dimensions': [7631, 7771], 'crs': 'EPSG:32650', 'crs_transform': [30, 0, 486285, 0, -30, 3946515]}], 'id': 'LANDSAT/LC08/C01/T1_SR/LC08_121036_20191209', 'version': 1576922451209302, 'properties': {'IMAGE_QUALITY_TIRS': 9, 'CLOUD_COVER': 0.12, 'EARTH_SUN_DISTANCE': 0.984944, 'LANDSAT_ID': 'LC08_L1TP_121036_20191209_20191217_01_T1', 'system:footprint': {'type': 'LinearRing', 'coordinates': [[118.8268607287485, 33.55274448179268], [118.82738042104393, 33.55357755709282], [118.8310007927421, 33.56597790342604], [118.87105786633802, 33.7042062774878], [118.89098871294797, 33.77286208715359], [118.96144414102098, 34.014932637991606], [119.00487555574513, 34.163474724170065], [119.03346607257933, 34.26101749308362], [119.11611224233498, 34.542001977854895], [119.14654653359204, 34.645061862549916], [119.16394212930925, 34.70390825892171], [119.23822226680032, 34.954407363711205], [119.27671070635112, 35.0836274776784], [119.33398864156625, 35.27535426956977], [118.52760020888446, 35.43398804141989], [117.59425528501181, 35.61016736238115], [117.335796225834, 35.65754759015249], [117.33502183273026, 35.65505541282462], [116.87033227270213, 33.93434441930865], [116.87387842001081, 33.93360931569749], [118.81477119790182, 33.55518120743837], [118.8268607287485, 33.55274448179268]]}, 'CLOUD_COVER_LAND': 0.12, 'GEOMETRIC_RMSE_MODEL': 8.233, 'SR_APP_VERSION': 'LaSRC_1.3.0', 'SATELLITE': 'LANDSAT_8', 'SOLAR_AZIMUTH_ANGLE': 159.611389, 'IMAGE_QUALITY_OLI': 9, 'system:time_end': 1575859383736, 'WRS_PATH': 121, 'system:time_start': 1575859383736, 'SENSING_TIME': '2019-12-09T02:43:03.7365830Z', 'ESPA_VERSION': '2_23_0_1b', 'SOLAR_ZENITH_ANGLE': 60.195557, 'WRS_ROW': 36, 'GEOMETRIC_RMSE_MODEL_Y': 6.177, 'LEVEL1_PRODUCTION_DATE': 1576573184000, 'GEOMETRIC_RMSE_MODEL_X': 5.444, 'system:asset_size': 624415197, 'PIXEL_QA_VERSION': 'generate_pixel_qa_1.6.0', 'system:index': 'LC08_121036_20191209'}}, {'type': 'Image', 'bands': [{'id': 'B1', 'data_type': {'type': 'PixelType', 'precision': 'int', 'min': -32768, 'max': 32767}, 'dimensions': [7631, 7771], 'crs': 'EPSG:32650', 'crs_transform': [30, 0, 483285, 0, -30, 3946515]}, {'id': 'B2', 'data_type': {'type': 'PixelType', 'precision': 'int', 'min': -32768, 'max': 32767}, 'dimensions': [7631, 7771], 'crs': 'EPSG:32650', 'crs_transform': [30, 0, 483285, 0, -30, 3946515]}, {'id': 'B3', 'data_type': {'type': 'PixelType', 'precision': 'int', 'min': -32768, 'max': 32767}, 'dimensions': [7631, 7771], 'crs': 'EPSG:32650', 'crs_transform': [30, 0, 483285, 0, -30, 3946515]}, {'id': 'B4', 'data_type': {'type': 'PixelType', 'precision': 'int', 'min': -32768, 'max': 32767}, 'dimensions': [7631, 7771], 'crs': 'EPSG:32650', 'crs_transform': [30, 0, 483285, 0, -30, 3946515]}, {'id': 'B5', 'data_type': {'type': 'PixelType', 'precision': 'int', 'min': -32768, 'max': 32767}, 'dimensions': [7631, 7771], 'crs': 'EPSG:32650', 'crs_transform': [30, 0, 483285, 0, -30, 3946515]}, {'id': 'B6', 'data_type': {'type': 'PixelType', 'precision': 'int', 'min': -32768, 'max': 32767}, 'dimensions': [7631, 7771], 'crs': 'EPSG:32650', 'crs_transform': [30, 0, 483285, 0, -30, 3946515]}, {'id': 'B7', 'data_type': {'type': 'PixelType', 'precision': 'int', 'min': -32768, 'max': 32767}, 'dimensions': [7631, 7771], 'crs': 'EPSG:32650', 'crs_transform': [30, 0, 483285, 0, -30, 3946515]}, {'id': 'B10', 'data_type': {'type': 'PixelType', 'precision': 'int', 'min': -32768, 'max': 32767}, 'dimensions': [7631, 7771], 'crs': 'EPSG:32650', 'crs_transform': [30, 0, 483285, 0, -30, 3946515]}, {'id': 'B11', 'data_type': {'type': 'PixelType', 'precision': 'int', 'min': -32768, 'max': 32767}, 'dimensions': [7631, 7771], 'crs': 'EPSG:32650', 'crs_transform': [30, 0, 483285, 0, -30, 3946515]}, {'id': 'sr_aerosol', 'data_type': {'type': 'PixelType', 'precision': 'int', 'min': 0, 'max': 255}, 'dimensions': [7631, 7771], 'crs': 'EPSG:32650', 'crs_transform': [30, 0, 483285, 0, -30, 3946515]}, {'id': 'pixel_qa', 'data_type': {'type': 'PixelType', 'precision': 'int', 'min': 0, 'max': 65535}, 'dimensions': [7631, 7771], 'crs': 'EPSG:32650', 'crs_transform': [30, 0, 483285, 0, -30, 3946515]}, {'id': 'radsat_qa', 'data_type': {'type': 'PixelType', 'precision': 'int', 'min': 0, 'max': 65535}, 'dimensions': [7631, 7771], 'crs': 'EPSG:32650', 'crs_transform': [30, 0, 483285, 0, -30, 3946515]}], 'id': 'LANDSAT/LC08/C01/T1_SR/LC08_121036_20200415', 'version': 1587802265480830.0, 'properties': {'IMAGE_QUALITY_TIRS': 9, 'CLOUD_COVER': 1.01, 'EARTH_SUN_DISTANCE': 1.003312, 'LANDSAT_ID': 'LC08_L1TP_121036_20200415_20200423_01_T1', 'system:footprint': {'type': 'LinearRing', 'coordinates': [[119.1834538651568, 34.87862890350541], [119.20406837947698, 34.948148840148114], [119.25406526472796, 35.11636840860451], [119.30121743778555, 35.274509563391064], [119.30126024919234, 35.27602061735436], [118.76736640474654, 35.3814917750412], [117.30321934375075, 35.657355457850386], [116.83879364708581, 33.933977848175154], [117.22885161182089, 33.860802814902506], [118.48641344789759, 33.61561800134099], [118.79578606538497, 33.55313107801715], [118.81152178850604, 33.607502809201264], [118.83790139844591, 33.69872887220992], [118.9110593782874, 33.950825693864765], [118.93685340847416, 34.03941747800842], [119.0137547831317, 34.30259626030486], [119.08158855318361, 34.53364821746677], [119.14316674682665, 34.74249058147434], [119.1834538651568, 34.87862890350541]]}, 'CLOUD_COVER_LAND': 1, 'GEOMETRIC_RMSE_MODEL': 7.655, 'SR_APP_VERSION': 'LaSRC_1.3.0', 'SATELLITE': 'LANDSAT_8', 'SOLAR_AZIMUTH_ANGLE': 136.634689, 'IMAGE_QUALITY_OLI': 9, 'system:time_end': 1586918541161, 'WRS_PATH': 121, 'system:time_start': 1586918541161, 'SENSING_TIME': '2020-04-15T02:42:21.1619840Z', 'ESPA_VERSION': '2_23_0_1b', 'SOLAR_ZENITH_ANGLE': 31.489464, 'WRS_ROW': 36, 'GEOMETRIC_RMSE_MODEL_Y': 5.664, 'LEVEL1_PRODUCTION_DATE': 1587604142000, 'GEOMETRIC_RMSE_MODEL_X': 5.15, 'system:asset_size': 664228937, 'PIXEL_QA_VERSION': 'generate_pixel_qa_1.6.0', 'system:index': 'LC08_121036_20200415'}}, {'type': 'Image', 'bands': [{'id': 'B1', 'data_type': {'type': 'PixelType', 'precision': 'int', 'min': -32768, 'max': 32767}, 'dimensions': [7641, 7771], 'crs': 'EPSG:32650', 'crs_transform': [30, 0, 485685, 0, -30, 3946515]}, {'id': 'B2', 'data_type': {'type': 'PixelType', 'precision': 'int', 'min': -32768, 'max': 32767}, 'dimensions': [7641, 7771], 'crs': 'EPSG:32650', 'crs_transform': [30, 0, 485685, 0, -30, 3946515]}, {'id': 'B3', 'data_type': {'type': 'PixelType', 'precision': 'int', 'min': -32768, 'max': 32767}, 'dimensions': [7641, 7771], 'crs': 'EPSG:32650', 'crs_transform': [30, 0, 485685, 0, -30, 3946515]}, {'id': 'B4', 'data_type': {'type': 'PixelType', 'precision': 'int', 'min': -32768, 'max': 32767}, 'dimensions': [7641, 7771], 'crs': 'EPSG:32650', 'crs_transform': [30, 0, 485685, 0, -30, 3946515]}, {'id': 'B5', 'data_type': {'type': 'PixelType', 'precision': 'int', 'min': -32768, 'max': 32767}, 'dimensions': [7641, 7771], 'crs': 'EPSG:32650', 'crs_transform': [30, 0, 485685, 0, -30, 3946515]}, {'id': 'B6', 'data_type': {'type': 'PixelType', 'precision': 'int', 'min': -32768, 'max': 32767}, 'dimensions': [7641, 7771], 'crs': 'EPSG:32650', 'crs_transform': [30, 0, 485685, 0, -30, 3946515]}, {'id': 'B7', 'data_type': {'type': 'PixelType', 'precision': 'int', 'min': -32768, 'max': 32767}, 'dimensions': [7641, 7771], 'crs': 'EPSG:32650', 'crs_transform': [30, 0, 485685, 0, -30, 3946515]}, {'id': 'B10', 'data_type': {'type': 'PixelType', 'precision': 'int', 'min': -32768, 'max': 32767}, 'dimensions': [7641, 7771], 'crs': 'EPSG:32650', 'crs_transform': [30, 0, 485685, 0, -30, 3946515]}, {'id': 'B11', 'data_type': {'type': 'PixelType', 'precision': 'int', 'min': -32768, 'max': 32767}, 'dimensions': [7641, 7771], 'crs': 'EPSG:32650', 'crs_transform': [30, 0, 485685, 0, -30, 3946515]}, {'id': 'sr_aerosol', 'data_type': {'type': 'PixelType', 'precision': 'int', 'min': 0, 'max': 255}, 'dimensions': [7641, 7771], 'crs': 'EPSG:32650', 'crs_transform': [30, 0, 485685, 0, -30, 3946515]}, {'id': 'pixel_qa', 'data_type': {'type': 'PixelType', 'precision': 'int', 'min': 0, 'max': 65535}, 'dimensions': [7641, 7771], 'crs': 'EPSG:32650', 'crs_transform': [30, 0, 485685, 0, -30, 3946515]}, {'id': 'radsat_qa', 'data_type': {'type': 'PixelType', 'precision': 'int', 'min': 0, 'max': 65535}, 'dimensions': [7641, 7771], 'crs': 'EPSG:32650', 'crs_transform': [30, 0, 485685, 0, -30, 3946515]}], 'id': 'LANDSAT/LC08/C01/T1_SR/LC08_121036_20200517', 'version': 1590999145384677, 'properties': {'IMAGE_QUALITY_TIRS': 9, 'CLOUD_COVER': 3.48, 'EARTH_SUN_DISTANCE': 1.011368, 'LANDSAT_ID': 'LC08_L1TP_121036_20200517_20200527_01_T1', 'system:footprint': {'type': 'LinearRing', 'coordinates': [[118.8221370962309, 33.552664348117816], [118.82335256087943, 33.55645064892015], [118.88093721396638, 33.75475719140409], [118.94734045521773, 33.98245311767226], [119.00783896676066, 34.18903924996077], [119.04203519178043, 34.305505993237375], [119.08804217108843, 34.461695788887056], [119.12331639378161, 34.58109582087682], [119.16921153393847, 34.73607883399947], [119.21132952045012, 34.87785415967529], [119.26750710381832, 35.06631075556551], [119.32985913009507, 35.27477440676732], [118.7862144261774, 35.382566808155055], [117.44130656815395, 35.63760497468766], [117.33292093099156, 35.65743348191539], [117.33114793878724, 35.657438369933594], [116.86500799947372, 33.934938588447565], [116.86677042914485, 33.934451046201936], [117.61172254067866, 33.79293734169081], [118.8207743776157, 33.5526843995595], [118.8221370962309, 33.552664348117816]]}, 'CLOUD_COVER_LAND': 3.29, 'GEOMETRIC_RMSE_MODEL': 7.825, 'SR_APP_VERSION': 'LaSRC_1.3.0', 'SATELLITE': 'LANDSAT_8', 'SOLAR_AZIMUTH_ANGLE': 124.711998, 'IMAGE_QUALITY_OLI': 9, 'system:time_end': 1589683330558, 'WRS_PATH': 121, 'system:time_start': 1589683330558, 'SENSING_TIME': '2020-05-17T02:42:10.5580720Z', 'ESPA_VERSION': '2_23_0_1b', 'SOLAR_ZENITH_ANGLE': 23.650475, 'WRS_ROW': 36, 'GEOMETRIC_RMSE_MODEL_Y': 5.437, 'LEVEL1_PRODUCTION_DATE': 1590558306000, 'GEOMETRIC_RMSE_MODEL_X': 5.628, 'system:asset_size': 643572898, 'PIXEL_QA_VERSION': 'generate_pixel_qa_1.6.0', 'system:index': 'LC08_121036_20200517'}}, {'type': 'Image', 'bands': [{'id': 'B1', 'data_type': {'type': 'PixelType', 'precision': 'int', 'min': -32768, 'max': 32767}, 'dimensions': [7641, 7771], 'crs': 'EPSG:32650', 'crs_transform': [30, 0, 485385, 0, -30, 3946515]}, {'id': 'B2', 'data_type': {'type': 'PixelType', 'precision': 'int', 'min': -32768, 'max': 32767}, 'dimensions': [7641, 7771], 'crs': 'EPSG:32650', 'crs_transform': [30, 0, 485385, 0, -30, 3946515]}, {'id': 'B3', 'data_type': {'type': 'PixelType', 'precision': 'int', 'min': -32768, 'max': 32767}, 'dimensions': [7641, 7771], 'crs': 'EPSG:32650', 'crs_transform': [30, 0, 485385, 0, -30, 3946515]}, {'id': 'B4', 'data_type': {'type': 'PixelType', 'precision': 'int', 'min': -32768, 'max': 32767}, 'dimensions': [7641, 7771], 'crs': 'EPSG:32650', 'crs_transform': [30, 0, 485385, 0, -30, 3946515]}, {'id': 'B5', 'data_type': {'type': 'PixelType', 'precision': 'int', 'min': -32768, 'max': 32767}, 'dimensions': [7641, 7771], 'crs': 'EPSG:32650', 'crs_transform': [30, 0, 485385, 0, -30, 3946515]}, {'id': 'B6', 'data_type': {'type': 'PixelType', 'precision': 'int', 'min': -32768, 'max': 32767}, 'dimensions': [7641, 7771], 'crs': 'EPSG:32650', 'crs_transform': [30, 0, 485385, 0, -30, 3946515]}, {'id': 'B7', 'data_type': {'type': 'PixelType', 'precision': 'int', 'min': -32768, 'max': 32767}, 'dimensions': [7641, 7771], 'crs': 'EPSG:32650', 'crs_transform': [30, 0, 485385, 0, -30, 3946515]}, {'id': 'B10', 'data_type': {'type': 'PixelType', 'precision': 'int', 'min': -32768, 'max': 32767}, 'dimensions': [7641, 7771], 'crs': 'EPSG:32650', 'crs_transform': [30, 0, 485385, 0, -30, 3946515]}, {'id': 'B11', 'data_type': {'type': 'PixelType', 'precision': 'int', 'min': -32768, 'max': 32767}, 'dimensions': [7641, 7771], 'crs': 'EPSG:32650', 'crs_transform': [30, 0, 485385, 0, -30, 3946515]}, {'id': 'sr_aerosol', 'data_type': {'type': 'PixelType', 'precision': 'int', 'min': 0, 'max': 255}, 'dimensions': [7641, 7771], 'crs': 'EPSG:32650', 'crs_transform': [30, 0, 485385, 0, -30, 3946515]}, {'id': 'pixel_qa', 'data_type': {'type': 'PixelType', 'precision': 'int', 'min': 0, 'max': 65535}, 'dimensions': [7641, 7771], 'crs': 'EPSG:32650', 'crs_transform': [30, 0, 485385, 0, -30, 3946515]}, {'id': 'radsat_qa', 'data_type': {'type': 'PixelType', 'precision': 'int', 'min': 0, 'max': 65535}, 'dimensions': [7641, 7771], 'crs': 'EPSG:32650', 'crs_transform': [30, 0, 485385, 0, -30, 3946515]}], 'id': 'LANDSAT/LC08/C01/T1_SR/LC08_121036_20201024', 'version': 1604911054544085, 'properties': {'IMAGE_QUALITY_TIRS': 9, 'CLOUD_COVER': 0.1, 'EARTH_SUN_DISTANCE': 0.994622, 'LANDSAT_ID': 'LC08_L1TP_121036_20201024_20201105_01_T1', 'system:footprint': {'type': 'LinearRing', 'coordinates': [[119.32527389775048, 35.27390702289245], [119.32531847462317, 35.275464340885534], [117.32765302100745, 35.65774472168016], [116.86192393766534, 33.9344561838366], [118.58808533760707, 33.599453198514816], [118.81856506972045, 33.55270662700793], [118.83243277219917, 33.60052970873228], [118.85671175751969, 33.68427020561269], [118.88523716811655, 33.78251356551779], [118.92856091224198, 33.93134356991796], [118.96590567859354, 34.059244029543194], [119.0079500669201, 34.20280890632188], [119.032091264488, 34.28511411186975], [119.06871627266138, 34.40973690200739], [119.12656546672618, 34.605922967785986], [119.16565872492785, 34.73803542298691], [119.2030888359682, 34.864210491468114], [119.26307934855441, 35.06571550421994], [119.32527389775048, 35.27390702289245]]}, 'CLOUD_COVER_LAND': 0.1, 'GEOMETRIC_RMSE_MODEL': 7.632, 'SR_APP_VERSION': 'LaSRC_1.3.0', 'SATELLITE': 'LANDSAT_8', 'SOLAR_AZIMUTH_ANGLE': 157.570312, 'IMAGE_QUALITY_OLI': 9, 'system:time_end': 1603507385111, 'WRS_PATH': 121, 'system:time_start': 1603507385111, 'SENSING_TIME': '2020-10-24T02:43:05.1114410Z', 'ESPA_VERSION': '2_23_0_1b', 'SOLAR_ZENITH_ANGLE': 49.262825, 'WRS_ROW': 36, 'GEOMETRIC_RMSE_MODEL_Y': 5.728, 'LEVEL1_PRODUCTION_DATE': 1604600388000, 'GEOMETRIC_RMSE_MODEL_X': 5.043, 'system:asset_size': 658560760, 'PIXEL_QA_VERSION': 'generate_pixel_qa_1.6.0', 'system:index': 'LC08_121036_20201024'}}, {'type': 'Image', 'bands': [{'id': 'B1', 'data_type': {'type': 'PixelType', 'precision': 'int', 'min': -32768, 'max': 32767}, 'dimensions': [7631, 7771], 'crs': 'EPSG:32650', 'crs_transform': [30, 0, 485085, 0, -30, 3946515]}, {'id': 'B2', 'data_type': {'type': 'PixelType', 'precision': 'int', 'min': -32768, 'max': 32767}, 'dimensions': [7631, 7771], 'crs': 'EPSG:32650', 'crs_transform': [30, 0, 485085, 0, -30, 3946515]}, {'id': 'B3', 'data_type': {'type': 'PixelType', 'precision': 'int', 'min': -32768, 'max': 32767}, 'dimensions': [7631, 7771], 'crs': 'EPSG:32650', 'crs_transform': [30, 0, 485085, 0, -30, 3946515]}, {'id': 'B4', 'data_type': {'type': 'PixelType', 'precision': 'int', 'min': -32768, 'max': 32767}, 'dimensions': [7631, 7771], 'crs': 'EPSG:32650', 'crs_transform': [30, 0, 485085, 0, -30, 3946515]}, {'id': 'B5', 'data_type': {'type': 'PixelType', 'precision': 'int', 'min': -32768, 'max': 32767}, 'dimensions': [7631, 7771], 'crs': 'EPSG:32650', 'crs_transform': [30, 0, 485085, 0, -30, 3946515]}, {'id': 'B6', 'data_type': {'type': 'PixelType', 'precision': 'int', 'min': -32768, 'max': 32767}, 'dimensions': [7631, 7771], 'crs': 'EPSG:32650', 'crs_transform': [30, 0, 485085, 0, -30, 3946515]}, {'id': 'B7', 'data_type': {'type': 'PixelType', 'precision': 'int', 'min': -32768, 'max': 32767}, 'dimensions': [7631, 7771], 'crs': 'EPSG:32650', 'crs_transform': [30, 0, 485085, 0, -30, 3946515]}, {'id': 'B10', 'data_type': {'type': 'PixelType', 'precision': 'int', 'min': -32768, 'max': 32767}, 'dimensions': [7631, 7771], 'crs': 'EPSG:32650', 'crs_transform': [30, 0, 485085, 0, -30, 3946515]}, {'id': 'B11', 'data_type': {'type': 'PixelType', 'precision': 'int', 'min': -32768, 'max': 32767}, 'dimensions': [7631, 7771], 'crs': 'EPSG:32650', 'crs_transform': [30, 0, 485085, 0, -30, 3946515]}, {'id': 'sr_aerosol', 'data_type': {'type': 'PixelType', 'precision': 'int', 'min': 0, 'max': 255}, 'dimensions': [7631, 7771], 'crs': 'EPSG:32650', 'crs_transform': [30, 0, 485085, 0, -30, 3946515]}, {'id': 'pixel_qa', 'data_type': {'type': 'PixelType', 'precision': 'int', 'min': 0, 'max': 65535}, 'dimensions': [7631, 7771], 'crs': 'EPSG:32650', 'crs_transform': [30, 0, 485085, 0, -30, 3946515]}, {'id': 'radsat_qa', 'data_type': {'type': 'PixelType', 'precision': 'int', 'min': 0, 'max': 65535}, 'dimensions': [7631, 7771], 'crs': 'EPSG:32650', 'crs_transform': [30, 0, 485085, 0, -30, 3946515]}], 'id': 'LANDSAT/LC08/C01/T1_SR/LC08_121036_20201227', 'version': 1615627757689056, 'properties': {'IMAGE_QUALITY_TIRS': 9, 'CLOUD_COVER': 3.4, 'EARTH_SUN_DISTANCE': 0.98339, 'LANDSAT_ID': 'LC08_L1TP_121036_20201227_20210311_01_T1', 'system:footprint': {'type': 'LinearRing', 'coordinates': [[118.81460136205308, 33.55294924027294], [118.81521428187642, 33.55393203049834], [118.82765578169045, 33.59689105693188], [118.85208974283155, 33.68120308937878], [118.89620458633763, 33.833107852046886], [118.95605739785957, 34.038485060379436], [119.00858673766837, 34.21802460348814], [119.04558024177595, 34.344127045707694], [119.10117837181785, 34.533063702255745], [119.13804053485018, 34.65792352767024], [119.16972749912644, 34.76496171289157], [119.21610708791752, 34.921310939377655], [119.26747527608569, 35.09382538867715], [119.32132351799537, 35.2741481803194], [119.3213610061121, 35.27546232159376], [119.30811735973083, 35.278143125934065], [118.70199015450758, 35.397847205617815], [117.3229534281655, 35.65766845094247], [116.8576179512095, 33.93453544877873], [118.81460136205308, 33.55294924027294]]}, 'CLOUD_COVER_LAND': 3.4, 'GEOMETRIC_RMSE_MODEL': 8.013, 'SR_APP_VERSION': 'LaSRC_1.3.0', 'SATELLITE': 'LANDSAT_8', 'SOLAR_AZIMUTH_ANGLE': 157.54068, 'IMAGE_QUALITY_OLI': 9, 'system:time_end': 1609036983499, 'WRS_PATH': 121, 'system:time_start': 1609036983499, 'SENSING_TIME': '2020-12-27T02:43:03.4999840Z', 'ESPA_VERSION': '2_23_0_1b', 'SOLAR_ZENITH_ANGLE': 61.388855, 'WRS_ROW': 36, 'GEOMETRIC_RMSE_MODEL_Y': 6.076, 'LEVEL1_PRODUCTION_DATE': 1615424438000, 'GEOMETRIC_RMSE_MODEL_X': 5.224, 'system:asset_size': 636166459, 'PIXEL_QA_VERSION': 'generate_pixel_qa_1.6.0', 'system:index': 'LC08_121036_20201227'}}, {'type': 'Image', 'bands': [{'id': 'B1', 'data_type': {'type': 'PixelType', 'precision': 'int', 'min': -32768, 'max': 32767}, 'dimensions': [7371, 7331], 'crs': 'EPSG:32650', 'crs_transform': [30, 0, 493485, 0, -30, 3780915]}, {'id': 'B2', 'data_type': {'type': 'PixelType', 'precision': 'int', 'min': -32768, 'max': 32767}, 'dimensions': [7371, 7331], 'crs': 'EPSG:32650', 'crs_transform': [30, 0, 493485, 0, -30, 3780915]}, {'id': 'B3', 'data_type': {'type': 'PixelType', 'precision': 'int', 'min': -32768, 'max': 32767}, 'dimensions': [7371, 7331], 'crs': 'EPSG:32650', 'crs_transform': [30, 0, 493485, 0, -30, 3780915]}, {'id': 'B4', 'data_type': {'type': 'PixelType', 'precision': 'int', 'min': -32768, 'max': 32767}, 'dimensions': [7371, 7331], 'crs': 'EPSG:32650', 'crs_transform': [30, 0, 493485, 0, -30, 3780915]}, {'id': 'B5', 'data_type': {'type': 'PixelType', 'precision': 'int', 'min': -32768, 'max': 32767}, 'dimensions': [7371, 7331], 'crs': 'EPSG:32650', 'crs_transform': [30, 0, 493485, 0, -30, 3780915]}, {'id': 'B6', 'data_type': {'type': 'PixelType', 'precision': 'int', 'min': -32768, 'max': 32767}, 'dimensions': [7371, 7331], 'crs': 'EPSG:32650', 'crs_transform': [30, 0, 493485, 0, -30, 3780915]}, {'id': 'B7', 'data_type': {'type': 'PixelType', 'precision': 'int', 'min': -32768, 'max': 32767}, 'dimensions': [7371, 7331], 'crs': 'EPSG:32650', 'crs_transform': [30, 0, 493485, 0, -30, 3780915]}, {'id': 'B10', 'data_type': {'type': 'PixelType', 'precision': 'int', 'min': -32768, 'max': 32767}, 'dimensions': [7371, 7331], 'crs': 'EPSG:32650', 'crs_transform': [30, 0, 493485, 0, -30, 3780915]}, {'id': 'B11', 'data_type': {'type': 'PixelType', 'precision': 'int', 'min': -32768, 'max': 32767}, 'dimensions': [7371, 7331], 'crs': 'EPSG:32650', 'crs_transform': [30, 0, 493485, 0, -30, 3780915]}, {'id': 'sr_aerosol', 'data_type': {'type': 'PixelType', 'precision': 'int', 'min': 0, 'max': 255}, 'dimensions': [7371, 7331], 'crs': 'EPSG:32650', 'crs_transform': [30, 0, 493485, 0, -30, 3780915]}, {'id': 'pixel_qa', 'data_type': {'type': 'PixelType', 'precision': 'int', 'min': 0, 'max': 65535}, 'dimensions': [7371, 7331], 'crs': 'EPSG:32650', 'crs_transform': [30, 0, 493485, 0, -30, 3780915]}, {'id': 'radsat_qa', 'data_type': {'type': 'PixelType', 'precision': 'int', 'min': 0, 'max': 65535}, 'dimensions': [7371, 7331], 'crs': 'EPSG:32650', 'crs_transform': [30, 0, 493485, 0, -30, 3780915]}], 'id': 'LANDSAT/LC08/C01/T1_SR/LC08_121037_20130402', 'version': 1522736664710590.0, 'properties': {'IMAGE_QUALITY_TIRS': 9, 'CLOUD_COVER': 0.25, 'EARTH_SUN_DISTANCE': 0.999557, 'LANDSAT_ID': 'LC08_L1TP_121037_20130402_20170505_01_T1', 'system:footprint': {'type': 'LinearRing', 'coordinates': [[118.94982904230707, 32.65056257678949], [118.96992755249049, 32.7211348310055], [118.98589355866095, 32.77715826610734], [119.05863567332388, 33.031640553794986], [119.10764873061795, 33.20252654281111], [119.14539261789457, 33.333716257381596], [119.1677732805095, 33.41134694246998], [119.22763331982627, 33.61839751033093], [119.2798149705331, 33.79828949253876], [119.1085890455237, 33.832685019345625], [117.37148649058179, 34.16677213740758], [117.37100065496874, 34.16597182480415], [116.94370864990755, 32.54941495139089], [116.94370945848048, 32.54814767341663], [116.96856470531878, 32.54344772260251], [117.39921855398032, 32.46135823998163], [118.21964466209175, 32.300482132494274], [118.81557218042613, 32.17993518117188], [118.81654672739474, 32.17992122792031], [118.83167481871912, 32.23349070760954], [118.87734812516794, 32.39516734722541], [118.94982904230707, 32.65056257678949]]}, 'CLOUD_COVER_LAND': 0.25, 'GEOMETRIC_RMSE_MODEL': 6.878, 'SR_APP_VERSION': 'LaSRC_1.3.0', 'SATELLITE': 'LANDSAT_8', 'SOLAR_AZIMUTH_ANGLE': 139.180099, 'IMAGE_QUALITY_OLI': 9, 'WRS_PATH': 121, 'system:time_start': 1364870574630, 'SENSING_TIME': '2013-04-02T02:42:54.6314090Z', 'ESPA_VERSION': '2_23_0_1a', 'SOLAR_ZENITH_ANGLE': 34.913502, 'WRS_ROW': 37, 'GEOMETRIC_RMSE_MODEL_Y': 4.819, 'LEVEL1_PRODUCTION_DATE': 1493986951000, 'GEOMETRIC_RMSE_MODEL_X': 4.908, 'system:asset_size': 594962075, 'PIXEL_QA_VERSION': 'generate_pixel_qa_1.6.0', 'system:index': 'LC08_121037_20130402'}}, {'type': 'Image', 'bands': [{'id': 'B1', 'data_type': {'type': 'PixelType', 'precision': 'int', 'min': -32768, 'max': 32767}, 'dimensions': [7651, 7791], 'crs': 'EPSG:32650', 'crs_transform': [30, 0, 451485, 0, -30, 3787515]}, {'id': 'B2', 'data_type': {'type': 'PixelType', 'precision': 'int', 'min': -32768, 'max': 32767}, 'dimensions': [7651, 7791], 'crs': 'EPSG:32650', 'crs_transform': [30, 0, 451485, 0, -30, 3787515]}, {'id': 'B3', 'data_type': {'type': 'PixelType', 'precision': 'int', 'min': -32768, 'max': 32767}, 'dimensions': [7651, 7791], 'crs': 'EPSG:32650', 'crs_transform': [30, 0, 451485, 0, -30, 3787515]}, {'id': 'B4', 'data_type': {'type': 'PixelType', 'precision': 'int', 'min': -32768, 'max': 32767}, 'dimensions': [7651, 7791], 'crs': 'EPSG:32650', 'crs_transform': [30, 0, 451485, 0, -30, 3787515]}, {'id': 'B5', 'data_type': {'type': 'PixelType', 'precision': 'int', 'min': -32768, 'max': 32767}, 'dimensions': [7651, 7791], 'crs': 'EPSG:32650', 'crs_transform': [30, 0, 451485, 0, -30, 3787515]}, {'id': 'B6', 'data_type': {'type': 'PixelType', 'precision': 'int', 'min': -32768, 'max': 32767}, 'dimensions': [7651, 7791], 'crs': 'EPSG:32650', 'crs_transform': [30, 0, 451485, 0, -30, 3787515]}, {'id': 'B7', 'data_type': {'type': 'PixelType', 'precision': 'int', 'min': -32768, 'max': 32767}, 'dimensions': [7651, 7791], 'crs': 'EPSG:32650', 'crs_transform': [30, 0, 451485, 0, -30, 3787515]}, {'id': 'B10', 'data_type': {'type': 'PixelType', 'precision': 'int', 'min': -32768, 'max': 32767}, 'dimensions': [7651, 7791], 'crs': 'EPSG:32650', 'crs_transform': [30, 0, 451485, 0, -30, 3787515]}, {'id': 'B11', 'data_type': {'type': 'PixelType', 'precision': 'int', 'min': -32768, 'max': 32767}, 'dimensions': [7651, 7791], 'crs': 'EPSG:32650', 'crs_transform': [30, 0, 451485, 0, -30, 3787515]}, {'id': 'sr_aerosol', 'data_type': {'type': 'PixelType', 'precision': 'int', 'min': 0, 'max': 255}, 'dimensions': [7651, 7791], 'crs': 'EPSG:32650', 'crs_transform': [30, 0, 451485, 0, -30, 3787515]}, {'id': 'pixel_qa', 'data_type': {'type': 'PixelType', 'precision': 'int', 'min': 0, 'max': 65535}, 'dimensions': [7651, 7791], 'crs': 'EPSG:32650', 'crs_transform': [30, 0, 451485, 0, -30, 3787515]}, {'id': 'radsat_qa', 'data_type': {'type': 'PixelType', 'precision': 'int', 'min': 0, 'max': 65535}, 'dimensions': [7651, 7791], 'crs': 'EPSG:32650', 'crs_transform': [30, 0, 451485, 0, -30, 3787515]}], 'id': 'LANDSAT/LC08/C01/T1_SR/LC08_121037_20140922', 'version': 1522736684688094, 'properties': {'IMAGE_QUALITY_TIRS': 9, 'CLOUD_COVER': 3.44, 'EARTH_SUN_DISTANCE': 1.003859, 'LANDSAT_ID': 'LC08_L1TP_121037_20140922_20170419_01_T1', 'system:footprint': {'type': 'LinearRing', 'coordinates': [[118.53026905074368, 32.5032262512581], [118.59940603777778, 32.74616173746911], [118.67160116059922, 32.998770297722494], [118.7213075801183, 33.172036116871986], [118.74618849738837, 33.25853653740028], [118.7957642775519, 33.430437027958625], [118.86513314090885, 33.67001768898209], [118.9081938219451, 33.81831503992123], [118.91614368711689, 33.84575167757142], [118.87211562310245, 33.85462807231549], [117.21714486212176, 34.175478031564], [116.95194111065918, 34.2246074768535], [116.4972744629659, 32.50154060105886], [116.49728238490894, 32.50012272112194], [117.69206472517843, 32.26902445497208], [118.42079156157409, 32.12193449651566], [118.42245829539222, 32.12191578723919], [118.45320720857474, 32.230888230521956], [118.48048425987818, 32.32740345912625], [118.53026905074368, 32.5032262512581]]}, 'CLOUD_COVER_LAND': 3.44, 'GEOMETRIC_RMSE_MODEL': 7.331, 'SR_APP_VERSION': 'LaSRC_1.3.0', 'SATELLITE': 'LANDSAT_8', 'SOLAR_AZIMUTH_ANGLE': 146.521057, 'IMAGE_QUALITY_OLI': 9, 'WRS_PATH': 121, 'system:time_start': 1411353794960, 'SENSING_TIME': '2014-09-22T02:43:14.9554370Z', 'ESPA_VERSION': '2_23_0_1a', 'SOLAR_ZENITH_ANGLE': 37.658268, 'WRS_ROW': 37, 'GEOMETRIC_RMSE_MODEL_Y': 5.221, 'LEVEL1_PRODUCTION_DATE': 1492574826000, 'GEOMETRIC_RMSE_MODEL_X': 5.147, 'system:asset_size': 632373040, 'PIXEL_QA_VERSION': 'generate_pixel_qa_1.6.0', 'system:index': 'LC08_121037_20140922'}}, {'type': 'Image', 'bands': [{'id': 'B1', 'data_type': {'type': 'PixelType', 'precision': 'int', 'min': -32768, 'max': 32767}, 'dimensions': [7641, 7791], 'crs': 'EPSG:32650', 'crs_transform': [30, 0, 451185, 0, -30, 3787515]}, {'id': 'B2', 'data_type': {'type': 'PixelType', 'precision': 'int', 'min': -32768, 'max': 32767}, 'dimensions': [7641, 7791], 'crs': 'EPSG:32650', 'crs_transform': [30, 0, 451185, 0, -30, 3787515]}, {'id': 'B3', 'data_type': {'type': 'PixelType', 'precision': 'int', 'min': -32768, 'max': 32767}, 'dimensions': [7641, 7791], 'crs': 'EPSG:32650', 'crs_transform': [30, 0, 451185, 0, -30, 3787515]}, {'id': 'B4', 'data_type': {'type': 'PixelType', 'precision': 'int', 'min': -32768, 'max': 32767}, 'dimensions': [7641, 7791], 'crs': 'EPSG:32650', 'crs_transform': [30, 0, 451185, 0, -30, 3787515]}, {'id': 'B5', 'data_type': {'type': 'PixelType', 'precision': 'int', 'min': -32768, 'max': 32767}, 'dimensions': [7641, 7791], 'crs': 'EPSG:32650', 'crs_transform': [30, 0, 451185, 0, -30, 3787515]}, {'id': 'B6', 'data_type': {'type': 'PixelType', 'precision': 'int', 'min': -32768, 'max': 32767}, 'dimensions': [7641, 7791], 'crs': 'EPSG:32650', 'crs_transform': [30, 0, 451185, 0, -30, 3787515]}, {'id': 'B7', 'data_type': {'type': 'PixelType', 'precision': 'int', 'min': -32768, 'max': 32767}, 'dimensions': [7641, 7791], 'crs': 'EPSG:32650', 'crs_transform': [30, 0, 451185, 0, -30, 3787515]}, {'id': 'B10', 'data_type': {'type': 'PixelType', 'precision': 'int', 'min': -32768, 'max': 32767}, 'dimensions': [7641, 7791], 'crs': 'EPSG:32650', 'crs_transform': [30, 0, 451185, 0, -30, 3787515]}, {'id': 'B11', 'data_type': {'type': 'PixelType', 'precision': 'int', 'min': -32768, 'max': 32767}, 'dimensions': [7641, 7791], 'crs': 'EPSG:32650', 'crs_transform': [30, 0, 451185, 0, -30, 3787515]}, {'id': 'sr_aerosol', 'data_type': {'type': 'PixelType', 'precision': 'int', 'min': 0, 'max': 255}, 'dimensions': [7641, 7791], 'crs': 'EPSG:32650', 'crs_transform': [30, 0, 451185, 0, -30, 3787515]}, {'id': 'pixel_qa', 'data_type': {'type': 'PixelType', 'precision': 'int', 'min': 0, 'max': 65535}, 'dimensions': [7641, 7791], 'crs': 'EPSG:32650', 'crs_transform': [30, 0, 451185, 0, -30, 3787515]}, {'id': 'radsat_qa', 'data_type': {'type': 'PixelType', 'precision': 'int', 'min': 0, 'max': 65535}, 'dimensions': [7641, 7791], 'crs': 'EPSG:32650', 'crs_transform': [30, 0, 451185, 0, -30, 3787515]}], 'id': 'LANDSAT/LC08/C01/T1_SR/LC08_121037_20170914', 'version': 1522736743049123, 'properties': {'IMAGE_QUALITY_TIRS': 9, 'CLOUD_COVER': 0.05, 'EARTH_SUN_DISTANCE': 1.005924, 'LANDSAT_ID': 'LC08_L1TP_121037_20170914_20170928_01_T1', 'system:footprint': {'type': 'LinearRing', 'coordinates': [[118.72638653009356, 33.18495232618552], [118.75337166964638, 33.2786824709479], [118.81512963097036, 33.4926492717386], [118.83845359386447, 33.573213517749174], [118.91221008258614, 33.82718559427445], [118.91686035559381, 33.84323232235215], [118.91689367859833, 33.84472499293388], [118.35394676112384, 33.956912102028454], [117.74848654930793, 34.07436498710897], [117.14424818829069, 34.18830167399854], [116.95271587181787, 34.223713241223145], [116.49791793991476, 32.50069155910635], [116.49792523168307, 32.499379279741426], [116.59342115604703, 32.48136169357146], [118.42340445513472, 32.12067195691238], [118.45526341590153, 32.23352725450508], [118.48476891786837, 32.3378952323308], [118.58020582139665, 32.67416025344432], [118.60034218924324, 32.74479688467505], [118.67971028935152, 33.022358667300736], [118.72638653009356, 33.18495232618552]]}, 'CLOUD_COVER_LAND': 0.05, 'GEOMETRIC_RMSE_MODEL': 7.641, 'SR_APP_VERSION': 'LaSRC_1.3.0', 'SATELLITE': 'LANDSAT_8', 'SOLAR_AZIMUTH_ANGLE': 143.083618, 'IMAGE_QUALITY_OLI': 9, 'WRS_PATH': 121, 'system:time_start': 1505356995270, 'SENSING_TIME': '2017-09-14T02:43:15.2718030Z', 'ESPA_VERSION': '2_23_0_1a', 'SOLAR_ZENITH_ANGLE': 35.369297, 'WRS_ROW': 37, 'GEOMETRIC_RMSE_MODEL_Y': 5.577, 'LEVEL1_PRODUCTION_DATE': 1506597732000, 'GEOMETRIC_RMSE_MODEL_X': 5.223, 'system:asset_size': 612722878, 'PIXEL_QA_VERSION': 'generate_pixel_qa_1.6.0', 'system:index': 'LC08_121037_20170914'}}, {'type': 'Image', 'bands': [{'id': 'B1', 'data_type': {'type': 'PixelType', 'precision': 'int', 'min': -32768, 'max': 32767}, 'dimensions': [7641, 7791], 'crs': 'EPSG:32650', 'crs_transform': [30, 0, 451485, 0, -30, 3787515]}, {'id': 'B2', 'data_type': {'type': 'PixelType', 'precision': 'int', 'min': -32768, 'max': 32767}, 'dimensions': [7641, 7791], 'crs': 'EPSG:32650', 'crs_transform': [30, 0, 451485, 0, -30, 3787515]}, {'id': 'B3', 'data_type': {'type': 'PixelType', 'precision': 'int', 'min': -32768, 'max': 32767}, 'dimensions': [7641, 7791], 'crs': 'EPSG:32650', 'crs_transform': [30, 0, 451485, 0, -30, 3787515]}, {'id': 'B4', 'data_type': {'type': 'PixelType', 'precision': 'int', 'min': -32768, 'max': 32767}, 'dimensions': [7641, 7791], 'crs': 'EPSG:32650', 'crs_transform': [30, 0, 451485, 0, -30, 3787515]}, {'id': 'B5', 'data_type': {'type': 'PixelType', 'precision': 'int', 'min': -32768, 'max': 32767}, 'dimensions': [7641, 7791], 'crs': 'EPSG:32650', 'crs_transform': [30, 0, 451485, 0, -30, 3787515]}, {'id': 'B6', 'data_type': {'type': 'PixelType', 'precision': 'int', 'min': -32768, 'max': 32767}, 'dimensions': [7641, 7791], 'crs': 'EPSG:32650', 'crs_transform': [30, 0, 451485, 0, -30, 3787515]}, {'id': 'B7', 'data_type': {'type': 'PixelType', 'precision': 'int', 'min': -32768, 'max': 32767}, 'dimensions': [7641, 7791], 'crs': 'EPSG:32650', 'crs_transform': [30, 0, 451485, 0, -30, 3787515]}, {'id': 'B10', 'data_type': {'type': 'PixelType', 'precision': 'int', 'min': -32768, 'max': 32767}, 'dimensions': [7641, 7791], 'crs': 'EPSG:32650', 'crs_transform': [30, 0, 451485, 0, -30, 3787515]}, {'id': 'B11', 'data_type': {'type': 'PixelType', 'precision': 'int', 'min': -32768, 'max': 32767}, 'dimensions': [7641, 7791], 'crs': 'EPSG:32650', 'crs_transform': [30, 0, 451485, 0, -30, 3787515]}, {'id': 'sr_aerosol', 'data_type': {'type': 'PixelType', 'precision': 'int', 'min': 0, 'max': 255}, 'dimensions': [7641, 7791], 'crs': 'EPSG:32650', 'crs_transform': [30, 0, 451485, 0, -30, 3787515]}, {'id': 'pixel_qa', 'data_type': {'type': 'PixelType', 'precision': 'int', 'min': 0, 'max': 65535}, 'dimensions': [7641, 7791], 'crs': 'EPSG:32650', 'crs_transform': [30, 0, 451485, 0, -30, 3787515]}, {'id': 'radsat_qa', 'data_type': {'type': 'PixelType', 'precision': 'int', 'min': 0, 'max': 65535}, 'dimensions': [7641, 7791], 'crs': 'EPSG:32650', 'crs_transform': [30, 0, 451485, 0, -30, 3787515]}], 'id': 'LANDSAT/LC08/C01/T1_SR/LC08_121037_20180715', 'version': 1533460706004503, 'properties': {'IMAGE_QUALITY_TIRS': 9, 'CLOUD_COVER': 7.25, 'EARTH_SUN_DISTANCE': 1.016496, 'LANDSAT_ID': 'LC08_L1TP_121037_20180715_20180730_01_T1', 'system:footprint': {'type': 'LinearRing', 'coordinates': [[116.49998447190583, 32.49949879200071], [116.54388212681413, 32.491205173568744], [118.2961599565693, 32.14682249678006], [118.42572423964073, 32.12029714859716], [118.46699363944401, 32.266295595578384], [118.48732280174143, 32.338135750361495], [118.60802521242233, 32.76261476918027], [118.67589139510828, 32.99976756152674], [118.6989455963901, 33.08008306427296], [118.73102297956441, 33.19165171238928], [118.7538417002385, 33.270874043047186], [118.79614196254353, 33.41744559790175], [118.84761356714426, 33.59517083729312], [118.88856264324262, 33.73610814797712], [118.90646820659124, 33.79764536074273], [118.91992648644336, 33.843890368216634], [118.91927390014133, 33.844455582324166], [118.80042298158484, 33.86841096624551], [117.15303692958506, 34.187208790557975], [116.95555418304976, 34.22376194768253], [116.49998447190583, 32.49949879200071]]}, 'CLOUD_COVER_LAND': 7.25, 'GEOMETRIC_RMSE_MODEL': 7.43, 'SR_APP_VERSION': 'LaSRC_1.3.0', 'SATELLITE': 'LANDSAT_8', 'SOLAR_AZIMUTH_ANGLE': 113.659302, 'IMAGE_QUALITY_OLI': 9, 'system:time_end': 1531622539040, 'WRS_PATH': 121, 'system:time_start': 1531622539040, 'SENSING_TIME': '2018-07-15T02:42:19.0373700Z', 'ESPA_VERSION': '2_23_0_1a', 'SOLAR_ZENITH_ANGLE': 23.578369, 'WRS_ROW': 37, 'GEOMETRIC_RMSE_MODEL_Y': 5.47, 'LEVEL1_PRODUCTION_DATE': 1532972087000, 'GEOMETRIC_RMSE_MODEL_X': 5.028, 'system:asset_size': 647989329, 'PIXEL_QA_VERSION': 'generate_pixel_qa_1.6.0', 'system:index': 'LC08_121037_20180715'}}, {'type': 'Image', 'bands': [{'id': 'B1', 'data_type': {'type': 'PixelType', 'precision': 'int', 'min': -32768, 'max': 32767}, 'dimensions': [7641, 7791], 'crs': 'EPSG:32650', 'crs_transform': [30, 0, 451785, 0, -30, 3787515]}, {'id': 'B2', 'data_type': {'type': 'PixelType', 'precision': 'int', 'min': -32768, 'max': 32767}, 'dimensions': [7641, 7791], 'crs': 'EPSG:32650', 'crs_transform': [30, 0, 451785, 0, -30, 3787515]}, {'id': 'B3', 'data_type': {'type': 'PixelType', 'precision': 'int', 'min': -32768, 'max': 32767}, 'dimensions': [7641, 7791], 'crs': 'EPSG:32650', 'crs_transform': [30, 0, 451785, 0, -30, 3787515]}, {'id': 'B4', 'data_type': {'type': 'PixelType', 'precision': 'int', 'min': -32768, 'max': 32767}, 'dimensions': [7641, 7791], 'crs': 'EPSG:32650', 'crs_transform': [30, 0, 451785, 0, -30, 3787515]}, {'id': 'B5', 'data_type': {'type': 'PixelType', 'precision': 'int', 'min': -32768, 'max': 32767}, 'dimensions': [7641, 7791], 'crs': 'EPSG:32650', 'crs_transform': [30, 0, 451785, 0, -30, 3787515]}, {'id': 'B6', 'data_type': {'type': 'PixelType', 'precision': 'int', 'min': -32768, 'max': 32767}, 'dimensions': [7641, 7791], 'crs': 'EPSG:32650', 'crs_transform': [30, 0, 451785, 0, -30, 3787515]}, {'id': 'B7', 'data_type': {'type': 'PixelType', 'precision': 'int', 'min': -32768, 'max': 32767}, 'dimensions': [7641, 7791], 'crs': 'EPSG:32650', 'crs_transform': [30, 0, 451785, 0, -30, 3787515]}, {'id': 'B10', 'data_type': {'type': 'PixelType', 'precision': 'int', 'min': -32768, 'max': 32767}, 'dimensions': [7641, 7791], 'crs': 'EPSG:32650', 'crs_transform': [30, 0, 451785, 0, -30, 3787515]}, {'id': 'B11', 'data_type': {'type': 'PixelType', 'precision': 'int', 'min': -32768, 'max': 32767}, 'dimensions': [7641, 7791], 'crs': 'EPSG:32650', 'crs_transform': [30, 0, 451785, 0, -30, 3787515]}, {'id': 'sr_aerosol', 'data_type': {'type': 'PixelType', 'precision': 'int', 'min': 0, 'max': 255}, 'dimensions': [7641, 7791], 'crs': 'EPSG:32650', 'crs_transform': [30, 0, 451785, 0, -30, 3787515]}, {'id': 'pixel_qa', 'data_type': {'type': 'PixelType', 'precision': 'int', 'min': 0, 'max': 65535}, 'dimensions': [7641, 7791], 'crs': 'EPSG:32650', 'crs_transform': [30, 0, 451785, 0, -30, 3787515]}, {'id': 'radsat_qa', 'data_type': {'type': 'PixelType', 'precision': 'int', 'min': 0, 'max': 65535}, 'dimensions': [7641, 7791], 'crs': 'EPSG:32650', 'crs_transform': [30, 0, 451785, 0, -30, 3787515]}], 'id': 'LANDSAT/LC08/C01/T1_SR/LC08_121037_20180731', 'version': 1534407094359126, 'properties': {'IMAGE_QUALITY_TIRS': 9, 'CLOUD_COVER': 6.68, 'EARTH_SUN_DISTANCE': 1.015107, 'LANDSAT_ID': 'LC08_L1TP_121037_20180731_20180814_01_T1', 'system:footprint': {'type': 'LinearRing', 'coordinates': [[118.06830226106796, 34.013833017333475], [117.49614350864243, 34.12353191665389], [117.20803550579761, 34.1776582884611], [116.96004640642077, 34.22362568933854], [116.95957324740351, 34.222838744033886], [116.95013949257225, 34.18790117333729], [116.50420227899592, 32.499390900837234], [118.42950636582063, 32.12031029584584], [118.43005986659396, 32.12122196187633], [118.47672485717418, 32.28629405242859], [118.58984726169948, 32.68466040853151], [118.65500116865994, 32.91265317153529], [118.70583307581148, 33.089726632914655], [118.72071040187346, 33.141471575424276], [118.77211550911488, 33.31995848142691], [118.84852470783878, 33.58414097539813], [118.90788981003841, 33.78847281226802], [118.91802825599979, 33.82330221111663], [118.92365694562281, 33.842720683089105], [118.923692666323, 33.844312699516], [118.92215364762352, 33.84465940782447], [118.06830226106796, 34.013833017333475]]}, 'CLOUD_COVER_LAND': 6.68, 'GEOMETRIC_RMSE_MODEL': 7.749, 'SR_APP_VERSION': 'LaSRC_1.3.0', 'SATELLITE': 'LANDSAT_8', 'SOLAR_AZIMUTH_ANGLE': 119.751572, 'IMAGE_QUALITY_OLI': 9, 'system:time_end': 1533004946180, 'WRS_PATH': 121, 'system:time_start': 1533004946180, 'SENSING_TIME': '2018-07-31T02:42:26.1800640Z', 'ESPA_VERSION': '2_23_0_1a', 'SOLAR_ZENITH_ANGLE': 25.608017, 'WRS_ROW': 37, 'GEOMETRIC_RMSE_MODEL_Y': 5.697, 'LEVEL1_PRODUCTION_DATE': 1534220474000, 'GEOMETRIC_RMSE_MODEL_X': 5.253, 'system:asset_size': 639004667, 'PIXEL_QA_VERSION': 'generate_pixel_qa_1.6.0', 'system:index': 'LC08_121037_20180731'}}, {'type': 'Image', 'bands': [{'id': 'B1', 'data_type': {'type': 'PixelType', 'precision': 'int', 'min': -32768, 'max': 32767}, 'dimensions': [7651, 7791], 'crs': 'EPSG:32650', 'crs_transform': [30, 0, 451185, 0, -30, 3787515]}, {'id': 'B2', 'data_type': {'type': 'PixelType', 'precision': 'int', 'min': -32768, 'max': 32767}, 'dimensions': [7651, 7791], 'crs': 'EPSG:32650', 'crs_transform': [30, 0, 451185, 0, -30, 3787515]}, {'id': 'B3', 'data_type': {'type': 'PixelType', 'precision': 'int', 'min': -32768, 'max': 32767}, 'dimensions': [7651, 7791], 'crs': 'EPSG:32650', 'crs_transform': [30, 0, 451185, 0, -30, 3787515]}, {'id': 'B4', 'data_type': {'type': 'PixelType', 'precision': 'int', 'min': -32768, 'max': 32767}, 'dimensions': [7651, 7791], 'crs': 'EPSG:32650', 'crs_transform': [30, 0, 451185, 0, -30, 3787515]}, {'id': 'B5', 'data_type': {'type': 'PixelType', 'precision': 'int', 'min': -32768, 'max': 32767}, 'dimensions': [7651, 7791], 'crs': 'EPSG:32650', 'crs_transform': [30, 0, 451185, 0, -30, 3787515]}, {'id': 'B6', 'data_type': {'type': 'PixelType', 'precision': 'int', 'min': -32768, 'max': 32767}, 'dimensions': [7651, 7791], 'crs': 'EPSG:32650', 'crs_transform': [30, 0, 451185, 0, -30, 3787515]}, {'id': 'B7', 'data_type': {'type': 'PixelType', 'precision': 'int', 'min': -32768, 'max': 32767}, 'dimensions': [7651, 7791], 'crs': 'EPSG:32650', 'crs_transform': [30, 0, 451185, 0, -30, 3787515]}, {'id': 'B10', 'data_type': {'type': 'PixelType', 'precision': 'int', 'min': -32768, 'max': 32767}, 'dimensions': [7651, 7791], 'crs': 'EPSG:32650', 'crs_transform': [30, 0, 451185, 0, -30, 3787515]}, {'id': 'B11', 'data_type': {'type': 'PixelType', 'precision': 'int', 'min': -32768, 'max': 32767}, 'dimensions': [7651, 7791], 'crs': 'EPSG:32650', 'crs_transform': [30, 0, 451185, 0, -30, 3787515]}, {'id': 'sr_aerosol', 'data_type': {'type': 'PixelType', 'precision': 'int', 'min': 0, 'max': 255}, 'dimensions': [7651, 7791], 'crs': 'EPSG:32650', 'crs_transform': [30, 0, 451185, 0, -30, 3787515]}, {'id': 'pixel_qa', 'data_type': {'type': 'PixelType', 'precision': 'int', 'min': 0, 'max': 65535}, 'dimensions': [7651, 7791], 'crs': 'EPSG:32650', 'crs_transform': [30, 0, 451185, 0, -30, 3787515]}, {'id': 'radsat_qa', 'data_type': {'type': 'PixelType', 'precision': 'int', 'min': 0, 'max': 65535}, 'dimensions': [7651, 7791], 'crs': 'EPSG:32650', 'crs_transform': [30, 0, 451185, 0, -30, 3787515]}], 'id': 'LANDSAT/LC08/C01/T1_SR/LC08_121037_20190123', 'version': 1563396282173091, 'properties': {'IMAGE_QUALITY_TIRS': 9, 'CLOUD_COVER': 0.46, 'EARTH_SUN_DISTANCE': 0.98418, 'LANDSAT_ID': 'LC08_L1TP_121037_20190123_20190205_01_T1', 'system:footprint': {'type': 'LinearRing', 'coordinates': [[118.45859644423983, 32.23618287196527], [118.47176633550126, 32.28284479830831], [118.5330826851911, 32.49967440144893], [118.60359650685606, 32.747731732098345], [118.68107083362888, 33.01890794571831], [118.70076068142544, 33.087578719630656], [118.75976055109403, 33.29297542406627], [118.79618100268787, 33.41933893221059], [118.85023487149735, 33.606315601435135], [118.91211179896153, 33.81960689627185], [118.91932801585786, 33.84450767846919], [117.31082985477639, 34.15714907073176], [117.06449254268425, 34.202979685351465], [116.95472355376182, 34.22322282358703], [116.50047481594623, 32.50031855751193], [116.50048363798851, 32.49872749294965], [116.536214473536, 32.49198909641385], [117.62144106749237, 32.28238218142007], [118.42576702334473, 32.12037517934751], [118.42630609707537, 32.12169308097431], [118.45859644423983, 32.23618287196527]]}, 'CLOUD_COVER_LAND': 0.46, 'GEOMETRIC_RMSE_MODEL': 8.324, 'SR_APP_VERSION': 'LaSRC_1.3.0', 'SATELLITE': 'LANDSAT_8', 'SOLAR_AZIMUTH_ANGLE': 152.479767, 'IMAGE_QUALITY_OLI': 9, 'system:time_end': 1548211377100, 'WRS_PATH': 121, 'system:time_start': 1548211377100, 'SENSING_TIME': '2019-01-23T02:42:57.1013540Z', 'ESPA_VERSION': '2_23_0_1b', 'SOLAR_ZENITH_ANGLE': 57.65897, 'WRS_ROW': 37, 'GEOMETRIC_RMSE_MODEL_Y': 6.136, 'LEVEL1_PRODUCTION_DATE': 1549390626000, 'GEOMETRIC_RMSE_MODEL_X': 5.625, 'system:asset_size': 624837621, 'PIXEL_QA_VERSION': 'generate_pixel_qa_1.6.0', 'system:index': 'LC08_121037_20190123'}}, {'type': 'Image', 'bands': [{'id': 'B1', 'data_type': {'type': 'PixelType', 'precision': 'int', 'min': -32768, 'max': 32767}, 'dimensions': [7651, 7791], 'crs': 'EPSG:32650', 'crs_transform': [30, 0, 450885, 0, -30, 3787515]}, {'id': 'B2', 'data_type': {'type': 'PixelType', 'precision': 'int', 'min': -32768, 'max': 32767}, 'dimensions': [7651, 7791], 'crs': 'EPSG:32650', 'crs_transform': [30, 0, 450885, 0, -30, 3787515]}, {'id': 'B3', 'data_type': {'type': 'PixelType', 'precision': 'int', 'min': -32768, 'max': 32767}, 'dimensions': [7651, 7791], 'crs': 'EPSG:32650', 'crs_transform': [30, 0, 450885, 0, -30, 3787515]}, {'id': 'B4', 'data_type': {'type': 'PixelType', 'precision': 'int', 'min': -32768, 'max': 32767}, 'dimensions': [7651, 7791], 'crs': 'EPSG:32650', 'crs_transform': [30, 0, 450885, 0, -30, 3787515]}, {'id': 'B5', 'data_type': {'type': 'PixelType', 'precision': 'int', 'min': -32768, 'max': 32767}, 'dimensions': [7651, 7791], 'crs': 'EPSG:32650', 'crs_transform': [30, 0, 450885, 0, -30, 3787515]}, {'id': 'B6', 'data_type': {'type': 'PixelType', 'precision': 'int', 'min': -32768, 'max': 32767}, 'dimensions': [7651, 7791], 'crs': 'EPSG:32650', 'crs_transform': [30, 0, 450885, 0, -30, 3787515]}, {'id': 'B7', 'data_type': {'type': 'PixelType', 'precision': 'int', 'min': -32768, 'max': 32767}, 'dimensions': [7651, 7791], 'crs': 'EPSG:32650', 'crs_transform': [30, 0, 450885, 0, -30, 3787515]}, {'id': 'B10', 'data_type': {'type': 'PixelType', 'precision': 'int', 'min': -32768, 'max': 32767}, 'dimensions': [7651, 7791], 'crs': 'EPSG:32650', 'crs_transform': [30, 0, 450885, 0, -30, 3787515]}, {'id': 'B11', 'data_type': {'type': 'PixelType', 'precision': 'int', 'min': -32768, 'max': 32767}, 'dimensions': [7651, 7791], 'crs': 'EPSG:32650', 'crs_transform': [30, 0, 450885, 0, -30, 3787515]}, {'id': 'sr_aerosol', 'data_type': {'type': 'PixelType', 'precision': 'int', 'min': 0, 'max': 255}, 'dimensions': [7651, 7791], 'crs': 'EPSG:32650', 'crs_transform': [30, 0, 450885, 0, -30, 3787515]}, {'id': 'pixel_qa', 'data_type': {'type': 'PixelType', 'precision': 'int', 'min': 0, 'max': 65535}, 'dimensions': [7651, 7791], 'crs': 'EPSG:32650', 'crs_transform': [30, 0, 450885, 0, -30, 3787515]}, {'id': 'radsat_qa', 'data_type': {'type': 'PixelType', 'precision': 'int', 'min': 0, 'max': 65535}, 'dimensions': [7651, 7791], 'crs': 'EPSG:32650', 'crs_transform': [30, 0, 450885, 0, -30, 3787515]}], 'id': 'LANDSAT/LC08/C01/T1_SR/LC08_121037_20190819', 'version': 1567803307203288, 'properties': {'IMAGE_QUALITY_TIRS': 9, 'CLOUD_COVER': 1.92, 'EARTH_SUN_DISTANCE': 1.012178, 'LANDSAT_ID': 'LC08_L1TP_121037_20190819_20190902_01_T1', 'system:footprint': {'type': 'LinearRing', 'coordinates': [[118.42113393014918, 32.12050020074917], [118.42214258079262, 32.123750777483146], [118.45080884714801, 32.225269762645695], [118.490200607292, 32.36457694364619], [118.59627789587408, 32.73781093808922], [118.68419457767129, 33.045059281082544], [118.74696349497661, 33.26344742666327], [118.79420443877252, 33.42720025736584], [118.83738351899828, 33.57640376670544], [118.91069645457232, 33.82882638046418], [118.91491890060628, 33.84339773869736], [118.91494644796738, 33.84463490204865], [118.55676734036687, 33.91636853438293], [117.06481803092625, 34.20270900385207], [116.9512846636699, 34.22367664315558], [116.95071850234288, 34.222734821044426], [116.49600199735701, 32.500663312376844], [116.4960097392983, 32.499275527180075], [116.62186220994484, 32.47549638924254], [117.85483649360415, 32.235281384635954], [118.38018119740957, 32.128885250557595], [118.42113393014918, 32.12050020074917]]}, 'CLOUD_COVER_LAND': 1.92, 'GEOMETRIC_RMSE_MODEL': 7.794, 'SR_APP_VERSION': 'LaSRC_1.3.0', 'SATELLITE': 'LANDSAT_8', 'SOLAR_AZIMUTH_ANGLE': 129.493805, 'IMAGE_QUALITY_OLI': 9, 'system:time_end': 1566182598145, 'WRS_PATH': 121, 'system:time_start': 1566182598145, 'SENSING_TIME': '2019-08-19T02:43:18.1450740Z', 'ESPA_VERSION': '2_23_0_1b', 'SOLAR_ZENITH_ANGLE': 28.790268, 'WRS_ROW': 37, 'GEOMETRIC_RMSE_MODEL_Y': 5.862, 'LEVEL1_PRODUCTION_DATE': 1567460644000, 'GEOMETRIC_RMSE_MODEL_X': 5.136, 'system:asset_size': 630802471, 'PIXEL_QA_VERSION': 'generate_pixel_qa_1.6.0', 'system:index': 'LC08_121037_20190819'}}]}\n"
          ]
        }
      ]
    },
    {
      "cell_type": "markdown",
      "metadata": {
        "id": "4bYQStszZG2p"
      },
      "source": [
        "How many Landsat 8 images (2013-2019) are available for the study area?"
      ]
    },
    {
      "cell_type": "code",
      "metadata": {
        "id": "Q59OG4RAxqdu",
        "colab": {
          "base_uri": "https://localhost:8080/"
        },
        "outputId": "34e1cdcf-6be6-4e46-8596-fa431812ca26"
      },
      "source": [
        "print(images.size().getInfo())"
      ],
      "execution_count": 31,
      "outputs": [
        {
          "output_type": "stream",
          "name": "stdout",
          "text": [
            "61\n"
          ]
        }
      ]
    },
    {
      "cell_type": "markdown",
      "metadata": {
        "id": "K7WBoGpCZO1J"
      },
      "source": [
        "Let's add the first image to the Map."
      ]
    },
    {
      "cell_type": "code",
      "metadata": {
        "id": "eqF56ic1ys_O",
        "colab": {
          "base_uri": "https://localhost:8080/",
          "height": 621,
          "referenced_widgets": [
            "4145fb93e39c40d4a6232c694c64cc6c",
            "c96b2220224045f98630df6283c9bec7",
            "3219b38ece534950bd06a5152a64c081",
            "22dc26b07b984c8e8fd0fb1f368715a8",
            "d41b9832861d49f39419a549befe6af2",
            "98120221b3b348f9bba0e3a6e81319b2",
            "6906ad59ed094dd7879b3c4bc19adf4d",
            "ea3b1f97d1034a9b91dc182d120a9f7b",
            "f7cce1ed432340599706b10ce6af827c",
            "7960ff28b9b348c4bbc6801990727e57",
            "fe4b3dcec1224392b01ec453f2d482e8",
            "0234069aaf974f58882e5ea4d4f13d4f",
            "2e10ebfc2ae94bcaab45aa72331c8c18",
            "0511d4401e324e77b617d8774c4acebd",
            "0581bd71d57e4893a42e42bc1f3fc657",
            "bde4f77f782c40d6831440e567ad755c",
            "e4fc7f80b9b441a1b482540ad52c045d",
            "abf34d408e9f4d89a666717058aa02ce",
            "49d016ee754b470191c158c4993ea74c",
            "a1762416ad6e4ae59d6a6100d7783206",
            "d47b954bc78947eeb64ab4e7eea3d35e",
            "7ebdddf63bd045cdbb6619fff8188c5d",
            "e59b809a81d341f895736f57219c6948",
            "2ac592d3eab74fdfa1a319d99a7f0f6d",
            "51d7cff7215b450c8cafc1034295d812",
            "da01e4cb01894d57a4af446e04bed2e7",
            "4906d88936d14c9d8dcf86d7c6327e51",
            "b7016d78625f411d8557d90849b8d24a"
          ]
        },
        "outputId": "b2133806-e6bc-48b5-f14c-81b59524d1a0"
      },
      "source": [
        "First_image_Map = geemap.Map()\n",
        "First_image_Map.add_basemap('HYBRID')\n",
        "First_image_Map.centerObject(roi, 9)\n",
        "\n",
        "first_image = images.first()\n",
        "\n",
        "vis_params = {\n",
        "  'bands': ['B5', 'B4', 'B3'],\n",
        "  'min': 0,\n",
        "  'max': 6000,\n",
        "  'gamma': 1.4,\n",
        "}\n",
        "First_image_Map.addLayer(first_image, vis_params, 'first image')\n",
        "First_image_Map.addLayer(roi, {}, 'roi')\n",
        "First_image_Map.addLayerControl()\n",
        "First_image_Map"
      ],
      "execution_count": 18,
      "outputs": [
        {
          "output_type": "display_data",
          "data": {
            "application/vnd.jupyter.widget-view+json": {
              "model_id": "4145fb93e39c40d4a6232c694c64cc6c",
              "version_minor": 0,
              "version_major": 2
            },
            "text/plain": [
              "Map(center=[34.1273487583888, 118.17102980772033], controls=(WidgetControl(options=['position', 'transparent_b…"
            ]
          },
          "metadata": {
            "application/vnd.jupyter.widget-view+json": {
              "colab": {
                "custom_widget_manager": {
                  "url": "https://ssl.gstatic.com/colaboratory-static/widgets/colab-cdn-widget-manager/a8874ba6619b6106/manager.min.js"
                }
              }
            }
          }
        }
      ]
    },
    {
      "cell_type": "markdown",
      "metadata": {
        "id": "utvKl-siZSHh"
      },
      "source": [
        "# **NDWI calculation and Water mask extraction**\n",
        "\n",
        "Calculate NDWI\n",
        "\n",
        "\n"
      ]
    },
    {
      "cell_type": "code",
      "metadata": {
        "id": "7mBJ3AYo3ElO",
        "colab": {
          "base_uri": "https://localhost:8080/",
          "height": 621,
          "referenced_widgets": [
            "b8e63f62b5df4cab8c85f66b74c0e313",
            "a22556d2fb0e4a539b881cb9ccb250be",
            "d34400ccc69a4bd697c6161e736fcb65",
            "cad046b3cef3419abecdb5fa795cbf9c",
            "0062d95fcb0941ca9ab2ce242d007079",
            "06afa7d9b5d944bbbea61063e6868384",
            "a187cf6ba65b4bb89fc28dc5c7a84d68",
            "caeafa7273c04459a0d1a485f184d6a5",
            "57f68c8f53c040db81c03aebb705b573",
            "29ecc3272ca848c6a8a5677d9540253b",
            "1e855f46b71c47068d49ff1bd9abf738",
            "6adbf02c74924bf79a4570723dce1145",
            "e82df1c8f62c4e12a3ae485870ff6d6a",
            "0511d4401e324e77b617d8774c4acebd",
            "0581bd71d57e4893a42e42bc1f3fc657",
            "115afe00af62434b95bddc3b92fbf7c7",
            "60340e457f2f4f318d9c1469b1a3df0c",
            "507f23f277a34b4ca4a36a8e7c76b292",
            "a06364b15a9e477ea3ca167a7c44f95f",
            "7eba822612ed4ce1a20359a5a297cbe6",
            "ab437d2d87014e45a798b42acacea722",
            "90bc30da98c8426991c6ffc642985fd3",
            "ed00164a9b364bcf9627784bb788fa87",
            "c39652c04ce94eefa666345f4d03a766",
            "c6a703db9c7446c3ba2476a32d6e6f9e",
            "b898a0aed6254d08b7763427aa931ad3",
            "e74497bfb9e440f5ab98edc0a71f2cef",
            "81a87e8e536e41a5ab99d149089e33e8"
          ]
        },
        "outputId": "0cd88860-2af8-4ad1-b79b-b82f99f15cf6"
      },
      "source": [
        "ndwi_map = geemap.Map()\n",
        "ndwi_map.add_basemap('HYBRID')\n",
        "ndwi_map.centerObject(roi, 9)\n",
        "\n",
        "ndwi_image = first_image.normalizedDifference(['B3', 'B5'])\n",
        "\n",
        "\n",
        "ndwi_map.addLayer(ndwi_image, {}, 'NDWI image')\n",
        "ndwi_map.addLayer(roi, {}, 'roi')\n",
        "ndwi_map.addLayerControl()\n",
        "ndwi_map"
      ],
      "execution_count": 19,
      "outputs": [
        {
          "output_type": "display_data",
          "data": {
            "application/vnd.jupyter.widget-view+json": {
              "model_id": "b8e63f62b5df4cab8c85f66b74c0e313",
              "version_minor": 0,
              "version_major": 2
            },
            "text/plain": [
              "Map(center=[34.1273487583888, 118.17102980772033], controls=(WidgetControl(options=['position', 'transparent_b…"
            ]
          },
          "metadata": {
            "application/vnd.jupyter.widget-view+json": {
              "colab": {
                "custom_widget_manager": {
                  "url": "https://ssl.gstatic.com/colaboratory-static/widgets/colab-cdn-widget-manager/a8874ba6619b6106/manager.min.js"
                }
              }
            }
          }
        }
      ]
    },
    {
      "cell_type": "markdown",
      "metadata": {
        "id": "SlVfRVudZhsh"
      },
      "source": [
        "Water mask extraction"
      ]
    },
    {
      "cell_type": "code",
      "metadata": {
        "id": "8TfoUU8t6Onn",
        "colab": {
          "base_uri": "https://localhost:8080/",
          "height": 621,
          "referenced_widgets": [
            "4e92aa0059094f85adf65962b7e753bb",
            "fedb0e2e2a5347fab0d6cc458d7a0fb0",
            "3c6e549f6b6a4291a6660c4f1c17063f",
            "a72d1556e15349dbb81f4c4ed9dca276",
            "4681aa87611545adb1a490432218bd4f",
            "11ce054350674fac9c2a1048e17987e6",
            "69da5ef66c0f4d1997a2ef7c0ab64ea5",
            "b0e09ae1eb8e4335950fed8b04ae2882",
            "14f8f42d5e1e485ebde2a9c58706f5d2",
            "502789e1ca5a40d2ba45a73b37c4beb0",
            "6ddc64890bcd462a9882426fdfffb5ff",
            "29e66534b9584b68b2836876827ff9db",
            "89575e7451ce421986b313f266654da4",
            "0511d4401e324e77b617d8774c4acebd",
            "0581bd71d57e4893a42e42bc1f3fc657",
            "ff7d6d7e1a6b48c1b9e68a9e9cb89b50",
            "ac02eb174260436fb806656e6a18e07d",
            "41e1aa62b4c7471099e669b9eabe0c90",
            "93f328d85baa43e4851074d70971901b",
            "2e3d7dd70df642c3a760f39188e12a82",
            "736064e1af6d418ea80e068c8a3d62a1",
            "9e04b6bad26a4deaaa5a4cd337604a42",
            "3d2d913f863f40cc90de3782c2cd8fcf",
            "c3f9ae2e96364c129e1671875fc7942e",
            "af6a95adf85e4f8f8690de8b30f954e4",
            "728d3f0466ed4724824c7412f56c6901",
            "f9d6654aba434dfe8dd572b9a5231a07",
            "58761b55a80f46a0aab9baf7ccaddc10"
          ]
        },
        "outputId": "9b82708d-5425-46a3-d4c7-d07ecbe5cd71"
      },
      "source": [
        "WaterMask_map= geemap.Map()\n",
        "WaterMask_map.add_basemap('HYBRID')\n",
        "WaterMask_map.centerObject(roi, 9)\n",
        "\n",
        "ndwi_threshold = 0\n",
        "water_image = ndwi_image.gt(ndwi_threshold).selfMask()\n",
        "WaterMask_map.addLayer(water_image, {'palette': 'blue'}, 'Water image')\n",
        "WaterMask_map.addLayer(roi, {}, 'roi')\n",
        "WaterMask_map"
      ],
      "execution_count": 20,
      "outputs": [
        {
          "output_type": "display_data",
          "data": {
            "application/vnd.jupyter.widget-view+json": {
              "model_id": "4e92aa0059094f85adf65962b7e753bb",
              "version_minor": 0,
              "version_major": 2
            },
            "text/plain": [
              "Map(center=[34.1273487583888, 118.17102980772033], controls=(WidgetControl(options=['position', 'transparent_b…"
            ]
          },
          "metadata": {
            "application/vnd.jupyter.widget-view+json": {
              "colab": {
                "custom_widget_manager": {
                  "url": "https://ssl.gstatic.com/colaboratory-static/widgets/colab-cdn-widget-manager/a8874ba6619b6106/manager.min.js"
                }
              }
            }
          }
        }
      ]
    },
    {
      "cell_type": "markdown",
      "metadata": {
        "id": "kHsTFzdsZl4h"
      },
      "source": [
        "# **Area change analysis**\n",
        "\n",
        "Define function to extract water"
      ]
    },
    {
      "cell_type": "code",
      "metadata": {
        "id": "qjyef09YWAdM"
      },
      "source": [
        "def extract_water(image):    \n",
        "    ndwi_image = image.normalizedDifference(['B3', 'B5'])\n",
        "    water_image = ndwi_image.gt(0.4)\n",
        "    return water_image\n"
      ],
      "execution_count": 21,
      "outputs": []
    },
    {
      "cell_type": "markdown",
      "metadata": {
        "id": "uAUavJVzZveK"
      },
      "source": [
        "Calculate area"
      ]
    },
    {
      "cell_type": "code",
      "metadata": {
        "id": "6nckO_5NbVH7",
        "colab": {
          "base_uri": "https://localhost:8080/"
        },
        "outputId": "906e80f5-8992-40bb-fc06-6d879e6ea55e"
      },
      "source": [
        "cloud_threshold= 10\n",
        "images = ee.ImageCollection('LANDSAT/LC08/C01/T1_SR') \\\n",
        "    .filterBounds(roi) \\\n",
        "    .filterMetadata('CLOUD_COVER', 'less_than', cloud_threshold)\n",
        "\n",
        "areaList = []\n",
        "\n",
        "for year in range(2013,2020+1):\n",
        "  print(year)\n",
        "  yearly_images = images.filterDate(str(year)+\"-01-01\",str(year)+\"-12-31\")\n",
        "  yearly_ndwi_images = yearly_images.map(extract_water)\n",
        "  yearly_max_water_extent = yearly_ndwi_images.max()\n",
        "  stats = yearly_max_water_extent.multiply(ee.Image.pixelArea()).reduceRegion(\n",
        "    reducer = ee.Reducer.sum(),\n",
        "    geometry = roi,\n",
        "    scale = 30\n",
        "  ).get('nd').getInfo()\n",
        "  print(stats)\n",
        "  areaList.append(stats/1000000)\n",
        "\n",
        "print(areaList)\n"
      ],
      "execution_count": 26,
      "outputs": [
        {
          "output_type": "stream",
          "name": "stdout",
          "text": [
            "2013\n",
            "264942589.031487\n",
            "2014\n",
            "277243140.66589\n",
            "2015\n",
            "277838590.2458312\n",
            "2016\n",
            "289419342.44145226\n",
            "2017\n",
            "285575494.12477213\n",
            "2018\n",
            "282988480.50452304\n",
            "2019\n",
            "276488194.3238356\n",
            "2020\n",
            "268348787.96292534\n",
            "[264.942589031487, 277.24314066589, 277.8385902458312, 289.4193424414523, 285.57549412477215, 282.988480504523, 276.4881943238356, 268.34878796292537]\n"
          ]
        }
      ]
    },
    {
      "cell_type": "markdown",
      "metadata": {
        "id": "hRra3roPZ1oR"
      },
      "source": [
        "plot"
      ]
    },
    {
      "cell_type": "code",
      "metadata": {
        "id": "DTzRYOWxczTC",
        "colab": {
          "base_uri": "https://localhost:8080/",
          "height": 936
        },
        "outputId": "84814c72-d0e0-43e7-b5eb-5d5268271387"
      },
      "source": [
        "import matplotlib.pyplot as plt\n",
        "%matplotlib inline \n",
        "# %matplotlib qt \n",
        "\n",
        "fig= plt.figure(figsize=(12,6),dpi=450)\n",
        "\n",
        "x = range(2013,2020+1)\n",
        "\n",
        "plt.plot(x, areaList, marker='o')\n",
        "plt.xlabel('Date')\n",
        "plt.ylabel('Lake Mead Area ($km^2$)')\n",
        "plt.show()"
      ],
      "execution_count": 36,
      "outputs": [
        {
          "output_type": "display_data",
          "data": {
            "image/png": "[encoded data removed]",
            "text/plain": [
              "<Figure size 5400x2700 with 1 Axes>"
            ]
          },
          "metadata": {
            "needs_background": "light"
          }
        }
      ]
    },
    {
      "cell_type": "markdown",
      "metadata": {
        "id": "1rUCQ-7mZ3by"
      },
      "source": [
        "# **Data export**\n",
        "\n",
        "Export an image to Google Drive"
      ]
    },
    {
      "cell_type": "code",
      "metadata": {
        "id": "Ep4IuQYSCWNm"
      },
      "source": [
        "task = ee.batch.Export.image.toDrive(image=images.first(),region=roi,description='image_first',folder='gee_test',scale=30,crs='EPSG:4326')\n",
        "task.start()"
      ],
      "execution_count": null,
      "outputs": []
    },
    {
      "cell_type": "markdown",
      "metadata": {
        "id": "XK3iNLA3Z-mR"
      },
      "source": [
        "Inspect current exporting status"
      ]
    },
    {
      "cell_type": "code",
      "metadata": {
        "id": "SuIAG_d-DBSn"
      },
      "source": [
        "task.status()"
      ],
      "execution_count": null,
      "outputs": []
    }
  ]
}